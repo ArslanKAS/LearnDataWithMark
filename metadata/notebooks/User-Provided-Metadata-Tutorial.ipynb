{
 "cells": [
  {
   "cell_type": "markdown",
   "id": "532e52a9-3aa3-4d7d-9202-47b46b247b6e",
   "metadata": {
    "execution": {
     "iopub.execute_input": "2024-01-09T21:23:45.358323Z",
     "iopub.status.busy": "2024-01-09T21:23:45.356556Z",
     "iopub.status.idle": "2024-01-09T21:23:45.362799Z",
     "shell.execute_reply": "2024-01-09T21:23:45.361959Z",
     "shell.execute_reply.started": "2024-01-09T21:23:45.358266Z"
    }
   },
   "source": [
    "# Retrieval Augmented Generation: The one about metadata\n",
    "In this notebook, we'll learn how to do Retrieval Augmented Generation with user provided metadata."
   ]
  },
  {
   "cell_type": "code",
   "execution_count": 3,
   "id": "20ede2c1-b140-4f33-9d6f-c8aff9eb82b4",
   "metadata": {
    "collapsed": true,
    "execution": {
     "iopub.execute_input": "2024-01-13T17:33:42.983783Z",
     "iopub.status.busy": "2024-01-13T17:33:42.982998Z",
     "iopub.status.idle": "2024-01-13T17:33:45.140648Z",
     "shell.execute_reply": "2024-01-13T17:33:45.140093Z",
     "shell.execute_reply.started": "2024-01-13T17:33:42.983740Z"
    },
    "jupyter": {
     "outputs_hidden": true
    }
   },
   "outputs": [
    {
     "name": "stdout",
     "output_type": "stream",
     "text": [
      "Requirement already satisfied: langchain in /Users/markhneedham/Library/Caches/pypoetry/virtualenvs/metadata-TLXuxenJ-py3.11/lib/python3.11/site-packages (0.1.0)\n",
      "Requirement already satisfied: jsonlines in /Users/markhneedham/Library/Caches/pypoetry/virtualenvs/metadata-TLXuxenJ-py3.11/lib/python3.11/site-packages (4.0.0)\n",
      "Requirement already satisfied: PyYAML>=5.3 in /Users/markhneedham/Library/Caches/pypoetry/virtualenvs/metadata-TLXuxenJ-py3.11/lib/python3.11/site-packages (from langchain) (6.0.1)\n",
      "Requirement already satisfied: SQLAlchemy<3,>=1.4 in /Users/markhneedham/Library/Caches/pypoetry/virtualenvs/metadata-TLXuxenJ-py3.11/lib/python3.11/site-packages (from langchain) (2.0.25)\n",
      "Requirement already satisfied: aiohttp<4.0.0,>=3.8.3 in /Users/markhneedham/Library/Caches/pypoetry/virtualenvs/metadata-TLXuxenJ-py3.11/lib/python3.11/site-packages (from langchain) (3.9.1)\n",
      "Requirement already satisfied: dataclasses-json<0.7,>=0.5.7 in /Users/markhneedham/Library/Caches/pypoetry/virtualenvs/metadata-TLXuxenJ-py3.11/lib/python3.11/site-packages (from langchain) (0.6.3)\n",
      "Requirement already satisfied: jsonpatch<2.0,>=1.33 in /Users/markhneedham/Library/Caches/pypoetry/virtualenvs/metadata-TLXuxenJ-py3.11/lib/python3.11/site-packages (from langchain) (1.33)\n",
      "Requirement already satisfied: langchain-community<0.1,>=0.0.9 in /Users/markhneedham/Library/Caches/pypoetry/virtualenvs/metadata-TLXuxenJ-py3.11/lib/python3.11/site-packages (from langchain) (0.0.10)\n",
      "Requirement already satisfied: langchain-core<0.2,>=0.1.7 in /Users/markhneedham/Library/Caches/pypoetry/virtualenvs/metadata-TLXuxenJ-py3.11/lib/python3.11/site-packages (from langchain) (0.1.8)\n",
      "Requirement already satisfied: langsmith<0.1.0,>=0.0.77 in /Users/markhneedham/Library/Caches/pypoetry/virtualenvs/metadata-TLXuxenJ-py3.11/lib/python3.11/site-packages (from langchain) (0.0.78)\n",
      "Requirement already satisfied: numpy<2,>=1 in /Users/markhneedham/Library/Caches/pypoetry/virtualenvs/metadata-TLXuxenJ-py3.11/lib/python3.11/site-packages (from langchain) (1.26.3)\n",
      "Requirement already satisfied: pydantic<3,>=1 in /Users/markhneedham/Library/Caches/pypoetry/virtualenvs/metadata-TLXuxenJ-py3.11/lib/python3.11/site-packages (from langchain) (2.5.3)\n",
      "Requirement already satisfied: requests<3,>=2 in /Users/markhneedham/Library/Caches/pypoetry/virtualenvs/metadata-TLXuxenJ-py3.11/lib/python3.11/site-packages (from langchain) (2.31.0)\n",
      "Requirement already satisfied: tenacity<9.0.0,>=8.1.0 in /Users/markhneedham/Library/Caches/pypoetry/virtualenvs/metadata-TLXuxenJ-py3.11/lib/python3.11/site-packages (from langchain) (8.2.3)\n",
      "Requirement already satisfied: attrs>=19.2.0 in /Users/markhneedham/Library/Caches/pypoetry/virtualenvs/metadata-TLXuxenJ-py3.11/lib/python3.11/site-packages (from jsonlines) (23.2.0)\n",
      "Requirement already satisfied: multidict<7.0,>=4.5 in /Users/markhneedham/Library/Caches/pypoetry/virtualenvs/metadata-TLXuxenJ-py3.11/lib/python3.11/site-packages (from aiohttp<4.0.0,>=3.8.3->langchain) (6.0.4)\n",
      "Requirement already satisfied: yarl<2.0,>=1.0 in /Users/markhneedham/Library/Caches/pypoetry/virtualenvs/metadata-TLXuxenJ-py3.11/lib/python3.11/site-packages (from aiohttp<4.0.0,>=3.8.3->langchain) (1.9.4)\n",
      "Requirement already satisfied: frozenlist>=1.1.1 in /Users/markhneedham/Library/Caches/pypoetry/virtualenvs/metadata-TLXuxenJ-py3.11/lib/python3.11/site-packages (from aiohttp<4.0.0,>=3.8.3->langchain) (1.4.1)\n",
      "Requirement already satisfied: aiosignal>=1.1.2 in /Users/markhneedham/Library/Caches/pypoetry/virtualenvs/metadata-TLXuxenJ-py3.11/lib/python3.11/site-packages (from aiohttp<4.0.0,>=3.8.3->langchain) (1.3.1)\n",
      "Requirement already satisfied: marshmallow<4.0.0,>=3.18.0 in /Users/markhneedham/Library/Caches/pypoetry/virtualenvs/metadata-TLXuxenJ-py3.11/lib/python3.11/site-packages (from dataclasses-json<0.7,>=0.5.7->langchain) (3.20.1)\n",
      "Requirement already satisfied: typing-inspect<1,>=0.4.0 in /Users/markhneedham/Library/Caches/pypoetry/virtualenvs/metadata-TLXuxenJ-py3.11/lib/python3.11/site-packages (from dataclasses-json<0.7,>=0.5.7->langchain) (0.9.0)\n",
      "Requirement already satisfied: jsonpointer>=1.9 in /Users/markhneedham/Library/Caches/pypoetry/virtualenvs/metadata-TLXuxenJ-py3.11/lib/python3.11/site-packages (from jsonpatch<2.0,>=1.33->langchain) (2.4)\n",
      "Requirement already satisfied: anyio<5,>=3 in /Users/markhneedham/Library/Caches/pypoetry/virtualenvs/metadata-TLXuxenJ-py3.11/lib/python3.11/site-packages (from langchain-core<0.2,>=0.1.7->langchain) (4.2.0)\n",
      "Requirement already satisfied: packaging<24.0,>=23.2 in /Users/markhneedham/Library/Caches/pypoetry/virtualenvs/metadata-TLXuxenJ-py3.11/lib/python3.11/site-packages (from langchain-core<0.2,>=0.1.7->langchain) (23.2)\n",
      "Requirement already satisfied: annotated-types>=0.4.0 in /Users/markhneedham/Library/Caches/pypoetry/virtualenvs/metadata-TLXuxenJ-py3.11/lib/python3.11/site-packages (from pydantic<3,>=1->langchain) (0.6.0)\n",
      "Requirement already satisfied: pydantic-core==2.14.6 in /Users/markhneedham/Library/Caches/pypoetry/virtualenvs/metadata-TLXuxenJ-py3.11/lib/python3.11/site-packages (from pydantic<3,>=1->langchain) (2.14.6)\n",
      "Requirement already satisfied: typing-extensions>=4.6.1 in /Users/markhneedham/Library/Caches/pypoetry/virtualenvs/metadata-TLXuxenJ-py3.11/lib/python3.11/site-packages (from pydantic<3,>=1->langchain) (4.9.0)\n",
      "Requirement already satisfied: charset-normalizer<4,>=2 in /Users/markhneedham/Library/Caches/pypoetry/virtualenvs/metadata-TLXuxenJ-py3.11/lib/python3.11/site-packages (from requests<3,>=2->langchain) (3.3.2)\n",
      "Requirement already satisfied: idna<4,>=2.5 in /Users/markhneedham/Library/Caches/pypoetry/virtualenvs/metadata-TLXuxenJ-py3.11/lib/python3.11/site-packages (from requests<3,>=2->langchain) (3.6)\n",
      "Requirement already satisfied: urllib3<3,>=1.21.1 in /Users/markhneedham/Library/Caches/pypoetry/virtualenvs/metadata-TLXuxenJ-py3.11/lib/python3.11/site-packages (from requests<3,>=2->langchain) (1.26.18)\n",
      "Requirement already satisfied: certifi>=2017.4.17 in /Users/markhneedham/Library/Caches/pypoetry/virtualenvs/metadata-TLXuxenJ-py3.11/lib/python3.11/site-packages (from requests<3,>=2->langchain) (2023.11.17)\n",
      "Requirement already satisfied: greenlet!=0.4.17 in /Users/markhneedham/Library/Caches/pypoetry/virtualenvs/metadata-TLXuxenJ-py3.11/lib/python3.11/site-packages (from SQLAlchemy<3,>=1.4->langchain) (3.0.3)\n",
      "Requirement already satisfied: sniffio>=1.1 in /Users/markhneedham/Library/Caches/pypoetry/virtualenvs/metadata-TLXuxenJ-py3.11/lib/python3.11/site-packages (from anyio<5,>=3->langchain-core<0.2,>=0.1.7->langchain) (1.3.0)\n",
      "Requirement already satisfied: mypy-extensions>=0.3.0 in /Users/markhneedham/Library/Caches/pypoetry/virtualenvs/metadata-TLXuxenJ-py3.11/lib/python3.11/site-packages (from typing-inspect<1,>=0.4.0->dataclasses-json<0.7,>=0.5.7->langchain) (1.0.0)\n",
      "\n",
      "\u001b[1m[\u001b[0m\u001b[34;49mnotice\u001b[0m\u001b[1;39;49m]\u001b[0m\u001b[39;49m A new release of pip is available: \u001b[0m\u001b[31;49m23.3.1\u001b[0m\u001b[39;49m -> \u001b[0m\u001b[32;49m23.3.2\u001b[0m\n",
      "\u001b[1m[\u001b[0m\u001b[34;49mnotice\u001b[0m\u001b[1;39;49m]\u001b[0m\u001b[39;49m To update, run: \u001b[0m\u001b[32;49mpip install --upgrade pip\u001b[0m\n"
     ]
    }
   ],
   "source": [
    "!pip install langchain jsonlines qdrant-client gradio"
   ]
  },
  {
   "cell_type": "markdown",
   "id": "0ac92ddd-129e-4fc1-b5c0-210a4f6b1bcc",
   "metadata": {},
   "source": [
    "## AI articles 🤖📰🧠✨\n",
    "I've collected a bunch of AI articles from the BBC website into a file. Let's take a look at them."
   ]
  },
  {
   "cell_type": "code",
   "execution_count": 280,
   "id": "ee9650cc-b439-4ed4-81ea-05fb740ab5d3",
   "metadata": {
    "collapsed": true,
    "execution": {
     "iopub.execute_input": "2024-01-14T07:05:16.150526Z",
     "iopub.status.busy": "2024-01-14T07:05:16.149834Z",
     "iopub.status.idle": "2024-01-14T07:05:16.168754Z",
     "shell.execute_reply": "2024-01-14T07:05:16.168172Z",
     "shell.execute_reply.started": "2024-01-14T07:05:16.150466Z"
    },
    "jupyter": {
     "outputs_hidden": true
    }
   },
   "outputs": [
    {
     "name": "stdout",
     "output_type": "stream",
     "text": [
      "{'url': 'https://www.bbc.com/news/entertainment-arts-67134595', 'title': 'John Grisham: Threat from AI cannot be truly appreciated - BBC News', 'time': '2023-10-17T14:00:32.000Z', 'tags': ['Artificial intelligence', 'Books', 'Tom Cruise'], 'authors': ['Emma Saunders'], 'body': ['Bestselling thriller writer John Grisham says the \"threat\" to his profession from AI cannot be \"truly appreciated... explained or predicted\".', 'He is among a group of writers who have accused OpenAI of unlawfully training its artificial-intelligence-based chatbot ChatGPT on their work.', 'Jonathan Franzen, Jodi Picoult and George RR Martin are among those joining the recent group legal action.', 'Grisham told BBC One\\'s Breakfast programme: \"It\\'s my turn to file suit.\"', 'He said: \"For 30 years, I\\'ve been sued by everyone else - for slander, defamation, copyright, whatever - so it\\'s my turn.\"', 'OpenAI said last month it respected the rights of authors, \"they should benefit from AI technology\" and the company was \"optimistic we will continue to find mutually beneficial ways to work together\".', 'In a wide-ranging interview, Grisham also discussed his long-awaited sequel to his hit second novel, The Firm.', 'Published in 1991 and turned into a Hollywood blockbuster starring Tom Cruise, The Firm is an intriguing tale about a Memphis law firm set up by the Mafia to launder money and enable tax evasions. ', 'The Exchange follows protagonists Mitch and Abby McDeere after they exposed the firm and fled the country.', 'So why did it take more than 30 years to write?', '\"I can\\'t just sit down and force a story to happen,\" Grisham told the Breakfast.', '\"I have to be inspired... to write the novel. In the meantime, there are so many other books to write. I kept thinking about Mitch and how much fun it would be to bring him back. I had no idea it would take so long.\"', 'But will Cruise reprise his role as Mitch?', '\"I hope so - it\\'s not in the works yet,\" Grisham told the Breakfast. ', '\"If Tom wants to do it, it will be done. If Tom doesn\\'t want to do it, it probably won\\'t be done.\"', 'The fascination with crime and legal drama was because \"we have an addiction to violence\" and  people \"love big sensational trials\", Grisham told the Breakfast. ', 'But he was \"more pessimistic\" about the legal system today.', '\"For the past 15 years, I\\'ve served on two boards dedicated to exonerating innocent people who are in prison,\" Grisham told the Breakfast. ', '\"I\\'ve come to realise there are are thousands of innocent people in prison - they all go back to a bad verdict.\"']}\n"
     ]
    }
   ],
   "source": [
    "import jsonlines\n",
    "with jsonlines.open(\"documents.json\", \"r\") as documents:\n",
    "    print(next(iter(documents)))  "
   ]
  },
  {
   "cell_type": "markdown",
   "id": "1c6d337d-f9ba-45f9-84a0-22a7b8e8c50a",
   "metadata": {},
   "source": [
    "## Storing embeddings in Qdrant 💾🧭🤖\n",
    "Now, we're going to create LangChain documents based on the chunks of text in each article. We'll then store the chunks and their embeddings in Qdrant."
   ]
  },
  {
   "cell_type": "code",
   "execution_count": 281,
   "id": "39402a4d-0f64-4273-8196-03cf7e6b448f",
   "metadata": {
    "execution": {
     "iopub.execute_input": "2024-01-14T07:05:43.074623Z",
     "iopub.status.busy": "2024-01-14T07:05:43.074170Z",
     "iopub.status.idle": "2024-01-14T07:05:43.079737Z",
     "shell.execute_reply": "2024-01-14T07:05:43.079106Z",
     "shell.execute_reply.started": "2024-01-14T07:05:43.074592Z"
    }
   },
   "outputs": [],
   "source": [
    "from langchain_core.documents import Document"
   ]
  },
  {
   "cell_type": "code",
   "execution_count": 282,
   "id": "f7eefcec-f404-4428-ad38-9ef56cfe5c31",
   "metadata": {
    "execution": {
     "iopub.execute_input": "2024-01-14T07:06:23.726646Z",
     "iopub.status.busy": "2024-01-14T07:06:23.726137Z",
     "iopub.status.idle": "2024-01-14T07:06:23.760235Z",
     "shell.execute_reply": "2024-01-14T07:06:23.759563Z",
     "shell.execute_reply.started": "2024-01-14T07:06:23.726614Z"
    }
   },
   "outputs": [
    {
     "data": {
      "text/html": [
       "<pre style=\"white-space:pre;overflow-x:auto;line-height:normal;font-family:Menlo,'DejaVu Sans Mono',consolas,'Courier New',monospace\"></pre>\n"
      ],
      "text/plain": []
     },
     "metadata": {},
     "output_type": "display_data"
    },
    {
     "data": {
      "text/plain": [
       "\n",
       "\u001b[1m(\u001b[0m\n",
       "    \u001b[1;36m1225\u001b[0m,\n",
       "    \u001b[1m[\u001b[0m\n",
       "        \u001b[1;35mDocument\u001b[0m\u001b[1m(\u001b[0m\n",
       "            \u001b[33mpage_content\u001b[0m=\u001b[32m'Bestselling thriller writer John Grisham says the \"threat\" to his profession from AI cannot be \"truly appreciated... explained or predicted\".'\u001b[0m,\n",
       "            \u001b[33mmetadata\u001b[0m=\u001b[1m{\u001b[0m\n",
       "                \u001b[32m'url'\u001b[0m: \u001b[32m'https://www.bbc.com/news/entertainment-arts-67134595'\u001b[0m,\n",
       "                \u001b[32m'tags'\u001b[0m: \u001b[1m[\u001b[0m\u001b[32m'Artificial intelligence'\u001b[0m, \u001b[32m'Books'\u001b[0m, \u001b[32m'Tom Cruise'\u001b[0m\u001b[1m]\u001b[0m,\n",
       "                \u001b[32m'time'\u001b[0m: \u001b[32m'2023-10-17T14:00:32.000Z'\u001b[0m,\n",
       "                \u001b[32m'title'\u001b[0m: \u001b[32m'John Grisham: Threat from AI cannot be truly appreciated - BBC News'\u001b[0m,\n",
       "                \u001b[32m'authors'\u001b[0m: \u001b[1m[\u001b[0m\u001b[32m'Emma Saunders'\u001b[0m\u001b[1m]\u001b[0m\n",
       "            \u001b[1m}\u001b[0m\n",
       "        \u001b[1m)\u001b[0m\n",
       "    \u001b[1m]\u001b[0m\n",
       "\u001b[1m)\u001b[0m"
      ]
     },
     "execution_count": 282,
     "metadata": {},
     "output_type": "execute_result"
    }
   ],
   "source": [
    "langchain_documents = []\n",
    "with jsonlines.open(\"documents.json\", \"r\") as documents:\n",
    "    for doc in documents:\n",
    "        for line in doc['body']:\n",
    "            langchain_documents.append(\n",
    "                Document(\n",
    "                    page_content = line,\n",
    "                    metadata = {\n",
    "                    \"url\": doc['url'],\n",
    "                    \"tags\": doc['tags'],\n",
    "                    \"time\": doc['time'],\n",
    "                    \"title\": doc['title'],\n",
    "                    \"authors\": doc[\"authors\"]\n",
    "                    }\n",
    "                )\n",
    "            )\n",
    "len(langchain_documents), langchain_documents[:1]"
   ]
  },
  {
   "cell_type": "code",
   "execution_count": 283,
   "id": "839510d4-f2af-4c5d-ad05-27b3e5deb1da",
   "metadata": {
    "execution": {
     "iopub.execute_input": "2024-01-14T07:06:42.753812Z",
     "iopub.status.busy": "2024-01-14T07:06:42.751886Z",
     "iopub.status.idle": "2024-01-14T07:06:42.776814Z",
     "shell.execute_reply": "2024-01-14T07:06:42.773286Z",
     "shell.execute_reply.started": "2024-01-14T07:06:42.753751Z"
    }
   },
   "outputs": [],
   "source": [
    "from langchain.vectorstores import Qdrant\n",
    "from langchain_community.embeddings.fastembed import FastEmbedEmbeddings"
   ]
  },
  {
   "cell_type": "code",
   "execution_count": 284,
   "id": "49958ea4-4003-49e1-86e7-1272bd08c495",
   "metadata": {
    "execution": {
     "iopub.execute_input": "2024-01-14T07:06:51.896104Z",
     "iopub.status.busy": "2024-01-14T07:06:51.895210Z",
     "iopub.status.idle": "2024-01-14T07:06:52.342494Z",
     "shell.execute_reply": "2024-01-14T07:06:52.342055Z",
     "shell.execute_reply.started": "2024-01-14T07:06:51.896031Z"
    }
   },
   "outputs": [],
   "source": [
    "embeddings = FastEmbedEmbeddings(model_name=\"BAAI/bge-base-en-v1.5\")"
   ]
  },
  {
   "cell_type": "code",
   "execution_count": 285,
   "id": "da7ecdd2-d424-432d-929d-3eaa5cc5bbce",
   "metadata": {
    "execution": {
     "iopub.execute_input": "2024-01-14T07:07:06.175337Z",
     "iopub.status.busy": "2024-01-14T07:07:06.174055Z",
     "iopub.status.idle": "2024-01-14T07:08:34.099841Z",
     "shell.execute_reply": "2024-01-14T07:08:34.099332Z",
     "shell.execute_reply.started": "2024-01-14T07:07:06.175209Z"
    }
   },
   "outputs": [],
   "source": [
    "store = Qdrant.from_documents(\n",
    "    langchain_documents,\n",
    "    embeddings,\n",
    "    path=\"/tmp/ai_qdrant\",\n",
    "    collection_name=\"AI-Embeddings\",\n",
    ")  "
   ]
  },
  {
   "cell_type": "markdown",
   "id": "65b301a6-8cda-4095-9077-f667a2b9f13f",
   "metadata": {},
   "source": [
    "## Querying the vector store 🔍🗄️👨‍💻\n",
    "Now we're going to query those documents for various search terms."
   ]
  },
  {
   "cell_type": "code",
   "execution_count": 286,
   "id": "f34a1edb-9736-4686-9fee-4b0722fda2bb",
   "metadata": {
    "execution": {
     "iopub.execute_input": "2024-01-14T07:08:53.026485Z",
     "iopub.status.busy": "2024-01-14T07:08:53.025328Z",
     "iopub.status.idle": "2024-01-14T07:08:53.099760Z",
     "shell.execute_reply": "2024-01-14T07:08:53.099236Z",
     "shell.execute_reply.started": "2024-01-14T07:08:53.026444Z"
    }
   },
   "outputs": [
    {
     "data": {
      "text/html": [
       "<pre style=\"white-space:pre;overflow-x:auto;line-height:normal;font-family:Menlo,'DejaVu Sans Mono',consolas,'Courier New',monospace\"></pre>\n"
      ],
      "text/plain": []
     },
     "metadata": {},
     "output_type": "display_data"
    },
    {
     "data": {
      "text/plain": [
       "\n",
       "\u001b[1m[\u001b[0m\n",
       "    \u001b[1m(\u001b[0m\n",
       "        \u001b[1;35mDocument\u001b[0m\u001b[1m(\u001b[0m\n",
       "            \u001b[33mpage_content\u001b[0m=\u001b[32m'But to pull off this feat AI is trained on huge amounts of copyrighted material. Many authors, actors, artists and musicians argue that AI should not be trained on their works without permission and compensation.'\u001b[0m,\n",
       "            \u001b[33mmetadata\u001b[0m=\u001b[1m{\u001b[0m\n",
       "                \u001b[32m'url'\u001b[0m: \u001b[32m'https://www.bbc.com/news/technology-66661815'\u001b[0m,\n",
       "                \u001b[32m'tags'\u001b[0m: \u001b[1m[\u001b[0m\u001b[32m'Europe'\u001b[0m, \u001b[32m'Artificial intelligence'\u001b[0m\u001b[1m]\u001b[0m,\n",
       "                \u001b[32m'time'\u001b[0m: \u001b[32m'2023-08-31T00:26:50.000Z'\u001b[0m,\n",
       "                \u001b[32m'title'\u001b[0m: \u001b[32m'Pass AI law soon or risk falling behind, MPs warn - BBC News'\u001b[0m,\n",
       "                \u001b[32m'authors'\u001b[0m: \u001b[1m[\u001b[0m\u001b[32m'Chris Vallance'\u001b[0m\u001b[1m]\u001b[0m\n",
       "            \u001b[1m}\u001b[0m\n",
       "        \u001b[1m)\u001b[0m,\n",
       "        \u001b[1;36m0.7217354717599976\u001b[0m\n",
       "    \u001b[1m)\u001b[0m\n",
       "\u001b[1m]\u001b[0m"
      ]
     },
     "execution_count": 286,
     "metadata": {},
     "output_type": "execute_result"
    }
   ],
   "source": [
    "store.similarity_search_with_score(\n",
    "    query=\"AI and authors\",\n",
    "    k=1\n",
    ")  "
   ]
  },
  {
   "cell_type": "code",
   "execution_count": 287,
   "id": "656370b9-c523-41b1-a3be-3b2b63b0d99b",
   "metadata": {
    "execution": {
     "iopub.execute_input": "2024-01-14T07:09:12.565000Z",
     "iopub.status.busy": "2024-01-14T07:09:12.564428Z",
     "iopub.status.idle": "2024-01-14T07:09:12.641553Z",
     "shell.execute_reply": "2024-01-14T07:09:12.640650Z",
     "shell.execute_reply.started": "2024-01-14T07:09:12.564967Z"
    }
   },
   "outputs": [
    {
     "data": {
      "text/html": [
       "<pre style=\"white-space:pre;overflow-x:auto;line-height:normal;font-family:Menlo,'DejaVu Sans Mono',consolas,'Courier New',monospace\"></pre>\n"
      ],
      "text/plain": []
     },
     "metadata": {},
     "output_type": "display_data"
    },
    {
     "data": {
      "text/plain": [
       "\n",
       "\u001b[1m[\u001b[0m\n",
       "    \u001b[1m(\u001b[0m\n",
       "        \u001b[1;35mDocument\u001b[0m\u001b[1m(\u001b[0m\n",
       "            \u001b[33mpage_content\u001b[0m=\u001b[32m'OpenAI said last month it respected the rights of authors, \"they should benefit from AI technology\" and the company was \"optimistic we will continue to find mutually beneficial ways to work together\".'\u001b[0m,\n",
       "            \u001b[33mmetadata\u001b[0m=\u001b[1m{\u001b[0m\n",
       "                \u001b[32m'url'\u001b[0m: \u001b[32m'https://www.bbc.com/news/entertainment-arts-67134595'\u001b[0m,\n",
       "                \u001b[32m'tags'\u001b[0m: \u001b[1m[\u001b[0m\u001b[32m'Artificial intelligence'\u001b[0m, \u001b[32m'Books'\u001b[0m, \u001b[32m'Tom Cruise'\u001b[0m\u001b[1m]\u001b[0m,\n",
       "                \u001b[32m'time'\u001b[0m: \u001b[32m'2023-10-17T14:00:32.000Z'\u001b[0m,\n",
       "                \u001b[32m'title'\u001b[0m: \u001b[32m'John Grisham: Threat from AI cannot be truly appreciated - BBC News'\u001b[0m,\n",
       "                \u001b[32m'authors'\u001b[0m: \u001b[1m[\u001b[0m\u001b[32m'Emma Saunders'\u001b[0m\u001b[1m]\u001b[0m\n",
       "            \u001b[1m}\u001b[0m\n",
       "        \u001b[1m)\u001b[0m,\n",
       "        \u001b[1;36m0.6064101699793749\u001b[0m\n",
       "    \u001b[1m)\u001b[0m\n",
       "\u001b[1m]\u001b[0m"
      ]
     },
     "execution_count": 287,
     "metadata": {},
     "output_type": "execute_result"
    }
   ],
   "source": [
    "store.similarity_search_with_score(\n",
    "    query=\"AI and authors\",\n",
    "    filter={\"authors\": \"Emma Saunders\"},\n",
    "    k=1\n",
    ")  "
   ]
  },
  {
   "cell_type": "code",
   "execution_count": 288,
   "id": "1aa38d4f-545d-448f-a3de-96b4c5e9c7e1",
   "metadata": {
    "execution": {
     "iopub.execute_input": "2024-01-14T07:09:27.171404Z",
     "iopub.status.busy": "2024-01-14T07:09:27.170816Z",
     "iopub.status.idle": "2024-01-14T07:09:27.184978Z",
     "shell.execute_reply": "2024-01-14T07:09:27.183391Z",
     "shell.execute_reply.started": "2024-01-14T07:09:27.171373Z"
    }
   },
   "outputs": [],
   "source": [
    "from qdrant_client.http import models"
   ]
  },
  {
   "cell_type": "code",
   "execution_count": 289,
   "id": "0625e1d7-7afe-415d-862d-e82a7297b9bf",
   "metadata": {
    "execution": {
     "iopub.execute_input": "2024-01-14T07:09:46.951200Z",
     "iopub.status.busy": "2024-01-14T07:09:46.950594Z",
     "iopub.status.idle": "2024-01-14T07:09:47.040903Z",
     "shell.execute_reply": "2024-01-14T07:09:47.040357Z",
     "shell.execute_reply.started": "2024-01-14T07:09:46.951167Z"
    }
   },
   "outputs": [
    {
     "data": {
      "text/html": [
       "<pre style=\"white-space:pre;overflow-x:auto;line-height:normal;font-family:Menlo,'DejaVu Sans Mono',consolas,'Courier New',monospace\"></pre>\n"
      ],
      "text/plain": []
     },
     "metadata": {},
     "output_type": "display_data"
    },
    {
     "data": {
      "text/plain": [
       "\n",
       "\u001b[1m[\u001b[0m\n",
       "    \u001b[1m(\u001b[0m\n",
       "        \u001b[1;35mDocument\u001b[0m\u001b[1m(\u001b[0m\n",
       "            \u001b[33mpage_content\u001b[0m=\u001b[32m'OpenAI said last month it respected the rights of authors, \"they should benefit from AI technology\" and the company was \"optimistic we will continue to find mutually beneficial ways to work together\".'\u001b[0m,\n",
       "            \u001b[33mmetadata\u001b[0m=\u001b[1m{\u001b[0m\n",
       "                \u001b[32m'url'\u001b[0m: \u001b[32m'https://www.bbc.com/news/entertainment-arts-67134595'\u001b[0m,\n",
       "                \u001b[32m'tags'\u001b[0m: \u001b[1m[\u001b[0m\u001b[32m'Artificial intelligence'\u001b[0m, \u001b[32m'Books'\u001b[0m, \u001b[32m'Tom Cruise'\u001b[0m\u001b[1m]\u001b[0m,\n",
       "                \u001b[32m'time'\u001b[0m: \u001b[32m'2023-10-17T14:00:32.000Z'\u001b[0m,\n",
       "                \u001b[32m'title'\u001b[0m: \u001b[32m'John Grisham: Threat from AI cannot be truly appreciated - BBC News'\u001b[0m,\n",
       "                \u001b[32m'authors'\u001b[0m: \u001b[1m[\u001b[0m\u001b[32m'Emma Saunders'\u001b[0m\u001b[1m]\u001b[0m\n",
       "            \u001b[1m}\u001b[0m\n",
       "        \u001b[1m)\u001b[0m,\n",
       "        \u001b[1;36m0.6064101699793749\u001b[0m\n",
       "    \u001b[1m)\u001b[0m\n",
       "\u001b[1m]\u001b[0m"
      ]
     },
     "execution_count": 289,
     "metadata": {},
     "output_type": "execute_result"
    }
   ],
   "source": [
    "store.similarity_search_with_score(\n",
    "    query=\"AI and authors\",\n",
    "    filter=models.Filter(\n",
    "        must = [\n",
    "        models.FieldCondition(key=\"metadata.authors\", match=models.MatchValue(value=\"Emma Saunders\"))\n",
    "        ]\n",
    "    ),\n",
    "    k=1\n",
    ")  "
   ]
  },
  {
   "cell_type": "markdown",
   "id": "d9be76a3-264b-444a-b489-6f543ea106d5",
   "metadata": {},
   "source": [
    "## Querying an LLM with and without metadata 🤔🤖🔍❓\n",
    "Now let's have see how we can have an LLM answer questions with and without metadata."
   ]
  },
  {
   "cell_type": "code",
   "execution_count": 290,
   "id": "672b599e-65b7-40e4-a172-5c25ec66b3da",
   "metadata": {
    "execution": {
     "iopub.execute_input": "2024-01-14T07:10:27.488998Z",
     "iopub.status.busy": "2024-01-14T07:10:27.488427Z",
     "iopub.status.idle": "2024-01-14T07:10:27.500871Z",
     "shell.execute_reply": "2024-01-14T07:10:27.498857Z",
     "shell.execute_reply.started": "2024-01-14T07:10:27.488965Z"
    }
   },
   "outputs": [],
   "source": [
    "from langchain_community.llms import Ollama\n",
    "from langchain.callbacks.manager import CallbackManager\n",
    "from langchain.callbacks.streaming_stdout import StreamingStdOutCallbackHandler\n",
    "\n",
    "llm = Ollama(\n",
    "    model=\"mixtral\",\n",
    "    callback_manager=CallbackManager([StreamingStdOutCallbackHandler()]),\n",
    ")  "
   ]
  },
  {
   "cell_type": "code",
   "execution_count": 291,
   "id": "9df33fa3-310d-4f06-93ef-73e52adb177d",
   "metadata": {
    "execution": {
     "iopub.execute_input": "2024-01-14T07:10:43.263328Z",
     "iopub.status.busy": "2024-01-14T07:10:43.260863Z",
     "iopub.status.idle": "2024-01-14T07:10:43.279471Z",
     "shell.execute_reply": "2024-01-14T07:10:43.278872Z",
     "shell.execute_reply.started": "2024-01-14T07:10:43.262795Z"
    }
   },
   "outputs": [],
   "source": [
    "from langchain.chains.combine_documents import create_stuff_documents_chain\n",
    "from langchain.chains import create_retrieval_chain\n",
    "from langchain.prompts import PromptTemplate"
   ]
  },
  {
   "cell_type": "code",
   "execution_count": 292,
   "id": "3b0a45ae-05d6-4e6c-a9e9-b18c6978eca9",
   "metadata": {
    "execution": {
     "iopub.execute_input": "2024-01-14T07:11:20.210092Z",
     "iopub.status.busy": "2024-01-14T07:11:20.209382Z",
     "iopub.status.idle": "2024-01-14T07:11:20.237184Z",
     "shell.execute_reply": "2024-01-14T07:11:20.236519Z",
     "shell.execute_reply.started": "2024-01-14T07:11:20.209978Z"
    }
   },
   "outputs": [],
   "source": [
    "def retrieval_chain_with_filter(llm, filter={}):\n",
    "    template = \"\"\"You are a bot that answers user questions using only the context provided.\n",
    "    If you don't know the answer, simply state that you don't know.\n",
    "    {context}\n",
    "    Question: {input}\"\"\"\n",
    "\n",
    "    prompt = PromptTemplate(template=template, input_variables=[\"context\", \"input\"])\n",
    "    retriever = store.as_retriever(search_kwargs={'filter': filter})\n",
    "    llm_with_prompt = create_stuff_documents_chain(llm, prompt)\n",
    "    return create_retrieval_chain(retriever, llm_with_prompt)  "
   ]
  },
  {
   "cell_type": "code",
   "execution_count": 293,
   "id": "f95f128d-7dcf-4bbe-9097-0d07f6f9f650",
   "metadata": {
    "execution": {
     "iopub.execute_input": "2024-01-14T07:11:32.662436Z",
     "iopub.status.busy": "2024-01-14T07:11:32.661716Z",
     "iopub.status.idle": "2024-01-14T07:11:47.440123Z",
     "shell.execute_reply": "2024-01-14T07:11:47.438278Z",
     "shell.execute_reply.started": "2024-01-14T07:11:32.662401Z"
    }
   },
   "outputs": [
    {
     "name": "stdout",
     "output_type": "stream",
     "text": [
      " The text you provided discusses two main topics: concerns about AI safety and the use of copyrighted materials to train AI systems.\n",
      "\n",
      "On the topic of AI safety, it is mentioned that there are worries about malicious AI being deployed by \"bad actors\" with the intention to cause harm, or when AI might make decisions that could inadvertently lead to harm. The Canadian government has also signed statements expressing caution regarding future risks of AI.\n",
      "\n",
      "Regarding copyright, the text highlights the concern that AI systems like ChatGPT are trained on large amounts of copyrighted material without permission from authors, artists, musicians, and other creators. This use of copyrighted works could lead to debates about ownership, compensation, and ethical usage of such materials in AI training datasets.\n",
      "\n",
      "In summary, it has been pointed out that there are concerns regarding AI safety and the unauthorized use of copyrighted materials for AI training purposes."
     ]
    }
   ],
   "source": [
    "result = retrieval_chain_with_filter(llm).invoke({\n",
    "    \"input\": \"What was said about AI safety and copyright?\"\n",
    "})  "
   ]
  },
  {
   "cell_type": "code",
   "execution_count": 294,
   "id": "1467f2ec-b9cc-455b-ba39-b8872208364b",
   "metadata": {
    "collapsed": true,
    "execution": {
     "iopub.execute_input": "2024-01-14T07:12:01.282410Z",
     "iopub.status.busy": "2024-01-14T07:12:01.274073Z",
     "iopub.status.idle": "2024-01-14T07:12:01.300873Z",
     "shell.execute_reply": "2024-01-14T07:12:01.300122Z",
     "shell.execute_reply.started": "2024-01-14T07:12:01.282339Z"
    },
    "jupyter": {
     "outputs_hidden": true
    }
   },
   "outputs": [
    {
     "data": {
      "text/html": [
       "<pre style=\"white-space:pre;overflow-x:auto;line-height:normal;font-family:Menlo,'DejaVu Sans Mono',consolas,'Courier New',monospace\"></pre>\n"
      ],
      "text/plain": []
     },
     "metadata": {},
     "output_type": "display_data"
    },
    {
     "data": {
      "text/plain": [
       "\n",
       "\u001b[1m[\u001b[0m\n",
       "    \u001b[1;35mDocument\u001b[0m\u001b[1m(\u001b[0m\n",
       "        \u001b[33mpage_content\u001b[0m=\u001b[32m'But to pull off this feat AI is trained on huge amounts of copyrighted material. Many authors, actors, artists and musicians argue that AI should not be trained on their works without permission and compensation.'\u001b[0m,\n",
       "        \u001b[33mmetadata\u001b[0m=\u001b[1m{\u001b[0m\n",
       "            \u001b[32m'url'\u001b[0m: \u001b[32m'https://www.bbc.com/news/technology-66661815'\u001b[0m,\n",
       "            \u001b[32m'tags'\u001b[0m: \u001b[1m[\u001b[0m\u001b[32m'Europe'\u001b[0m, \u001b[32m'Artificial intelligence'\u001b[0m\u001b[1m]\u001b[0m,\n",
       "            \u001b[32m'time'\u001b[0m: \u001b[32m'2023-08-31T00:26:50.000Z'\u001b[0m,\n",
       "            \u001b[32m'title'\u001b[0m: \u001b[32m'Pass AI law soon or risk falling behind, MPs warn - BBC News'\u001b[0m,\n",
       "            \u001b[32m'authors'\u001b[0m: \u001b[1m[\u001b[0m\u001b[32m'Chris Vallance'\u001b[0m\u001b[1m]\u001b[0m\n",
       "        \u001b[1m}\u001b[0m\n",
       "    \u001b[1m)\u001b[0m,\n",
       "    \u001b[1;35mDocument\u001b[0m\u001b[1m(\u001b[0m\n",
       "        \u001b[33mpage_content\u001b[0m=\u001b[32m\"We\u001b[0m\u001b[32m also know AI is already causing disruption to jobs. A friend of mine worked in a small marketing company. There were five copywriters - now there's one, whose job it is to check the copy generated by ChatGPT. The Department for Work and Pensions is using AI tools to speed up benefits claims.\"\u001b[0m,\n",
       "        \u001b[33mmetadata\u001b[0m=\u001b[1m{\u001b[0m\n",
       "            \u001b[32m'url'\u001b[0m: \u001b[32m'https://www.bbc.com/news/technology-67172230'\u001b[0m,\n",
       "            \u001b[32m'tags'\u001b[0m: \u001b[1m[\u001b[0m\u001b[32m'Artificial intelligence'\u001b[0m\u001b[1m]\u001b[0m,\n",
       "            \u001b[32m'time'\u001b[0m: \u001b[32m'2023-10-28T00:09:40.000Z'\u001b[0m,\n",
       "            \u001b[32m'title'\u001b[0m: \u001b[32m'Can Rishi Sunak’s big summit save us from AI nightmare? - BBC News'\u001b[0m,\n",
       "            \u001b[32m'authors'\u001b[0m: \u001b[1m[\u001b[0m\u001b[32m'Zoe Kleinman'\u001b[0m\u001b[1m]\u001b[0m\n",
       "        \u001b[1m}\u001b[0m\n",
       "    \u001b[1m)\u001b[0m,\n",
       "    \u001b[1;35mDocument\u001b[0m\u001b[1m(\u001b[0m\n",
       "        \u001b[33mpage_content\u001b[0m=\u001b[32m'The Canadian has signed two recent statements urging caution about the future risks of AI. Some academics and industry experts have warned that the pace of development could result in malicious AI being deployed by \"bad actors\" to actively cause harm - or choosing to inflict harm by itself.'\u001b[0m,\n",
       "        \u001b[33mmetadata\u001b[0m=\u001b[1m{\u001b[0m\n",
       "            \u001b[32m'url'\u001b[0m: \u001b[32m'https://www.bbc.com/news/technology-65760449'\u001b[0m,\n",
       "            \u001b[32m'tags'\u001b[0m: \u001b[1m[\u001b[0m\u001b[32m'Companies'\u001b[0m, \u001b[32m'Artificial intelligence'\u001b[0m\u001b[1m]\u001b[0m,\n",
       "            \u001b[32m'time'\u001b[0m: \u001b[32m'2023-05-31T15:25:22.000Z'\u001b[0m,\n",
       "            \u001b[32m'title'\u001b[0m: \u001b[32m\"AI 'godfather' Yoshua Bengio feels 'lost' over life's work - BBC News\"\u001b[0m,\n",
       "            \u001b[32m'authors'\u001b[0m: \u001b[1m[\u001b[0m\u001b[32m'Zoe Kleinman'\u001b[0m\u001b[1m]\u001b[0m\n",
       "        \u001b[1m}\u001b[0m\n",
       "    \u001b[1m)\u001b[0m,\n",
       "    \u001b[1;35mDocument\u001b[0m\u001b[1m(\u001b[0m\n",
       "        \u001b[33mpage_content\u001b[0m=\u001b[32m'The use of copyrighted material to train AI systems is also one of the challenges.'\u001b[0m,\n",
       "        \u001b[33mmetadata\u001b[0m=\u001b[1m{\u001b[0m\n",
       "            \u001b[32m'url'\u001b[0m: \u001b[32m'https://www.bbc.com/news/technology-66661815'\u001b[0m,\n",
       "            \u001b[32m'tags'\u001b[0m: \u001b[1m[\u001b[0m\u001b[32m'Europe'\u001b[0m, \u001b[32m'Artificial intelligence'\u001b[0m\u001b[1m]\u001b[0m,\n",
       "            \u001b[32m'time'\u001b[0m: \u001b[32m'2023-08-31T00:26:50.000Z'\u001b[0m,\n",
       "            \u001b[32m'title'\u001b[0m: \u001b[32m'Pass AI law soon or risk falling behind, MPs warn - BBC News'\u001b[0m,\n",
       "            \u001b[32m'authors'\u001b[0m: \u001b[1m[\u001b[0m\u001b[32m'Chris Vallance'\u001b[0m\u001b[1m]\u001b[0m\n",
       "        \u001b[1m}\u001b[0m\n",
       "    \u001b[1m)\u001b[0m\n",
       "\u001b[1m]\u001b[0m"
      ]
     },
     "execution_count": 294,
     "metadata": {},
     "output_type": "execute_result"
    }
   ],
   "source": [
    "result['context']"
   ]
  },
  {
   "cell_type": "code",
   "execution_count": 295,
   "id": "b6e62ee4-07dd-4d9a-9efb-20d00dffc7f3",
   "metadata": {
    "execution": {
     "iopub.execute_input": "2024-01-14T07:12:34.338896Z",
     "iopub.status.busy": "2024-01-14T07:12:34.338343Z",
     "iopub.status.idle": "2024-01-14T07:12:41.447570Z",
     "shell.execute_reply": "2024-01-14T07:12:41.446777Z",
     "shell.execute_reply.started": "2024-01-14T07:12:34.338863Z"
    }
   },
   "outputs": [
    {
     "name": "stdout",
     "output_type": "stream",
     "text": [
      " OpenAI has stated that they respect the rights of authors and believe they should benefit from AI technology. They have also expressed optimism about finding mutually beneficial ways to work together. However, a group of writers, including bestselling thriller writer John Grisham, have accused OpenAI of unlawfully training its artificial-intelligence-based chatbot ChatGPT on their work without permission or compensation. Grisham has also expressed concerns about the potential threat of AI to his profession, stating that it cannot be truly appreciated, explained, or predicted."
     ]
    }
   ],
   "source": [
    "filter = models.Filter(\n",
    "    must = [\n",
    "        models.FieldCondition(key=\"metadata.authors\", match=models.MatchValue(value=\"Emma Saunders\"))\n",
    "    ]\n",
    ")\n",
    "result = retrieval_chain_with_filter(llm, filter).invoke({\n",
    "    \"input\": \"What was said about AI safety and copyright?\"\n",
    "})  "
   ]
  },
  {
   "cell_type": "code",
   "execution_count": 296,
   "id": "aecd78ae-6b71-461f-8346-94a09909b3da",
   "metadata": {
    "collapsed": true,
    "execution": {
     "iopub.execute_input": "2024-01-14T07:12:55.204433Z",
     "iopub.status.busy": "2024-01-14T07:12:55.203824Z",
     "iopub.status.idle": "2024-01-14T07:12:55.229823Z",
     "shell.execute_reply": "2024-01-14T07:12:55.229118Z",
     "shell.execute_reply.started": "2024-01-14T07:12:55.204398Z"
    },
    "jupyter": {
     "outputs_hidden": true
    }
   },
   "outputs": [
    {
     "data": {
      "text/html": [
       "<pre style=\"white-space:pre;overflow-x:auto;line-height:normal;font-family:Menlo,'DejaVu Sans Mono',consolas,'Courier New',monospace\"></pre>\n"
      ],
      "text/plain": []
     },
     "metadata": {},
     "output_type": "display_data"
    },
    {
     "data": {
      "text/plain": [
       "\n",
       "\u001b[1m[\u001b[0m\n",
       "    \u001b[1;35mDocument\u001b[0m\u001b[1m(\u001b[0m\n",
       "        \u001b[33mpage_content\u001b[0m=\u001b[32m'OpenAI said last month it respected the rights of authors, \"they should benefit from AI technology\" and the company was \"optimistic we will continue to find mutually beneficial ways to work together\".'\u001b[0m,\n",
       "        \u001b[33mmetadata\u001b[0m=\u001b[1m{\u001b[0m\n",
       "            \u001b[32m'url'\u001b[0m: \u001b[32m'https://www.bbc.com/news/entertainment-arts-67134595'\u001b[0m,\n",
       "            \u001b[32m'tags'\u001b[0m: \u001b[1m[\u001b[0m\u001b[32m'Artificial intelligence'\u001b[0m, \u001b[32m'Books'\u001b[0m, \u001b[32m'Tom Cruise'\u001b[0m\u001b[1m]\u001b[0m,\n",
       "            \u001b[32m'time'\u001b[0m: \u001b[32m'2023-10-17T14:00:32.000Z'\u001b[0m,\n",
       "            \u001b[32m'title'\u001b[0m: \u001b[32m'John Grisham: Threat from AI cannot be truly appreciated - BBC News'\u001b[0m,\n",
       "            \u001b[32m'authors'\u001b[0m: \u001b[1m[\u001b[0m\u001b[32m'Emma Saunders'\u001b[0m\u001b[1m]\u001b[0m\n",
       "        \u001b[1m}\u001b[0m\n",
       "    \u001b[1m)\u001b[0m,\n",
       "    \u001b[1;35mDocument\u001b[0m\u001b[1m(\u001b[0m\n",
       "        \u001b[33mpage_content\u001b[0m=\u001b[32m'He is among a group of writers who have accused OpenAI of unlawfully training its artificial-intelligence-based chatbot ChatGPT on their work.'\u001b[0m,\n",
       "        \u001b[33mmetadata\u001b[0m=\u001b[1m{\u001b[0m\n",
       "            \u001b[32m'url'\u001b[0m: \u001b[32m'https://www.bbc.com/news/entertainment-arts-67134595'\u001b[0m,\n",
       "            \u001b[32m'tags'\u001b[0m: \u001b[1m[\u001b[0m\u001b[32m'Artificial intelligence'\u001b[0m, \u001b[32m'Books'\u001b[0m, \u001b[32m'Tom Cruise'\u001b[0m\u001b[1m]\u001b[0m,\n",
       "            \u001b[32m'time'\u001b[0m: \u001b[32m'2023-10-17T14:00:32.000Z'\u001b[0m,\n",
       "            \u001b[32m'title'\u001b[0m: \u001b[32m'John Grisham: Threat from AI cannot be truly appreciated - BBC News'\u001b[0m,\n",
       "            \u001b[32m'authors'\u001b[0m: \u001b[1m[\u001b[0m\u001b[32m'Emma Saunders'\u001b[0m\u001b[1m]\u001b[0m\n",
       "        \u001b[1m}\u001b[0m\n",
       "    \u001b[1m)\u001b[0m,\n",
       "    \u001b[1;35mDocument\u001b[0m\u001b[1m(\u001b[0m\n",
       "        \u001b[33mpage_content\u001b[0m=\u001b[32m'Bestselling thriller writer John Grisham says the \"threat\" to his profession from AI cannot be \"truly appreciated... explained or predicted\".'\u001b[0m,\n",
       "        \u001b[33mmetadata\u001b[0m=\u001b[1m{\u001b[0m\n",
       "            \u001b[32m'url'\u001b[0m: \u001b[32m'https://www.bbc.com/news/entertainment-arts-67134595'\u001b[0m,\n",
       "            \u001b[32m'tags'\u001b[0m: \u001b[1m[\u001b[0m\u001b[32m'Artificial intelligence'\u001b[0m, \u001b[32m'Books'\u001b[0m, \u001b[32m'Tom Cruise'\u001b[0m\u001b[1m]\u001b[0m,\n",
       "            \u001b[32m'time'\u001b[0m: \u001b[32m'2023-10-17T14:00:32.000Z'\u001b[0m,\n",
       "            \u001b[32m'title'\u001b[0m: \u001b[32m'John Grisham: Threat from AI cannot be truly appreciated - BBC News'\u001b[0m,\n",
       "            \u001b[32m'authors'\u001b[0m: \u001b[1m[\u001b[0m\u001b[32m'Emma Saunders'\u001b[0m\u001b[1m]\u001b[0m\n",
       "        \u001b[1m}\u001b[0m\n",
       "    \u001b[1m)\u001b[0m,\n",
       "    \u001b[1;35mDocument\u001b[0m\u001b[1m(\u001b[0m\n",
       "        \u001b[33mpage_content\u001b[0m=\u001b[32m'So why did it take more than 30 years to write?'\u001b[0m,\n",
       "        \u001b[33mmetadata\u001b[0m=\u001b[1m{\u001b[0m\n",
       "            \u001b[32m'url'\u001b[0m: \u001b[32m'https://www.bbc.com/news/entertainment-arts-67134595'\u001b[0m,\n",
       "            \u001b[32m'tags'\u001b[0m: \u001b[1m[\u001b[0m\u001b[32m'Artificial intelligence'\u001b[0m, \u001b[32m'Books'\u001b[0m, \u001b[32m'Tom Cruise'\u001b[0m\u001b[1m]\u001b[0m,\n",
       "            \u001b[32m'time'\u001b[0m: \u001b[32m'2023-10-17T14:00:32.000Z'\u001b[0m,\n",
       "            \u001b[32m'title'\u001b[0m: \u001b[32m'John Grisham: Threat from AI cannot be truly appreciated - BBC News'\u001b[0m,\n",
       "            \u001b[32m'authors'\u001b[0m: \u001b[1m[\u001b[0m\u001b[32m'Emma Saunders'\u001b[0m\u001b[1m]\u001b[0m\n",
       "        \u001b[1m}\u001b[0m\n",
       "    \u001b[1m)\u001b[0m\n",
       "\u001b[1m]\u001b[0m"
      ]
     },
     "execution_count": 296,
     "metadata": {},
     "output_type": "execute_result"
    }
   ],
   "source": [
    "result['context']"
   ]
  },
  {
   "cell_type": "markdown",
   "id": "f34f5440-8e38-4bcf-bed8-4d49ffe9cb2c",
   "metadata": {},
   "source": [
    "## Gradio 📚📊📱🔧\n",
    "Finally, let's build a UI using Gradio so we can see how the metadata might be provided by the end user."
   ]
  },
  {
   "cell_type": "code",
   "execution_count": 297,
   "id": "2d3047c9-8bd5-4cbb-a9e1-20200df19089",
   "metadata": {
    "execution": {
     "iopub.execute_input": "2024-01-14T07:13:54.577332Z",
     "iopub.status.busy": "2024-01-14T07:13:54.575796Z",
     "iopub.status.idle": "2024-01-14T07:13:54.926106Z",
     "shell.execute_reply": "2024-01-14T07:13:54.925696Z",
     "shell.execute_reply.started": "2024-01-14T07:13:54.577280Z"
    }
   },
   "outputs": [
    {
     "name": "stdout",
     "output_type": "stream",
     "text": [
      "Running on local URL:  http://127.0.0.1:7888\n",
      "\n",
      "To create a public link, set `share=True` in `launch()`.\n"
     ]
    },
    {
     "data": {
      "text/html": [
       "<pre style=\"white-space:pre;overflow-x:auto;line-height:normal;font-family:Menlo,'DejaVu Sans Mono',consolas,'Courier New',monospace\"></pre>\n"
      ],
      "text/plain": []
     },
     "metadata": {},
     "output_type": "display_data"
    },
    {
     "data": {
      "text/html": [
       "<div><iframe src=\"http://127.0.0.1:7888/\" width=\"100%\" height=\"500\" allow=\"autoplay; camera; microphone; clipboard-read; clipboard-write;\" frameborder=\"0\" allowfullscreen></iframe></div>"
      ],
      "text/plain": [
       "\u001b[1m<\u001b[0m\u001b[1;95mIPython.core.display.HTML\u001b[0m\u001b[39m object\u001b[0m\u001b[1m>\u001b[0m"
      ]
     },
     "metadata": {},
     "output_type": "display_data"
    },
    {
     "data": {
      "text/html": [
       "<pre style=\"white-space:pre;overflow-x:auto;line-height:normal;font-family:Menlo,'DejaVu Sans Mono',consolas,'Courier New',monospace\"></pre>\n"
      ],
      "text/plain": []
     },
     "metadata": {},
     "output_type": "display_data"
    },
    {
     "data": {
      "text/plain": [
       "\u001b[2;3m<class 'gradio.utils.TupleNoPrint'>.__repr__ returned empty string\u001b[0m"
      ]
     },
     "execution_count": 297,
     "metadata": {},
     "output_type": "execute_result"
    },
    {
     "name": "stdout",
     "output_type": "stream",
     "text": [
      " Rishi Sunak, the UK's Chancellor of the Exchequer, has expressed optimism about the potential benefits of artificial intelligence (AI) for the economy and workforce, while acknowledging concerns about its impact on jobs. Meanwhile, Elon Musk, CEO of SpaceX and Tesla, has been a vocal advocate for the development of AI but has also expressed concern about its potential risks and dangers.\n",
      "\n",
      "Musk has called for greater regulation of AI to ensure that it is developed and used in a responsible manner, warning of the potential for AI to surpass human intelligence and pose an existential threat to humanity. He has also highlighted the importance of ensuring that AI benefits all of society, rather than just a privileged few.\n",
      "\n",
      "Sunak, on the other hand, has emphasized the potential for AI to boost productivity and create new opportunities for workers, while acknowledging the need for education reforms to help people acquire the skills needed to thrive in an increasingly automated world. He has also announced measures to support the development of AI and other emerging technologies in the UK, including funding for research and innovation, and efforts to attract talent and investment from around the world.\n",
      "\n",
      "Overall, while both Sunak and Musk recognize the potential benefits and risks of AI, they have different perspectives on how to approach its development and use. Musk has called for greater regulation and caution, while Sunak has emphasized the need for education reforms and support for innovation."
     ]
    }
   ],
   "source": [
    "import gradio as gr\n",
    "\n",
    "def respond_to_input(text, tag):\n",
    "    filter = models.Filter(\n",
    "        must = [\n",
    "        models.FieldCondition(key=\"metadata.tags\", match=models.MatchValue(value=tag))\n",
    "        ]\n",
    "    )\n",
    "    result = retrieval_chain_with_filter(llm, filter).invoke({\"input\": text})\n",
    "    return result['answer']\n",
    "\n",
    "tags = set()\n",
    "for doc in langchain_documents:\n",
    "    for tag in doc.metadata['tags']:\n",
    "        tags.add(tag)\n",
    "\n",
    "interface = gr.Interface(fn=respond_to_input, inputs=[\"text\", gr.Dropdown(choices=tags)], outputs=\"text\")\n",
    "interface.launch()"
   ]
  }
 ],
 "metadata": {
  "kernelspec": {
   "display_name": "Python 3 (ipykernel)",
   "language": "python",
   "name": "python3"
  },
  "language_info": {
   "codemirror_mode": {
    "name": "ipython",
    "version": 3
   },
   "file_extension": ".py",
   "mimetype": "text/x-python",
   "name": "python",
   "nbconvert_exporter": "python",
   "pygments_lexer": "ipython3",
   "version": "3.11.6"
  },
  "widgets": {
   "application/vnd.jupyter.widget-state+json": {
    "state": {},
    "version_major": 2,
    "version_minor": 0
   }
  }
 },
 "nbformat": 4,
 "nbformat_minor": 5
}
