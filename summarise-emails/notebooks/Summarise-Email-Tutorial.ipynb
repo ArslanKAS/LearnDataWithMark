{
 "cells": [
  {
   "cell_type": "markdown",
   "id": "9c3ab863-e2db-4956-9714-1ff9b8eb9b1c",
   "metadata": {},
   "source": [
    "# Summarising emails\n",
    "In this notebook, we're going to learn how to summarise emails."
   ]
  },
  {
   "cell_type": "code",
   "execution_count": 2,
   "id": "80f4757d-d1c4-4ec9-a1eb-b3435a307774",
   "metadata": {
    "collapsed": true,
    "execution": {
     "iopub.execute_input": "2023-09-19T08:51:11.332256Z",
     "iopub.status.busy": "2023-09-19T08:51:11.328794Z",
     "iopub.status.idle": "2023-09-19T08:51:14.079979Z",
     "shell.execute_reply": "2023-09-19T08:51:14.079601Z",
     "shell.execute_reply.started": "2023-09-19T08:51:11.332047Z"
    },
    "jupyter": {
     "outputs_hidden": true
    },
    "scrolled": true
   },
   "outputs": [
    {
     "name": "stdout",
     "output_type": "stream",
     "text": [
      "Requirement already satisfied: unstructured in /Users/markhneedham/Library/Caches/pypoetry/virtualenvs/embeddings-isUr_Khh-py3.11/lib/python3.11/site-packages (0.10.15)\n",
      "Requirement already satisfied: langchain in /Users/markhneedham/Library/Caches/pypoetry/virtualenvs/embeddings-isUr_Khh-py3.11/lib/python3.11/site-packages (0.0.292)\n",
      "Requirement already satisfied: openai in /Users/markhneedham/Library/Caches/pypoetry/virtualenvs/embeddings-isUr_Khh-py3.11/lib/python3.11/site-packages (0.28.0)\n",
      "Requirement already satisfied: python-dotenv in /Users/markhneedham/Library/Caches/pypoetry/virtualenvs/embeddings-isUr_Khh-py3.11/lib/python3.11/site-packages (1.0.0)\n",
      "Requirement already satisfied: pandas in /Users/markhneedham/Library/Caches/pypoetry/virtualenvs/embeddings-isUr_Khh-py3.11/lib/python3.11/site-packages (2.1.0)\n",
      "Requirement already satisfied: chardet in /Users/markhneedham/Library/Caches/pypoetry/virtualenvs/embeddings-isUr_Khh-py3.11/lib/python3.11/site-packages (from unstructured) (5.2.0)\n",
      "Requirement already satisfied: filetype in /Users/markhneedham/Library/Caches/pypoetry/virtualenvs/embeddings-isUr_Khh-py3.11/lib/python3.11/site-packages (from unstructured) (1.2.0)\n",
      "Requirement already satisfied: python-magic in /Users/markhneedham/Library/Caches/pypoetry/virtualenvs/embeddings-isUr_Khh-py3.11/lib/python3.11/site-packages (from unstructured) (0.4.27)\n",
      "Requirement already satisfied: lxml in /Users/markhneedham/Library/Caches/pypoetry/virtualenvs/embeddings-isUr_Khh-py3.11/lib/python3.11/site-packages (from unstructured) (4.9.3)\n",
      "Requirement already satisfied: nltk in /Users/markhneedham/Library/Caches/pypoetry/virtualenvs/embeddings-isUr_Khh-py3.11/lib/python3.11/site-packages (from unstructured) (3.8.1)\n",
      "Requirement already satisfied: tabulate in /Users/markhneedham/Library/Caches/pypoetry/virtualenvs/embeddings-isUr_Khh-py3.11/lib/python3.11/site-packages (from unstructured) (0.9.0)\n",
      "Requirement already satisfied: requests in /Users/markhneedham/Library/Caches/pypoetry/virtualenvs/embeddings-isUr_Khh-py3.11/lib/python3.11/site-packages (from unstructured) (2.31.0)\n",
      "Requirement already satisfied: beautifulsoup4 in /Users/markhneedham/Library/Caches/pypoetry/virtualenvs/embeddings-isUr_Khh-py3.11/lib/python3.11/site-packages (from unstructured) (4.12.2)\n",
      "Requirement already satisfied: emoji in /Users/markhneedham/Library/Caches/pypoetry/virtualenvs/embeddings-isUr_Khh-py3.11/lib/python3.11/site-packages (from unstructured) (2.8.0)\n",
      "Requirement already satisfied: dataclasses-json in /Users/markhneedham/Library/Caches/pypoetry/virtualenvs/embeddings-isUr_Khh-py3.11/lib/python3.11/site-packages (from unstructured) (0.5.14)\n",
      "Requirement already satisfied: PyYAML>=5.3 in /Users/markhneedham/Library/Caches/pypoetry/virtualenvs/embeddings-isUr_Khh-py3.11/lib/python3.11/site-packages (from langchain) (6.0.1)\n",
      "Requirement already satisfied: SQLAlchemy<3,>=1.4 in /Users/markhneedham/Library/Caches/pypoetry/virtualenvs/embeddings-isUr_Khh-py3.11/lib/python3.11/site-packages (from langchain) (2.0.20)\n",
      "Requirement already satisfied: aiohttp<4.0.0,>=3.8.3 in /Users/markhneedham/Library/Caches/pypoetry/virtualenvs/embeddings-isUr_Khh-py3.11/lib/python3.11/site-packages (from langchain) (3.8.5)\n",
      "Requirement already satisfied: langsmith<0.1.0,>=0.0.21 in /Users/markhneedham/Library/Caches/pypoetry/virtualenvs/embeddings-isUr_Khh-py3.11/lib/python3.11/site-packages (from langchain) (0.0.37)\n",
      "Requirement already satisfied: numexpr<3.0.0,>=2.8.4 in /Users/markhneedham/Library/Caches/pypoetry/virtualenvs/embeddings-isUr_Khh-py3.11/lib/python3.11/site-packages (from langchain) (2.8.6)\n",
      "Requirement already satisfied: numpy<2,>=1 in /Users/markhneedham/Library/Caches/pypoetry/virtualenvs/embeddings-isUr_Khh-py3.11/lib/python3.11/site-packages (from langchain) (1.25.2)\n",
      "Requirement already satisfied: pydantic<3,>=1 in /Users/markhneedham/Library/Caches/pypoetry/virtualenvs/embeddings-isUr_Khh-py3.11/lib/python3.11/site-packages (from langchain) (2.3.0)\n",
      "Requirement already satisfied: tenacity<9.0.0,>=8.1.0 in /Users/markhneedham/Library/Caches/pypoetry/virtualenvs/embeddings-isUr_Khh-py3.11/lib/python3.11/site-packages (from langchain) (8.2.3)\n",
      "Requirement already satisfied: tqdm in /Users/markhneedham/Library/Caches/pypoetry/virtualenvs/embeddings-isUr_Khh-py3.11/lib/python3.11/site-packages (from openai) (4.66.1)\n",
      "Requirement already satisfied: python-dateutil>=2.8.2 in /Users/markhneedham/Library/Caches/pypoetry/virtualenvs/embeddings-isUr_Khh-py3.11/lib/python3.11/site-packages (from pandas) (2.8.2)\n",
      "Requirement already satisfied: pytz>=2020.1 in /Users/markhneedham/Library/Caches/pypoetry/virtualenvs/embeddings-isUr_Khh-py3.11/lib/python3.11/site-packages (from pandas) (2023.3.post1)\n",
      "Requirement already satisfied: tzdata>=2022.1 in /Users/markhneedham/Library/Caches/pypoetry/virtualenvs/embeddings-isUr_Khh-py3.11/lib/python3.11/site-packages (from pandas) (2023.3)\n",
      "Requirement already satisfied: attrs>=17.3.0 in /Users/markhneedham/Library/Caches/pypoetry/virtualenvs/embeddings-isUr_Khh-py3.11/lib/python3.11/site-packages (from aiohttp<4.0.0,>=3.8.3->langchain) (23.1.0)\n",
      "Requirement already satisfied: charset-normalizer<4.0,>=2.0 in /Users/markhneedham/Library/Caches/pypoetry/virtualenvs/embeddings-isUr_Khh-py3.11/lib/python3.11/site-packages (from aiohttp<4.0.0,>=3.8.3->langchain) (3.2.0)\n",
      "Requirement already satisfied: multidict<7.0,>=4.5 in /Users/markhneedham/Library/Caches/pypoetry/virtualenvs/embeddings-isUr_Khh-py3.11/lib/python3.11/site-packages (from aiohttp<4.0.0,>=3.8.3->langchain) (6.0.4)\n",
      "Requirement already satisfied: async-timeout<5.0,>=4.0.0a3 in /Users/markhneedham/Library/Caches/pypoetry/virtualenvs/embeddings-isUr_Khh-py3.11/lib/python3.11/site-packages (from aiohttp<4.0.0,>=3.8.3->langchain) (4.0.3)\n",
      "Requirement already satisfied: yarl<2.0,>=1.0 in /Users/markhneedham/Library/Caches/pypoetry/virtualenvs/embeddings-isUr_Khh-py3.11/lib/python3.11/site-packages (from aiohttp<4.0.0,>=3.8.3->langchain) (1.9.2)\n",
      "Requirement already satisfied: frozenlist>=1.1.1 in /Users/markhneedham/Library/Caches/pypoetry/virtualenvs/embeddings-isUr_Khh-py3.11/lib/python3.11/site-packages (from aiohttp<4.0.0,>=3.8.3->langchain) (1.4.0)\n",
      "Requirement already satisfied: aiosignal>=1.1.2 in /Users/markhneedham/Library/Caches/pypoetry/virtualenvs/embeddings-isUr_Khh-py3.11/lib/python3.11/site-packages (from aiohttp<4.0.0,>=3.8.3->langchain) (1.3.1)\n",
      "Requirement already satisfied: marshmallow<4.0.0,>=3.18.0 in /Users/markhneedham/Library/Caches/pypoetry/virtualenvs/embeddings-isUr_Khh-py3.11/lib/python3.11/site-packages (from dataclasses-json->unstructured) (3.20.1)\n",
      "Requirement already satisfied: typing-inspect<1,>=0.4.0 in /Users/markhneedham/Library/Caches/pypoetry/virtualenvs/embeddings-isUr_Khh-py3.11/lib/python3.11/site-packages (from dataclasses-json->unstructured) (0.9.0)\n",
      "Requirement already satisfied: annotated-types>=0.4.0 in /Users/markhneedham/Library/Caches/pypoetry/virtualenvs/embeddings-isUr_Khh-py3.11/lib/python3.11/site-packages (from pydantic<3,>=1->langchain) (0.5.0)\n",
      "Requirement already satisfied: pydantic-core==2.6.3 in /Users/markhneedham/Library/Caches/pypoetry/virtualenvs/embeddings-isUr_Khh-py3.11/lib/python3.11/site-packages (from pydantic<3,>=1->langchain) (2.6.3)\n",
      "Requirement already satisfied: typing-extensions>=4.6.1 in /Users/markhneedham/Library/Caches/pypoetry/virtualenvs/embeddings-isUr_Khh-py3.11/lib/python3.11/site-packages (from pydantic<3,>=1->langchain) (4.7.1)\n",
      "Requirement already satisfied: six>=1.5 in /Users/markhneedham/Library/Caches/pypoetry/virtualenvs/embeddings-isUr_Khh-py3.11/lib/python3.11/site-packages (from python-dateutil>=2.8.2->pandas) (1.16.0)\n",
      "Requirement already satisfied: idna<4,>=2.5 in /Users/markhneedham/Library/Caches/pypoetry/virtualenvs/embeddings-isUr_Khh-py3.11/lib/python3.11/site-packages (from requests->unstructured) (3.4)\n",
      "Requirement already satisfied: urllib3<3,>=1.21.1 in /Users/markhneedham/Library/Caches/pypoetry/virtualenvs/embeddings-isUr_Khh-py3.11/lib/python3.11/site-packages (from requests->unstructured) (2.0.4)\n",
      "Requirement already satisfied: certifi>=2017.4.17 in /Users/markhneedham/Library/Caches/pypoetry/virtualenvs/embeddings-isUr_Khh-py3.11/lib/python3.11/site-packages (from requests->unstructured) (2023.7.22)\n",
      "Requirement already satisfied: soupsieve>1.2 in /Users/markhneedham/Library/Caches/pypoetry/virtualenvs/embeddings-isUr_Khh-py3.11/lib/python3.11/site-packages (from beautifulsoup4->unstructured) (2.5)\n",
      "Requirement already satisfied: click in /Users/markhneedham/Library/Caches/pypoetry/virtualenvs/embeddings-isUr_Khh-py3.11/lib/python3.11/site-packages (from nltk->unstructured) (8.1.7)\n",
      "Requirement already satisfied: joblib in /Users/markhneedham/Library/Caches/pypoetry/virtualenvs/embeddings-isUr_Khh-py3.11/lib/python3.11/site-packages (from nltk->unstructured) (1.3.2)\n",
      "Requirement already satisfied: regex>=2021.8.3 in /Users/markhneedham/Library/Caches/pypoetry/virtualenvs/embeddings-isUr_Khh-py3.11/lib/python3.11/site-packages (from nltk->unstructured) (2023.8.8)\n",
      "Requirement already satisfied: packaging>=17.0 in /Users/markhneedham/Library/Caches/pypoetry/virtualenvs/embeddings-isUr_Khh-py3.11/lib/python3.11/site-packages (from marshmallow<4.0.0,>=3.18.0->dataclasses-json->unstructured) (23.1)\n",
      "Requirement already satisfied: mypy-extensions>=0.3.0 in /Users/markhneedham/Library/Caches/pypoetry/virtualenvs/embeddings-isUr_Khh-py3.11/lib/python3.11/site-packages (from typing-inspect<1,>=0.4.0->dataclasses-json->unstructured) (1.0.0)\n"
     ]
    }
   ],
   "source": [
    "!pip install unstructured langchain openai python-dotenv pandas"
   ]
  },
  {
   "cell_type": "markdown",
   "id": "a509114a-b9b3-4ab0-95c8-39593ba3ae55",
   "metadata": {},
   "source": [
    "## Loading emails 📧\n",
    "Let's start by loading an email using the [unstructured](https://pypi.org/project/unstructured/) library."
   ]
  },
  {
   "cell_type": "code",
   "execution_count": 187,
   "id": "c0617856-e35c-4c3a-b5c9-74e229a68c20",
   "metadata": {
    "execution": {
     "iopub.execute_input": "2023-09-19T10:55:30.414508Z",
     "iopub.status.busy": "2023-09-19T10:55:30.414172Z",
     "iopub.status.idle": "2023-09-19T10:55:30.428443Z",
     "shell.execute_reply": "2023-09-19T10:55:30.424760Z",
     "shell.execute_reply.started": "2023-09-19T10:55:30.414487Z"
    }
   },
   "outputs": [],
   "source": [
    "from langchain.document_loaders import UnstructuredEmailLoader"
   ]
  },
  {
   "cell_type": "code",
   "execution_count": 188,
   "id": "8f4d9c40-c1d0-4afe-bdd9-430b7c006bee",
   "metadata": {
    "execution": {
     "iopub.execute_input": "2023-09-19T10:55:37.743308Z",
     "iopub.status.busy": "2023-09-19T10:55:37.741952Z",
     "iopub.status.idle": "2023-09-19T10:55:37.764195Z",
     "shell.execute_reply": "2023-09-19T10:55:37.763777Z",
     "shell.execute_reply.started": "2023-09-19T10:55:37.743275Z"
    }
   },
   "outputs": [],
   "source": [
    "loader = UnstructuredEmailLoader(\"emails/1124445847.eml\")\n",
    "duck_email = loader.load()"
   ]
  },
  {
   "cell_type": "code",
   "execution_count": 189,
   "id": "9e58f300-597d-4a67-9c70-3ce219edb211",
   "metadata": {
    "execution": {
     "iopub.execute_input": "2023-09-19T10:55:40.999194Z",
     "iopub.status.busy": "2023-09-19T10:55:40.998679Z",
     "iopub.status.idle": "2023-09-19T10:55:41.009346Z",
     "shell.execute_reply": "2023-09-19T10:55:41.008311Z",
     "shell.execute_reply.started": "2023-09-19T10:55:40.999170Z"
    },
    "scrolled": true
   },
   "outputs": [
    {
     "data": {
      "text/plain": [
       "[Document(page_content=\"Featured Community Member Archie Sarre Wood. fast DuckDB-powered dashboards, DuckDB & Golang, and more.\\n    \\n    \\n\\n\\n  \\n  \\n\\nHey, friend 👋\\n\\nIt’s\\xa0Marcos\\xa0again, aka “DuckDB News Reporter” with another issue of “This Month in the DuckDB Ecosystem for August 2023.\\n\\nThis month proves what we are already seeing in our internal channels: the DuckDB ecosystem is growing stronger with time: more companies like\\xa0Rill Data\\xa0are considering using DuckDB for production environments, more people\\xa0are considering DuckDB for fast data analysis development, and so on.\\n\\nAs always we share here, this is a two-way conversation: if you have any feedback on this newsletter, feel free to send us an email to\\xa0duckdbnews@motherduck.com\\n\\nMarcos\\n\\nFeatured Community Member\\n\\n \\n      \\n         \\n         \\n      \\n     \\n     \\n       Archie Sarre Wood \\n       \\n         Archie Sarre Wood is Head of community at\\xa0 Evidence \\xa0an open source, code-based alternative to drag-and-drop BI tools. He has recently built a great\\xa0 VS Code extension for DuckDB. . It allows you to connect to a local, in-memory or MotherDuck (via service token) DuckDB instance and run queries. It also supports exploring db, tables and columns in the explorer view among other features! \\n Learn more about Archie\\xa0 here .\\n\\nTop Links this Month\\n\\n  \\n\\n1. dlt-dbt-DuckDB-MotherDuck: My super simple and highly customizable approach to the Modern Data Stack in a box\\n\\nRahul Joshi\\xa0talks about Modern Data Stack in a box with dtl, DuckDB, Motherduck and Metabase.\\n\\n \\n  \\n  \\n  \\n\\n2. Exploring StackOverflow with DuckDB on Motherduck\\n\\nMichael Hunger\\xa0proved in this post that DuckDB is powerful enough to analyze a rich dataset like StackOverflow data. And yes: he used Motherduck for it.\\n\\n \\n  \\n\\n3. Fast DuckDB-Powered Dashboards with Rill and MotherDuck\\n\\nKatie Staveley\\xa0shows in this post how the integration between Motherduck and Rill Data works smoothly.\\n\\n \\n  \\n\\n4. DuckDB vs. The Titans: Spark, Elasticsearch, MongoDB — A Comparative Study in Performance and Cost\\n\\nJianzhen Shu\\xa0did a very interesting comparison between these Titans.\\n\\n \\n  \\n  \\n  \\n\\n5. A Comprehensive Guide for Using DuckDB With Go\\n\\nSergey Olontsev\\n\\nprovides an interactive way to combine the power of Golang and DuckDB.\\n\\n \\n  \\n\\n6. Process Hundreds of GBs of Data with Coiled Functions and DuckDB\\n\\nPatrick Höfler\\n\\nshares a very interesting use case for DuckDB: combining it with Coiled Functions.\\n\\n \\n  \\n\\n7. DuckDB vs. MotherDuck\\u200a—\\u200ashould you switch to the cloud version?\\n\\nAnna Geller\\xa0provides an interesting perspective on which version of DuckDB to use: your local DuckDB instance or the managed DuckDB from Motherduck.\\n\\n \\n  \\n  \\n  \\n\\n8. Exploring the Overture Maps places data using DuckDB, sqlite-utils and Datasette\\n\\nSimon Willison\\xa0shares his interesting perspective about working with maps and DuckDB, sqlite-utils, and Datasette.\\n\\n \\n  \\n  \\n  \\n\\n9. Observability and Log Analytics with DuckDB\\n\\nJuan Carlos Méndez plays with the idea of using DuckDB for observability and log analytics.\\n\\n \\n  \\n\\n10. DuckDB Wasm Kit\\n\\nHooks and utilities to make it easier to use duckdb-wasm in React apps. Created by\\n\\nMatt Holden.\\n\\n \\n  \\n  \\n\\nUpcoming Events\\n\\n  \\n\\n1. DataEngBytes 2023\\n\\nAugust 2023\\n\\nDataEngBytes is a unique annual conference happening across four cities in\\xa0Australia.\\n\\nRyan Boyd from MotherDuck and many others data leaders will present awesome talks!\\n\\n \\n  \\n  \\n  \\n\\n2. LONDON LOW KEY DATA MEETUP MOTHERDUCK & LEIT DATA - 19TH SEPTEMBER 2023\\n\\nJoin MotherDuck and LEIT Data for a low-key data meetup right before Big Data London conference! More info about the event\\xa0here. Don't forget\\xa0to register\\xa0to get a free drink!\\n\\n \\n  \\n  \\n  \\n\\n3. MotherDuck Meetup User group - September 2023\\n\\nMotherDuck, in collaboration with\\xa0Dataroots, is pleased to announce our very first in-person user meetup group in Belgium on 25th September to talk about MotherDuck, DuckDB and all the things data.\\n\\nFull agenda and registration\\xa0here.\\n\\n \\n  \\n  \\n\\nUpdate your\\n\\nemail preferences to choose the types of emails you receive.\\n\\nUnsubscribe from all future emails\", metadata={'source': 'emails/1124445847.eml'})]"
      ]
     },
     "execution_count": 189,
     "metadata": {},
     "output_type": "execute_result"
    }
   ],
   "source": [
    "duck_email"
   ]
  },
  {
   "cell_type": "markdown",
   "id": "60e0d24a-4aa1-4fc8-abee-672c31374957",
   "metadata": {},
   "source": [
    "## Configuring the LLM ⚙️\n",
    "Next, we're going to setup OpenAI and Langchain."
   ]
  },
  {
   "cell_type": "code",
   "execution_count": 190,
   "id": "705173bc-8852-4e9e-8445-982f6cf16557",
   "metadata": {
    "execution": {
     "iopub.execute_input": "2023-09-19T10:55:56.700994Z",
     "iopub.status.busy": "2023-09-19T10:55:56.699932Z",
     "iopub.status.idle": "2023-09-19T10:55:56.725248Z",
     "shell.execute_reply": "2023-09-19T10:55:56.724869Z",
     "shell.execute_reply.started": "2023-09-19T10:55:56.700971Z"
    }
   },
   "outputs": [
    {
     "data": {
      "text/plain": [
       "True"
      ]
     },
     "execution_count": 190,
     "metadata": {},
     "output_type": "execute_result"
    }
   ],
   "source": [
    "from langchain.chat_models import ChatOpenAI\n",
    "\n",
    "import dotenv\n",
    "dotenv.load_dotenv()"
   ]
  },
  {
   "cell_type": "code",
   "execution_count": 191,
   "id": "cabb38ab-db07-4daa-b16d-ccbc92bb3f62",
   "metadata": {
    "execution": {
     "iopub.execute_input": "2023-09-19T10:56:03.290969Z",
     "iopub.status.busy": "2023-09-19T10:56:03.290604Z",
     "iopub.status.idle": "2023-09-19T10:56:03.301738Z",
     "shell.execute_reply": "2023-09-19T10:56:03.300387Z",
     "shell.execute_reply.started": "2023-09-19T10:56:03.290945Z"
    }
   },
   "outputs": [],
   "source": [
    "llm_gpt35 = ChatOpenAI(temperature=0, model_name=\"gpt-3.5-turbo-16k\")"
   ]
  },
  {
   "cell_type": "markdown",
   "id": "45ebd3e6-5eaa-47f0-a3f7-329e2d7181ff",
   "metadata": {},
   "source": [
    "## Let the summarisation begin! 📝 "
   ]
  },
  {
   "cell_type": "code",
   "execution_count": 192,
   "id": "e5ff1d44-813c-4d29-9ecd-81a452ecd43b",
   "metadata": {
    "execution": {
     "iopub.execute_input": "2023-09-19T10:56:13.822392Z",
     "iopub.status.busy": "2023-09-19T10:56:13.821988Z",
     "iopub.status.idle": "2023-09-19T10:56:13.836018Z",
     "shell.execute_reply": "2023-09-19T10:56:13.831936Z",
     "shell.execute_reply.started": "2023-09-19T10:56:13.822366Z"
    }
   },
   "outputs": [],
   "source": [
    "from langchain.chains.summarize import load_summarize_chain"
   ]
  },
  {
   "cell_type": "code",
   "execution_count": 193,
   "id": "55b7ad8e-b4d4-46d4-8d96-e6acdf0ed038",
   "metadata": {
    "execution": {
     "iopub.execute_input": "2023-09-19T10:56:20.674888Z",
     "iopub.status.busy": "2023-09-19T10:56:20.674451Z",
     "iopub.status.idle": "2023-09-19T10:56:20.685258Z",
     "shell.execute_reply": "2023-09-19T10:56:20.684040Z",
     "shell.execute_reply.started": "2023-09-19T10:56:20.674866Z"
    }
   },
   "outputs": [],
   "source": [
    "summarize_chain_gpt35 = load_summarize_chain(llm_gpt35, chain_type=\"stuff\")"
   ]
  },
  {
   "cell_type": "code",
   "execution_count": 194,
   "id": "f3be85c1-c6fa-42f1-90ea-39e972181bab",
   "metadata": {
    "execution": {
     "iopub.execute_input": "2023-09-19T10:56:25.796707Z",
     "iopub.status.busy": "2023-09-19T10:56:25.793866Z",
     "iopub.status.idle": "2023-09-19T10:56:29.557122Z",
     "shell.execute_reply": "2023-09-19T10:56:29.554749Z",
     "shell.execute_reply.started": "2023-09-19T10:56:25.796668Z"
    }
   },
   "outputs": [
    {
     "name": "stdout",
     "output_type": "stream",
     "text": [
      "CPU times: user 7.11 ms, sys: 2.58 ms, total: 9.69 ms\n",
      "Wall time: 3.74 s\n"
     ]
    },
    {
     "data": {
      "text/plain": [
       "'The DuckDB ecosystem is growing stronger with more companies considering using DuckDB for production environments and more people using it for fast data analysis development. The newsletter features Archie Sarre Wood, who has built a VS Code extension for DuckDB. Other topics covered include the Modern Data Stack, analyzing StackOverflow data, fast DuckDB-powered dashboards, a comparison study with other databases, using DuckDB with Golang, and upcoming events.'"
      ]
     },
     "execution_count": 194,
     "metadata": {},
     "output_type": "execute_result"
    }
   ],
   "source": [
    "%%time\n",
    "summarize_chain_gpt35.run(duck_email)"
   ]
  },
  {
   "cell_type": "markdown",
   "id": "f7ede0ff-9806-4a43-98cb-b6a0d731c219",
   "metadata": {},
   "source": [
    "## Can we change the way it does the summary? 📇 "
   ]
  },
  {
   "cell_type": "code",
   "execution_count": 195,
   "id": "0e979ea0-0402-4acb-92a6-5907c02182df",
   "metadata": {
    "execution": {
     "iopub.execute_input": "2023-09-19T10:56:41.059197Z",
     "iopub.status.busy": "2023-09-19T10:56:41.058401Z",
     "iopub.status.idle": "2023-09-19T10:56:41.073176Z",
     "shell.execute_reply": "2023-09-19T10:56:41.071477Z",
     "shell.execute_reply.started": "2023-09-19T10:56:41.059153Z"
    }
   },
   "outputs": [],
   "source": [
    "from langchain.prompts import PromptTemplate"
   ]
  },
  {
   "cell_type": "code",
   "execution_count": 197,
   "id": "7d2e2251-ea96-4797-a954-6303acf30a1f",
   "metadata": {
    "execution": {
     "iopub.execute_input": "2023-09-19T10:57:04.023960Z",
     "iopub.status.busy": "2023-09-19T10:57:04.023402Z",
     "iopub.status.idle": "2023-09-19T10:57:04.033786Z",
     "shell.execute_reply": "2023-09-19T10:57:04.031356Z",
     "shell.execute_reply.started": "2023-09-19T10:57:04.023938Z"
    }
   },
   "outputs": [],
   "source": [
    "prompt_template = \"\"\"Pull out a maximum of 5 interesting things as bullet points from the following:\n",
    "\"{text}\"\n",
    "The 5 things are:\"\"\"\n",
    "prompt = PromptTemplate.from_template(prompt_template)\n",
    "\n",
    "chain = load_summarize_chain(llm_gpt35, chain_type=\"stuff\", prompt=prompt)"
   ]
  },
  {
   "cell_type": "code",
   "execution_count": 198,
   "id": "be8057a4-222a-4b23-96ec-9cea737c61eb",
   "metadata": {
    "execution": {
     "iopub.execute_input": "2023-09-19T10:57:08.304034Z",
     "iopub.status.busy": "2023-09-19T10:57:08.303637Z",
     "iopub.status.idle": "2023-09-19T10:57:13.639754Z",
     "shell.execute_reply": "2023-09-19T10:57:13.638318Z",
     "shell.execute_reply.started": "2023-09-19T10:57:08.304011Z"
    }
   },
   "outputs": [
    {
     "name": "stdout",
     "output_type": "stream",
     "text": [
      "1. Archie Sarre Wood is the Head of community at Evidence and has built a VS Code extension for DuckDB.\n",
      "2. DuckDB is powerful enough to analyze rich datasets like StackOverflow data.\n",
      "3. The integration between Motherduck and Rill Data allows for fast DuckDB-powered dashboards.\n",
      "4. DuckDB was compared to Spark, Elasticsearch, and MongoDB in terms of performance and cost.\n",
      "5. There is a comprehensive guide available for using DuckDB with Go.\n"
     ]
    }
   ],
   "source": [
    "print(chain.run(duck_email))"
   ]
  },
  {
   "cell_type": "markdown",
   "id": "02d827fc-010b-43b1-a3c4-0e4e73f7dc03",
   "metadata": {},
   "source": [
    "## How much does it cost? 💰\n",
    "We probably want to know how much it'll cost to create these summaries. "
   ]
  },
  {
   "cell_type": "code",
   "execution_count": 199,
   "id": "cd054141-163d-43d7-a0e5-a20a8f9d6a7f",
   "metadata": {
    "execution": {
     "iopub.execute_input": "2023-09-19T10:57:27.686271Z",
     "iopub.status.busy": "2023-09-19T10:57:27.685800Z",
     "iopub.status.idle": "2023-09-19T10:57:27.698437Z",
     "shell.execute_reply": "2023-09-19T10:57:27.697568Z",
     "shell.execute_reply.started": "2023-09-19T10:57:27.686248Z"
    }
   },
   "outputs": [],
   "source": [
    "from langchain.callbacks import get_openai_callback"
   ]
  },
  {
   "cell_type": "code",
   "execution_count": 200,
   "id": "18be6360-da66-4c4c-a55e-4005c3612912",
   "metadata": {
    "execution": {
     "iopub.execute_input": "2023-09-19T10:57:34.465357Z",
     "iopub.status.busy": "2023-09-19T10:57:34.465029Z",
     "iopub.status.idle": "2023-09-19T10:57:39.643662Z",
     "shell.execute_reply": "2023-09-19T10:57:39.641401Z",
     "shell.execute_reply.started": "2023-09-19T10:57:34.465324Z"
    }
   },
   "outputs": [
    {
     "name": "stdout",
     "output_type": "stream",
     "text": [
      "1. Archie Sarre Wood is the Head of community at Evidence and has built a VS Code extension for DuckDB.\n",
      "2. DuckDB is powerful enough to analyze rich datasets like StackOverflow data.\n",
      "3. The integration between Motherduck and Rill Data allows for fast DuckDB-powered dashboards.\n",
      "4. DuckDB was compared to Spark, Elasticsearch, and MongoDB in terms of performance and cost.\n",
      "5. There is a comprehensive guide available for using DuckDB with Go.\n",
      "Tokens Used: 1074\n",
      "\tPrompt Tokens: 979\n",
      "\tCompletion Tokens: 95\n",
      "Successful Requests: 1\n",
      "Total Cost (USD): $0.003317\n"
     ]
    }
   ],
   "source": [
    "with get_openai_callback() as cb:\n",
    "  print(chain.run(duck_email))  \n",
    "print(cb)"
   ]
  },
  {
   "cell_type": "code",
   "execution_count": 201,
   "id": "23bb2c7c-bdc4-4b53-9542-900e87dab65b",
   "metadata": {
    "execution": {
     "iopub.execute_input": "2023-09-19T10:58:06.103121Z",
     "iopub.status.busy": "2023-09-19T10:58:06.102626Z",
     "iopub.status.idle": "2023-09-19T10:58:06.110643Z",
     "shell.execute_reply": "2023-09-19T10:58:06.109542Z",
     "shell.execute_reply.started": "2023-09-19T10:58:06.103100Z"
    }
   },
   "outputs": [],
   "source": [
    "import time\n",
    "\n",
    "def run_with_cost(chain, data):\n",
    "  start = time.time()\n",
    "  with get_openai_callback() as cb:\n",
    "    summary = chain.run(data)\n",
    "    end = time.time()\n",
    "\n",
    "    return {\n",
    "    \"model\": chain.llm_chain.llm.model_name,\n",
    "    \"summary\": summary,\n",
    "    \"cost\": cb.total_cost,\n",
    "    \"tokens\": cb.total_tokens,\n",
    "    \"promptTokens\": cb.prompt_tokens,\n",
    "    \"completionTokens\": cb.completion_tokens,\n",
    "    \"timeTaken\": end - start\n",
    "    }"
   ]
  },
  {
   "cell_type": "code",
   "execution_count": 202,
   "id": "84a34445-2c57-4503-9b9a-443804cd2af0",
   "metadata": {
    "execution": {
     "iopub.execute_input": "2023-09-19T10:58:13.781792Z",
     "iopub.status.busy": "2023-09-19T10:58:13.781218Z",
     "iopub.status.idle": "2023-09-19T10:58:18.531216Z",
     "shell.execute_reply": "2023-09-19T10:58:18.527349Z",
     "shell.execute_reply.started": "2023-09-19T10:58:13.781768Z"
    }
   },
   "outputs": [
    {
     "data": {
      "text/plain": [
       "{'model': 'gpt-3.5-turbo-16k',\n",
       " 'summary': '1. Archie Sarre Wood is the Head of community at Evidence and has built a VS Code extension for DuckDB.\\n2. DuckDB is powerful enough to analyze rich datasets like StackOverflow data.\\n3. The integration between Motherduck and Rill Data allows for fast DuckDB-powered dashboards.\\n4. DuckDB was compared to Spark, Elasticsearch, and MongoDB in terms of performance and cost.\\n5. There is a comprehensive guide available for using DuckDB with Go.',\n",
       " 'cost': 0.003317,\n",
       " 'tokens': 1074,\n",
       " 'promptTokens': 979,\n",
       " 'completionTokens': 95,\n",
       " 'timeTaken': 4.7362470626831055}"
      ]
     },
     "execution_count": 202,
     "metadata": {},
     "output_type": "execute_result"
    }
   ],
   "source": [
    "result = run_with_cost(chain, duck_email)\n",
    "result"
   ]
  },
  {
   "cell_type": "markdown",
   "id": "ddc11ae7-6b52-4f29-91cf-0f03b0880a92",
   "metadata": {},
   "source": [
    "## Comparing different models 🅰️🆚🅱️\n",
    "Let's have a look at how summaries vary with different models."
   ]
  },
  {
   "cell_type": "code",
   "execution_count": 203,
   "id": "ead483d8-3b83-4caa-bd95-0175161740e9",
   "metadata": {
    "execution": {
     "iopub.execute_input": "2023-09-19T10:58:53.027248Z",
     "iopub.status.busy": "2023-09-19T10:58:53.025818Z",
     "iopub.status.idle": "2023-09-19T10:59:15.291233Z",
     "shell.execute_reply": "2023-09-19T10:59:15.290923Z",
     "shell.execute_reply.started": "2023-09-19T10:58:53.027188Z"
    }
   },
   "outputs": [
    {
     "name": "stdout",
     "output_type": "stream",
     "text": [
      "Running gpt-3.5-turbo-16k\n",
      "Finished in  4.3329689502716064 seconds\n",
      "Running gpt-3.5-turbo\n",
      "Finished in  4.607836961746216 seconds\n",
      "Running gpt-4\n",
      "Finished in  13.31515908241272 seconds\n"
     ]
    }
   ],
   "source": [
    "models = [\"gpt-3.5-turbo-16k\", \"gpt-3.5-turbo\", \"gpt-4\"]\n",
    "results = []\n",
    "for model_name in models:\n",
    "  print(f\"Running {model_name}\")\n",
    "  llm = ChatOpenAI(temperature=0, model_name=model_name)\n",
    "  summary_chain = load_summarize_chain(llm, chain_type=\"stuff\", prompt=prompt)\n",
    "  result = run_with_cost(summary_chain, duck_email)\n",
    "  results.append(result)\n",
    "  print(f\"Finished in  {result['timeTaken']} seconds\")"
   ]
  },
  {
   "cell_type": "code",
   "execution_count": 204,
   "id": "b1793eec-44bb-4964-83b0-bc570e15ffee",
   "metadata": {
    "execution": {
     "iopub.execute_input": "2023-09-19T10:59:23.692078Z",
     "iopub.status.busy": "2023-09-19T10:59:23.691605Z",
     "iopub.status.idle": "2023-09-19T10:59:23.698210Z",
     "shell.execute_reply": "2023-09-19T10:59:23.697381Z",
     "shell.execute_reply.started": "2023-09-19T10:59:23.691943Z"
    }
   },
   "outputs": [],
   "source": [
    "import pandas as pd\n",
    "from style_pandas import style_dataframe"
   ]
  },
  {
   "cell_type": "code",
   "execution_count": 205,
   "id": "ad68488a-b208-4804-a55b-dbec80e7a172",
   "metadata": {
    "execution": {
     "iopub.execute_input": "2023-09-19T10:59:30.853829Z",
     "iopub.status.busy": "2023-09-19T10:59:30.851979Z",
     "iopub.status.idle": "2023-09-19T10:59:30.873973Z",
     "shell.execute_reply": "2023-09-19T10:59:30.873451Z",
     "shell.execute_reply.started": "2023-09-19T10:59:30.853779Z"
    }
   },
   "outputs": [
    {
     "data": {
      "text/html": [
       "<style type=\"text/css\">\n",
       "#T_e296e td {\n",
       "  max-width: 800px;\n",
       "  white-space: normal;\n",
       "  word-wrap: break-word;\n",
       "  text-align: left;\n",
       "}\n",
       "#T_e296e th {\n",
       "  text-align: left;\n",
       "}\n",
       "</style>\n",
       "<table id=\"T_e296e\">\n",
       "  <thead>\n",
       "    <tr>\n",
       "      <th class=\"blank level0\" >&nbsp;</th>\n",
       "      <th id=\"T_e296e_level0_col0\" class=\"col_heading level0 col0\" >model</th>\n",
       "      <th id=\"T_e296e_level0_col1\" class=\"col_heading level0 col1\" >summary</th>\n",
       "      <th id=\"T_e296e_level0_col2\" class=\"col_heading level0 col2\" >cost</th>\n",
       "      <th id=\"T_e296e_level0_col3\" class=\"col_heading level0 col3\" >tokens</th>\n",
       "      <th id=\"T_e296e_level0_col4\" class=\"col_heading level0 col4\" >promptTokens</th>\n",
       "      <th id=\"T_e296e_level0_col5\" class=\"col_heading level0 col5\" >completionTokens</th>\n",
       "      <th id=\"T_e296e_level0_col6\" class=\"col_heading level0 col6\" >timeTaken</th>\n",
       "    </tr>\n",
       "  </thead>\n",
       "  <tbody>\n",
       "    <tr>\n",
       "      <th id=\"T_e296e_level0_row0\" class=\"row_heading level0 row0\" ></th>\n",
       "      <td id=\"T_e296e_row0_col0\" class=\"data row0 col0\" >gpt-3.5-turbo-16k</td>\n",
       "      <td id=\"T_e296e_row0_col1\" class=\"data row0 col1\" >1. Archie Sarre Wood is the Head of community at Evidence and has built a VS Code extension for DuckDB.<br>2. DuckDB is powerful enough to analyze rich datasets like StackOverflow data.<br>3. The integration between Motherduck and Rill Data allows for fast DuckDB-powered dashboards.<br>4. DuckDB was compared to Spark, Elasticsearch, and MongoDB in terms of performance and cost.<br>5. There is a comprehensive guide available for using DuckDB with Go.</td>\n",
       "      <td id=\"T_e296e_row0_col2\" class=\"data row0 col2\" >$0.003</td>\n",
       "      <td id=\"T_e296e_row0_col3\" class=\"data row0 col3\" >1074</td>\n",
       "      <td id=\"T_e296e_row0_col4\" class=\"data row0 col4\" >979</td>\n",
       "      <td id=\"T_e296e_row0_col5\" class=\"data row0 col5\" >95</td>\n",
       "      <td id=\"T_e296e_row0_col6\" class=\"data row0 col6\" >4.332969</td>\n",
       "    </tr>\n",
       "    <tr>\n",
       "      <th id=\"T_e296e_level0_row1\" class=\"row_heading level0 row1\" ></th>\n",
       "      <td id=\"T_e296e_row1_col0\" class=\"data row1 col0\" >gpt-3.5-turbo</td>\n",
       "      <td id=\"T_e296e_row1_col1\" class=\"data row1 col1\" >1. Archie Sarre Wood is the Head of community at Evidence and has built a VS Code extension for DuckDB.<br>2. DuckDB is powerful enough to analyze rich datasets like StackOverflow data.<br>3. The integration between Motherduck and Rill Data allows for fast DuckDB-powered dashboards.<br>4. DuckDB was compared to Spark, Elasticsearch, and MongoDB in terms of performance and cost.<br>5. There is a comprehensive guide available for using DuckDB with Go.</td>\n",
       "      <td id=\"T_e296e_row1_col2\" class=\"data row1 col2\" >$0.002</td>\n",
       "      <td id=\"T_e296e_row1_col3\" class=\"data row1 col3\" >1074</td>\n",
       "      <td id=\"T_e296e_row1_col4\" class=\"data row1 col4\" >979</td>\n",
       "      <td id=\"T_e296e_row1_col5\" class=\"data row1 col5\" >95</td>\n",
       "      <td id=\"T_e296e_row1_col6\" class=\"data row1 col6\" >4.607837</td>\n",
       "    </tr>\n",
       "    <tr>\n",
       "      <th id=\"T_e296e_level0_row2\" class=\"row_heading level0 row2\" ></th>\n",
       "      <td id=\"T_e296e_row2_col0\" class=\"data row2 col0\" >gpt-4</td>\n",
       "      <td id=\"T_e296e_row2_col1\" class=\"data row2 col1\" >- The DuckDB ecosystem is growing stronger with more companies like Rill Data considering using DuckDB for production environments and more people considering DuckDB for fast data analysis development.<br>- Archie Sarre Wood, Head of community at Evidence, has built a VS Code extension for DuckDB that allows users to connect to a local, in-memory or MotherDuck DuckDB instance and run queries.<br>- Rahul Joshi talks about a super simple and highly customizable approach to the Modern Data Stack in a box with dtl, DuckDB, Motherduck and Metabase.<br>- Katie Staveley shows how the integration between Motherduck and Rill Data works smoothly in her post about fast DuckDB-powered dashboards.<br>- Sergey Olontsev provides an interactive guide for using DuckDB with Golang, demonstrating how to combine the power of the two.</td>\n",
       "      <td id=\"T_e296e_row2_col2\" class=\"data row2 col2\" >$0.040</td>\n",
       "      <td id=\"T_e296e_row2_col3\" class=\"data row2 col3\" >1148</td>\n",
       "      <td id=\"T_e296e_row2_col4\" class=\"data row2 col4\" >979</td>\n",
       "      <td id=\"T_e296e_row2_col5\" class=\"data row2 col5\" >169</td>\n",
       "      <td id=\"T_e296e_row2_col6\" class=\"data row2 col6\" >13.315159</td>\n",
       "    </tr>\n",
       "  </tbody>\n",
       "</table>\n"
      ],
      "text/plain": [
       "<IPython.core.display.HTML object>"
      ]
     },
     "execution_count": 205,
     "metadata": {},
     "output_type": "execute_result"
    }
   ],
   "source": [
    "style_dataframe(pd.DataFrame(results))"
   ]
  }
 ],
 "metadata": {
  "kernelspec": {
   "display_name": "Python 3 (ipykernel)",
   "language": "python",
   "name": "python3"
  },
  "language_info": {
   "codemirror_mode": {
    "name": "ipython",
    "version": 3
   },
   "file_extension": ".py",
   "mimetype": "text/x-python",
   "name": "python",
   "nbconvert_exporter": "python",
   "pygments_lexer": "ipython3",
   "version": "3.11.4"
  },
  "widgets": {
   "application/vnd.jupyter.widget-state+json": {
    "state": {},
    "version_major": 2,
    "version_minor": 0
   }
  }
 },
 "nbformat": 4,
 "nbformat_minor": 5
}
