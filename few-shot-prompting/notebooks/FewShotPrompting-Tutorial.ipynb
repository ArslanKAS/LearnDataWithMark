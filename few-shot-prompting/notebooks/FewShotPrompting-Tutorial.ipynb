{
 "cells": [
  {
   "cell_type": "markdown",
   "id": "68fc1c35-656e-4ec8-a7d3-b7d4a2196ba3",
   "metadata": {},
   "source": [
    "# Few Shot Prompting\n",
    "In this notebook, we're going to see if we can get an LLM to determine if a sentence is a question or not with help from few-shot prompting."
   ]
  },
  {
   "cell_type": "code",
   "execution_count": 196,
   "id": "5e2f09e0-7c21-43e8-a941-bda591c06fd6",
   "metadata": {
    "collapsed": true,
    "execution": {
     "iopub.execute_input": "2023-10-11T09:11:50.569030Z",
     "iopub.status.busy": "2023-10-11T09:11:50.568695Z",
     "iopub.status.idle": "2023-10-11T09:11:57.738791Z",
     "shell.execute_reply": "2023-10-11T09:11:57.738043Z",
     "shell.execute_reply.started": "2023-10-11T09:11:50.568988Z"
    },
    "jupyter": {
     "outputs_hidden": true
    }
   },
   "outputs": [
    {
     "name": "stdout",
     "output_type": "stream",
     "text": [
      "Requirement already satisfied: llama_index in /Users/markhneedham/Library/Caches/pypoetry/virtualenvs/few-shot-prompting-fCAJ70lp-py3.11/lib/python3.11/site-packages (0.8.41)\n",
      "Requirement already satisfied: openai in /Users/markhneedham/Library/Caches/pypoetry/virtualenvs/few-shot-prompting-fCAJ70lp-py3.11/lib/python3.11/site-packages (0.28.1)\n",
      "Requirement already satisfied: python-dotenv in /Users/markhneedham/Library/Caches/pypoetry/virtualenvs/few-shot-prompting-fCAJ70lp-py3.11/lib/python3.11/site-packages (1.0.0)\n",
      "Requirement already satisfied: termcolor in /Users/markhneedham/Library/Caches/pypoetry/virtualenvs/few-shot-prompting-fCAJ70lp-py3.11/lib/python3.11/site-packages (2.3.0)\n",
      "Requirement already satisfied: mpu in /Users/markhneedham/Library/Caches/pypoetry/virtualenvs/few-shot-prompting-fCAJ70lp-py3.11/lib/python3.11/site-packages (0.23.1)\n",
      "Requirement already satisfied: scikit-learn in /Users/markhneedham/Library/Caches/pypoetry/virtualenvs/few-shot-prompting-fCAJ70lp-py3.11/lib/python3.11/site-packages (1.3.1)\n",
      "Collecting seaborn\n",
      "  Obtaining dependency information for seaborn from https://files.pythonhosted.org/packages/7b/e5/83fcd7e9db036c179e0352bfcd20f81d728197a16f883e7b90307a88e65e/seaborn-0.13.0-py3-none-any.whl.metadata\n",
      "  Downloading seaborn-0.13.0-py3-none-any.whl.metadata (5.3 kB)\n",
      "Requirement already satisfied: tiktoken in /Users/markhneedham/Library/Caches/pypoetry/virtualenvs/few-shot-prompting-fCAJ70lp-py3.11/lib/python3.11/site-packages (from llama_index) (0.5.1)\n",
      "Requirement already satisfied: dataclasses-json in /Users/markhneedham/Library/Caches/pypoetry/virtualenvs/few-shot-prompting-fCAJ70lp-py3.11/lib/python3.11/site-packages (from llama_index) (0.6.1)\n",
      "Requirement already satisfied: langchain>=0.0.303 in /Users/markhneedham/Library/Caches/pypoetry/virtualenvs/few-shot-prompting-fCAJ70lp-py3.11/lib/python3.11/site-packages (from llama_index) (0.0.311)\n",
      "Requirement already satisfied: sqlalchemy>=2.0.15 in /Users/markhneedham/Library/Caches/pypoetry/virtualenvs/few-shot-prompting-fCAJ70lp-py3.11/lib/python3.11/site-packages (from llama_index) (2.0.21)\n",
      "Requirement already satisfied: numpy in /Users/markhneedham/Library/Caches/pypoetry/virtualenvs/few-shot-prompting-fCAJ70lp-py3.11/lib/python3.11/site-packages (from llama_index) (1.25.2)\n",
      "Requirement already satisfied: tenacity<9.0.0,>=8.2.0 in /Users/markhneedham/Library/Caches/pypoetry/virtualenvs/few-shot-prompting-fCAJ70lp-py3.11/lib/python3.11/site-packages (from llama_index) (8.2.3)\n",
      "Requirement already satisfied: pandas in /Users/markhneedham/Library/Caches/pypoetry/virtualenvs/few-shot-prompting-fCAJ70lp-py3.11/lib/python3.11/site-packages (from llama_index) (2.1.1)\n",
      "Requirement already satisfied: urllib3<2 in /Users/markhneedham/Library/Caches/pypoetry/virtualenvs/few-shot-prompting-fCAJ70lp-py3.11/lib/python3.11/site-packages (from llama_index) (1.26.17)\n",
      "Requirement already satisfied: fsspec>=2023.5.0 in /Users/markhneedham/Library/Caches/pypoetry/virtualenvs/few-shot-prompting-fCAJ70lp-py3.11/lib/python3.11/site-packages (from llama_index) (2023.9.2)\n",
      "Requirement already satisfied: typing-inspect>=0.8.0 in /Users/markhneedham/Library/Caches/pypoetry/virtualenvs/few-shot-prompting-fCAJ70lp-py3.11/lib/python3.11/site-packages (from llama_index) (0.9.0)\n",
      "Requirement already satisfied: typing-extensions>=4.5.0 in /Users/markhneedham/Library/Caches/pypoetry/virtualenvs/few-shot-prompting-fCAJ70lp-py3.11/lib/python3.11/site-packages (from llama_index) (4.8.0)\n",
      "Requirement already satisfied: beautifulsoup4 in /Users/markhneedham/Library/Caches/pypoetry/virtualenvs/few-shot-prompting-fCAJ70lp-py3.11/lib/python3.11/site-packages (from llama_index) (4.12.2)\n",
      "Requirement already satisfied: nest-asyncio in /Users/markhneedham/Library/Caches/pypoetry/virtualenvs/few-shot-prompting-fCAJ70lp-py3.11/lib/python3.11/site-packages (from llama_index) (1.5.8)\n",
      "Requirement already satisfied: nltk in /Users/markhneedham/Library/Caches/pypoetry/virtualenvs/few-shot-prompting-fCAJ70lp-py3.11/lib/python3.11/site-packages (from llama_index) (3.8.1)\n",
      "Requirement already satisfied: requests>=2.20 in /Users/markhneedham/Library/Caches/pypoetry/virtualenvs/few-shot-prompting-fCAJ70lp-py3.11/lib/python3.11/site-packages (from openai) (2.31.0)\n",
      "Requirement already satisfied: tqdm in /Users/markhneedham/Library/Caches/pypoetry/virtualenvs/few-shot-prompting-fCAJ70lp-py3.11/lib/python3.11/site-packages (from openai) (4.66.1)\n",
      "Requirement already satisfied: aiohttp in /Users/markhneedham/Library/Caches/pypoetry/virtualenvs/few-shot-prompting-fCAJ70lp-py3.11/lib/python3.11/site-packages (from openai) (3.8.6)\n",
      "Requirement already satisfied: scipy>=1.5.0 in /Users/markhneedham/Library/Caches/pypoetry/virtualenvs/few-shot-prompting-fCAJ70lp-py3.11/lib/python3.11/site-packages (from scikit-learn) (1.11.3)\n",
      "Requirement already satisfied: joblib>=1.1.1 in /Users/markhneedham/Library/Caches/pypoetry/virtualenvs/few-shot-prompting-fCAJ70lp-py3.11/lib/python3.11/site-packages (from scikit-learn) (1.3.2)\n",
      "Requirement already satisfied: threadpoolctl>=2.0.0 in /Users/markhneedham/Library/Caches/pypoetry/virtualenvs/few-shot-prompting-fCAJ70lp-py3.11/lib/python3.11/site-packages (from scikit-learn) (3.2.0)\n",
      "Collecting matplotlib!=3.6.1,>=3.3 (from seaborn)\n",
      "  Obtaining dependency information for matplotlib!=3.6.1,>=3.3 from https://files.pythonhosted.org/packages/af/f3/fb27b3b902fc759bbca3f9d0336c48069c3022e57552c4b0095d997c7ea8/matplotlib-3.8.0-cp311-cp311-macosx_11_0_arm64.whl.metadata\n",
      "  Downloading matplotlib-3.8.0-cp311-cp311-macosx_11_0_arm64.whl.metadata (5.8 kB)\n",
      "Requirement already satisfied: PyYAML>=5.3 in /Users/markhneedham/Library/Caches/pypoetry/virtualenvs/few-shot-prompting-fCAJ70lp-py3.11/lib/python3.11/site-packages (from langchain>=0.0.303->llama_index) (6.0.1)\n",
      "Requirement already satisfied: anyio<4.0 in /Users/markhneedham/Library/Caches/pypoetry/virtualenvs/few-shot-prompting-fCAJ70lp-py3.11/lib/python3.11/site-packages (from langchain>=0.0.303->llama_index) (3.7.1)\n",
      "Requirement already satisfied: jsonpatch<2.0,>=1.33 in /Users/markhneedham/Library/Caches/pypoetry/virtualenvs/few-shot-prompting-fCAJ70lp-py3.11/lib/python3.11/site-packages (from langchain>=0.0.303->llama_index) (1.33)\n",
      "Requirement already satisfied: langsmith<0.1.0,>=0.0.43 in /Users/markhneedham/Library/Caches/pypoetry/virtualenvs/few-shot-prompting-fCAJ70lp-py3.11/lib/python3.11/site-packages (from langchain>=0.0.303->llama_index) (0.0.43)\n",
      "Requirement already satisfied: pydantic<3,>=1 in /Users/markhneedham/Library/Caches/pypoetry/virtualenvs/few-shot-prompting-fCAJ70lp-py3.11/lib/python3.11/site-packages (from langchain>=0.0.303->llama_index) (2.4.2)\n",
      "Requirement already satisfied: attrs>=17.3.0 in /Users/markhneedham/Library/Caches/pypoetry/virtualenvs/few-shot-prompting-fCAJ70lp-py3.11/lib/python3.11/site-packages (from aiohttp->openai) (23.1.0)\n",
      "Requirement already satisfied: charset-normalizer<4.0,>=2.0 in /Users/markhneedham/Library/Caches/pypoetry/virtualenvs/few-shot-prompting-fCAJ70lp-py3.11/lib/python3.11/site-packages (from aiohttp->openai) (3.3.0)\n",
      "Requirement already satisfied: multidict<7.0,>=4.5 in /Users/markhneedham/Library/Caches/pypoetry/virtualenvs/few-shot-prompting-fCAJ70lp-py3.11/lib/python3.11/site-packages (from aiohttp->openai) (6.0.4)\n",
      "Requirement already satisfied: async-timeout<5.0,>=4.0.0a3 in /Users/markhneedham/Library/Caches/pypoetry/virtualenvs/few-shot-prompting-fCAJ70lp-py3.11/lib/python3.11/site-packages (from aiohttp->openai) (4.0.3)\n",
      "Requirement already satisfied: yarl<2.0,>=1.0 in /Users/markhneedham/Library/Caches/pypoetry/virtualenvs/few-shot-prompting-fCAJ70lp-py3.11/lib/python3.11/site-packages (from aiohttp->openai) (1.9.2)\n",
      "Requirement already satisfied: frozenlist>=1.1.1 in /Users/markhneedham/Library/Caches/pypoetry/virtualenvs/few-shot-prompting-fCAJ70lp-py3.11/lib/python3.11/site-packages (from aiohttp->openai) (1.4.0)\n",
      "Requirement already satisfied: aiosignal>=1.1.2 in /Users/markhneedham/Library/Caches/pypoetry/virtualenvs/few-shot-prompting-fCAJ70lp-py3.11/lib/python3.11/site-packages (from aiohttp->openai) (1.3.1)\n",
      "Requirement already satisfied: marshmallow<4.0.0,>=3.18.0 in /Users/markhneedham/Library/Caches/pypoetry/virtualenvs/few-shot-prompting-fCAJ70lp-py3.11/lib/python3.11/site-packages (from dataclasses-json->llama_index) (3.20.1)\n",
      "Collecting contourpy>=1.0.1 (from matplotlib!=3.6.1,>=3.3->seaborn)\n",
      "  Obtaining dependency information for contourpy>=1.0.1 from https://files.pythonhosted.org/packages/2c/8e/656f8e7cd316aa68d9824744773e90dbd71f847429d10c82001e927480a2/contourpy-1.1.1-cp311-cp311-macosx_11_0_arm64.whl.metadata\n",
      "  Downloading contourpy-1.1.1-cp311-cp311-macosx_11_0_arm64.whl.metadata (5.9 kB)\n",
      "Collecting cycler>=0.10 (from matplotlib!=3.6.1,>=3.3->seaborn)\n",
      "  Obtaining dependency information for cycler>=0.10 from https://files.pythonhosted.org/packages/e7/05/c19819d5e3d95294a6f5947fb9b9629efb316b96de511b418c53d245aae6/cycler-0.12.1-py3-none-any.whl.metadata\n",
      "  Downloading cycler-0.12.1-py3-none-any.whl.metadata (3.8 kB)\n",
      "Collecting fonttools>=4.22.0 (from matplotlib!=3.6.1,>=3.3->seaborn)\n",
      "  Obtaining dependency information for fonttools>=4.22.0 from https://files.pythonhosted.org/packages/49/ba/ebe5599acf47371393191091ae95fca08eb6f12fd151b52c8dbebb990d25/fonttools-4.43.1-cp311-cp311-macosx_10_9_universal2.whl.metadata\n",
      "  Downloading fonttools-4.43.1-cp311-cp311-macosx_10_9_universal2.whl.metadata (152 kB)\n",
      "\u001b[2K     \u001b[38;2;114;156;31m━━━━━━━━━━━━━━━━━━━━━━━━━━━━━━━━━━━━━━━\u001b[0m \u001b[32m152.4/152.4 kB\u001b[0m \u001b[31m1.7 MB/s\u001b[0m eta \u001b[36m0:00:00\u001b[0m[31m2.1 MB/s\u001b[0m eta \u001b[36m0:00:01\u001b[0m\n",
      "\u001b[?25hCollecting kiwisolver>=1.0.1 (from matplotlib!=3.6.1,>=3.3->seaborn)\n",
      "  Obtaining dependency information for kiwisolver>=1.0.1 from https://files.pythonhosted.org/packages/4a/fe/23d7fa78f7c66086d196406beb1fb2eaf629dd7adc01c3453033303d17fa/kiwisolver-1.4.5-cp311-cp311-macosx_11_0_arm64.whl.metadata\n",
      "  Downloading kiwisolver-1.4.5-cp311-cp311-macosx_11_0_arm64.whl.metadata (6.4 kB)\n",
      "Requirement already satisfied: packaging>=20.0 in /Users/markhneedham/Library/Caches/pypoetry/virtualenvs/few-shot-prompting-fCAJ70lp-py3.11/lib/python3.11/site-packages (from matplotlib!=3.6.1,>=3.3->seaborn) (23.2)\n",
      "Collecting pillow>=6.2.0 (from matplotlib!=3.6.1,>=3.3->seaborn)\n",
      "  Obtaining dependency information for pillow>=6.2.0 from https://files.pythonhosted.org/packages/e4/93/9226cc667ed8785333969c03deb2a36af2f3757284d3a2cf2ebd70331c32/Pillow-10.0.1-cp311-cp311-macosx_11_0_arm64.whl.metadata\n",
      "  Using cached Pillow-10.0.1-cp311-cp311-macosx_11_0_arm64.whl.metadata (9.5 kB)\n",
      "Collecting pyparsing>=2.3.1 (from matplotlib!=3.6.1,>=3.3->seaborn)\n",
      "  Obtaining dependency information for pyparsing>=2.3.1 from https://files.pythonhosted.org/packages/39/92/8486ede85fcc088f1b3dba4ce92dd29d126fd96b0008ea213167940a2475/pyparsing-3.1.1-py3-none-any.whl.metadata\n",
      "  Downloading pyparsing-3.1.1-py3-none-any.whl.metadata (5.1 kB)\n",
      "Requirement already satisfied: python-dateutil>=2.7 in /Users/markhneedham/Library/Caches/pypoetry/virtualenvs/few-shot-prompting-fCAJ70lp-py3.11/lib/python3.11/site-packages (from matplotlib!=3.6.1,>=3.3->seaborn) (2.8.2)\n",
      "Requirement already satisfied: pytz>=2020.1 in /Users/markhneedham/Library/Caches/pypoetry/virtualenvs/few-shot-prompting-fCAJ70lp-py3.11/lib/python3.11/site-packages (from pandas->llama_index) (2023.3.post1)\n",
      "Requirement already satisfied: tzdata>=2022.1 in /Users/markhneedham/Library/Caches/pypoetry/virtualenvs/few-shot-prompting-fCAJ70lp-py3.11/lib/python3.11/site-packages (from pandas->llama_index) (2023.3)\n",
      "Requirement already satisfied: idna<4,>=2.5 in /Users/markhneedham/Library/Caches/pypoetry/virtualenvs/few-shot-prompting-fCAJ70lp-py3.11/lib/python3.11/site-packages (from requests>=2.20->openai) (3.4)\n",
      "Requirement already satisfied: certifi>=2017.4.17 in /Users/markhneedham/Library/Caches/pypoetry/virtualenvs/few-shot-prompting-fCAJ70lp-py3.11/lib/python3.11/site-packages (from requests>=2.20->openai) (2023.7.22)\n",
      "Requirement already satisfied: mypy-extensions>=0.3.0 in /Users/markhneedham/Library/Caches/pypoetry/virtualenvs/few-shot-prompting-fCAJ70lp-py3.11/lib/python3.11/site-packages (from typing-inspect>=0.8.0->llama_index) (1.0.0)\n",
      "Requirement already satisfied: soupsieve>1.2 in /Users/markhneedham/Library/Caches/pypoetry/virtualenvs/few-shot-prompting-fCAJ70lp-py3.11/lib/python3.11/site-packages (from beautifulsoup4->llama_index) (2.5)\n",
      "Requirement already satisfied: click in /Users/markhneedham/Library/Caches/pypoetry/virtualenvs/few-shot-prompting-fCAJ70lp-py3.11/lib/python3.11/site-packages (from nltk->llama_index) (8.1.7)\n",
      "Requirement already satisfied: regex>=2021.8.3 in /Users/markhneedham/Library/Caches/pypoetry/virtualenvs/few-shot-prompting-fCAJ70lp-py3.11/lib/python3.11/site-packages (from nltk->llama_index) (2023.10.3)\n",
      "Requirement already satisfied: sniffio>=1.1 in /Users/markhneedham/Library/Caches/pypoetry/virtualenvs/few-shot-prompting-fCAJ70lp-py3.11/lib/python3.11/site-packages (from anyio<4.0->langchain>=0.0.303->llama_index) (1.3.0)\n",
      "Requirement already satisfied: jsonpointer>=1.9 in /Users/markhneedham/Library/Caches/pypoetry/virtualenvs/few-shot-prompting-fCAJ70lp-py3.11/lib/python3.11/site-packages (from jsonpatch<2.0,>=1.33->langchain>=0.0.303->llama_index) (2.4)\n",
      "Requirement already satisfied: annotated-types>=0.4.0 in /Users/markhneedham/Library/Caches/pypoetry/virtualenvs/few-shot-prompting-fCAJ70lp-py3.11/lib/python3.11/site-packages (from pydantic<3,>=1->langchain>=0.0.303->llama_index) (0.6.0)\n",
      "Requirement already satisfied: pydantic-core==2.10.1 in /Users/markhneedham/Library/Caches/pypoetry/virtualenvs/few-shot-prompting-fCAJ70lp-py3.11/lib/python3.11/site-packages (from pydantic<3,>=1->langchain>=0.0.303->llama_index) (2.10.1)\n",
      "Requirement already satisfied: six>=1.5 in /Users/markhneedham/Library/Caches/pypoetry/virtualenvs/few-shot-prompting-fCAJ70lp-py3.11/lib/python3.11/site-packages (from python-dateutil>=2.7->matplotlib!=3.6.1,>=3.3->seaborn) (1.16.0)\n",
      "Downloading seaborn-0.13.0-py3-none-any.whl (294 kB)\n",
      "\u001b[2K   \u001b[38;2;114;156;31m━━━━━━━━━━━━━━━━━━━━━━━━━━━━━━━━━━━━━━━━\u001b[0m \u001b[32m294.6/294.6 kB\u001b[0m \u001b[31m4.3 MB/s\u001b[0m eta \u001b[36m0:00:00\u001b[0m MB/s\u001b[0m eta \u001b[36m0:00:01\u001b[0m\n",
      "\u001b[?25hDownloading matplotlib-3.8.0-cp311-cp311-macosx_11_0_arm64.whl (7.5 MB)\n",
      "\u001b[2K   \u001b[38;2;114;156;31m━━━━━━━━━━━━━━━━━━━━━━━━━━━━━━━━━━━━━━━━\u001b[0m \u001b[32m7.5/7.5 MB\u001b[0m \u001b[31m5.1 MB/s\u001b[0m eta \u001b[36m0:00:00\u001b[0mm eta \u001b[36m0:00:01\u001b[0m0:01\u001b[0m:01\u001b[0m\n",
      "\u001b[?25hDownloading contourpy-1.1.1-cp311-cp311-macosx_11_0_arm64.whl (233 kB)\n",
      "\u001b[2K   \u001b[38;2;114;156;31m━━━━━━━━━━━━━━━━━━━━━━━━━━━━━━━━━━━━━━━━\u001b[0m \u001b[32m233.6/233.6 kB\u001b[0m \u001b[31m3.7 MB/s\u001b[0m eta \u001b[36m0:00:00\u001b[0m[31m4.5 MB/s\u001b[0m eta \u001b[36m0:00:01\u001b[0m\n",
      "\u001b[?25hDownloading cycler-0.12.1-py3-none-any.whl (8.3 kB)\n",
      "Downloading fonttools-4.43.1-cp311-cp311-macosx_10_9_universal2.whl (2.7 MB)\n",
      "\u001b[2K   \u001b[38;2;114;156;31m━━━━━━━━━━━━━━━━━━━━━━━━━━━━━━━━━━━━━━━━\u001b[0m \u001b[32m2.7/2.7 MB\u001b[0m \u001b[31m6.6 MB/s\u001b[0m eta \u001b[36m0:00:00\u001b[0m[36m0:00:01\u001b[0mm eta \u001b[36m0:00:01\u001b[0m\n",
      "\u001b[?25hDownloading kiwisolver-1.4.5-cp311-cp311-macosx_11_0_arm64.whl (66 kB)\n",
      "\u001b[2K   \u001b[38;2;114;156;31m━━━━━━━━━━━━━━━━━━━━━━━━━━━━━━━━━━━━━━━━\u001b[0m \u001b[32m66.2/66.2 kB\u001b[0m \u001b[31m3.7 MB/s\u001b[0m eta \u001b[36m0:00:00\u001b[0m\n",
      "\u001b[?25hUsing cached Pillow-10.0.1-cp311-cp311-macosx_11_0_arm64.whl (3.3 MB)\n",
      "Downloading pyparsing-3.1.1-py3-none-any.whl (103 kB)\n",
      "\u001b[2K   \u001b[38;2;114;156;31m━━━━━━━━━━━━━━━━━━━━━━━━━━━━━━━━━━━━━━━━\u001b[0m \u001b[32m103.1/103.1 kB\u001b[0m \u001b[31m4.5 MB/s\u001b[0m eta \u001b[36m0:00:00\u001b[0m\n",
      "\u001b[?25hInstalling collected packages: pyparsing, pillow, kiwisolver, fonttools, cycler, contourpy, matplotlib, seaborn\n",
      "Successfully installed contourpy-1.1.1 cycler-0.12.1 fonttools-4.43.1 kiwisolver-1.4.5 matplotlib-3.8.0 pillow-10.0.1 pyparsing-3.1.1 seaborn-0.13.0\n"
     ]
    }
   ],
   "source": [
    "!pip install llama_index openai python-dotenv termcolor mpu scikit-learn seaborn"
   ]
  },
  {
   "cell_type": "markdown",
   "id": "afb9516a-8e73-4225-93ac-ca7868ddb913",
   "metadata": {},
   "source": [
    "## Our dataset 📋\n",
    "We're going to attempt to categorise a bunch of sentences, some of which are questions and others which aren't."
   ]
  },
  {
   "cell_type": "code",
   "execution_count": 269,
   "id": "d0d898fd-98f7-48b4-8be8-cbac0bcbf147",
   "metadata": {
    "execution": {
     "iopub.execute_input": "2023-10-12T14:57:23.451026Z",
     "iopub.status.busy": "2023-10-12T14:57:23.450703Z",
     "iopub.status.idle": "2023-10-12T14:57:23.469192Z",
     "shell.execute_reply": "2023-10-12T14:57:23.466936Z",
     "shell.execute_reply.started": "2023-10-12T14:57:23.451005Z"
    }
   },
   "outputs": [
    {
     "data": {
      "text/plain": [
       "[('The weather is quite pleasant today.', False),\n",
       " ('Have you ever been to Paris', True),\n",
       " ('I enjoy reading books on rainy days.', False),\n",
       " ('What is your favorite type of cuisine', True),\n",
       " ('The movie last night was exhilarating.', False),\n",
       " ('She has a collection of vintage postcards.', False),\n",
       " ('Can you believe it’s already October', True),\n",
       " ('I think the library closes at 6 pm.', False),\n",
       " ('Where do you usually go for vacation', True),\n",
       " ('It’s amazing how time flies.', False),\n",
       " ('The concert last night was incredible.', False),\n",
       " ('Have you finished the report yet', True),\n",
       " ('He likes to play soccer on weekends.', False),\n",
       " ('What time does the meeting start', True),\n",
       " (\"I can't believe how fast the kids are growing up.\", False),\n",
       " ('Is the grocery store open on Sundays', True),\n",
       " ('She has a knack for solving complex puzzles.', False),\n",
       " ('Guess who just got promoted', True),\n",
       " ('The painting in the hallway is quite striking.', False),\n",
       " ('Could be that he forgot our appointment.', False)]"
      ]
     },
     "execution_count": 269,
     "metadata": {},
     "output_type": "execute_result"
    }
   ],
   "source": [
    "import csv\n",
    "from mpu.string import str2bool\n",
    "\n",
    "with open('sentences.csv', 'r') as sentences_file:\n",
    "  reader = csv.reader(sentences_file, delimiter=\",\")\n",
    "  next(reader)\n",
    "  sentences = [(row[0], str2bool(row[1])) for row in reader]\n",
    "\n",
    "sentences"
   ]
  },
  {
   "cell_type": "markdown",
   "id": "8e252336-73bc-47f8-bdbc-3bb3776df1a9",
   "metadata": {},
   "source": [
    "## Are they sentences? 🤔\n",
    "Let's see whether our LLM can work out which ones are sentences!"
   ]
  },
  {
   "cell_type": "code",
   "execution_count": 270,
   "id": "e6d7ec7d-36c5-4720-a257-c7b50104d339",
   "metadata": {
    "execution": {
     "iopub.execute_input": "2023-10-12T14:57:43.231192Z",
     "iopub.status.busy": "2023-10-12T14:57:43.230615Z",
     "iopub.status.idle": "2023-10-12T14:57:43.253955Z",
     "shell.execute_reply": "2023-10-12T14:57:43.251479Z",
     "shell.execute_reply.started": "2023-10-12T14:57:43.231166Z"
    }
   },
   "outputs": [],
   "source": [
    "from llama_index.llms import Ollama\n",
    "import json\n",
    "from termcolor import colored"
   ]
  },
  {
   "cell_type": "code",
   "execution_count": 271,
   "id": "7b93076e-7668-4113-91b0-e21789a7b636",
   "metadata": {
    "execution": {
     "iopub.execute_input": "2023-10-12T14:58:10.350012Z",
     "iopub.status.busy": "2023-10-12T14:58:10.349640Z",
     "iopub.status.idle": "2023-10-12T14:58:10.367634Z",
     "shell.execute_reply": "2023-10-12T14:58:10.367083Z",
     "shell.execute_reply.started": "2023-10-12T14:58:10.349991Z"
    }
   },
   "outputs": [],
   "source": [
    "def handle_result(sentence, is_sentence, llm_answer):\n",
    "  result = f\"Actual: {str(is_sentence).ljust(5)} LLM: {llm_answer}\"\n",
    "  print(f\"{sentence.ljust(60)} {colored(result, 'green' if is_sentence == llm_answer else 'red')}\")\n",
    "\n",
    "def handle_error(sentence, is_sentence, ex, llm_says):\n",
    "  result = f\"Actual: {str(is_sentence).ljust(5)} LLM: {ex} - {llm_says}\"\n",
    "  print(f\"{sentence.ljust(60)} {colored(result, 'red')}\")"
   ]
  },
  {
   "cell_type": "code",
   "execution_count": 272,
   "id": "f18078b2-855a-4408-987b-7bfd99c97104",
   "metadata": {
    "execution": {
     "iopub.execute_input": "2023-10-12T14:58:39.082817Z",
     "iopub.status.busy": "2023-10-12T14:58:39.081690Z",
     "iopub.status.idle": "2023-10-12T14:58:39.098896Z",
     "shell.execute_reply": "2023-10-12T14:58:39.098086Z",
     "shell.execute_reply.started": "2023-10-12T14:58:39.082725Z"
    }
   },
   "outputs": [],
   "source": [
    "def predict_sentences(sentences, model):\n",
    "  llm_answers=[]\n",
    "  for sentence, is_sentence in sentences:\n",
    "    llm_says = model.complete(sentence).text.replace(\"</s>\", \"\").replace(\"<s>\", \"\")\n",
    "    try:\n",
    "      llm_answer = json.loads(llm_says)\n",
    "      handle_result(sentence, is_sentence, llm_answer)\n",
    "      llm_answers.append(llm_answer)\n",
    "    except json.JSONDecodeError as ex:\n",
    "      handle_error(sentence, is_sentence, ex, llm_says)\n",
    "      llm_answers.append(None)\n",
    "\n",
    "  return llm_answers"
   ]
  },
  {
   "cell_type": "code",
   "execution_count": 273,
   "id": "c37eab1f-b22e-414f-9bab-4ad26fe301f7",
   "metadata": {
    "execution": {
     "iopub.execute_input": "2023-10-12T14:58:45.030917Z",
     "iopub.status.busy": "2023-10-12T14:58:45.030504Z",
     "iopub.status.idle": "2023-10-12T14:58:45.051101Z",
     "shell.execute_reply": "2023-10-12T14:58:45.050694Z",
     "shell.execute_reply.started": "2023-10-12T14:58:45.030895Z"
    }
   },
   "outputs": [],
   "source": [
    "base_llama2 = Ollama(model=\"question-llama2-base\")"
   ]
  },
  {
   "cell_type": "code",
   "execution_count": 274,
   "id": "b07f4dbc-8574-4822-aa7f-1af72d3f3d9f",
   "metadata": {
    "collapsed": true,
    "execution": {
     "iopub.execute_input": "2023-10-12T14:58:50.408928Z",
     "iopub.status.busy": "2023-10-12T14:58:50.402487Z",
     "iopub.status.idle": "2023-10-12T14:58:54.978743Z",
     "shell.execute_reply": "2023-10-12T14:58:54.977347Z",
     "shell.execute_reply.started": "2023-10-12T14:58:50.408878Z"
    },
    "jupyter": {
     "outputs_hidden": true
    }
   },
   "outputs": [
    {
     "name": "stdout",
     "output_type": "stream",
     "text": [
      "The weather is quite pleasant today.                         \u001b[31mActual: False LLM: Expecting value: line 1 column 1 (char 0) - True\u001b[0m\n",
      "Have you ever been to Paris                                  \u001b[31mActual: True  LLM: Expecting value: line 1 column 1 (char 0) - True\u001b[0m\n",
      "I enjoy reading books on rainy days.                         \u001b[31mActual: False LLM: Expecting value: line 1 column 1 (char 0) - True\u001b[0m\n",
      "What is your favorite type of cuisine                        \u001b[31mActual: True  LLM: Expecting value: line 1 column 1 (char 0) - True\u001b[0m\n",
      "The movie last night was exhilarating.                       \u001b[31mActual: False LLM: Expecting value: line 1 column 1 (char 0) - True\u001b[0m\n",
      "She has a collection of vintage postcards.                   \u001b[31mActual: False LLM: Expecting value: line 1 column 1 (char 0) - True\u001b[0m\n",
      "Can you believe it’s already October                         \u001b[31mActual: True  LLM: Expecting value: line 1 column 1 (char 0) - True\u001b[0m\n",
      "I think the library closes at 6 pm.                          \u001b[31mActual: False LLM: Expecting value: line 1 column 1 (char 0) - True\u001b[0m\n",
      "Where do you usually go for vacation                         \u001b[31mActual: True  LLM: Expecting value: line 1 column 1 (char 0) - True\u001b[0m\n",
      "It’s amazing how time flies.                                 \u001b[31mActual: False LLM: Expecting value: line 1 column 1 (char 0) - True\u001b[0m\n",
      "The concert last night was incredible.                       \u001b[31mActual: False LLM: Expecting value: line 1 column 1 (char 0) - True\u001b[0m\n",
      "Have you finished the report yet                             \u001b[31mActual: True  LLM: Expecting value: line 1 column 1 (char 0) - True\u001b[0m\n",
      "He likes to play soccer on weekends.                         \u001b[31mActual: False LLM: Expecting value: line 1 column 1 (char 0) - True\u001b[0m\n",
      "What time does the meeting start                             \u001b[31mActual: True  LLM: Expecting value: line 1 column 1 (char 0) - True\u001b[0m\n",
      "I can't believe how fast the kids are growing up.            \u001b[31mActual: False LLM: Expecting value: line 1 column 1 (char 0) - True\u001b[0m\n",
      "Is the grocery store open on Sundays                         \u001b[31mActual: True  LLM: Expecting value: line 1 column 1 (char 0) - True\u001b[0m\n",
      "She has a knack for solving complex puzzles.                 \u001b[31mActual: False LLM: Expecting value: line 1 column 1 (char 0) - True\u001b[0m\n",
      "Guess who just got promoted                                  \u001b[31mActual: True  LLM: Expecting value: line 1 column 1 (char 0) - True\u001b[0m\n",
      "The painting in the hallway is quite striking.               \u001b[31mActual: False LLM: Expecting value: line 1 column 1 (char 0) - True\u001b[0m\n",
      "Could be that he forgot our appointment.                     \u001b[31mActual: False LLM: Expecting value: line 1 column 1 (char 0) - True\u001b[0m\n"
     ]
    }
   ],
   "source": [
    "_ = predict_sentences(sentences, base_llama2)"
   ]
  },
  {
   "cell_type": "markdown",
   "id": "fae70b10-ca21-49f4-8968-7d65f8a7d0ae",
   "metadata": {},
   "source": [
    "## The Few-Shot Prompting Model 🤖\n",
    "Let's try again, but this time with the model that's been primed with a few examples."
   ]
  },
  {
   "cell_type": "code",
   "execution_count": 275,
   "id": "2d8c6935-99c0-48f0-b610-3043297b3dba",
   "metadata": {
    "execution": {
     "iopub.execute_input": "2023-10-12T14:59:15.197845Z",
     "iopub.status.busy": "2023-10-12T14:59:15.197460Z",
     "iopub.status.idle": "2023-10-12T14:59:15.215163Z",
     "shell.execute_reply": "2023-10-12T14:59:15.214372Z",
     "shell.execute_reply.started": "2023-10-12T14:59:15.197822Z"
    }
   },
   "outputs": [],
   "source": [
    "llama2 = Ollama(model=\"question-llama2\")"
   ]
  },
  {
   "cell_type": "code",
   "execution_count": 276,
   "id": "1070b54b-c03b-4ded-a5ff-8e8d682c69d9",
   "metadata": {
    "execution": {
     "iopub.execute_input": "2023-10-12T14:59:20.606318Z",
     "iopub.status.busy": "2023-10-12T14:59:20.605606Z",
     "iopub.status.idle": "2023-10-12T14:59:24.428351Z",
     "shell.execute_reply": "2023-10-12T14:59:24.427352Z",
     "shell.execute_reply.started": "2023-10-12T14:59:20.606295Z"
    }
   },
   "outputs": [
    {
     "name": "stdout",
     "output_type": "stream",
     "text": [
      "The weather is quite pleasant today.                         \u001b[32mActual: False LLM: False\u001b[0m\n",
      "Have you ever been to Paris                                  \u001b[31mActual: True  LLM: False\u001b[0m\n",
      "I enjoy reading books on rainy days.                         \u001b[32mActual: False LLM: False\u001b[0m\n",
      "What is your favorite type of cuisine                        \u001b[31mActual: True  LLM: False\u001b[0m\n",
      "The movie last night was exhilarating.                       \u001b[32mActual: False LLM: False\u001b[0m\n",
      "She has a collection of vintage postcards.                   \u001b[32mActual: False LLM: False\u001b[0m\n",
      "Can you believe it’s already October                         \u001b[32mActual: True  LLM: True\u001b[0m\n",
      "I think the library closes at 6 pm.                          \u001b[32mActual: False LLM: False\u001b[0m\n",
      "Where do you usually go for vacation                         \u001b[32mActual: True  LLM: True\u001b[0m\n",
      "It’s amazing how time flies.                                 \u001b[32mActual: False LLM: False\u001b[0m\n",
      "The concert last night was incredible.                       \u001b[32mActual: False LLM: False\u001b[0m\n",
      "Have you finished the report yet                             \u001b[32mActual: True  LLM: True\u001b[0m\n",
      "He likes to play soccer on weekends.                         \u001b[32mActual: False LLM: False\u001b[0m\n",
      "What time does the meeting start                             \u001b[32mActual: True  LLM: True\u001b[0m\n",
      "I can't believe how fast the kids are growing up.            \u001b[31mActual: False LLM: True\u001b[0m\n",
      "Is the grocery store open on Sundays                         \u001b[32mActual: True  LLM: True\u001b[0m\n",
      "She has a knack for solving complex puzzles.                 \u001b[31mActual: False LLM: True\u001b[0m\n",
      "Guess who just got promoted                                  \u001b[32mActual: True  LLM: True\u001b[0m\n",
      "The painting in the hallway is quite striking.               \u001b[32mActual: False LLM: False\u001b[0m\n",
      "Could be that he forgot our appointment.                     \u001b[32mActual: False LLM: False\u001b[0m\n"
     ]
    }
   ],
   "source": [
    "llm_answers = predict_sentences(sentences, llama2)"
   ]
  },
  {
   "cell_type": "markdown",
   "id": "42095b26-c34b-4511-91df-9219d2aaaddc",
   "metadata": {},
   "source": [
    "## How well did we do? 🏆🤷‍♀️\n",
    "Let's compute some metrics to check how well the model did."
   ]
  },
  {
   "cell_type": "code",
   "execution_count": 277,
   "id": "c5e15c26-e890-44dc-9140-6434fc019a96",
   "metadata": {
    "execution": {
     "iopub.execute_input": "2023-10-12T14:59:39.966234Z",
     "iopub.status.busy": "2023-10-12T14:59:39.965853Z",
     "iopub.status.idle": "2023-10-12T14:59:39.981540Z",
     "shell.execute_reply": "2023-10-12T14:59:39.978508Z",
     "shell.execute_reply.started": "2023-10-12T14:59:39.966211Z"
    }
   },
   "outputs": [],
   "source": [
    "from sklearn.metrics import confusion_matrix, precision_score, recall_score"
   ]
  },
  {
   "cell_type": "code",
   "execution_count": 278,
   "id": "0658deaa-ae08-43b8-b580-d6b0146cbff8",
   "metadata": {
    "execution": {
     "iopub.execute_input": "2023-10-12T14:59:47.572351Z",
     "iopub.status.busy": "2023-10-12T14:59:47.571775Z",
     "iopub.status.idle": "2023-10-12T14:59:47.589505Z",
     "shell.execute_reply": "2023-10-12T14:59:47.588883Z",
     "shell.execute_reply.started": "2023-10-12T14:59:47.572320Z"
    }
   },
   "outputs": [
    {
     "data": {
      "text/plain": [
       "0.75"
      ]
     },
     "execution_count": 278,
     "metadata": {},
     "output_type": "execute_result"
    }
   ],
   "source": [
    "# tp / (tp + fp) \n",
    "precision_score([s[1] for s in sentences], llm_answers, zero_division=0.0)"
   ]
  },
  {
   "cell_type": "code",
   "execution_count": 279,
   "id": "618f6e35-9025-4c73-a954-d89487163f7c",
   "metadata": {
    "execution": {
     "iopub.execute_input": "2023-10-12T14:59:54.114437Z",
     "iopub.status.busy": "2023-10-12T14:59:54.114021Z",
     "iopub.status.idle": "2023-10-12T14:59:54.128587Z",
     "shell.execute_reply": "2023-10-12T14:59:54.128102Z",
     "shell.execute_reply.started": "2023-10-12T14:59:54.114414Z"
    }
   },
   "outputs": [
    {
     "data": {
      "text/plain": [
       "0.75"
      ]
     },
     "execution_count": 279,
     "metadata": {},
     "output_type": "execute_result"
    }
   ],
   "source": [
    "# tp / (tp + fn)\n",
    "recall_score([s[1] for s in sentences], llm_answers)"
   ]
  },
  {
   "cell_type": "code",
   "execution_count": 280,
   "id": "27bede1b-b14e-451a-b3c6-60860c4ec43d",
   "metadata": {
    "execution": {
     "iopub.execute_input": "2023-10-12T15:00:00.730968Z",
     "iopub.status.busy": "2023-10-12T15:00:00.730603Z",
     "iopub.status.idle": "2023-10-12T15:00:00.750134Z",
     "shell.execute_reply": "2023-10-12T15:00:00.749261Z",
     "shell.execute_reply.started": "2023-10-12T15:00:00.730947Z"
    }
   },
   "outputs": [
    {
     "data": {
      "text/plain": [
       "array([[10,  2],\n",
       "       [ 2,  6]])"
      ]
     },
     "execution_count": 280,
     "metadata": {},
     "output_type": "execute_result"
    }
   ],
   "source": [
    "matrix = confusion_matrix([s[1] for s in sentences], llm_answers)\n",
    "matrix"
   ]
  },
  {
   "cell_type": "code",
   "execution_count": 281,
   "id": "dbc30d53-ed03-49a8-9a70-1a462ba3c433",
   "metadata": {
    "execution": {
     "iopub.execute_input": "2023-10-12T15:00:06.013610Z",
     "iopub.status.busy": "2023-10-12T15:00:06.013222Z",
     "iopub.status.idle": "2023-10-12T15:00:06.030563Z",
     "shell.execute_reply": "2023-10-12T15:00:06.030139Z",
     "shell.execute_reply.started": "2023-10-12T15:00:06.013586Z"
    }
   },
   "outputs": [],
   "source": [
    "from plotly_utils import render_confusion_matrix"
   ]
  },
  {
   "cell_type": "code",
   "execution_count": 282,
   "id": "57587522-8499-4e69-a84c-e32496d137c0",
   "metadata": {
    "execution": {
     "iopub.execute_input": "2023-10-12T15:00:10.405159Z",
     "iopub.status.busy": "2023-10-12T15:00:10.403793Z",
     "iopub.status.idle": "2023-10-12T15:00:10.455342Z",
     "shell.execute_reply": "2023-10-12T15:00:10.454500Z",
     "shell.execute_reply.started": "2023-10-12T15:00:10.405132Z"
    }
   },
   "outputs": [
    {
     "data": {
      "application/vnd.plotly.v1+json": {
       "config": {
        "plotlyServerURL": "https://plot.ly"
       },
       "data": [
        {
         "colorscale": [
          [
           0,
           "rgb(247,252,245)"
          ],
          [
           0.125,
           "rgb(229,245,224)"
          ],
          [
           0.25,
           "rgb(199,233,192)"
          ],
          [
           0.375,
           "rgb(161,217,155)"
          ],
          [
           0.5,
           "rgb(116,196,118)"
          ],
          [
           0.625,
           "rgb(65,171,93)"
          ],
          [
           0.75,
           "rgb(35,139,69)"
          ],
          [
           0.875,
           "rgb(0,109,44)"
          ],
          [
           1,
           "rgb(0,68,27)"
          ]
         ],
         "type": "heatmap",
         "x": [
          "Negative",
          "Positive"
         ],
         "y": [
          "Negative",
          "Positive"
         ],
         "z": [
          [
           10,
           2
          ],
          [
           2,
           6
          ]
         ]
        }
       ],
       "layout": {
        "annotations": [
         {
          "font": {
           "color": "black",
           "size": 18
          },
          "showarrow": false,
          "text": "LLM Prediction",
          "x": 0.5,
          "xref": "paper",
          "y": -0.15,
          "yref": "paper"
         },
         {
          "font": {
           "color": "black",
           "size": 18
          },
          "showarrow": false,
          "text": "Data (Truth)",
          "textangle": -90,
          "x": -0.13,
          "xref": "paper",
          "y": 0.5,
          "yref": "paper"
         },
         {
          "font": {
           "color": "black",
           "size": 30
          },
          "showarrow": false,
          "text": "10",
          "x": 0,
          "xref": "x",
          "y": 0,
          "yanchor": "bottom",
          "yref": "y"
         },
         {
          "font": {
           "color": "black",
           "size": 25
          },
          "showarrow": false,
          "text": "TN",
          "x": 0,
          "xref": "x",
          "y": 0,
          "yanchor": "top",
          "yref": "y"
         },
         {
          "font": {
           "color": "black",
           "size": 30
          },
          "showarrow": false,
          "text": "2",
          "x": 1,
          "xref": "x",
          "y": 0,
          "yanchor": "bottom",
          "yref": "y"
         },
         {
          "font": {
           "color": "black",
           "size": 25
          },
          "showarrow": false,
          "text": "FP",
          "x": 1,
          "xref": "x",
          "y": 0,
          "yanchor": "top",
          "yref": "y"
         },
         {
          "font": {
           "color": "black",
           "size": 30
          },
          "showarrow": false,
          "text": "2",
          "x": 0,
          "xref": "x",
          "y": 1,
          "yanchor": "bottom",
          "yref": "y"
         },
         {
          "font": {
           "color": "black",
           "size": 25
          },
          "showarrow": false,
          "text": "FN",
          "x": 0,
          "xref": "x",
          "y": 1,
          "yanchor": "top",
          "yref": "y"
         },
         {
          "font": {
           "color": "black",
           "size": 30
          },
          "showarrow": false,
          "text": "6",
          "x": 1,
          "xref": "x",
          "y": 1,
          "yanchor": "bottom",
          "yref": "y"
         },
         {
          "font": {
           "color": "black",
           "size": 25
          },
          "showarrow": false,
          "text": "TP",
          "x": 1,
          "xref": "x",
          "y": 1,
          "yanchor": "top",
          "yref": "y"
         }
        ],
        "autosize": true,
        "margin": {
         "b": 70,
         "l": 150,
         "t": 20
        },
        "template": {
         "data": {
          "bar": [
           {
            "error_x": {
             "color": "#2a3f5f"
            },
            "error_y": {
             "color": "#2a3f5f"
            },
            "marker": {
             "line": {
              "color": "#E5ECF6",
              "width": 0.5
             },
             "pattern": {
              "fillmode": "overlay",
              "size": 10,
              "solidity": 0.2
             }
            },
            "type": "bar"
           }
          ],
          "barpolar": [
           {
            "marker": {
             "line": {
              "color": "#E5ECF6",
              "width": 0.5
             },
             "pattern": {
              "fillmode": "overlay",
              "size": 10,
              "solidity": 0.2
             }
            },
            "type": "barpolar"
           }
          ],
          "carpet": [
           {
            "aaxis": {
             "endlinecolor": "#2a3f5f",
             "gridcolor": "white",
             "linecolor": "white",
             "minorgridcolor": "white",
             "startlinecolor": "#2a3f5f"
            },
            "baxis": {
             "endlinecolor": "#2a3f5f",
             "gridcolor": "white",
             "linecolor": "white",
             "minorgridcolor": "white",
             "startlinecolor": "#2a3f5f"
            },
            "type": "carpet"
           }
          ],
          "choropleth": [
           {
            "colorbar": {
             "outlinewidth": 0,
             "ticks": ""
            },
            "type": "choropleth"
           }
          ],
          "contour": [
           {
            "colorbar": {
             "outlinewidth": 0,
             "ticks": ""
            },
            "colorscale": [
             [
              0,
              "#0d0887"
             ],
             [
              0.1111111111111111,
              "#46039f"
             ],
             [
              0.2222222222222222,
              "#7201a8"
             ],
             [
              0.3333333333333333,
              "#9c179e"
             ],
             [
              0.4444444444444444,
              "#bd3786"
             ],
             [
              0.5555555555555556,
              "#d8576b"
             ],
             [
              0.6666666666666666,
              "#ed7953"
             ],
             [
              0.7777777777777778,
              "#fb9f3a"
             ],
             [
              0.8888888888888888,
              "#fdca26"
             ],
             [
              1,
              "#f0f921"
             ]
            ],
            "type": "contour"
           }
          ],
          "contourcarpet": [
           {
            "colorbar": {
             "outlinewidth": 0,
             "ticks": ""
            },
            "type": "contourcarpet"
           }
          ],
          "heatmap": [
           {
            "colorbar": {
             "outlinewidth": 0,
             "ticks": ""
            },
            "colorscale": [
             [
              0,
              "#0d0887"
             ],
             [
              0.1111111111111111,
              "#46039f"
             ],
             [
              0.2222222222222222,
              "#7201a8"
             ],
             [
              0.3333333333333333,
              "#9c179e"
             ],
             [
              0.4444444444444444,
              "#bd3786"
             ],
             [
              0.5555555555555556,
              "#d8576b"
             ],
             [
              0.6666666666666666,
              "#ed7953"
             ],
             [
              0.7777777777777778,
              "#fb9f3a"
             ],
             [
              0.8888888888888888,
              "#fdca26"
             ],
             [
              1,
              "#f0f921"
             ]
            ],
            "type": "heatmap"
           }
          ],
          "heatmapgl": [
           {
            "colorbar": {
             "outlinewidth": 0,
             "ticks": ""
            },
            "colorscale": [
             [
              0,
              "#0d0887"
             ],
             [
              0.1111111111111111,
              "#46039f"
             ],
             [
              0.2222222222222222,
              "#7201a8"
             ],
             [
              0.3333333333333333,
              "#9c179e"
             ],
             [
              0.4444444444444444,
              "#bd3786"
             ],
             [
              0.5555555555555556,
              "#d8576b"
             ],
             [
              0.6666666666666666,
              "#ed7953"
             ],
             [
              0.7777777777777778,
              "#fb9f3a"
             ],
             [
              0.8888888888888888,
              "#fdca26"
             ],
             [
              1,
              "#f0f921"
             ]
            ],
            "type": "heatmapgl"
           }
          ],
          "histogram": [
           {
            "marker": {
             "pattern": {
              "fillmode": "overlay",
              "size": 10,
              "solidity": 0.2
             }
            },
            "type": "histogram"
           }
          ],
          "histogram2d": [
           {
            "colorbar": {
             "outlinewidth": 0,
             "ticks": ""
            },
            "colorscale": [
             [
              0,
              "#0d0887"
             ],
             [
              0.1111111111111111,
              "#46039f"
             ],
             [
              0.2222222222222222,
              "#7201a8"
             ],
             [
              0.3333333333333333,
              "#9c179e"
             ],
             [
              0.4444444444444444,
              "#bd3786"
             ],
             [
              0.5555555555555556,
              "#d8576b"
             ],
             [
              0.6666666666666666,
              "#ed7953"
             ],
             [
              0.7777777777777778,
              "#fb9f3a"
             ],
             [
              0.8888888888888888,
              "#fdca26"
             ],
             [
              1,
              "#f0f921"
             ]
            ],
            "type": "histogram2d"
           }
          ],
          "histogram2dcontour": [
           {
            "colorbar": {
             "outlinewidth": 0,
             "ticks": ""
            },
            "colorscale": [
             [
              0,
              "#0d0887"
             ],
             [
              0.1111111111111111,
              "#46039f"
             ],
             [
              0.2222222222222222,
              "#7201a8"
             ],
             [
              0.3333333333333333,
              "#9c179e"
             ],
             [
              0.4444444444444444,
              "#bd3786"
             ],
             [
              0.5555555555555556,
              "#d8576b"
             ],
             [
              0.6666666666666666,
              "#ed7953"
             ],
             [
              0.7777777777777778,
              "#fb9f3a"
             ],
             [
              0.8888888888888888,
              "#fdca26"
             ],
             [
              1,
              "#f0f921"
             ]
            ],
            "type": "histogram2dcontour"
           }
          ],
          "mesh3d": [
           {
            "colorbar": {
             "outlinewidth": 0,
             "ticks": ""
            },
            "type": "mesh3d"
           }
          ],
          "parcoords": [
           {
            "line": {
             "colorbar": {
              "outlinewidth": 0,
              "ticks": ""
             }
            },
            "type": "parcoords"
           }
          ],
          "pie": [
           {
            "automargin": true,
            "type": "pie"
           }
          ],
          "scatter": [
           {
            "fillpattern": {
             "fillmode": "overlay",
             "size": 10,
             "solidity": 0.2
            },
            "type": "scatter"
           }
          ],
          "scatter3d": [
           {
            "line": {
             "colorbar": {
              "outlinewidth": 0,
              "ticks": ""
             }
            },
            "marker": {
             "colorbar": {
              "outlinewidth": 0,
              "ticks": ""
             }
            },
            "type": "scatter3d"
           }
          ],
          "scattercarpet": [
           {
            "marker": {
             "colorbar": {
              "outlinewidth": 0,
              "ticks": ""
             }
            },
            "type": "scattercarpet"
           }
          ],
          "scattergeo": [
           {
            "marker": {
             "colorbar": {
              "outlinewidth": 0,
              "ticks": ""
             }
            },
            "type": "scattergeo"
           }
          ],
          "scattergl": [
           {
            "marker": {
             "colorbar": {
              "outlinewidth": 0,
              "ticks": ""
             }
            },
            "type": "scattergl"
           }
          ],
          "scattermapbox": [
           {
            "marker": {
             "colorbar": {
              "outlinewidth": 0,
              "ticks": ""
             }
            },
            "type": "scattermapbox"
           }
          ],
          "scatterpolar": [
           {
            "marker": {
             "colorbar": {
              "outlinewidth": 0,
              "ticks": ""
             }
            },
            "type": "scatterpolar"
           }
          ],
          "scatterpolargl": [
           {
            "marker": {
             "colorbar": {
              "outlinewidth": 0,
              "ticks": ""
             }
            },
            "type": "scatterpolargl"
           }
          ],
          "scatterternary": [
           {
            "marker": {
             "colorbar": {
              "outlinewidth": 0,
              "ticks": ""
             }
            },
            "type": "scatterternary"
           }
          ],
          "surface": [
           {
            "colorbar": {
             "outlinewidth": 0,
             "ticks": ""
            },
            "colorscale": [
             [
              0,
              "#0d0887"
             ],
             [
              0.1111111111111111,
              "#46039f"
             ],
             [
              0.2222222222222222,
              "#7201a8"
             ],
             [
              0.3333333333333333,
              "#9c179e"
             ],
             [
              0.4444444444444444,
              "#bd3786"
             ],
             [
              0.5555555555555556,
              "#d8576b"
             ],
             [
              0.6666666666666666,
              "#ed7953"
             ],
             [
              0.7777777777777778,
              "#fb9f3a"
             ],
             [
              0.8888888888888888,
              "#fdca26"
             ],
             [
              1,
              "#f0f921"
             ]
            ],
            "type": "surface"
           }
          ],
          "table": [
           {
            "cells": {
             "fill": {
              "color": "#EBF0F8"
             },
             "line": {
              "color": "white"
             }
            },
            "header": {
             "fill": {
              "color": "#C8D4E3"
             },
             "line": {
              "color": "white"
             }
            },
            "type": "table"
           }
          ]
         },
         "layout": {
          "annotationdefaults": {
           "arrowcolor": "#2a3f5f",
           "arrowhead": 0,
           "arrowwidth": 1
          },
          "autotypenumbers": "strict",
          "coloraxis": {
           "colorbar": {
            "outlinewidth": 0,
            "ticks": ""
           }
          },
          "colorscale": {
           "diverging": [
            [
             0,
             "#8e0152"
            ],
            [
             0.1,
             "#c51b7d"
            ],
            [
             0.2,
             "#de77ae"
            ],
            [
             0.3,
             "#f1b6da"
            ],
            [
             0.4,
             "#fde0ef"
            ],
            [
             0.5,
             "#f7f7f7"
            ],
            [
             0.6,
             "#e6f5d0"
            ],
            [
             0.7,
             "#b8e186"
            ],
            [
             0.8,
             "#7fbc41"
            ],
            [
             0.9,
             "#4d9221"
            ],
            [
             1,
             "#276419"
            ]
           ],
           "sequential": [
            [
             0,
             "#0d0887"
            ],
            [
             0.1111111111111111,
             "#46039f"
            ],
            [
             0.2222222222222222,
             "#7201a8"
            ],
            [
             0.3333333333333333,
             "#9c179e"
            ],
            [
             0.4444444444444444,
             "#bd3786"
            ],
            [
             0.5555555555555556,
             "#d8576b"
            ],
            [
             0.6666666666666666,
             "#ed7953"
            ],
            [
             0.7777777777777778,
             "#fb9f3a"
            ],
            [
             0.8888888888888888,
             "#fdca26"
            ],
            [
             1,
             "#f0f921"
            ]
           ],
           "sequentialminus": [
            [
             0,
             "#0d0887"
            ],
            [
             0.1111111111111111,
             "#46039f"
            ],
            [
             0.2222222222222222,
             "#7201a8"
            ],
            [
             0.3333333333333333,
             "#9c179e"
            ],
            [
             0.4444444444444444,
             "#bd3786"
            ],
            [
             0.5555555555555556,
             "#d8576b"
            ],
            [
             0.6666666666666666,
             "#ed7953"
            ],
            [
             0.7777777777777778,
             "#fb9f3a"
            ],
            [
             0.8888888888888888,
             "#fdca26"
            ],
            [
             1,
             "#f0f921"
            ]
           ]
          },
          "colorway": [
           "#636efa",
           "#EF553B",
           "#00cc96",
           "#ab63fa",
           "#FFA15A",
           "#19d3f3",
           "#FF6692",
           "#B6E880",
           "#FF97FF",
           "#FECB52"
          ],
          "font": {
           "color": "#2a3f5f"
          },
          "geo": {
           "bgcolor": "white",
           "lakecolor": "white",
           "landcolor": "#E5ECF6",
           "showlakes": true,
           "showland": true,
           "subunitcolor": "white"
          },
          "hoverlabel": {
           "align": "left"
          },
          "hovermode": "closest",
          "mapbox": {
           "style": "light"
          },
          "paper_bgcolor": "white",
          "plot_bgcolor": "#E5ECF6",
          "polar": {
           "angularaxis": {
            "gridcolor": "white",
            "linecolor": "white",
            "ticks": ""
           },
           "bgcolor": "#E5ECF6",
           "radialaxis": {
            "gridcolor": "white",
            "linecolor": "white",
            "ticks": ""
           }
          },
          "scene": {
           "xaxis": {
            "backgroundcolor": "#E5ECF6",
            "gridcolor": "white",
            "gridwidth": 2,
            "linecolor": "white",
            "showbackground": true,
            "ticks": "",
            "zerolinecolor": "white"
           },
           "yaxis": {
            "backgroundcolor": "#E5ECF6",
            "gridcolor": "white",
            "gridwidth": 2,
            "linecolor": "white",
            "showbackground": true,
            "ticks": "",
            "zerolinecolor": "white"
           },
           "zaxis": {
            "backgroundcolor": "#E5ECF6",
            "gridcolor": "white",
            "gridwidth": 2,
            "linecolor": "white",
            "showbackground": true,
            "ticks": "",
            "zerolinecolor": "white"
           }
          },
          "shapedefaults": {
           "line": {
            "color": "#2a3f5f"
           }
          },
          "ternary": {
           "aaxis": {
            "gridcolor": "white",
            "linecolor": "white",
            "ticks": ""
           },
           "baxis": {
            "gridcolor": "white",
            "linecolor": "white",
            "ticks": ""
           },
           "bgcolor": "#E5ECF6",
           "caxis": {
            "gridcolor": "white",
            "linecolor": "white",
            "ticks": ""
           }
          },
          "title": {
           "x": 0.05
          },
          "xaxis": {
           "automargin": true,
           "gridcolor": "white",
           "linecolor": "white",
           "ticks": "",
           "title": {
            "standoff": 15
           },
           "zerolinecolor": "white",
           "zerolinewidth": 2
          },
          "yaxis": {
           "automargin": true,
           "gridcolor": "white",
           "linecolor": "white",
           "ticks": "",
           "title": {
            "standoff": 15
           },
           "zerolinecolor": "white",
           "zerolinewidth": 2
          }
         }
        },
        "xaxis": {
         "autorange": true,
         "range": [
          -0.5,
          1.5
         ],
         "type": "category"
        },
        "yaxis": {
         "autorange": true,
         "range": [
          -0.5,
          1.5
         ],
         "type": "category"
        }
       }
      },
      "image/png": "[encoded data removed]",
      "text/html": [
       "<div>                            <div id=\"7eb41132-c6f7-4dbd-a51a-eae6dd2915a5\" class=\"plotly-graph-div\" style=\"height:525px; width:100%;\"></div>            <script type=\"text/javascript\">                require([\"plotly\"], function(Plotly) {                    window.PLOTLYENV=window.PLOTLYENV || {};                                    if (document.getElementById(\"7eb41132-c6f7-4dbd-a51a-eae6dd2915a5\")) {                    Plotly.newPlot(                        \"7eb41132-c6f7-4dbd-a51a-eae6dd2915a5\",                        [{\"colorscale\":[[0.0,\"rgb(247,252,245)\"],[0.125,\"rgb(229,245,224)\"],[0.25,\"rgb(199,233,192)\"],[0.375,\"rgb(161,217,155)\"],[0.5,\"rgb(116,196,118)\"],[0.625,\"rgb(65,171,93)\"],[0.75,\"rgb(35,139,69)\"],[0.875,\"rgb(0,109,44)\"],[1.0,\"rgb(0,68,27)\"]],\"x\":[\"Negative\",\"Positive\"],\"y\":[\"Negative\",\"Positive\"],\"z\":[[10,2],[2,6]],\"type\":\"heatmap\"}],                        {\"template\":{\"data\":{\"histogram2dcontour\":[{\"type\":\"histogram2dcontour\",\"colorbar\":{\"outlinewidth\":0,\"ticks\":\"\"},\"colorscale\":[[0.0,\"#0d0887\"],[0.1111111111111111,\"#46039f\"],[0.2222222222222222,\"#7201a8\"],[0.3333333333333333,\"#9c179e\"],[0.4444444444444444,\"#bd3786\"],[0.5555555555555556,\"#d8576b\"],[0.6666666666666666,\"#ed7953\"],[0.7777777777777778,\"#fb9f3a\"],[0.8888888888888888,\"#fdca26\"],[1.0,\"#f0f921\"]]}],\"choropleth\":[{\"type\":\"choropleth\",\"colorbar\":{\"outlinewidth\":0,\"ticks\":\"\"}}],\"histogram2d\":[{\"type\":\"histogram2d\",\"colorbar\":{\"outlinewidth\":0,\"ticks\":\"\"},\"colorscale\":[[0.0,\"#0d0887\"],[0.1111111111111111,\"#46039f\"],[0.2222222222222222,\"#7201a8\"],[0.3333333333333333,\"#9c179e\"],[0.4444444444444444,\"#bd3786\"],[0.5555555555555556,\"#d8576b\"],[0.6666666666666666,\"#ed7953\"],[0.7777777777777778,\"#fb9f3a\"],[0.8888888888888888,\"#fdca26\"],[1.0,\"#f0f921\"]]}],\"heatmap\":[{\"type\":\"heatmap\",\"colorbar\":{\"outlinewidth\":0,\"ticks\":\"\"},\"colorscale\":[[0.0,\"#0d0887\"],[0.1111111111111111,\"#46039f\"],[0.2222222222222222,\"#7201a8\"],[0.3333333333333333,\"#9c179e\"],[0.4444444444444444,\"#bd3786\"],[0.5555555555555556,\"#d8576b\"],[0.6666666666666666,\"#ed7953\"],[0.7777777777777778,\"#fb9f3a\"],[0.8888888888888888,\"#fdca26\"],[1.0,\"#f0f921\"]]}],\"heatmapgl\":[{\"type\":\"heatmapgl\",\"colorbar\":{\"outlinewidth\":0,\"ticks\":\"\"},\"colorscale\":[[0.0,\"#0d0887\"],[0.1111111111111111,\"#46039f\"],[0.2222222222222222,\"#7201a8\"],[0.3333333333333333,\"#9c179e\"],[0.4444444444444444,\"#bd3786\"],[0.5555555555555556,\"#d8576b\"],[0.6666666666666666,\"#ed7953\"],[0.7777777777777778,\"#fb9f3a\"],[0.8888888888888888,\"#fdca26\"],[1.0,\"#f0f921\"]]}],\"contourcarpet\":[{\"type\":\"contourcarpet\",\"colorbar\":{\"outlinewidth\":0,\"ticks\":\"\"}}],\"contour\":[{\"type\":\"contour\",\"colorbar\":{\"outlinewidth\":0,\"ticks\":\"\"},\"colorscale\":[[0.0,\"#0d0887\"],[0.1111111111111111,\"#46039f\"],[0.2222222222222222,\"#7201a8\"],[0.3333333333333333,\"#9c179e\"],[0.4444444444444444,\"#bd3786\"],[0.5555555555555556,\"#d8576b\"],[0.6666666666666666,\"#ed7953\"],[0.7777777777777778,\"#fb9f3a\"],[0.8888888888888888,\"#fdca26\"],[1.0,\"#f0f921\"]]}],\"surface\":[{\"type\":\"surface\",\"colorbar\":{\"outlinewidth\":0,\"ticks\":\"\"},\"colorscale\":[[0.0,\"#0d0887\"],[0.1111111111111111,\"#46039f\"],[0.2222222222222222,\"#7201a8\"],[0.3333333333333333,\"#9c179e\"],[0.4444444444444444,\"#bd3786\"],[0.5555555555555556,\"#d8576b\"],[0.6666666666666666,\"#ed7953\"],[0.7777777777777778,\"#fb9f3a\"],[0.8888888888888888,\"#fdca26\"],[1.0,\"#f0f921\"]]}],\"mesh3d\":[{\"type\":\"mesh3d\",\"colorbar\":{\"outlinewidth\":0,\"ticks\":\"\"}}],\"scatter\":[{\"fillpattern\":{\"fillmode\":\"overlay\",\"size\":10,\"solidity\":0.2},\"type\":\"scatter\"}],\"parcoords\":[{\"type\":\"parcoords\",\"line\":{\"colorbar\":{\"outlinewidth\":0,\"ticks\":\"\"}}}],\"scatterpolargl\":[{\"type\":\"scatterpolargl\",\"marker\":{\"colorbar\":{\"outlinewidth\":0,\"ticks\":\"\"}}}],\"bar\":[{\"error_x\":{\"color\":\"#2a3f5f\"},\"error_y\":{\"color\":\"#2a3f5f\"},\"marker\":{\"line\":{\"color\":\"#E5ECF6\",\"width\":0.5},\"pattern\":{\"fillmode\":\"overlay\",\"size\":10,\"solidity\":0.2}},\"type\":\"bar\"}],\"scattergeo\":[{\"type\":\"scattergeo\",\"marker\":{\"colorbar\":{\"outlinewidth\":0,\"ticks\":\"\"}}}],\"scatterpolar\":[{\"type\":\"scatterpolar\",\"marker\":{\"colorbar\":{\"outlinewidth\":0,\"ticks\":\"\"}}}],\"histogram\":[{\"marker\":{\"pattern\":{\"fillmode\":\"overlay\",\"size\":10,\"solidity\":0.2}},\"type\":\"histogram\"}],\"scattergl\":[{\"type\":\"scattergl\",\"marker\":{\"colorbar\":{\"outlinewidth\":0,\"ticks\":\"\"}}}],\"scatter3d\":[{\"type\":\"scatter3d\",\"line\":{\"colorbar\":{\"outlinewidth\":0,\"ticks\":\"\"}},\"marker\":{\"colorbar\":{\"outlinewidth\":0,\"ticks\":\"\"}}}],\"scattermapbox\":[{\"type\":\"scattermapbox\",\"marker\":{\"colorbar\":{\"outlinewidth\":0,\"ticks\":\"\"}}}],\"scatterternary\":[{\"type\":\"scatterternary\",\"marker\":{\"colorbar\":{\"outlinewidth\":0,\"ticks\":\"\"}}}],\"scattercarpet\":[{\"type\":\"scattercarpet\",\"marker\":{\"colorbar\":{\"outlinewidth\":0,\"ticks\":\"\"}}}],\"carpet\":[{\"aaxis\":{\"endlinecolor\":\"#2a3f5f\",\"gridcolor\":\"white\",\"linecolor\":\"white\",\"minorgridcolor\":\"white\",\"startlinecolor\":\"#2a3f5f\"},\"baxis\":{\"endlinecolor\":\"#2a3f5f\",\"gridcolor\":\"white\",\"linecolor\":\"white\",\"minorgridcolor\":\"white\",\"startlinecolor\":\"#2a3f5f\"},\"type\":\"carpet\"}],\"table\":[{\"cells\":{\"fill\":{\"color\":\"#EBF0F8\"},\"line\":{\"color\":\"white\"}},\"header\":{\"fill\":{\"color\":\"#C8D4E3\"},\"line\":{\"color\":\"white\"}},\"type\":\"table\"}],\"barpolar\":[{\"marker\":{\"line\":{\"color\":\"#E5ECF6\",\"width\":0.5},\"pattern\":{\"fillmode\":\"overlay\",\"size\":10,\"solidity\":0.2}},\"type\":\"barpolar\"}],\"pie\":[{\"automargin\":true,\"type\":\"pie\"}]},\"layout\":{\"autotypenumbers\":\"strict\",\"colorway\":[\"#636efa\",\"#EF553B\",\"#00cc96\",\"#ab63fa\",\"#FFA15A\",\"#19d3f3\",\"#FF6692\",\"#B6E880\",\"#FF97FF\",\"#FECB52\"],\"font\":{\"color\":\"#2a3f5f\"},\"hovermode\":\"closest\",\"hoverlabel\":{\"align\":\"left\"},\"paper_bgcolor\":\"white\",\"plot_bgcolor\":\"#E5ECF6\",\"polar\":{\"bgcolor\":\"#E5ECF6\",\"angularaxis\":{\"gridcolor\":\"white\",\"linecolor\":\"white\",\"ticks\":\"\"},\"radialaxis\":{\"gridcolor\":\"white\",\"linecolor\":\"white\",\"ticks\":\"\"}},\"ternary\":{\"bgcolor\":\"#E5ECF6\",\"aaxis\":{\"gridcolor\":\"white\",\"linecolor\":\"white\",\"ticks\":\"\"},\"baxis\":{\"gridcolor\":\"white\",\"linecolor\":\"white\",\"ticks\":\"\"},\"caxis\":{\"gridcolor\":\"white\",\"linecolor\":\"white\",\"ticks\":\"\"}},\"coloraxis\":{\"colorbar\":{\"outlinewidth\":0,\"ticks\":\"\"}},\"colorscale\":{\"sequential\":[[0.0,\"#0d0887\"],[0.1111111111111111,\"#46039f\"],[0.2222222222222222,\"#7201a8\"],[0.3333333333333333,\"#9c179e\"],[0.4444444444444444,\"#bd3786\"],[0.5555555555555556,\"#d8576b\"],[0.6666666666666666,\"#ed7953\"],[0.7777777777777778,\"#fb9f3a\"],[0.8888888888888888,\"#fdca26\"],[1.0,\"#f0f921\"]],\"sequentialminus\":[[0.0,\"#0d0887\"],[0.1111111111111111,\"#46039f\"],[0.2222222222222222,\"#7201a8\"],[0.3333333333333333,\"#9c179e\"],[0.4444444444444444,\"#bd3786\"],[0.5555555555555556,\"#d8576b\"],[0.6666666666666666,\"#ed7953\"],[0.7777777777777778,\"#fb9f3a\"],[0.8888888888888888,\"#fdca26\"],[1.0,\"#f0f921\"]],\"diverging\":[[0,\"#8e0152\"],[0.1,\"#c51b7d\"],[0.2,\"#de77ae\"],[0.3,\"#f1b6da\"],[0.4,\"#fde0ef\"],[0.5,\"#f7f7f7\"],[0.6,\"#e6f5d0\"],[0.7,\"#b8e186\"],[0.8,\"#7fbc41\"],[0.9,\"#4d9221\"],[1,\"#276419\"]]},\"xaxis\":{\"gridcolor\":\"white\",\"linecolor\":\"white\",\"ticks\":\"\",\"title\":{\"standoff\":15},\"zerolinecolor\":\"white\",\"automargin\":true,\"zerolinewidth\":2},\"yaxis\":{\"gridcolor\":\"white\",\"linecolor\":\"white\",\"ticks\":\"\",\"title\":{\"standoff\":15},\"zerolinecolor\":\"white\",\"automargin\":true,\"zerolinewidth\":2},\"scene\":{\"xaxis\":{\"backgroundcolor\":\"#E5ECF6\",\"gridcolor\":\"white\",\"linecolor\":\"white\",\"showbackground\":true,\"ticks\":\"\",\"zerolinecolor\":\"white\",\"gridwidth\":2},\"yaxis\":{\"backgroundcolor\":\"#E5ECF6\",\"gridcolor\":\"white\",\"linecolor\":\"white\",\"showbackground\":true,\"ticks\":\"\",\"zerolinecolor\":\"white\",\"gridwidth\":2},\"zaxis\":{\"backgroundcolor\":\"#E5ECF6\",\"gridcolor\":\"white\",\"linecolor\":\"white\",\"showbackground\":true,\"ticks\":\"\",\"zerolinecolor\":\"white\",\"gridwidth\":2}},\"shapedefaults\":{\"line\":{\"color\":\"#2a3f5f\"}},\"annotationdefaults\":{\"arrowcolor\":\"#2a3f5f\",\"arrowhead\":0,\"arrowwidth\":1},\"geo\":{\"bgcolor\":\"white\",\"landcolor\":\"#E5ECF6\",\"subunitcolor\":\"white\",\"showland\":true,\"showlakes\":true,\"lakecolor\":\"white\"},\"title\":{\"x\":0.05},\"mapbox\":{\"style\":\"light\"}}},\"annotations\":[{\"font\":{\"color\":\"black\",\"size\":18},\"showarrow\":false,\"text\":\"LLM Prediction\",\"x\":0.5,\"xref\":\"paper\",\"y\":-0.15,\"yref\":\"paper\"},{\"font\":{\"color\":\"black\",\"size\":18},\"showarrow\":false,\"text\":\"Data (Truth)\",\"textangle\":-90,\"x\":-0.13,\"xref\":\"paper\",\"y\":0.5,\"yref\":\"paper\"},{\"font\":{\"color\":\"black\",\"size\":30},\"showarrow\":false,\"text\":\"10\",\"x\":0,\"xref\":\"x\",\"y\":0,\"yanchor\":\"bottom\",\"yref\":\"y\"},{\"font\":{\"color\":\"black\",\"size\":25},\"showarrow\":false,\"text\":\"TN\",\"x\":0,\"xref\":\"x\",\"y\":0,\"yanchor\":\"top\",\"yref\":\"y\"},{\"font\":{\"color\":\"black\",\"size\":30},\"showarrow\":false,\"text\":\"2\",\"x\":1,\"xref\":\"x\",\"y\":0,\"yanchor\":\"bottom\",\"yref\":\"y\"},{\"font\":{\"color\":\"black\",\"size\":25},\"showarrow\":false,\"text\":\"FP\",\"x\":1,\"xref\":\"x\",\"y\":0,\"yanchor\":\"top\",\"yref\":\"y\"},{\"font\":{\"color\":\"black\",\"size\":30},\"showarrow\":false,\"text\":\"2\",\"x\":0,\"xref\":\"x\",\"y\":1,\"yanchor\":\"bottom\",\"yref\":\"y\"},{\"font\":{\"color\":\"black\",\"size\":25},\"showarrow\":false,\"text\":\"FN\",\"x\":0,\"xref\":\"x\",\"y\":1,\"yanchor\":\"top\",\"yref\":\"y\"},{\"font\":{\"color\":\"black\",\"size\":30},\"showarrow\":false,\"text\":\"6\",\"x\":1,\"xref\":\"x\",\"y\":1,\"yanchor\":\"bottom\",\"yref\":\"y\"},{\"font\":{\"color\":\"black\",\"size\":25},\"showarrow\":false,\"text\":\"TP\",\"x\":1,\"xref\":\"x\",\"y\":1,\"yanchor\":\"top\",\"yref\":\"y\"}],\"margin\":{\"t\":20,\"l\":150,\"b\":70}},                        {\"responsive\": true}                    ).then(function(){\n",
       "                            \n",
       "var gd = document.getElementById('7eb41132-c6f7-4dbd-a51a-eae6dd2915a5');\n",
       "var x = new MutationObserver(function (mutations, observer) {{\n",
       "        var display = window.getComputedStyle(gd).display;\n",
       "        if (!display || display === 'none') {{\n",
       "            console.log([gd, 'removed!']);\n",
       "            Plotly.purge(gd);\n",
       "            observer.disconnect();\n",
       "        }}\n",
       "}});\n",
       "\n",
       "// Listen for the removal of the full notebook cells\n",
       "var notebookContainer = gd.closest('#notebook-container');\n",
       "if (notebookContainer) {{\n",
       "    x.observe(notebookContainer, {childList: true});\n",
       "}}\n",
       "\n",
       "// Listen for the clearing of the current output cell\n",
       "var outputEl = gd.closest('.output');\n",
       "if (outputEl) {{\n",
       "    x.observe(outputEl, {childList: true});\n",
       "}}\n",
       "\n",
       "                        })                };                });            </script>        </div>"
      ]
     },
     "metadata": {},
     "output_type": "display_data"
    }
   ],
   "source": [
    "render_confusion_matrix(matrix)"
   ]
  }
 ],
 "metadata": {
  "kernelspec": {
   "display_name": "Python 3 (ipykernel)",
   "language": "python",
   "name": "python3"
  },
  "language_info": {
   "codemirror_mode": {
    "name": "ipython",
    "version": 3
   },
   "file_extension": ".py",
   "mimetype": "text/x-python",
   "name": "python",
   "nbconvert_exporter": "python",
   "pygments_lexer": "ipython3",
   "version": "3.11.4"
  }
 },
 "nbformat": 4,
 "nbformat_minor": 5
}
