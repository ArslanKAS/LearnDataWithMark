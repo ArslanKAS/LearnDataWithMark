{
 "cells": [
  {
   "cell_type": "markdown",
   "id": "68fc1c35-656e-4ec8-a7d3-b7d4a2196ba3",
   "metadata": {},
   "source": [
    "# Few Shot Prompting\n",
    "In this notebook, we're going to see if we can get an LLM to determine if a sentence is a question or not with help from few-shot prompting."
   ]
  },
  {
   "cell_type": "code",
   "execution_count": 196,
   "id": "5e2f09e0-7c21-43e8-a941-bda591c06fd6",
   "metadata": {
    "collapsed": true,
    "execution": {
     "iopub.execute_input": "2023-10-11T09:11:50.569030Z",
     "iopub.status.busy": "2023-10-11T09:11:50.568695Z",
     "iopub.status.idle": "2023-10-11T09:11:57.738791Z",
     "shell.execute_reply": "2023-10-11T09:11:57.738043Z",
     "shell.execute_reply.started": "2023-10-11T09:11:50.568988Z"
    },
    "jupyter": {
     "outputs_hidden": true
    }
   },
   "outputs": [
    {
     "name": "stdout",
     "output_type": "stream",
     "text": [
      "Requirement already satisfied: llama_index in /Users/markhneedham/Library/Caches/pypoetry/virtualenvs/few-shot-prompting-fCAJ70lp-py3.11/lib/python3.11/site-packages (0.8.41)\n",
      "Requirement already satisfied: openai in /Users/markhneedham/Library/Caches/pypoetry/virtualenvs/few-shot-prompting-fCAJ70lp-py3.11/lib/python3.11/site-packages (0.28.1)\n",
      "Requirement already satisfied: python-dotenv in /Users/markhneedham/Library/Caches/pypoetry/virtualenvs/few-shot-prompting-fCAJ70lp-py3.11/lib/python3.11/site-packages (1.0.0)\n",
      "Requirement already satisfied: termcolor in /Users/markhneedham/Library/Caches/pypoetry/virtualenvs/few-shot-prompting-fCAJ70lp-py3.11/lib/python3.11/site-packages (2.3.0)\n",
      "Requirement already satisfied: mpu in /Users/markhneedham/Library/Caches/pypoetry/virtualenvs/few-shot-prompting-fCAJ70lp-py3.11/lib/python3.11/site-packages (0.23.1)\n",
      "Requirement already satisfied: scikit-learn in /Users/markhneedham/Library/Caches/pypoetry/virtualenvs/few-shot-prompting-fCAJ70lp-py3.11/lib/python3.11/site-packages (1.3.1)\n",
      "Collecting seaborn\n",
      "  Obtaining dependency information for seaborn from https://files.pythonhosted.org/packages/7b/e5/83fcd7e9db036c179e0352bfcd20f81d728197a16f883e7b90307a88e65e/seaborn-0.13.0-py3-none-any.whl.metadata\n",
      "  Downloading seaborn-0.13.0-py3-none-any.whl.metadata (5.3 kB)\n",
      "Requirement already satisfied: tiktoken in /Users/markhneedham/Library/Caches/pypoetry/virtualenvs/few-shot-prompting-fCAJ70lp-py3.11/lib/python3.11/site-packages (from llama_index) (0.5.1)\n",
      "Requirement already satisfied: dataclasses-json in /Users/markhneedham/Library/Caches/pypoetry/virtualenvs/few-shot-prompting-fCAJ70lp-py3.11/lib/python3.11/site-packages (from llama_index) (0.6.1)\n",
      "Requirement already satisfied: langchain>=0.0.303 in /Users/markhneedham/Library/Caches/pypoetry/virtualenvs/few-shot-prompting-fCAJ70lp-py3.11/lib/python3.11/site-packages (from llama_index) (0.0.311)\n",
      "Requirement already satisfied: sqlalchemy>=2.0.15 in /Users/markhneedham/Library/Caches/pypoetry/virtualenvs/few-shot-prompting-fCAJ70lp-py3.11/lib/python3.11/site-packages (from llama_index) (2.0.21)\n",
      "Requirement already satisfied: numpy in /Users/markhneedham/Library/Caches/pypoetry/virtualenvs/few-shot-prompting-fCAJ70lp-py3.11/lib/python3.11/site-packages (from llama_index) (1.25.2)\n",
      "Requirement already satisfied: tenacity<9.0.0,>=8.2.0 in /Users/markhneedham/Library/Caches/pypoetry/virtualenvs/few-shot-prompting-fCAJ70lp-py3.11/lib/python3.11/site-packages (from llama_index) (8.2.3)\n",
      "Requirement already satisfied: pandas in /Users/markhneedham/Library/Caches/pypoetry/virtualenvs/few-shot-prompting-fCAJ70lp-py3.11/lib/python3.11/site-packages (from llama_index) (2.1.1)\n",
      "Requirement already satisfied: urllib3<2 in /Users/markhneedham/Library/Caches/pypoetry/virtualenvs/few-shot-prompting-fCAJ70lp-py3.11/lib/python3.11/site-packages (from llama_index) (1.26.17)\n",
      "Requirement already satisfied: fsspec>=2023.5.0 in /Users/markhneedham/Library/Caches/pypoetry/virtualenvs/few-shot-prompting-fCAJ70lp-py3.11/lib/python3.11/site-packages (from llama_index) (2023.9.2)\n",
      "Requirement already satisfied: typing-inspect>=0.8.0 in /Users/markhneedham/Library/Caches/pypoetry/virtualenvs/few-shot-prompting-fCAJ70lp-py3.11/lib/python3.11/site-packages (from llama_index) (0.9.0)\n",
      "Requirement already satisfied: typing-extensions>=4.5.0 in /Users/markhneedham/Library/Caches/pypoetry/virtualenvs/few-shot-prompting-fCAJ70lp-py3.11/lib/python3.11/site-packages (from llama_index) (4.8.0)\n",
      "Requirement already satisfied: beautifulsoup4 in /Users/markhneedham/Library/Caches/pypoetry/virtualenvs/few-shot-prompting-fCAJ70lp-py3.11/lib/python3.11/site-packages (from llama_index) (4.12.2)\n",
      "Requirement already satisfied: nest-asyncio in /Users/markhneedham/Library/Caches/pypoetry/virtualenvs/few-shot-prompting-fCAJ70lp-py3.11/lib/python3.11/site-packages (from llama_index) (1.5.8)\n",
      "Requirement already satisfied: nltk in /Users/markhneedham/Library/Caches/pypoetry/virtualenvs/few-shot-prompting-fCAJ70lp-py3.11/lib/python3.11/site-packages (from llama_index) (3.8.1)\n",
      "Requirement already satisfied: requests>=2.20 in /Users/markhneedham/Library/Caches/pypoetry/virtualenvs/few-shot-prompting-fCAJ70lp-py3.11/lib/python3.11/site-packages (from openai) (2.31.0)\n",
      "Requirement already satisfied: tqdm in /Users/markhneedham/Library/Caches/pypoetry/virtualenvs/few-shot-prompting-fCAJ70lp-py3.11/lib/python3.11/site-packages (from openai) (4.66.1)\n",
      "Requirement already satisfied: aiohttp in /Users/markhneedham/Library/Caches/pypoetry/virtualenvs/few-shot-prompting-fCAJ70lp-py3.11/lib/python3.11/site-packages (from openai) (3.8.6)\n",
      "Requirement already satisfied: scipy>=1.5.0 in /Users/markhneedham/Library/Caches/pypoetry/virtualenvs/few-shot-prompting-fCAJ70lp-py3.11/lib/python3.11/site-packages (from scikit-learn) (1.11.3)\n",
      "Requirement already satisfied: joblib>=1.1.1 in /Users/markhneedham/Library/Caches/pypoetry/virtualenvs/few-shot-prompting-fCAJ70lp-py3.11/lib/python3.11/site-packages (from scikit-learn) (1.3.2)\n",
      "Requirement already satisfied: threadpoolctl>=2.0.0 in /Users/markhneedham/Library/Caches/pypoetry/virtualenvs/few-shot-prompting-fCAJ70lp-py3.11/lib/python3.11/site-packages (from scikit-learn) (3.2.0)\n",
      "Collecting matplotlib!=3.6.1,>=3.3 (from seaborn)\n",
      "  Obtaining dependency information for matplotlib!=3.6.1,>=3.3 from https://files.pythonhosted.org/packages/af/f3/fb27b3b902fc759bbca3f9d0336c48069c3022e57552c4b0095d997c7ea8/matplotlib-3.8.0-cp311-cp311-macosx_11_0_arm64.whl.metadata\n",
      "  Downloading matplotlib-3.8.0-cp311-cp311-macosx_11_0_arm64.whl.metadata (5.8 kB)\n",
      "Requirement already satisfied: PyYAML>=5.3 in /Users/markhneedham/Library/Caches/pypoetry/virtualenvs/few-shot-prompting-fCAJ70lp-py3.11/lib/python3.11/site-packages (from langchain>=0.0.303->llama_index) (6.0.1)\n",
      "Requirement already satisfied: anyio<4.0 in /Users/markhneedham/Library/Caches/pypoetry/virtualenvs/few-shot-prompting-fCAJ70lp-py3.11/lib/python3.11/site-packages (from langchain>=0.0.303->llama_index) (3.7.1)\n",
      "Requirement already satisfied: jsonpatch<2.0,>=1.33 in /Users/markhneedham/Library/Caches/pypoetry/virtualenvs/few-shot-prompting-fCAJ70lp-py3.11/lib/python3.11/site-packages (from langchain>=0.0.303->llama_index) (1.33)\n",
      "Requirement already satisfied: langsmith<0.1.0,>=0.0.43 in /Users/markhneedham/Library/Caches/pypoetry/virtualenvs/few-shot-prompting-fCAJ70lp-py3.11/lib/python3.11/site-packages (from langchain>=0.0.303->llama_index) (0.0.43)\n",
      "Requirement already satisfied: pydantic<3,>=1 in /Users/markhneedham/Library/Caches/pypoetry/virtualenvs/few-shot-prompting-fCAJ70lp-py3.11/lib/python3.11/site-packages (from langchain>=0.0.303->llama_index) (2.4.2)\n",
      "Requirement already satisfied: attrs>=17.3.0 in /Users/markhneedham/Library/Caches/pypoetry/virtualenvs/few-shot-prompting-fCAJ70lp-py3.11/lib/python3.11/site-packages (from aiohttp->openai) (23.1.0)\n",
      "Requirement already satisfied: charset-normalizer<4.0,>=2.0 in /Users/markhneedham/Library/Caches/pypoetry/virtualenvs/few-shot-prompting-fCAJ70lp-py3.11/lib/python3.11/site-packages (from aiohttp->openai) (3.3.0)\n",
      "Requirement already satisfied: multidict<7.0,>=4.5 in /Users/markhneedham/Library/Caches/pypoetry/virtualenvs/few-shot-prompting-fCAJ70lp-py3.11/lib/python3.11/site-packages (from aiohttp->openai) (6.0.4)\n",
      "Requirement already satisfied: async-timeout<5.0,>=4.0.0a3 in /Users/markhneedham/Library/Caches/pypoetry/virtualenvs/few-shot-prompting-fCAJ70lp-py3.11/lib/python3.11/site-packages (from aiohttp->openai) (4.0.3)\n",
      "Requirement already satisfied: yarl<2.0,>=1.0 in /Users/markhneedham/Library/Caches/pypoetry/virtualenvs/few-shot-prompting-fCAJ70lp-py3.11/lib/python3.11/site-packages (from aiohttp->openai) (1.9.2)\n",
      "Requirement already satisfied: frozenlist>=1.1.1 in /Users/markhneedham/Library/Caches/pypoetry/virtualenvs/few-shot-prompting-fCAJ70lp-py3.11/lib/python3.11/site-packages (from aiohttp->openai) (1.4.0)\n",
      "Requirement already satisfied: aiosignal>=1.1.2 in /Users/markhneedham/Library/Caches/pypoetry/virtualenvs/few-shot-prompting-fCAJ70lp-py3.11/lib/python3.11/site-packages (from aiohttp->openai) (1.3.1)\n",
      "Requirement already satisfied: marshmallow<4.0.0,>=3.18.0 in /Users/markhneedham/Library/Caches/pypoetry/virtualenvs/few-shot-prompting-fCAJ70lp-py3.11/lib/python3.11/site-packages (from dataclasses-json->llama_index) (3.20.1)\n",
      "Collecting contourpy>=1.0.1 (from matplotlib!=3.6.1,>=3.3->seaborn)\n",
      "  Obtaining dependency information for contourpy>=1.0.1 from https://files.pythonhosted.org/packages/2c/8e/656f8e7cd316aa68d9824744773e90dbd71f847429d10c82001e927480a2/contourpy-1.1.1-cp311-cp311-macosx_11_0_arm64.whl.metadata\n",
      "  Downloading contourpy-1.1.1-cp311-cp311-macosx_11_0_arm64.whl.metadata (5.9 kB)\n",
      "Collecting cycler>=0.10 (from matplotlib!=3.6.1,>=3.3->seaborn)\n",
      "  Obtaining dependency information for cycler>=0.10 from https://files.pythonhosted.org/packages/e7/05/c19819d5e3d95294a6f5947fb9b9629efb316b96de511b418c53d245aae6/cycler-0.12.1-py3-none-any.whl.metadata\n",
      "  Downloading cycler-0.12.1-py3-none-any.whl.metadata (3.8 kB)\n",
      "Collecting fonttools>=4.22.0 (from matplotlib!=3.6.1,>=3.3->seaborn)\n",
      "  Obtaining dependency information for fonttools>=4.22.0 from https://files.pythonhosted.org/packages/49/ba/ebe5599acf47371393191091ae95fca08eb6f12fd151b52c8dbebb990d25/fonttools-4.43.1-cp311-cp311-macosx_10_9_universal2.whl.metadata\n",
      "  Downloading fonttools-4.43.1-cp311-cp311-macosx_10_9_universal2.whl.metadata (152 kB)\n",
      "\u001b[2K     \u001b[38;2;114;156;31m━━━━━━━━━━━━━━━━━━━━━━━━━━━━━━━━━━━━━━━\u001b[0m \u001b[32m152.4/152.4 kB\u001b[0m \u001b[31m1.7 MB/s\u001b[0m eta \u001b[36m0:00:00\u001b[0m[31m2.1 MB/s\u001b[0m eta \u001b[36m0:00:01\u001b[0m\n",
      "\u001b[?25hCollecting kiwisolver>=1.0.1 (from matplotlib!=3.6.1,>=3.3->seaborn)\n",
      "  Obtaining dependency information for kiwisolver>=1.0.1 from https://files.pythonhosted.org/packages/4a/fe/23d7fa78f7c66086d196406beb1fb2eaf629dd7adc01c3453033303d17fa/kiwisolver-1.4.5-cp311-cp311-macosx_11_0_arm64.whl.metadata\n",
      "  Downloading kiwisolver-1.4.5-cp311-cp311-macosx_11_0_arm64.whl.metadata (6.4 kB)\n",
      "Requirement already satisfied: packaging>=20.0 in /Users/markhneedham/Library/Caches/pypoetry/virtualenvs/few-shot-prompting-fCAJ70lp-py3.11/lib/python3.11/site-packages (from matplotlib!=3.6.1,>=3.3->seaborn) (23.2)\n",
      "Collecting pillow>=6.2.0 (from matplotlib!=3.6.1,>=3.3->seaborn)\n",
      "  Obtaining dependency information for pillow>=6.2.0 from https://files.pythonhosted.org/packages/e4/93/9226cc667ed8785333969c03deb2a36af2f3757284d3a2cf2ebd70331c32/Pillow-10.0.1-cp311-cp311-macosx_11_0_arm64.whl.metadata\n",
      "  Using cached Pillow-10.0.1-cp311-cp311-macosx_11_0_arm64.whl.metadata (9.5 kB)\n",
      "Collecting pyparsing>=2.3.1 (from matplotlib!=3.6.1,>=3.3->seaborn)\n",
      "  Obtaining dependency information for pyparsing>=2.3.1 from https://files.pythonhosted.org/packages/39/92/8486ede85fcc088f1b3dba4ce92dd29d126fd96b0008ea213167940a2475/pyparsing-3.1.1-py3-none-any.whl.metadata\n",
      "  Downloading pyparsing-3.1.1-py3-none-any.whl.metadata (5.1 kB)\n",
      "Requirement already satisfied: python-dateutil>=2.7 in /Users/markhneedham/Library/Caches/pypoetry/virtualenvs/few-shot-prompting-fCAJ70lp-py3.11/lib/python3.11/site-packages (from matplotlib!=3.6.1,>=3.3->seaborn) (2.8.2)\n",
      "Requirement already satisfied: pytz>=2020.1 in /Users/markhneedham/Library/Caches/pypoetry/virtualenvs/few-shot-prompting-fCAJ70lp-py3.11/lib/python3.11/site-packages (from pandas->llama_index) (2023.3.post1)\n",
      "Requirement already satisfied: tzdata>=2022.1 in /Users/markhneedham/Library/Caches/pypoetry/virtualenvs/few-shot-prompting-fCAJ70lp-py3.11/lib/python3.11/site-packages (from pandas->llama_index) (2023.3)\n",
      "Requirement already satisfied: idna<4,>=2.5 in /Users/markhneedham/Library/Caches/pypoetry/virtualenvs/few-shot-prompting-fCAJ70lp-py3.11/lib/python3.11/site-packages (from requests>=2.20->openai) (3.4)\n",
      "Requirement already satisfied: certifi>=2017.4.17 in /Users/markhneedham/Library/Caches/pypoetry/virtualenvs/few-shot-prompting-fCAJ70lp-py3.11/lib/python3.11/site-packages (from requests>=2.20->openai) (2023.7.22)\n",
      "Requirement already satisfied: mypy-extensions>=0.3.0 in /Users/markhneedham/Library/Caches/pypoetry/virtualenvs/few-shot-prompting-fCAJ70lp-py3.11/lib/python3.11/site-packages (from typing-inspect>=0.8.0->llama_index) (1.0.0)\n",
      "Requirement already satisfied: soupsieve>1.2 in /Users/markhneedham/Library/Caches/pypoetry/virtualenvs/few-shot-prompting-fCAJ70lp-py3.11/lib/python3.11/site-packages (from beautifulsoup4->llama_index) (2.5)\n",
      "Requirement already satisfied: click in /Users/markhneedham/Library/Caches/pypoetry/virtualenvs/few-shot-prompting-fCAJ70lp-py3.11/lib/python3.11/site-packages (from nltk->llama_index) (8.1.7)\n",
      "Requirement already satisfied: regex>=2021.8.3 in /Users/markhneedham/Library/Caches/pypoetry/virtualenvs/few-shot-prompting-fCAJ70lp-py3.11/lib/python3.11/site-packages (from nltk->llama_index) (2023.10.3)\n",
      "Requirement already satisfied: sniffio>=1.1 in /Users/markhneedham/Library/Caches/pypoetry/virtualenvs/few-shot-prompting-fCAJ70lp-py3.11/lib/python3.11/site-packages (from anyio<4.0->langchain>=0.0.303->llama_index) (1.3.0)\n",
      "Requirement already satisfied: jsonpointer>=1.9 in /Users/markhneedham/Library/Caches/pypoetry/virtualenvs/few-shot-prompting-fCAJ70lp-py3.11/lib/python3.11/site-packages (from jsonpatch<2.0,>=1.33->langchain>=0.0.303->llama_index) (2.4)\n",
      "Requirement already satisfied: annotated-types>=0.4.0 in /Users/markhneedham/Library/Caches/pypoetry/virtualenvs/few-shot-prompting-fCAJ70lp-py3.11/lib/python3.11/site-packages (from pydantic<3,>=1->langchain>=0.0.303->llama_index) (0.6.0)\n",
      "Requirement already satisfied: pydantic-core==2.10.1 in /Users/markhneedham/Library/Caches/pypoetry/virtualenvs/few-shot-prompting-fCAJ70lp-py3.11/lib/python3.11/site-packages (from pydantic<3,>=1->langchain>=0.0.303->llama_index) (2.10.1)\n",
      "Requirement already satisfied: six>=1.5 in /Users/markhneedham/Library/Caches/pypoetry/virtualenvs/few-shot-prompting-fCAJ70lp-py3.11/lib/python3.11/site-packages (from python-dateutil>=2.7->matplotlib!=3.6.1,>=3.3->seaborn) (1.16.0)\n",
      "Downloading seaborn-0.13.0-py3-none-any.whl (294 kB)\n",
      "\u001b[2K   \u001b[38;2;114;156;31m━━━━━━━━━━━━━━━━━━━━━━━━━━━━━━━━━━━━━━━━\u001b[0m \u001b[32m294.6/294.6 kB\u001b[0m \u001b[31m4.3 MB/s\u001b[0m eta \u001b[36m0:00:00\u001b[0m MB/s\u001b[0m eta \u001b[36m0:00:01\u001b[0m\n",
      "\u001b[?25hDownloading matplotlib-3.8.0-cp311-cp311-macosx_11_0_arm64.whl (7.5 MB)\n",
      "\u001b[2K   \u001b[38;2;114;156;31m━━━━━━━━━━━━━━━━━━━━━━━━━━━━━━━━━━━━━━━━\u001b[0m \u001b[32m7.5/7.5 MB\u001b[0m \u001b[31m5.1 MB/s\u001b[0m eta \u001b[36m0:00:00\u001b[0mm eta \u001b[36m0:00:01\u001b[0m0:01\u001b[0m:01\u001b[0m\n",
      "\u001b[?25hDownloading contourpy-1.1.1-cp311-cp311-macosx_11_0_arm64.whl (233 kB)\n",
      "\u001b[2K   \u001b[38;2;114;156;31m━━━━━━━━━━━━━━━━━━━━━━━━━━━━━━━━━━━━━━━━\u001b[0m \u001b[32m233.6/233.6 kB\u001b[0m \u001b[31m3.7 MB/s\u001b[0m eta \u001b[36m0:00:00\u001b[0m[31m4.5 MB/s\u001b[0m eta \u001b[36m0:00:01\u001b[0m\n",
      "\u001b[?25hDownloading cycler-0.12.1-py3-none-any.whl (8.3 kB)\n",
      "Downloading fonttools-4.43.1-cp311-cp311-macosx_10_9_universal2.whl (2.7 MB)\n",
      "\u001b[2K   \u001b[38;2;114;156;31m━━━━━━━━━━━━━━━━━━━━━━━━━━━━━━━━━━━━━━━━\u001b[0m \u001b[32m2.7/2.7 MB\u001b[0m \u001b[31m6.6 MB/s\u001b[0m eta \u001b[36m0:00:00\u001b[0m[36m0:00:01\u001b[0mm eta \u001b[36m0:00:01\u001b[0m\n",
      "\u001b[?25hDownloading kiwisolver-1.4.5-cp311-cp311-macosx_11_0_arm64.whl (66 kB)\n",
      "\u001b[2K   \u001b[38;2;114;156;31m━━━━━━━━━━━━━━━━━━━━━━━━━━━━━━━━━━━━━━━━\u001b[0m \u001b[32m66.2/66.2 kB\u001b[0m \u001b[31m3.7 MB/s\u001b[0m eta \u001b[36m0:00:00\u001b[0m\n",
      "\u001b[?25hUsing cached Pillow-10.0.1-cp311-cp311-macosx_11_0_arm64.whl (3.3 MB)\n",
      "Downloading pyparsing-3.1.1-py3-none-any.whl (103 kB)\n",
      "\u001b[2K   \u001b[38;2;114;156;31m━━━━━━━━━━━━━━━━━━━━━━━━━━━━━━━━━━━━━━━━\u001b[0m \u001b[32m103.1/103.1 kB\u001b[0m \u001b[31m4.5 MB/s\u001b[0m eta \u001b[36m0:00:00\u001b[0m\n",
      "\u001b[?25hInstalling collected packages: pyparsing, pillow, kiwisolver, fonttools, cycler, contourpy, matplotlib, seaborn\n",
      "Successfully installed contourpy-1.1.1 cycler-0.12.1 fonttools-4.43.1 kiwisolver-1.4.5 matplotlib-3.8.0 pillow-10.0.1 pyparsing-3.1.1 seaborn-0.13.0\n"
     ]
    }
   ],
   "source": [
    "!pip install llama_index openai python-dotenv termcolor mpu scikit-learn seaborn"
   ]
  },
  {
   "cell_type": "markdown",
   "id": "36be46b7-cee7-4294-b5f5-c56694faf876",
   "metadata": {},
   "source": [
    "## Our dataset 📋\n",
    "We're going to attempt to categorise a bunch of sentences, some of which are questions and others which aren't."
   ]
  },
  {
   "cell_type": "code",
   "execution_count": 241,
   "id": "ca4ec90c-074c-417b-a0e6-9b9c033972b8",
   "metadata": {
    "execution": {
     "iopub.execute_input": "2023-10-12T06:08:20.950805Z",
     "iopub.status.busy": "2023-10-12T06:08:20.950388Z",
     "iopub.status.idle": "2023-10-12T06:08:20.965236Z",
     "shell.execute_reply": "2023-10-12T06:08:20.964393Z",
     "shell.execute_reply.started": "2023-10-12T06:08:20.950783Z"
    }
   },
   "outputs": [
    {
     "data": {
      "text/plain": [
       "[('The weather is quite pleasant today.', False),\n",
       " ('Have you ever been to Paris', True),\n",
       " ('I enjoy reading books on rainy days.', False),\n",
       " ('What is your favorite type of cuisine', True),\n",
       " ('The movie last night was exhilarating.', False),\n",
       " ('She has a collection of vintage postcards.', False),\n",
       " ('Can you believe it’s already October', True),\n",
       " ('I think the library closes at 6 pm.', False),\n",
       " ('Where do you usually go for vacation', True),\n",
       " ('It’s amazing how time flies.', False),\n",
       " ('The concert last night was incredible.', False),\n",
       " ('Have you finished the report yet', True),\n",
       " ('He likes to play soccer on weekends.', False),\n",
       " ('What time does the meeting start', True),\n",
       " (\"I can't believe how fast the kids are growing up.\", False),\n",
       " ('Is the grocery store open on Sundays', True),\n",
       " ('She has a knack for solving complex puzzles.', False),\n",
       " ('Guess who just got promoted', True),\n",
       " ('The painting in the hallway is quite striking.', False),\n",
       " ('Could be that he forgot our appointment.', False)]"
      ]
     },
     "execution_count": 241,
     "metadata": {},
     "output_type": "execute_result"
    }
   ],
   "source": [
    "import csv\n",
    "from mpu.string import str2bool\n",
    "\n",
    "with open('sentences.csv', 'r') as sentences_file:\n",
    "  reader = csv.reader(sentences_file, delimiter=\",\")\n",
    "  next(reader)\n",
    "  sentences = [(row[0], str2bool(row[1])) for row in reader]\n",
    "\n",
    "sentences"
   ]
  },
  {
   "cell_type": "markdown",
   "id": "96a034ee-0001-4871-b231-f01e0b8eede4",
   "metadata": {},
   "source": [
    "## Are they sentences? 🤔\n",
    "Let's see whether our LLM can work out which ones are sentences!"
   ]
  },
  {
   "cell_type": "code",
   "execution_count": 242,
   "id": "13bd4135-3cd5-45ac-a03e-9e6271f28ea0",
   "metadata": {
    "execution": {
     "iopub.execute_input": "2023-10-12T06:08:39.903197Z",
     "iopub.status.busy": "2023-10-12T06:08:39.899396Z",
     "iopub.status.idle": "2023-10-12T06:08:39.912027Z",
     "shell.execute_reply": "2023-10-12T06:08:39.908382Z",
     "shell.execute_reply.started": "2023-10-12T06:08:39.903158Z"
    }
   },
   "outputs": [],
   "source": [
    "from llama_index.llms import Ollama\n",
    "import json\n",
    "from termcolor import colored"
   ]
  },
  {
   "cell_type": "code",
   "execution_count": 243,
   "id": "5ec5dd12-f778-407b-af1e-b576d95fda14",
   "metadata": {
    "execution": {
     "iopub.execute_input": "2023-10-12T06:09:05.123086Z",
     "iopub.status.busy": "2023-10-12T06:09:05.122364Z",
     "iopub.status.idle": "2023-10-12T06:09:05.136273Z",
     "shell.execute_reply": "2023-10-12T06:09:05.131718Z",
     "shell.execute_reply.started": "2023-10-12T06:09:05.123060Z"
    }
   },
   "outputs": [],
   "source": [
    "def handle_result(sentence, is_sentence, llm_answer):\n",
    "  result = f\"Actual: {str(is_sentence).ljust(5)} LLM: {llm_answer}\"\n",
    "  print(f\"{sentence.ljust(60)} {colored(result, 'green' if is_sentence == llm_answer else 'red')}\")\n",
    "\n",
    "def handle_error(sentence, is_sentence, ex, llm_says):\n",
    "  result = f\"Actual: {str(is_sentence).ljust(5)} LLM: {ex} - {llm_says}\"\n",
    "  print(f\"{sentence.ljust(60)} {colored(result, 'red')}\")"
   ]
  },
  {
   "cell_type": "code",
   "execution_count": 244,
   "id": "c725e785-9370-4867-95b5-2ec81556b606",
   "metadata": {
    "execution": {
     "iopub.execute_input": "2023-10-12T06:09:31.761715Z",
     "iopub.status.busy": "2023-10-12T06:09:31.761511Z",
     "iopub.status.idle": "2023-10-12T06:09:31.764708Z",
     "shell.execute_reply": "2023-10-12T06:09:31.764263Z",
     "shell.execute_reply.started": "2023-10-12T06:09:31.761693Z"
    }
   },
   "outputs": [],
   "source": [
    "def predict_sentences(sentences, model):\n",
    "  llm_answers=[]\n",
    "  for sentence, is_sentence in sentences:\n",
    "    llm_says = model.complete(sentence).text.replace(\"</s>\", \"\").replace(\"<s>\", \"\")\n",
    "    try:\n",
    "      llm_answer = json.loads(llm_says)\n",
    "      handle_result(sentence, is_sentence, llm_answer)\n",
    "      llm_answers.append(llm_answer)\n",
    "    except json.JSONDecodeError as ex:\n",
    "      handle_error(sentence, is_sentence, ex, llm_says)\n",
    "      llm_answers.append(None)\n",
    "\n",
    "  return llm_answers"
   ]
  },
  {
   "cell_type": "code",
   "execution_count": 245,
   "id": "d39c9a88-9ddc-44ee-b436-1c49aac6e055",
   "metadata": {
    "execution": {
     "iopub.execute_input": "2023-10-12T06:09:37.443828Z",
     "iopub.status.busy": "2023-10-12T06:09:37.443481Z",
     "iopub.status.idle": "2023-10-12T06:09:37.458577Z",
     "shell.execute_reply": "2023-10-12T06:09:37.456746Z",
     "shell.execute_reply.started": "2023-10-12T06:09:37.443807Z"
    }
   },
   "outputs": [],
   "source": [
    "base_llama2 = Ollama(model=\"question-llama2-base\")"
   ]
  },
  {
   "cell_type": "code",
   "execution_count": 246,
   "id": "1cccc2b9-28b3-453b-87b4-924fc1e84ee0",
   "metadata": {
    "execution": {
     "iopub.execute_input": "2023-10-12T06:09:42.619389Z",
     "iopub.status.busy": "2023-10-12T06:09:42.617430Z",
     "iopub.status.idle": "2023-10-12T06:09:49.500854Z",
     "shell.execute_reply": "2023-10-12T06:09:49.493386Z",
     "shell.execute_reply.started": "2023-10-12T06:09:42.618652Z"
    }
   },
   "outputs": [
    {
     "name": "stdout",
     "output_type": "stream",
     "text": [
      "The weather is quite pleasant today.                         \u001b[31mActual: False LLM: Expecting value: line 1 column 1 (char 0) - True\u001b[0m\n",
      "Have you ever been to Paris                                  \u001b[31mActual: True  LLM: Expecting value: line 1 column 1 (char 0) - True\u001b[0m\n",
      "I enjoy reading books on rainy days.                         \u001b[31mActual: False LLM: Expecting value: line 1 column 1 (char 0) - True\u001b[0m\n",
      "What is your favorite type of cuisine                        \u001b[31mActual: True  LLM: Expecting value: line 1 column 1 (char 0) - True\u001b[0m\n",
      "The movie last night was exhilarating.                       \u001b[31mActual: False LLM: Expecting value: line 1 column 1 (char 0) - True\u001b[0m\n",
      "She has a collection of vintage postcards.                   \u001b[31mActual: False LLM: Expecting value: line 1 column 1 (char 0) - True\u001b[0m\n",
      "Can you believe it’s already October                         \u001b[31mActual: True  LLM: Expecting value: line 1 column 1 (char 0) - True\u001b[0m\n",
      "I think the library closes at 6 pm.                          \u001b[31mActual: False LLM: Expecting value: line 1 column 1 (char 0) - True\u001b[0m\n",
      "Where do you usually go for vacation                         \u001b[31mActual: True  LLM: Expecting value: line 1 column 1 (char 0) - True\u001b[0m\n",
      "It’s amazing how time flies.                                 \u001b[31mActual: False LLM: Expecting value: line 1 column 1 (char 0) - True\u001b[0m\n",
      "The concert last night was incredible.                       \u001b[31mActual: False LLM: Expecting value: line 1 column 1 (char 0) - True\u001b[0m\n",
      "Have you finished the report yet                             \u001b[31mActual: True  LLM: Expecting value: line 1 column 1 (char 0) - True\u001b[0m\n",
      "He likes to play soccer on weekends.                         \u001b[31mActual: False LLM: Expecting value: line 1 column 1 (char 0) - True\u001b[0m\n",
      "What time does the meeting start                             \u001b[31mActual: True  LLM: Expecting value: line 1 column 1 (char 0) - True\u001b[0m\n",
      "I can't believe how fast the kids are growing up.            \u001b[31mActual: False LLM: Expecting value: line 1 column 1 (char 0) - True\u001b[0m\n",
      "Is the grocery store open on Sundays                         \u001b[31mActual: True  LLM: Expecting value: line 1 column 1 (char 0) - True\u001b[0m\n",
      "She has a knack for solving complex puzzles.                 \u001b[31mActual: False LLM: Expecting value: line 1 column 1 (char 0) - True\u001b[0m\n",
      "Guess who just got promoted                                  \u001b[31mActual: True  LLM: Expecting value: line 1 column 1 (char 0) - True\u001b[0m\n",
      "The painting in the hallway is quite striking.               \u001b[31mActual: False LLM: Expecting value: line 1 column 1 (char 0) - True\u001b[0m\n",
      "Could be that he forgot our appointment.                     \u001b[31mActual: False LLM: Expecting value: line 1 column 1 (char 0) - True\u001b[0m\n"
     ]
    }
   ],
   "source": [
    "_ = predict_sentences(sentences, base_llama2)"
   ]
  }
 ],
 "metadata": {
  "kernelspec": {
   "display_name": "Python 3 (ipykernel)",
   "language": "python",
   "name": "python3"
  },
  "language_info": {
   "codemirror_mode": {
    "name": "ipython",
    "version": 3
   },
   "file_extension": ".py",
   "mimetype": "text/x-python",
   "name": "python",
   "nbconvert_exporter": "python",
   "pygments_lexer": "ipython3",
   "version": "3.11.4"
  }
 },
 "nbformat": 4,
 "nbformat_minor": 5
}
