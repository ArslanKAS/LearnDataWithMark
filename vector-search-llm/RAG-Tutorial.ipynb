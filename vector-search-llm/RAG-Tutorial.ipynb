{
 "cells": [
  {
   "cell_type": "markdown",
   "id": "11899330-7adc-41a2-af17-df690d2012ac",
   "metadata": {
    "scrolled": true
   },
   "source": [
    "# Retrieval Augmented Generation\n",
    "In this notebook, we'll learn how to do [Retrieval Augmented Generation](https://www.promptingguide.ai/techniques/rag) with ChromaDB and OpenAI to answer questions about the Wimbledon 2023 tennis tournament"
   ]
  },
  {
   "cell_type": "markdown",
   "id": "2cf0f9ea-5944-401c-897b-b83c302b8692",
   "metadata": {},
   "source": [
    "## Load data from Wikipedia\n",
    "We're going to first extract data from the Wimbledon 2023 Wikipedia page."
   ]
  },
  {
   "cell_type": "code",
   "execution_count": 242,
   "id": "41f2f2e7-2662-48a9-a6f2-571da842a3c0",
   "metadata": {
    "execution": {
     "iopub.execute_input": "2023-09-01T06:27:44.007599Z",
     "iopub.status.busy": "2023-09-01T06:27:44.007262Z",
     "iopub.status.idle": "2023-09-01T06:27:44.022727Z",
     "shell.execute_reply": "2023-09-01T06:27:44.019704Z",
     "shell.execute_reply.started": "2023-09-01T06:27:44.007557Z"
    }
   },
   "outputs": [],
   "source": [
    "from langchain.document_loaders import WikipediaLoader\n",
    "from langchain.text_splitter import RecursiveCharacterTextSplitter"
   ]
  },
  {
   "cell_type": "code",
   "execution_count": 243,
   "id": "9b4766f8-50e4-4754-9522-11f6bef7cce1",
   "metadata": {
    "execution": {
     "iopub.execute_input": "2023-09-01T06:27:51.269532Z",
     "iopub.status.busy": "2023-09-01T06:27:51.267999Z",
     "iopub.status.idle": "2023-09-01T06:27:53.144557Z",
     "shell.execute_reply": "2023-09-01T06:27:53.143600Z",
     "shell.execute_reply.started": "2023-09-01T06:27:51.269429Z"
    }
   },
   "outputs": [],
   "source": [
    "search_term = \"2023 Wimbledon Championships\"\n",
    "docs = WikipediaLoader(query=search_term, load_max_docs=1).load()"
   ]
  },
  {
   "cell_type": "code",
   "execution_count": 244,
   "id": "db413e90-9fc9-4a42-9f54-2e7154f3f6c4",
   "metadata": {
    "execution": {
     "iopub.execute_input": "2023-09-01T06:28:04.915271Z",
     "iopub.status.busy": "2023-09-01T06:28:04.914892Z",
     "iopub.status.idle": "2023-09-01T06:28:04.932024Z",
     "shell.execute_reply": "2023-09-01T06:28:04.931417Z",
     "shell.execute_reply.started": "2023-09-01T06:28:04.915251Z"
    }
   },
   "outputs": [
    {
     "data": {
      "text/plain": [
       "[Document(page_content='The 2023 Wimbledon Championships was a Grand Slam tennis tournament that took place at the All', metadata={'title': '2023 Wimbledon Championships', 'summary': 'The 2023 Wimbledon Championships was a Grand Slam tennis tournament that took place at the All England Lawn Tennis and Croquet Club in Wimbledon, London, United Kingdom.', 'source': 'https://en.wikipedia.org/wiki/2023_Wimbledon_Championships'}),\n",
       " Document(page_content='place at the All England Lawn Tennis and Croquet Club in Wimbledon, London, United Kingdom.', metadata={'title': '2023 Wimbledon Championships', 'summary': 'The 2023 Wimbledon Championships was a Grand Slam tennis tournament that took place at the All England Lawn Tennis and Croquet Club in Wimbledon, London, United Kingdom.', 'source': 'https://en.wikipedia.org/wiki/2023_Wimbledon_Championships'}),\n",
       " Document(page_content='== Tournament ==', metadata={'title': '2023 Wimbledon Championships', 'summary': 'The 2023 Wimbledon Championships was a Grand Slam tennis tournament that took place at the All England Lawn Tennis and Croquet Club in Wimbledon, London, United Kingdom.', 'source': 'https://en.wikipedia.org/wiki/2023_Wimbledon_Championships'})]"
      ]
     },
     "execution_count": 244,
     "metadata": {},
     "output_type": "execute_result"
    }
   ],
   "source": [
    "text_splitter = RecursiveCharacterTextSplitter(\n",
    "    chunk_size = 100,\n",
    "    chunk_overlap  = 20,\n",
    "    length_function = len,\n",
    "    is_separator_regex = False,\n",
    ")\n",
    "\n",
    "data = text_splitter.split_documents(docs)\n",
    "data[:3]"
   ]
  },
  {
   "cell_type": "markdown",
   "id": "deab2285-9e95-49b2-90f9-d65c11f9aa2d",
   "metadata": {},
   "source": [
    "## Storing embeddings in ChromaDB\n",
    "Next, let's store those chunks of text as embeddings in ChromaDB"
   ]
  },
  {
   "cell_type": "code",
   "execution_count": 245,
   "id": "987d8233-3971-4794-85cb-6fd3d7f23d0d",
   "metadata": {
    "execution": {
     "iopub.execute_input": "2023-09-01T06:28:15.524283Z",
     "iopub.status.busy": "2023-09-01T06:28:15.523013Z",
     "iopub.status.idle": "2023-09-01T06:28:15.544418Z",
     "shell.execute_reply": "2023-09-01T06:28:15.540396Z",
     "shell.execute_reply.started": "2023-09-01T06:28:15.524234Z"
    }
   },
   "outputs": [],
   "source": [
    "from langchain.vectorstores import Chroma\n",
    "from langchain.embeddings import OpenAIEmbeddings"
   ]
  },
  {
   "cell_type": "code",
   "execution_count": 246,
   "id": "716c23e3-9fab-4f15-81ea-1feabc1fe7aa",
   "metadata": {
    "execution": {
     "iopub.execute_input": "2023-09-01T06:28:18.399098Z",
     "iopub.status.busy": "2023-09-01T06:28:18.397202Z",
     "iopub.status.idle": "2023-09-01T06:28:18.419006Z",
     "shell.execute_reply": "2023-09-01T06:28:18.416972Z",
     "shell.execute_reply.started": "2023-09-01T06:28:18.398927Z"
    }
   },
   "outputs": [],
   "source": [
    "embeddings = OpenAIEmbeddings()"
   ]
  },
  {
   "cell_type": "code",
   "execution_count": 247,
   "id": "d41a4d18-f0bb-4ae5-b79e-940d4affd693",
   "metadata": {
    "execution": {
     "iopub.execute_input": "2023-09-01T06:28:31.339607Z",
     "iopub.status.busy": "2023-09-01T06:28:31.338911Z",
     "iopub.status.idle": "2023-09-01T06:28:33.383715Z",
     "shell.execute_reply": "2023-09-01T06:28:33.383430Z",
     "shell.execute_reply.started": "2023-09-01T06:28:31.339580Z"
    }
   },
   "outputs": [],
   "source": [
    "store = Chroma.from_documents(\n",
    "    data, \n",
    "    embeddings, \n",
    "    ids = [f\"{item.metadata['source']}-{index}\" for index, item in enumerate(data)],\n",
    "    collection_name=\"Wimbledon-Embeddings\", \n",
    "persist_directory='db',\n",
    ")\n",
    "store.persist()"
   ]
  },
  {
   "cell_type": "markdown",
   "id": "fbf122e8-458c-4548-afa0-6fc2eec183f3",
   "metadata": {},
   "source": [
    "## Asking questions about Wimbledon 2023\n",
    "Now let's use OpenAI, augmented by ChromaDB, to ask some questions about the tournament."
   ]
  },
  {
   "cell_type": "code",
   "execution_count": 248,
   "id": "ed637f63-68ac-46df-b92a-292476572488",
   "metadata": {
    "execution": {
     "iopub.execute_input": "2023-09-01T06:28:42.911560Z",
     "iopub.status.busy": "2023-09-01T06:28:42.910986Z",
     "iopub.status.idle": "2023-09-01T06:28:42.923934Z",
     "shell.execute_reply": "2023-09-01T06:28:42.919624Z",
     "shell.execute_reply.started": "2023-09-01T06:28:42.911485Z"
    }
   },
   "outputs": [],
   "source": [
    "from langchain.chains import RetrievalQA\n",
    "from langchain.prompts import PromptTemplate\n",
    "from langchain.chat_models import ChatOpenAI\n",
    "import pprint"
   ]
  },
  {
   "cell_type": "code",
   "execution_count": 249,
   "id": "da98e635-dd23-41c8-ab42-d31d173ed989",
   "metadata": {
    "execution": {
     "iopub.execute_input": "2023-09-01T06:28:50.188013Z",
     "iopub.status.busy": "2023-09-01T06:28:50.187530Z",
     "iopub.status.idle": "2023-09-01T06:28:50.200813Z",
     "shell.execute_reply": "2023-09-01T06:28:50.196836Z",
     "shell.execute_reply.started": "2023-09-01T06:28:50.187971Z"
    }
   },
   "outputs": [],
   "source": [
    "template = \"\"\"You are a bot that answers questions about Wimbledon 2023, using only the context provided.\n",
    "If you don't know the answer, simply state that you don't know.\n",
    "\n",
    "{context}\n",
    "\n",
    "Question: {question}\"\"\"\n",
    "\n",
    "PROMPT = PromptTemplate(\n",
    "    template=template, input_variables=[\"context\", \"question\"]\n",
    ")"
   ]
  },
  {
   "cell_type": "code",
   "execution_count": 250,
   "id": "1ed5ba23-dc8c-43cd-bcee-57193c08139e",
   "metadata": {
    "execution": {
     "iopub.execute_input": "2023-09-01T06:28:53.868341Z",
     "iopub.status.busy": "2023-09-01T06:28:53.867966Z",
     "iopub.status.idle": "2023-09-01T06:28:53.881475Z",
     "shell.execute_reply": "2023-09-01T06:28:53.879540Z",
     "shell.execute_reply.started": "2023-09-01T06:28:53.868320Z"
    }
   },
   "outputs": [],
   "source": [
    "llm = ChatOpenAI(temperature=0, model=\"gpt-4\")"
   ]
  },
  {
   "cell_type": "code",
   "execution_count": 251,
   "id": "66cf008a-0d19-4797-bcf9-55e4176911e3",
   "metadata": {
    "execution": {
     "iopub.execute_input": "2023-09-01T06:29:04.877430Z",
     "iopub.status.busy": "2023-09-01T06:29:04.876224Z",
     "iopub.status.idle": "2023-09-01T06:29:04.899328Z",
     "shell.execute_reply": "2023-09-01T06:29:04.896801Z",
     "shell.execute_reply.started": "2023-09-01T06:29:04.877374Z"
    }
   },
   "outputs": [],
   "source": [
    "qa_with_source = RetrievalQA.from_chain_type(\n",
    "    llm=llm,\n",
    "    chain_type=\"stuff\",\n",
    "    retriever=store.as_retriever(),\n",
    "    chain_type_kwargs={\"prompt\": PROMPT, },\n",
    "    return_source_documents=True,\n",
    ")"
   ]
  },
  {
   "cell_type": "code",
   "execution_count": 252,
   "id": "d37505aa-c58a-468b-bdd3-16cf7346d456",
   "metadata": {
    "execution": {
     "iopub.execute_input": "2023-09-01T06:29:10.117640Z",
     "iopub.status.busy": "2023-09-01T06:29:10.117000Z",
     "iopub.status.idle": "2023-09-01T06:29:14.938415Z",
     "shell.execute_reply": "2023-09-01T06:29:14.920038Z",
     "shell.execute_reply.started": "2023-09-01T06:29:10.117620Z"
    }
   },
   "outputs": [
    {
     "name": "stdout",
     "output_type": "stream",
     "text": [
      "{'query': 'When and where was Wimbledon 2023 held?',\n",
      " 'result': 'Wimbledon 2023 was held at the All England Lawn Tennis and Croquet '\n",
      "           'Club in Wimbledon, London, United Kingdom from 3 to 16 July 2023.',\n",
      " 'source_documents': [Document(page_content='at the All England Lawn Tennis and Croquet Club, Wimbledon, from 3 to 16 July 2023. Qualifying', metadata={'source': 'https://en.wikipedia.org/wiki/2023_Wimbledon_Championships', 'summary': 'The 2023 Wimbledon Championships was a Grand Slam tennis tournament that took place at the All England Lawn Tennis and Croquet Club in Wimbledon, London, United Kingdom.', 'title': '2023 Wimbledon Championships'}),\n",
      "                      Document(page_content='2023. Qualifying matches were played from 26 to 29 June 2023 at the Bank of England Sports Ground', metadata={'source': 'https://en.wikipedia.org/wiki/2023_Wimbledon_Championships', 'summary': 'The 2023 Wimbledon Championships was a Grand Slam tennis tournament that took place at the All England Lawn Tennis and Croquet Club in Wimbledon, London, United Kingdom.', 'title': '2023 Wimbledon Championships'}),\n",
      "                      Document(page_content='place at the All England Lawn Tennis and Croquet Club in Wimbledon, London, United Kingdom.', metadata={'source': 'https://en.wikipedia.org/wiki/2023_Wimbledon_Championships', 'summary': 'The 2023 Wimbledon Championships was a Grand Slam tennis tournament that took place at the All England Lawn Tennis and Croquet Club in Wimbledon, London, United Kingdom.', 'title': '2023 Wimbledon Championships'}),\n",
      "                      Document(page_content='The 2023 Championships was the 136th edition, the 129th staging of the Ladies’ Singles Championship', metadata={'source': 'https://en.wikipedia.org/wiki/2023_Wimbledon_Championships', 'summary': 'The 2023 Wimbledon Championships was a Grand Slam tennis tournament that took place at the All England Lawn Tennis and Croquet Club in Wimbledon, London, United Kingdom.', 'title': '2023 Wimbledon Championships'})]}\n"
     ]
    }
   ],
   "source": [
    "pprint.pprint(\n",
    "    qa_with_source(\"When and where was Wimbledon 2023 held?\")\n",
    ")"
   ]
  },
  {
   "cell_type": "code",
   "execution_count": 253,
   "id": "b6d10178-840a-412d-93e8-6a3a83d9478f",
   "metadata": {
    "execution": {
     "iopub.execute_input": "2023-09-01T06:29:22.319568Z",
     "iopub.status.busy": "2023-09-01T06:29:22.318829Z",
     "iopub.status.idle": "2023-09-01T06:29:27.957423Z",
     "shell.execute_reply": "2023-09-01T06:29:27.954812Z",
     "shell.execute_reply.started": "2023-09-01T06:29:22.319547Z"
    }
   },
   "outputs": [
    {
     "name": "stdout",
     "output_type": "stream",
     "text": [
      "{'query': \"Who won the mens' singles title and what was the score?\",\n",
      " 'result': \"Carlos Alcaraz won the men's singles title. The score was 1–6, \"\n",
      "           '7–6(8–6), 6–1, 3–6, 6–4.',\n",
      " 'source_documents': [Document(page_content=\"Carlos Alcaraz def.  Novak Djokovic 1–6, 7–6(8–6), 6–1, 3–6, 6–4\\n\\n\\n=== Ladies' singles ===\", metadata={'source': 'https://en.wikipedia.org/wiki/2023_Wimbledon_Championships', 'summary': 'The 2023 Wimbledon Championships was a Grand Slam tennis tournament that took place at the All England Lawn Tennis and Croquet Club in Wimbledon, London, United Kingdom.', 'title': '2023 Wimbledon Championships'}),\n",
      "                      Document(page_content=\"== Events ==\\n\\n\\n=== Gentlemen's singles ===\", metadata={'source': 'https://en.wikipedia.org/wiki/2023_Wimbledon_Championships', 'summary': 'The 2023 Wimbledon Championships was a Grand Slam tennis tournament that took place at the All England Lawn Tennis and Croquet Club in Wimbledon, London, United Kingdom.', 'title': '2023 Wimbledon Championships'}),\n",
      "                      Document(page_content='Sam Schröder /  Niels Vink def.  Heath Davidson /  Robert Shaw, 7–6(7–5), 6–0', metadata={'source': 'https://en.wikipedia.org/wiki/2023_Wimbledon_Championships', 'summary': 'The 2023 Wimbledon Championships was a Grand Slam tennis tournament that took place at the All England Lawn Tennis and Croquet Club in Wimbledon, London, United Kingdom.', 'title': '2023 Wimbledon Championships'}),\n",
      "                      Document(page_content='Wesley Koolhof /  Neal Skupski def.  Marcel Granollers /  Horacio Zeballos, 6–4, 6–4', metadata={'source': 'https://en.wikipedia.org/wiki/2023_Wimbledon_Championships', 'summary': 'The 2023 Wimbledon Championships was a Grand Slam tennis tournament that took place at the All England Lawn Tennis and Croquet Club in Wimbledon, London, United Kingdom.', 'title': '2023 Wimbledon Championships'})]}\n"
     ]
    }
   ],
   "source": [
    "pprint.pprint(\n",
    "    qa_with_source(\"Who won the mens' singles title and what was the score?\")\n",
    ")"
   ]
  },
  {
   "cell_type": "code",
   "execution_count": 254,
   "id": "f8ecad9c-8afd-4e02-801a-18586b206e9e",
   "metadata": {
    "execution": {
     "iopub.execute_input": "2023-09-01T06:29:34.364763Z",
     "iopub.status.busy": "2023-09-01T06:29:34.364235Z",
     "iopub.status.idle": "2023-09-01T06:29:37.443702Z",
     "shell.execute_reply": "2023-09-01T06:29:37.440404Z",
     "shell.execute_reply.started": "2023-09-01T06:29:34.364743Z"
    }
   },
   "outputs": [
    {
     "name": "stdout",
     "output_type": "stream",
     "text": [
      "{'query': 'Were Russian players allowed to play?',\n",
      " 'result': 'The context provided does not specify whether Russian players were '\n",
      "           'allowed to play in Wimbledon 2023.',\n",
      " 'source_documents': [Document(page_content='players, after they were banned from the previous edition due to the Russian invasion of Ukraine.', metadata={'source': 'https://en.wikipedia.org/wiki/2023_Wimbledon_Championships', 'summary': 'The 2023 Wimbledon Championships was a Grand Slam tennis tournament that took place at the All England Lawn Tennis and Croquet Club in Wimbledon, London, United Kingdom.', 'title': '2023 Wimbledon Championships'}),\n",
      "                      Document(page_content='The tournament was played on grass courts, with all main draw matches played at the All England', metadata={'source': 'https://en.wikipedia.org/wiki/2023_Wimbledon_Championships', 'summary': 'The 2023 Wimbledon Championships was a Grand Slam tennis tournament that took place at the All England Lawn Tennis and Croquet Club in Wimbledon, London, United Kingdom.', 'title': '2023 Wimbledon Championships'}),\n",
      "                      Document(page_content='Mate Pavić /  Lyudmyla Kichenok def.  Joran Vliegen /  Xu Yifan, 6–4, 6–7(9–11), 6–3', metadata={'source': 'https://en.wikipedia.org/wiki/2023_Wimbledon_Championships', 'summary': 'The 2023 Wimbledon Championships was a Grand Slam tennis tournament that took place at the All England Lawn Tennis and Croquet Club in Wimbledon, London, United Kingdom.', 'title': '2023 Wimbledon Championships'}),\n",
      "                      Document(page_content='In addition to the tournament taking place, Swiss former tennis player Roger Federer was honoured', metadata={'source': 'https://en.wikipedia.org/wiki/2023_Wimbledon_Championships', 'summary': 'The 2023 Wimbledon Championships was a Grand Slam tennis tournament that took place at the All England Lawn Tennis and Croquet Club in Wimbledon, London, United Kingdom.', 'title': '2023 Wimbledon Championships'})]}\n"
     ]
    }
   ],
   "source": [
    "pprint.pprint(\n",
    "    qa_with_source(\"Were Russian players allowed to play?\")\n",
    ")"
   ]
  },
  {
   "cell_type": "code",
   "execution_count": 255,
   "id": "0a17ed64-b8fa-491f-bc4c-45295c19e501",
   "metadata": {
    "execution": {
     "iopub.execute_input": "2023-09-01T06:29:43.191136Z",
     "iopub.status.busy": "2023-09-01T06:29:43.190747Z",
     "iopub.status.idle": "2023-09-01T06:29:46.351090Z",
     "shell.execute_reply": "2023-09-01T06:29:46.350366Z",
     "shell.execute_reply.started": "2023-09-01T06:29:43.191112Z"
    }
   },
   "outputs": [
    {
     "name": "stdout",
     "output_type": "stream",
     "text": [
      "{'query': 'Did Russian players play?',\n",
      " 'result': 'Yes, Russian players returned to play in Wimbledon 2023 after '\n",
      "           'being banned from the previous edition.',\n",
      " 'source_documents': [Document(page_content='players, after they were banned from the previous edition due to the Russian invasion of Ukraine.', metadata={'source': 'https://en.wikipedia.org/wiki/2023_Wimbledon_Championships', 'summary': 'The 2023 Wimbledon Championships was a Grand Slam tennis tournament that took place at the All England Lawn Tennis and Croquet Club in Wimbledon, London, United Kingdom.', 'title': '2023 Wimbledon Championships'}),\n",
      "                      Document(page_content='Mate Pavić /  Lyudmyla Kichenok def.  Joran Vliegen /  Xu Yifan, 6–4, 6–7(9–11), 6–3', metadata={'source': 'https://en.wikipedia.org/wiki/2023_Wimbledon_Championships', 'summary': 'The 2023 Wimbledon Championships was a Grand Slam tennis tournament that took place at the All England Lawn Tennis and Croquet Club in Wimbledon, London, United Kingdom.', 'title': '2023 Wimbledon Championships'}),\n",
      "                      Document(page_content='disrupted by rain.The tournament saw the return of Russian and Belarusian tennis players, after', metadata={'source': 'https://en.wikipedia.org/wiki/2023_Wimbledon_Championships', 'summary': 'The 2023 Wimbledon Championships was a Grand Slam tennis tournament that took place at the All England Lawn Tennis and Croquet Club in Wimbledon, London, United Kingdom.', 'title': '2023 Wimbledon Championships'}),\n",
      "                      Document(page_content='The tournament was played on grass courts, with all main draw matches played at the All England', metadata={'source': 'https://en.wikipedia.org/wiki/2023_Wimbledon_Championships', 'summary': 'The 2023 Wimbledon Championships was a Grand Slam tennis tournament that took place at the All England Lawn Tennis and Croquet Club in Wimbledon, London, United Kingdom.', 'title': '2023 Wimbledon Championships'})]}\n"
     ]
    }
   ],
   "source": [
    "pprint.pprint(\n",
    "    qa_with_source(\"Did Russian players play?\")\n",
    ")"
   ]
  },
  {
   "cell_type": "code",
   "execution_count": 256,
   "id": "07a015b0-7d89-41d3-9760-287bad6784b1",
   "metadata": {
    "execution": {
     "iopub.execute_input": "2023-09-01T06:29:52.094942Z",
     "iopub.status.busy": "2023-09-01T06:29:52.094354Z",
     "iopub.status.idle": "2023-09-01T06:29:54.765895Z",
     "shell.execute_reply": "2023-09-01T06:29:54.764432Z",
     "shell.execute_reply.started": "2023-09-01T06:29:52.094920Z"
    }
   },
   "outputs": [
    {
     "name": "stdout",
     "output_type": "stream",
     "text": [
      "{'query': 'Did British players play?',\n",
      " 'result': 'The text does not provide information on whether British players '\n",
      "           'participated in Wimbledon 2023.',\n",
      " 'source_documents': [Document(page_content='players, after they were banned from the previous edition due to the Russian invasion of Ukraine.', metadata={'source': 'https://en.wikipedia.org/wiki/2023_Wimbledon_Championships', 'summary': 'The 2023 Wimbledon Championships was a Grand Slam tennis tournament that took place at the All England Lawn Tennis and Croquet Club in Wimbledon, London, United Kingdom.', 'title': '2023 Wimbledon Championships'}),\n",
      "                      Document(page_content='The tournament was played on grass courts, with all main draw matches played at the All England', metadata={'source': 'https://en.wikipedia.org/wiki/2023_Wimbledon_Championships', 'summary': 'The 2023 Wimbledon Championships was a Grand Slam tennis tournament that took place at the All England Lawn Tennis and Croquet Club in Wimbledon, London, United Kingdom.', 'title': '2023 Wimbledon Championships'}),\n",
      "                      Document(page_content='2023. Qualifying matches were played from 26 to 29 June 2023 at the Bank of England Sports Ground', metadata={'source': 'https://en.wikipedia.org/wiki/2023_Wimbledon_Championships', 'summary': 'The 2023 Wimbledon Championships was a Grand Slam tennis tournament that took place at the All England Lawn Tennis and Croquet Club in Wimbledon, London, United Kingdom.', 'title': '2023 Wimbledon Championships'}),\n",
      "                      Document(page_content='place at the All England Lawn Tennis and Croquet Club in Wimbledon, London, United Kingdom.', metadata={'source': 'https://en.wikipedia.org/wiki/2023_Wimbledon_Championships', 'summary': 'The 2023 Wimbledon Championships was a Grand Slam tennis tournament that took place at the All England Lawn Tennis and Croquet Club in Wimbledon, London, United Kingdom.', 'title': '2023 Wimbledon Championships'})]}\n"
     ]
    }
   ],
   "source": [
    "pprint.pprint(\n",
    "    qa_with_source(\"Did British players play?\")\n",
    ")"
   ]
  },
  {
   "cell_type": "code",
   "execution_count": 257,
   "id": "6599fea4-2526-463b-9302-9bd83001f830",
   "metadata": {
    "execution": {
     "iopub.execute_input": "2023-09-01T06:30:00.665727Z",
     "iopub.status.busy": "2023-09-01T06:30:00.665405Z",
     "iopub.status.idle": "2023-09-01T06:30:04.176410Z",
     "shell.execute_reply": "2023-09-01T06:30:04.174352Z",
     "shell.execute_reply.started": "2023-09-01T06:30:00.665707Z"
    }
   },
   "outputs": [
    {
     "name": "stdout",
     "output_type": "stream",
     "text": [
      "{'query': 'Were any extra events held?',\n",
      " 'result': 'Yes, in addition to the tournament, a special event was held where '\n",
      "           'Swiss former tennis player Roger Federer was honoured.',\n",
      " 'source_documents': [Document(page_content='== Special events ==', metadata={'source': 'https://en.wikipedia.org/wiki/2023_Wimbledon_Championships', 'summary': 'The 2023 Wimbledon Championships was a Grand Slam tennis tournament that took place at the All England Lawn Tennis and Croquet Club in Wimbledon, London, United Kingdom.', 'title': '2023 Wimbledon Championships'}),\n",
      "                      Document(page_content='In addition to the tournament taking place, Swiss former tennis player Roger Federer was honoured', metadata={'source': 'https://en.wikipedia.org/wiki/2023_Wimbledon_Championships', 'summary': 'The 2023 Wimbledon Championships was a Grand Slam tennis tournament that took place at the All England Lawn Tennis and Croquet Club in Wimbledon, London, United Kingdom.', 'title': '2023 Wimbledon Championships'}),\n",
      "                      Document(page_content='The tournament was played on grass courts, with all main draw matches played at the All England', metadata={'source': 'https://en.wikipedia.org/wiki/2023_Wimbledon_Championships', 'summary': 'The 2023 Wimbledon Championships was a Grand Slam tennis tournament that took place at the All England Lawn Tennis and Croquet Club in Wimbledon, London, United Kingdom.', 'title': '2023 Wimbledon Championships'}),\n",
      "                      Document(page_content=\"was the tournament's second edition with a scheduled order of play on the first Sunday during the\", metadata={'source': 'https://en.wikipedia.org/wiki/2023_Wimbledon_Championships', 'summary': 'The 2023 Wimbledon Championships was a Grand Slam tennis tournament that took place at the All England Lawn Tennis and Croquet Club in Wimbledon, London, United Kingdom.', 'title': '2023 Wimbledon Championships'})]}\n"
     ]
    }
   ],
   "source": [
    "pprint.pprint(\n",
    "    qa_with_source(\"Were any extra events held?\")\n",
    ")"
   ]
  }
 ],
 "metadata": {
  "kernelspec": {
   "display_name": "Python 3 (ipykernel)",
   "language": "python",
   "name": "python3"
  },
  "language_info": {
   "codemirror_mode": {
    "name": "ipython",
    "version": 3
   },
   "file_extension": ".py",
   "mimetype": "text/x-python",
   "name": "python",
   "nbconvert_exporter": "python",
   "pygments_lexer": "ipython3",
   "version": "3.11.4"
  },
  "widgets": {
   "application/vnd.jupyter.widget-state+json": {
    "state": {},
    "version_major": 2,
    "version_minor": 0
   }
  }
 },
 "nbformat": 4,
 "nbformat_minor": 5
}
