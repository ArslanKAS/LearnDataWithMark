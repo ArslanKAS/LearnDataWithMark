{
 "cells": [
  {
   "cell_type": "markdown",
   "id": "8eaf3f66-72a5-43a3-912a-21137767c47a",
   "metadata": {
    "execution": {
     "iopub.execute_input": "2023-09-05T06:37:32.114833Z",
     "iopub.status.busy": "2023-09-05T06:37:32.114126Z",
     "iopub.status.idle": "2023-09-05T06:37:32.123359Z",
     "shell.execute_reply": "2023-09-05T06:37:32.121457Z",
     "shell.execute_reply.started": "2023-09-05T06:37:32.114393Z"
    }
   },
   "source": [
    "# An introduction to vector search\n",
    "In this notebook, we're going to learn about vector search. Let's first install some libraries that we're going to use."
   ]
  },
  {
   "cell_type": "code",
   "execution_count": 1,
   "id": "7b4d6073-c70f-40a4-bcc7-37d99c908758",
   "metadata": {
    "execution": {
     "iopub.execute_input": "2023-09-05T21:23:37.317910Z",
     "iopub.status.busy": "2023-09-05T21:23:37.317682Z",
     "iopub.status.idle": "2023-09-05T21:23:38.783722Z",
     "shell.execute_reply": "2023-09-05T21:23:38.781937Z",
     "shell.execute_reply.started": "2023-09-05T21:23:37.317891Z"
    }
   },
   "outputs": [
    {
     "name": "stdout",
     "output_type": "stream",
     "text": [
      "Requirement already satisfied: numpy in /Users/markhneedham/Library/Caches/pypoetry/virtualenvs/llm-own-laptop-zBUAycDM-py3.11/lib/python3.11/site-packages (1.25.1)\n",
      "Requirement already satisfied: scikit-learn in /Users/markhneedham/Library/Caches/pypoetry/virtualenvs/llm-own-laptop-zBUAycDM-py3.11/lib/python3.11/site-packages (1.3.0)\n",
      "Collecting plotly\n",
      "  Obtaining dependency information for plotly from https://files.pythonhosted.org/packages/26/5d/1e13b597ed8e54803e9ac6ded18c04cd35d8cbc49016778ec50c4ca9e9d5/plotly-5.16.1-py2.py3-none-any.whl.metadata\n",
      "  Using cached plotly-5.16.1-py2.py3-none-any.whl.metadata (7.0 kB)\n",
      "Requirement already satisfied: pandas in /Users/markhneedham/Library/Caches/pypoetry/virtualenvs/llm-own-laptop-zBUAycDM-py3.11/lib/python3.11/site-packages (2.0.3)\n",
      "Requirement already satisfied: scipy>=1.5.0 in /Users/markhneedham/Library/Caches/pypoetry/virtualenvs/llm-own-laptop-zBUAycDM-py3.11/lib/python3.11/site-packages (from scikit-learn) (1.9.3)\n",
      "Requirement already satisfied: joblib>=1.1.1 in /Users/markhneedham/Library/Caches/pypoetry/virtualenvs/llm-own-laptop-zBUAycDM-py3.11/lib/python3.11/site-packages (from scikit-learn) (1.3.1)\n",
      "Requirement already satisfied: threadpoolctl>=2.0.0 in /Users/markhneedham/Library/Caches/pypoetry/virtualenvs/llm-own-laptop-zBUAycDM-py3.11/lib/python3.11/site-packages (from scikit-learn) (3.2.0)\n",
      "Requirement already satisfied: tenacity>=6.2.0 in /Users/markhneedham/Library/Caches/pypoetry/virtualenvs/llm-own-laptop-zBUAycDM-py3.11/lib/python3.11/site-packages (from plotly) (8.2.2)\n",
      "Requirement already satisfied: packaging in /Users/markhneedham/Library/Caches/pypoetry/virtualenvs/llm-own-laptop-zBUAycDM-py3.11/lib/python3.11/site-packages (from plotly) (23.1)\n",
      "Requirement already satisfied: python-dateutil>=2.8.2 in /Users/markhneedham/Library/Caches/pypoetry/virtualenvs/llm-own-laptop-zBUAycDM-py3.11/lib/python3.11/site-packages (from pandas) (2.8.2)\n",
      "Requirement already satisfied: pytz>=2020.1 in /Users/markhneedham/Library/Caches/pypoetry/virtualenvs/llm-own-laptop-zBUAycDM-py3.11/lib/python3.11/site-packages (from pandas) (2023.3)\n",
      "Requirement already satisfied: tzdata>=2022.1 in /Users/markhneedham/Library/Caches/pypoetry/virtualenvs/llm-own-laptop-zBUAycDM-py3.11/lib/python3.11/site-packages (from pandas) (2023.3)\n",
      "Requirement already satisfied: six>=1.5 in /Users/markhneedham/Library/Caches/pypoetry/virtualenvs/llm-own-laptop-zBUAycDM-py3.11/lib/python3.11/site-packages (from python-dateutil>=2.8.2->pandas) (1.16.0)\n",
      "Using cached plotly-5.16.1-py2.py3-none-any.whl (15.6 MB)\n",
      "Installing collected packages: plotly\n",
      "Successfully installed plotly-5.16.1\n"
     ]
    }
   ],
   "source": [
    "!pip install numpy scikit-learn plotly pandas"
   ]
  },
  {
   "cell_type": "markdown",
   "id": "f8ed57a3-6fe4-45ee-aef3-97ac59a92129",
   "metadata": {},
   "source": [
    "## Creating vectors\n",
    "Let's create some vectors to work with."
   ]
  },
  {
   "cell_type": "code",
   "execution_count": 2,
   "id": "ec2ce651-511b-49d3-aab5-0ab353d39e32",
   "metadata": {
    "execution": {
     "iopub.execute_input": "2023-09-05T21:23:50.236705Z",
     "iopub.status.busy": "2023-09-05T21:23:50.236403Z",
     "iopub.status.idle": "2023-09-05T21:23:50.240776Z",
     "shell.execute_reply": "2023-09-05T21:23:50.239479Z",
     "shell.execute_reply.started": "2023-09-05T21:23:50.236691Z"
    }
   },
   "outputs": [],
   "source": [
    "import numpy as np"
   ]
  },
  {
   "cell_type": "code",
   "execution_count": 3,
   "id": "4940f11b-d910-496c-9214-73c58c04c608",
   "metadata": {
    "execution": {
     "iopub.execute_input": "2023-09-05T21:23:56.924768Z",
     "iopub.status.busy": "2023-09-05T21:23:56.924539Z",
     "iopub.status.idle": "2023-09-05T21:23:56.929578Z",
     "shell.execute_reply": "2023-09-05T21:23:56.929193Z",
     "shell.execute_reply.started": "2023-09-05T21:23:56.924758Z"
    }
   },
   "outputs": [
    {
     "data": {
      "text/plain": [
       "array([[88, 61],\n",
       "       [68, 18],\n",
       "       [37, 76],\n",
       "       [54, 66],\n",
       "       [54, 69]], dtype=int32)"
      ]
     },
     "execution_count": 3,
     "metadata": {},
     "output_type": "execute_result"
    }
   ],
   "source": [
    "vectors = np.random.randint(low=1, high=100, size=(20, 2), dtype='int32')\n",
    "vectors[:5]"
   ]
  },
  {
   "cell_type": "code",
   "execution_count": 4,
   "id": "de63db64-0a7f-4325-a3c3-be2a8fa98b66",
   "metadata": {
    "execution": {
     "iopub.execute_input": "2023-09-05T21:24:03.117400Z",
     "iopub.status.busy": "2023-09-05T21:24:03.117196Z",
     "iopub.status.idle": "2023-09-05T21:24:03.119892Z",
     "shell.execute_reply": "2023-09-05T21:24:03.119365Z",
     "shell.execute_reply.started": "2023-09-05T21:24:03.117388Z"
    }
   },
   "outputs": [],
   "source": [
    "import plotly.graph_objects as go"
   ]
  },
  {
   "cell_type": "code",
   "execution_count": 5,
   "id": "49e7ee6d-a507-4599-a92c-657e047c5fff",
   "metadata": {
    "execution": {
     "iopub.execute_input": "2023-09-05T21:24:12.452209Z",
     "iopub.status.busy": "2023-09-05T21:24:12.452007Z",
     "iopub.status.idle": "2023-09-05T21:24:12.471748Z",
     "shell.execute_reply": "2023-09-05T21:24:12.471355Z",
     "shell.execute_reply.started": "2023-09-05T21:24:12.452196Z"
    }
   },
   "outputs": [
    {
     "data": {
      "application/vnd.plotly.v1+json": {
       "config": {
        "plotlyServerURL": "https://plot.ly"
       },
       "data": [
        {
         "marker": {
          "color": "blue",
          "size": 8
         },
         "mode": "markers",
         "name": "Data",
         "type": "scatter",
         "x": [
          88,
          68,
          37,
          54,
          54,
          31,
          81,
          35,
          53,
          38,
          22,
          44,
          63,
          99,
          43,
          53,
          23,
          95,
          48,
          11
         ],
         "y": [
          61,
          18,
          76,
          66,
          69,
          2,
          94,
          2,
          91,
          99,
          85,
          11,
          47,
          48,
          76,
          79,
          75,
          54,
          74,
          49
         ]
        }
       ],
       "layout": {
        "margin": {
         "b": 50,
         "l": 50,
         "r": 50,
         "t": 50
        },
        "template": {
         "data": {
          "bar": [
           {
            "error_x": {
             "color": "#2a3f5f"
            },
            "error_y": {
             "color": "#2a3f5f"
            },
            "marker": {
             "line": {
              "color": "white",
              "width": 0.5
             },
             "pattern": {
              "fillmode": "overlay",
              "size": 10,
              "solidity": 0.2
             }
            },
            "type": "bar"
           }
          ],
          "barpolar": [
           {
            "marker": {
             "line": {
              "color": "white",
              "width": 0.5
             },
             "pattern": {
              "fillmode": "overlay",
              "size": 10,
              "solidity": 0.2
             }
            },
            "type": "barpolar"
           }
          ],
          "carpet": [
           {
            "aaxis": {
             "endlinecolor": "#2a3f5f",
             "gridcolor": "#C8D4E3",
             "linecolor": "#C8D4E3",
             "minorgridcolor": "#C8D4E3",
             "startlinecolor": "#2a3f5f"
            },
            "baxis": {
             "endlinecolor": "#2a3f5f",
             "gridcolor": "#C8D4E3",
             "linecolor": "#C8D4E3",
             "minorgridcolor": "#C8D4E3",
             "startlinecolor": "#2a3f5f"
            },
            "type": "carpet"
           }
          ],
          "choropleth": [
           {
            "colorbar": {
             "outlinewidth": 0,
             "ticks": ""
            },
            "type": "choropleth"
           }
          ],
          "contour": [
           {
            "colorbar": {
             "outlinewidth": 0,
             "ticks": ""
            },
            "colorscale": [
             [
              0,
              "#0d0887"
             ],
             [
              0.1111111111111111,
              "#46039f"
             ],
             [
              0.2222222222222222,
              "#7201a8"
             ],
             [
              0.3333333333333333,
              "#9c179e"
             ],
             [
              0.4444444444444444,
              "#bd3786"
             ],
             [
              0.5555555555555556,
              "#d8576b"
             ],
             [
              0.6666666666666666,
              "#ed7953"
             ],
             [
              0.7777777777777778,
              "#fb9f3a"
             ],
             [
              0.8888888888888888,
              "#fdca26"
             ],
             [
              1,
              "#f0f921"
             ]
            ],
            "type": "contour"
           }
          ],
          "contourcarpet": [
           {
            "colorbar": {
             "outlinewidth": 0,
             "ticks": ""
            },
            "type": "contourcarpet"
           }
          ],
          "heatmap": [
           {
            "colorbar": {
             "outlinewidth": 0,
             "ticks": ""
            },
            "colorscale": [
             [
              0,
              "#0d0887"
             ],
             [
              0.1111111111111111,
              "#46039f"
             ],
             [
              0.2222222222222222,
              "#7201a8"
             ],
             [
              0.3333333333333333,
              "#9c179e"
             ],
             [
              0.4444444444444444,
              "#bd3786"
             ],
             [
              0.5555555555555556,
              "#d8576b"
             ],
             [
              0.6666666666666666,
              "#ed7953"
             ],
             [
              0.7777777777777778,
              "#fb9f3a"
             ],
             [
              0.8888888888888888,
              "#fdca26"
             ],
             [
              1,
              "#f0f921"
             ]
            ],
            "type": "heatmap"
           }
          ],
          "heatmapgl": [
           {
            "colorbar": {
             "outlinewidth": 0,
             "ticks": ""
            },
            "colorscale": [
             [
              0,
              "#0d0887"
             ],
             [
              0.1111111111111111,
              "#46039f"
             ],
             [
              0.2222222222222222,
              "#7201a8"
             ],
             [
              0.3333333333333333,
              "#9c179e"
             ],
             [
              0.4444444444444444,
              "#bd3786"
             ],
             [
              0.5555555555555556,
              "#d8576b"
             ],
             [
              0.6666666666666666,
              "#ed7953"
             ],
             [
              0.7777777777777778,
              "#fb9f3a"
             ],
             [
              0.8888888888888888,
              "#fdca26"
             ],
             [
              1,
              "#f0f921"
             ]
            ],
            "type": "heatmapgl"
           }
          ],
          "histogram": [
           {
            "marker": {
             "pattern": {
              "fillmode": "overlay",
              "size": 10,
              "solidity": 0.2
             }
            },
            "type": "histogram"
           }
          ],
          "histogram2d": [
           {
            "colorbar": {
             "outlinewidth": 0,
             "ticks": ""
            },
            "colorscale": [
             [
              0,
              "#0d0887"
             ],
             [
              0.1111111111111111,
              "#46039f"
             ],
             [
              0.2222222222222222,
              "#7201a8"
             ],
             [
              0.3333333333333333,
              "#9c179e"
             ],
             [
              0.4444444444444444,
              "#bd3786"
             ],
             [
              0.5555555555555556,
              "#d8576b"
             ],
             [
              0.6666666666666666,
              "#ed7953"
             ],
             [
              0.7777777777777778,
              "#fb9f3a"
             ],
             [
              0.8888888888888888,
              "#fdca26"
             ],
             [
              1,
              "#f0f921"
             ]
            ],
            "type": "histogram2d"
           }
          ],
          "histogram2dcontour": [
           {
            "colorbar": {
             "outlinewidth": 0,
             "ticks": ""
            },
            "colorscale": [
             [
              0,
              "#0d0887"
             ],
             [
              0.1111111111111111,
              "#46039f"
             ],
             [
              0.2222222222222222,
              "#7201a8"
             ],
             [
              0.3333333333333333,
              "#9c179e"
             ],
             [
              0.4444444444444444,
              "#bd3786"
             ],
             [
              0.5555555555555556,
              "#d8576b"
             ],
             [
              0.6666666666666666,
              "#ed7953"
             ],
             [
              0.7777777777777778,
              "#fb9f3a"
             ],
             [
              0.8888888888888888,
              "#fdca26"
             ],
             [
              1,
              "#f0f921"
             ]
            ],
            "type": "histogram2dcontour"
           }
          ],
          "mesh3d": [
           {
            "colorbar": {
             "outlinewidth": 0,
             "ticks": ""
            },
            "type": "mesh3d"
           }
          ],
          "parcoords": [
           {
            "line": {
             "colorbar": {
              "outlinewidth": 0,
              "ticks": ""
             }
            },
            "type": "parcoords"
           }
          ],
          "pie": [
           {
            "automargin": true,
            "type": "pie"
           }
          ],
          "scatter": [
           {
            "fillpattern": {
             "fillmode": "overlay",
             "size": 10,
             "solidity": 0.2
            },
            "type": "scatter"
           }
          ],
          "scatter3d": [
           {
            "line": {
             "colorbar": {
              "outlinewidth": 0,
              "ticks": ""
             }
            },
            "marker": {
             "colorbar": {
              "outlinewidth": 0,
              "ticks": ""
             }
            },
            "type": "scatter3d"
           }
          ],
          "scattercarpet": [
           {
            "marker": {
             "colorbar": {
              "outlinewidth": 0,
              "ticks": ""
             }
            },
            "type": "scattercarpet"
           }
          ],
          "scattergeo": [
           {
            "marker": {
             "colorbar": {
              "outlinewidth": 0,
              "ticks": ""
             }
            },
            "type": "scattergeo"
           }
          ],
          "scattergl": [
           {
            "marker": {
             "colorbar": {
              "outlinewidth": 0,
              "ticks": ""
             }
            },
            "type": "scattergl"
           }
          ],
          "scattermapbox": [
           {
            "marker": {
             "colorbar": {
              "outlinewidth": 0,
              "ticks": ""
             }
            },
            "type": "scattermapbox"
           }
          ],
          "scatterpolar": [
           {
            "marker": {
             "colorbar": {
              "outlinewidth": 0,
              "ticks": ""
             }
            },
            "type": "scatterpolar"
           }
          ],
          "scatterpolargl": [
           {
            "marker": {
             "colorbar": {
              "outlinewidth": 0,
              "ticks": ""
             }
            },
            "type": "scatterpolargl"
           }
          ],
          "scatterternary": [
           {
            "marker": {
             "colorbar": {
              "outlinewidth": 0,
              "ticks": ""
             }
            },
            "type": "scatterternary"
           }
          ],
          "surface": [
           {
            "colorbar": {
             "outlinewidth": 0,
             "ticks": ""
            },
            "colorscale": [
             [
              0,
              "#0d0887"
             ],
             [
              0.1111111111111111,
              "#46039f"
             ],
             [
              0.2222222222222222,
              "#7201a8"
             ],
             [
              0.3333333333333333,
              "#9c179e"
             ],
             [
              0.4444444444444444,
              "#bd3786"
             ],
             [
              0.5555555555555556,
              "#d8576b"
             ],
             [
              0.6666666666666666,
              "#ed7953"
             ],
             [
              0.7777777777777778,
              "#fb9f3a"
             ],
             [
              0.8888888888888888,
              "#fdca26"
             ],
             [
              1,
              "#f0f921"
             ]
            ],
            "type": "surface"
           }
          ],
          "table": [
           {
            "cells": {
             "fill": {
              "color": "#EBF0F8"
             },
             "line": {
              "color": "white"
             }
            },
            "header": {
             "fill": {
              "color": "#C8D4E3"
             },
             "line": {
              "color": "white"
             }
            },
            "type": "table"
           }
          ]
         },
         "layout": {
          "annotationdefaults": {
           "arrowcolor": "#2a3f5f",
           "arrowhead": 0,
           "arrowwidth": 1
          },
          "autotypenumbers": "strict",
          "coloraxis": {
           "colorbar": {
            "outlinewidth": 0,
            "ticks": ""
           }
          },
          "colorscale": {
           "diverging": [
            [
             0,
             "#8e0152"
            ],
            [
             0.1,
             "#c51b7d"
            ],
            [
             0.2,
             "#de77ae"
            ],
            [
             0.3,
             "#f1b6da"
            ],
            [
             0.4,
             "#fde0ef"
            ],
            [
             0.5,
             "#f7f7f7"
            ],
            [
             0.6,
             "#e6f5d0"
            ],
            [
             0.7,
             "#b8e186"
            ],
            [
             0.8,
             "#7fbc41"
            ],
            [
             0.9,
             "#4d9221"
            ],
            [
             1,
             "#276419"
            ]
           ],
           "sequential": [
            [
             0,
             "#0d0887"
            ],
            [
             0.1111111111111111,
             "#46039f"
            ],
            [
             0.2222222222222222,
             "#7201a8"
            ],
            [
             0.3333333333333333,
             "#9c179e"
            ],
            [
             0.4444444444444444,
             "#bd3786"
            ],
            [
             0.5555555555555556,
             "#d8576b"
            ],
            [
             0.6666666666666666,
             "#ed7953"
            ],
            [
             0.7777777777777778,
             "#fb9f3a"
            ],
            [
             0.8888888888888888,
             "#fdca26"
            ],
            [
             1,
             "#f0f921"
            ]
           ],
           "sequentialminus": [
            [
             0,
             "#0d0887"
            ],
            [
             0.1111111111111111,
             "#46039f"
            ],
            [
             0.2222222222222222,
             "#7201a8"
            ],
            [
             0.3333333333333333,
             "#9c179e"
            ],
            [
             0.4444444444444444,
             "#bd3786"
            ],
            [
             0.5555555555555556,
             "#d8576b"
            ],
            [
             0.6666666666666666,
             "#ed7953"
            ],
            [
             0.7777777777777778,
             "#fb9f3a"
            ],
            [
             0.8888888888888888,
             "#fdca26"
            ],
            [
             1,
             "#f0f921"
            ]
           ]
          },
          "colorway": [
           "#636efa",
           "#EF553B",
           "#00cc96",
           "#ab63fa",
           "#FFA15A",
           "#19d3f3",
           "#FF6692",
           "#B6E880",
           "#FF97FF",
           "#FECB52"
          ],
          "font": {
           "color": "#2a3f5f"
          },
          "geo": {
           "bgcolor": "white",
           "lakecolor": "white",
           "landcolor": "white",
           "showlakes": true,
           "showland": true,
           "subunitcolor": "#C8D4E3"
          },
          "hoverlabel": {
           "align": "left"
          },
          "hovermode": "closest",
          "mapbox": {
           "style": "light"
          },
          "paper_bgcolor": "white",
          "plot_bgcolor": "white",
          "polar": {
           "angularaxis": {
            "gridcolor": "#EBF0F8",
            "linecolor": "#EBF0F8",
            "ticks": ""
           },
           "bgcolor": "white",
           "radialaxis": {
            "gridcolor": "#EBF0F8",
            "linecolor": "#EBF0F8",
            "ticks": ""
           }
          },
          "scene": {
           "xaxis": {
            "backgroundcolor": "white",
            "gridcolor": "#DFE8F3",
            "gridwidth": 2,
            "linecolor": "#EBF0F8",
            "showbackground": true,
            "ticks": "",
            "zerolinecolor": "#EBF0F8"
           },
           "yaxis": {
            "backgroundcolor": "white",
            "gridcolor": "#DFE8F3",
            "gridwidth": 2,
            "linecolor": "#EBF0F8",
            "showbackground": true,
            "ticks": "",
            "zerolinecolor": "#EBF0F8"
           },
           "zaxis": {
            "backgroundcolor": "white",
            "gridcolor": "#DFE8F3",
            "gridwidth": 2,
            "linecolor": "#EBF0F8",
            "showbackground": true,
            "ticks": "",
            "zerolinecolor": "#EBF0F8"
           }
          },
          "shapedefaults": {
           "line": {
            "color": "#2a3f5f"
           }
          },
          "ternary": {
           "aaxis": {
            "gridcolor": "#DFE8F3",
            "linecolor": "#A2B1C6",
            "ticks": ""
           },
           "baxis": {
            "gridcolor": "#DFE8F3",
            "linecolor": "#A2B1C6",
            "ticks": ""
           },
           "bgcolor": "white",
           "caxis": {
            "gridcolor": "#DFE8F3",
            "linecolor": "#A2B1C6",
            "ticks": ""
           }
          },
          "title": {
           "x": 0.05
          },
          "xaxis": {
           "automargin": true,
           "gridcolor": "#EBF0F8",
           "linecolor": "#EBF0F8",
           "ticks": "",
           "title": {
            "standoff": 15
           },
           "zerolinecolor": "#EBF0F8",
           "zerolinewidth": 2
          },
          "yaxis": {
           "automargin": true,
           "gridcolor": "#EBF0F8",
           "linecolor": "#EBF0F8",
           "ticks": "",
           "title": {
            "standoff": 15
           },
           "zerolinecolor": "#EBF0F8",
           "zerolinewidth": 2
          }
         }
        },
        "xaxis": {
         "range": [
          0,
          100
         ]
        },
        "yaxis": {
         "range": [
          0,
          100
         ]
        }
       }
      }
     },
     "metadata": {},
     "output_type": "display_data"
    }
   ],
   "source": [
    "fig = go.Figure()\n",
    "fig.add_trace(go.Scatter(x=vectors[:, 0], y=vectors[:, 1], mode='markers', marker=dict(size=8, color='blue'), name=\"Data\"))\n",
    "fig.update_layout(template=\"plotly_white\", margin=dict(t=50, b=50, l=50, r=50), xaxis=dict(range=[0, 100]),  yaxis=dict(range=[0, 100]))\n",
    "fig"
   ]
  },
  {
   "cell_type": "markdown",
   "id": "8b7d973e-66de-4daa-bdcd-1dafb1c435d5",
   "metadata": {},
   "source": [
    "## Finding nearest neighbours\n",
    "Next, we're going to use sk-learn to find the nearest neighbour for a search vector."
   ]
  },
  {
   "cell_type": "code",
   "execution_count": 6,
   "id": "d3e49554-20ba-4258-965f-2686f316ff51",
   "metadata": {
    "execution": {
     "iopub.execute_input": "2023-09-05T21:24:26.133140Z",
     "iopub.status.busy": "2023-09-05T21:24:26.132945Z",
     "iopub.status.idle": "2023-09-05T21:24:26.136382Z",
     "shell.execute_reply": "2023-09-05T21:24:26.135116Z",
     "shell.execute_reply.started": "2023-09-05T21:24:26.133129Z"
    }
   },
   "outputs": [],
   "source": [
    "search_vector = np.array([[10,10]])"
   ]
  },
  {
   "cell_type": "code",
   "execution_count": 7,
   "id": "e2a4a4f3-e74f-418f-852f-866905207674",
   "metadata": {
    "execution": {
     "iopub.execute_input": "2023-09-05T21:24:35.573037Z",
     "iopub.status.busy": "2023-09-05T21:24:35.572753Z",
     "iopub.status.idle": "2023-09-05T21:24:35.579701Z",
     "shell.execute_reply": "2023-09-05T21:24:35.579088Z",
     "shell.execute_reply.started": "2023-09-05T21:24:35.573024Z"
    }
   },
   "outputs": [
    {
     "data": {
      "application/vnd.plotly.v1+json": {
       "config": {
        "plotlyServerURL": "https://plot.ly"
       },
       "data": [
        {
         "marker": {
          "color": "blue",
          "size": 8
         },
         "mode": "markers",
         "name": "Data",
         "type": "scatter",
         "x": [
          88,
          68,
          37,
          54,
          54,
          31,
          81,
          35,
          53,
          38,
          22,
          44,
          63,
          99,
          43,
          53,
          23,
          95,
          48,
          11
         ],
         "y": [
          61,
          18,
          76,
          66,
          69,
          2,
          94,
          2,
          91,
          99,
          85,
          11,
          47,
          48,
          76,
          79,
          75,
          54,
          74,
          49
         ]
        },
        {
         "marker": {
          "color": "red",
          "size": 8
         },
         "mode": "markers",
         "name": "Search Vector",
         "type": "scatter",
         "x": [
          10
         ],
         "y": [
          10
         ]
        }
       ],
       "layout": {
        "margin": {
         "b": 50,
         "l": 50,
         "r": 50,
         "t": 50
        },
        "template": {
         "data": {
          "bar": [
           {
            "error_x": {
             "color": "#2a3f5f"
            },
            "error_y": {
             "color": "#2a3f5f"
            },
            "marker": {
             "line": {
              "color": "white",
              "width": 0.5
             },
             "pattern": {
              "fillmode": "overlay",
              "size": 10,
              "solidity": 0.2
             }
            },
            "type": "bar"
           }
          ],
          "barpolar": [
           {
            "marker": {
             "line": {
              "color": "white",
              "width": 0.5
             },
             "pattern": {
              "fillmode": "overlay",
              "size": 10,
              "solidity": 0.2
             }
            },
            "type": "barpolar"
           }
          ],
          "carpet": [
           {
            "aaxis": {
             "endlinecolor": "#2a3f5f",
             "gridcolor": "#C8D4E3",
             "linecolor": "#C8D4E3",
             "minorgridcolor": "#C8D4E3",
             "startlinecolor": "#2a3f5f"
            },
            "baxis": {
             "endlinecolor": "#2a3f5f",
             "gridcolor": "#C8D4E3",
             "linecolor": "#C8D4E3",
             "minorgridcolor": "#C8D4E3",
             "startlinecolor": "#2a3f5f"
            },
            "type": "carpet"
           }
          ],
          "choropleth": [
           {
            "colorbar": {
             "outlinewidth": 0,
             "ticks": ""
            },
            "type": "choropleth"
           }
          ],
          "contour": [
           {
            "colorbar": {
             "outlinewidth": 0,
             "ticks": ""
            },
            "colorscale": [
             [
              0,
              "#0d0887"
             ],
             [
              0.1111111111111111,
              "#46039f"
             ],
             [
              0.2222222222222222,
              "#7201a8"
             ],
             [
              0.3333333333333333,
              "#9c179e"
             ],
             [
              0.4444444444444444,
              "#bd3786"
             ],
             [
              0.5555555555555556,
              "#d8576b"
             ],
             [
              0.6666666666666666,
              "#ed7953"
             ],
             [
              0.7777777777777778,
              "#fb9f3a"
             ],
             [
              0.8888888888888888,
              "#fdca26"
             ],
             [
              1,
              "#f0f921"
             ]
            ],
            "type": "contour"
           }
          ],
          "contourcarpet": [
           {
            "colorbar": {
             "outlinewidth": 0,
             "ticks": ""
            },
            "type": "contourcarpet"
           }
          ],
          "heatmap": [
           {
            "colorbar": {
             "outlinewidth": 0,
             "ticks": ""
            },
            "colorscale": [
             [
              0,
              "#0d0887"
             ],
             [
              0.1111111111111111,
              "#46039f"
             ],
             [
              0.2222222222222222,
              "#7201a8"
             ],
             [
              0.3333333333333333,
              "#9c179e"
             ],
             [
              0.4444444444444444,
              "#bd3786"
             ],
             [
              0.5555555555555556,
              "#d8576b"
             ],
             [
              0.6666666666666666,
              "#ed7953"
             ],
             [
              0.7777777777777778,
              "#fb9f3a"
             ],
             [
              0.8888888888888888,
              "#fdca26"
             ],
             [
              1,
              "#f0f921"
             ]
            ],
            "type": "heatmap"
           }
          ],
          "heatmapgl": [
           {
            "colorbar": {
             "outlinewidth": 0,
             "ticks": ""
            },
            "colorscale": [
             [
              0,
              "#0d0887"
             ],
             [
              0.1111111111111111,
              "#46039f"
             ],
             [
              0.2222222222222222,
              "#7201a8"
             ],
             [
              0.3333333333333333,
              "#9c179e"
             ],
             [
              0.4444444444444444,
              "#bd3786"
             ],
             [
              0.5555555555555556,
              "#d8576b"
             ],
             [
              0.6666666666666666,
              "#ed7953"
             ],
             [
              0.7777777777777778,
              "#fb9f3a"
             ],
             [
              0.8888888888888888,
              "#fdca26"
             ],
             [
              1,
              "#f0f921"
             ]
            ],
            "type": "heatmapgl"
           }
          ],
          "histogram": [
           {
            "marker": {
             "pattern": {
              "fillmode": "overlay",
              "size": 10,
              "solidity": 0.2
             }
            },
            "type": "histogram"
           }
          ],
          "histogram2d": [
           {
            "colorbar": {
             "outlinewidth": 0,
             "ticks": ""
            },
            "colorscale": [
             [
              0,
              "#0d0887"
             ],
             [
              0.1111111111111111,
              "#46039f"
             ],
             [
              0.2222222222222222,
              "#7201a8"
             ],
             [
              0.3333333333333333,
              "#9c179e"
             ],
             [
              0.4444444444444444,
              "#bd3786"
             ],
             [
              0.5555555555555556,
              "#d8576b"
             ],
             [
              0.6666666666666666,
              "#ed7953"
             ],
             [
              0.7777777777777778,
              "#fb9f3a"
             ],
             [
              0.8888888888888888,
              "#fdca26"
             ],
             [
              1,
              "#f0f921"
             ]
            ],
            "type": "histogram2d"
           }
          ],
          "histogram2dcontour": [
           {
            "colorbar": {
             "outlinewidth": 0,
             "ticks": ""
            },
            "colorscale": [
             [
              0,
              "#0d0887"
             ],
             [
              0.1111111111111111,
              "#46039f"
             ],
             [
              0.2222222222222222,
              "#7201a8"
             ],
             [
              0.3333333333333333,
              "#9c179e"
             ],
             [
              0.4444444444444444,
              "#bd3786"
             ],
             [
              0.5555555555555556,
              "#d8576b"
             ],
             [
              0.6666666666666666,
              "#ed7953"
             ],
             [
              0.7777777777777778,
              "#fb9f3a"
             ],
             [
              0.8888888888888888,
              "#fdca26"
             ],
             [
              1,
              "#f0f921"
             ]
            ],
            "type": "histogram2dcontour"
           }
          ],
          "mesh3d": [
           {
            "colorbar": {
             "outlinewidth": 0,
             "ticks": ""
            },
            "type": "mesh3d"
           }
          ],
          "parcoords": [
           {
            "line": {
             "colorbar": {
              "outlinewidth": 0,
              "ticks": ""
             }
            },
            "type": "parcoords"
           }
          ],
          "pie": [
           {
            "automargin": true,
            "type": "pie"
           }
          ],
          "scatter": [
           {
            "fillpattern": {
             "fillmode": "overlay",
             "size": 10,
             "solidity": 0.2
            },
            "type": "scatter"
           }
          ],
          "scatter3d": [
           {
            "line": {
             "colorbar": {
              "outlinewidth": 0,
              "ticks": ""
             }
            },
            "marker": {
             "colorbar": {
              "outlinewidth": 0,
              "ticks": ""
             }
            },
            "type": "scatter3d"
           }
          ],
          "scattercarpet": [
           {
            "marker": {
             "colorbar": {
              "outlinewidth": 0,
              "ticks": ""
             }
            },
            "type": "scattercarpet"
           }
          ],
          "scattergeo": [
           {
            "marker": {
             "colorbar": {
              "outlinewidth": 0,
              "ticks": ""
             }
            },
            "type": "scattergeo"
           }
          ],
          "scattergl": [
           {
            "marker": {
             "colorbar": {
              "outlinewidth": 0,
              "ticks": ""
             }
            },
            "type": "scattergl"
           }
          ],
          "scattermapbox": [
           {
            "marker": {
             "colorbar": {
              "outlinewidth": 0,
              "ticks": ""
             }
            },
            "type": "scattermapbox"
           }
          ],
          "scatterpolar": [
           {
            "marker": {
             "colorbar": {
              "outlinewidth": 0,
              "ticks": ""
             }
            },
            "type": "scatterpolar"
           }
          ],
          "scatterpolargl": [
           {
            "marker": {
             "colorbar": {
              "outlinewidth": 0,
              "ticks": ""
             }
            },
            "type": "scatterpolargl"
           }
          ],
          "scatterternary": [
           {
            "marker": {
             "colorbar": {
              "outlinewidth": 0,
              "ticks": ""
             }
            },
            "type": "scatterternary"
           }
          ],
          "surface": [
           {
            "colorbar": {
             "outlinewidth": 0,
             "ticks": ""
            },
            "colorscale": [
             [
              0,
              "#0d0887"
             ],
             [
              0.1111111111111111,
              "#46039f"
             ],
             [
              0.2222222222222222,
              "#7201a8"
             ],
             [
              0.3333333333333333,
              "#9c179e"
             ],
             [
              0.4444444444444444,
              "#bd3786"
             ],
             [
              0.5555555555555556,
              "#d8576b"
             ],
             [
              0.6666666666666666,
              "#ed7953"
             ],
             [
              0.7777777777777778,
              "#fb9f3a"
             ],
             [
              0.8888888888888888,
              "#fdca26"
             ],
             [
              1,
              "#f0f921"
             ]
            ],
            "type": "surface"
           }
          ],
          "table": [
           {
            "cells": {
             "fill": {
              "color": "#EBF0F8"
             },
             "line": {
              "color": "white"
             }
            },
            "header": {
             "fill": {
              "color": "#C8D4E3"
             },
             "line": {
              "color": "white"
             }
            },
            "type": "table"
           }
          ]
         },
         "layout": {
          "annotationdefaults": {
           "arrowcolor": "#2a3f5f",
           "arrowhead": 0,
           "arrowwidth": 1
          },
          "autotypenumbers": "strict",
          "coloraxis": {
           "colorbar": {
            "outlinewidth": 0,
            "ticks": ""
           }
          },
          "colorscale": {
           "diverging": [
            [
             0,
             "#8e0152"
            ],
            [
             0.1,
             "#c51b7d"
            ],
            [
             0.2,
             "#de77ae"
            ],
            [
             0.3,
             "#f1b6da"
            ],
            [
             0.4,
             "#fde0ef"
            ],
            [
             0.5,
             "#f7f7f7"
            ],
            [
             0.6,
             "#e6f5d0"
            ],
            [
             0.7,
             "#b8e186"
            ],
            [
             0.8,
             "#7fbc41"
            ],
            [
             0.9,
             "#4d9221"
            ],
            [
             1,
             "#276419"
            ]
           ],
           "sequential": [
            [
             0,
             "#0d0887"
            ],
            [
             0.1111111111111111,
             "#46039f"
            ],
            [
             0.2222222222222222,
             "#7201a8"
            ],
            [
             0.3333333333333333,
             "#9c179e"
            ],
            [
             0.4444444444444444,
             "#bd3786"
            ],
            [
             0.5555555555555556,
             "#d8576b"
            ],
            [
             0.6666666666666666,
             "#ed7953"
            ],
            [
             0.7777777777777778,
             "#fb9f3a"
            ],
            [
             0.8888888888888888,
             "#fdca26"
            ],
            [
             1,
             "#f0f921"
            ]
           ],
           "sequentialminus": [
            [
             0,
             "#0d0887"
            ],
            [
             0.1111111111111111,
             "#46039f"
            ],
            [
             0.2222222222222222,
             "#7201a8"
            ],
            [
             0.3333333333333333,
             "#9c179e"
            ],
            [
             0.4444444444444444,
             "#bd3786"
            ],
            [
             0.5555555555555556,
             "#d8576b"
            ],
            [
             0.6666666666666666,
             "#ed7953"
            ],
            [
             0.7777777777777778,
             "#fb9f3a"
            ],
            [
             0.8888888888888888,
             "#fdca26"
            ],
            [
             1,
             "#f0f921"
            ]
           ]
          },
          "colorway": [
           "#636efa",
           "#EF553B",
           "#00cc96",
           "#ab63fa",
           "#FFA15A",
           "#19d3f3",
           "#FF6692",
           "#B6E880",
           "#FF97FF",
           "#FECB52"
          ],
          "font": {
           "color": "#2a3f5f"
          },
          "geo": {
           "bgcolor": "white",
           "lakecolor": "white",
           "landcolor": "white",
           "showlakes": true,
           "showland": true,
           "subunitcolor": "#C8D4E3"
          },
          "hoverlabel": {
           "align": "left"
          },
          "hovermode": "closest",
          "mapbox": {
           "style": "light"
          },
          "paper_bgcolor": "white",
          "plot_bgcolor": "white",
          "polar": {
           "angularaxis": {
            "gridcolor": "#EBF0F8",
            "linecolor": "#EBF0F8",
            "ticks": ""
           },
           "bgcolor": "white",
           "radialaxis": {
            "gridcolor": "#EBF0F8",
            "linecolor": "#EBF0F8",
            "ticks": ""
           }
          },
          "scene": {
           "xaxis": {
            "backgroundcolor": "white",
            "gridcolor": "#DFE8F3",
            "gridwidth": 2,
            "linecolor": "#EBF0F8",
            "showbackground": true,
            "ticks": "",
            "zerolinecolor": "#EBF0F8"
           },
           "yaxis": {
            "backgroundcolor": "white",
            "gridcolor": "#DFE8F3",
            "gridwidth": 2,
            "linecolor": "#EBF0F8",
            "showbackground": true,
            "ticks": "",
            "zerolinecolor": "#EBF0F8"
           },
           "zaxis": {
            "backgroundcolor": "white",
            "gridcolor": "#DFE8F3",
            "gridwidth": 2,
            "linecolor": "#EBF0F8",
            "showbackground": true,
            "ticks": "",
            "zerolinecolor": "#EBF0F8"
           }
          },
          "shapedefaults": {
           "line": {
            "color": "#2a3f5f"
           }
          },
          "ternary": {
           "aaxis": {
            "gridcolor": "#DFE8F3",
            "linecolor": "#A2B1C6",
            "ticks": ""
           },
           "baxis": {
            "gridcolor": "#DFE8F3",
            "linecolor": "#A2B1C6",
            "ticks": ""
           },
           "bgcolor": "white",
           "caxis": {
            "gridcolor": "#DFE8F3",
            "linecolor": "#A2B1C6",
            "ticks": ""
           }
          },
          "title": {
           "x": 0.05
          },
          "xaxis": {
           "automargin": true,
           "gridcolor": "#EBF0F8",
           "linecolor": "#EBF0F8",
           "ticks": "",
           "title": {
            "standoff": 15
           },
           "zerolinecolor": "#EBF0F8",
           "zerolinewidth": 2
          },
          "yaxis": {
           "automargin": true,
           "gridcolor": "#EBF0F8",
           "linecolor": "#EBF0F8",
           "ticks": "",
           "title": {
            "standoff": 15
           },
           "zerolinecolor": "#EBF0F8",
           "zerolinewidth": 2
          }
         }
        },
        "xaxis": {
         "range": [
          0,
          100
         ]
        },
        "yaxis": {
         "range": [
          0,
          100
         ]
        }
       }
      }
     },
     "metadata": {},
     "output_type": "display_data"
    }
   ],
   "source": [
    "fig.add_trace(go.Scatter(x=search_vector[:, 0], y=search_vector[:, 1], mode='markers', marker=dict(size=8, color='red'), name=\"Search Vector\"))\n",
    "fig"
   ]
  },
  {
   "cell_type": "code",
   "execution_count": 237,
   "id": "7e6d883d-3bbe-4e77-83d1-c43d1cff5615",
   "metadata": {
    "execution": {
     "iopub.execute_input": "2023-09-05T21:24:43.266841Z",
     "iopub.status.busy": "2023-09-05T21:24:43.266626Z",
     "iopub.status.idle": "2023-09-05T21:24:43.269352Z",
     "shell.execute_reply": "2023-09-05T21:24:43.268807Z",
     "shell.execute_reply.started": "2023-09-05T21:24:43.266829Z"
    }
   },
   "outputs": [],
   "source": [
    "from sklearn.neighbors import NearestNeighbors"
   ]
  },
  {
   "cell_type": "code",
   "execution_count": 238,
   "id": "32f2d0c1-35b3-4be1-959e-135e8547d90c",
   "metadata": {
    "execution": {
     "iopub.execute_input": "2023-09-05T21:24:49.854358Z",
     "iopub.status.busy": "2023-09-05T21:24:49.854191Z",
     "iopub.status.idle": "2023-09-05T21:24:49.858145Z",
     "shell.execute_reply": "2023-09-05T21:24:49.857510Z",
     "shell.execute_reply.started": "2023-09-05T21:24:49.854347Z"
    }
   },
   "outputs": [],
   "source": [
    "nn = NearestNeighbors(algorithm=\"brute\", metric=\"minkowski\")\n",
    "nbrs = nn.fit(vectors)"
   ]
  },
  {
   "cell_type": "code",
   "execution_count": 239,
   "id": "bf7af11d-fc42-4751-ad8b-1068361c80e9",
   "metadata": {
    "execution": {
     "iopub.execute_input": "2023-09-05T21:24:58.249009Z",
     "iopub.status.busy": "2023-09-05T21:24:58.248744Z",
     "iopub.status.idle": "2023-09-05T21:24:58.253387Z",
     "shell.execute_reply": "2023-09-05T21:24:58.252848Z",
     "shell.execute_reply.started": "2023-09-05T21:24:58.248998Z"
    }
   },
   "outputs": [
    {
     "name": "stdout",
     "output_type": "stream",
     "text": [
      "Distances: [[ 3.16227766 22.56102835 25.3179778 ]]\n",
      "Indices: [[ 2  3 17]]\n"
     ]
    }
   ],
   "source": [
    "distances, indices = nbrs.kneighbors(search_vector, n_neighbors=3)\n",
    "print(\"Distances:\", distances)\n",
    "print(\"Indices:\", indices)"
   ]
  },
  {
   "cell_type": "code",
   "execution_count": 240,
   "id": "3b6d974a-6693-491f-b085-92bd58c87486",
   "metadata": {
    "execution": {
     "iopub.execute_input": "2023-09-05T21:25:06.584962Z",
     "iopub.status.busy": "2023-09-05T21:25:06.584690Z",
     "iopub.status.idle": "2023-09-05T21:25:06.589144Z",
     "shell.execute_reply": "2023-09-05T21:25:06.588673Z",
     "shell.execute_reply.started": "2023-09-05T21:25:06.584950Z"
    }
   },
   "outputs": [
    {
     "name": "stdout",
     "output_type": "stream",
     "text": [
      "Vector: [11  7]\n",
      "Distance: 3.1622776601683795\n",
      "\n",
      "Vector: [32 15]\n",
      "Distance: 22.561028345356956\n",
      "\n",
      "Vector: [35  6]\n",
      "Distance: 25.317977802344327\n",
      "\n"
     ]
    }
   ],
   "source": [
    "for id, distance in zip(indices[0], distances[0]):\n",
    "    print(\"Vector:\", vectors[id])\n",
    "    print(\"Distance:\", distance)\n",
    "    print(\"\")"
   ]
  },
  {
   "cell_type": "markdown",
   "id": "bf774670-ad70-48bd-afa1-7c8222113c27",
   "metadata": {},
   "source": [
    "## More and bigger vectors\n",
    "Let's have a look what happens when we use more and bigger vectors."
   ]
  },
  {
   "cell_type": "code",
   "execution_count": 241,
   "id": "ecf3e609-e66f-4bcd-924c-1a47b61242ed",
   "metadata": {
    "execution": {
     "iopub.execute_input": "2023-09-05T21:25:24.049505Z",
     "iopub.status.busy": "2023-09-05T21:25:24.049327Z",
     "iopub.status.idle": "2023-09-05T21:25:26.283988Z",
     "shell.execute_reply": "2023-09-05T21:25:26.283509Z",
     "shell.execute_reply.started": "2023-09-05T21:25:24.049496Z"
    }
   },
   "outputs": [],
   "source": [
    "dimensions = 64\n",
    "number_of_vectors = 5_000_000    \n",
    "vectors = np.random.randint(low=1, high=100_000, size=(number_of_vectors, dimensions), dtype='int32')"
   ]
  },
  {
   "cell_type": "code",
   "execution_count": 242,
   "id": "1b0238a2-7829-4756-9b2f-6c0e7001545d",
   "metadata": {
    "execution": {
     "iopub.execute_input": "2023-09-05T21:25:33.382714Z",
     "iopub.status.busy": "2023-09-05T21:25:33.382164Z",
     "iopub.status.idle": "2023-09-05T21:25:33.385404Z",
     "shell.execute_reply": "2023-09-05T21:25:33.384892Z",
     "shell.execute_reply.started": "2023-09-05T21:25:33.382692Z"
    }
   },
   "outputs": [],
   "source": [
    "brute = NearestNeighbors(algorithm=\"brute\", metric=\"minkowski\")\n",
    "brute_nbrs = brute.fit(vectors)"
   ]
  },
  {
   "cell_type": "code",
   "execution_count": 243,
   "id": "3bd3c269-cbd5-4f16-bfd1-407c0f0e9df3",
   "metadata": {
    "execution": {
     "iopub.execute_input": "2023-09-05T21:25:40.861319Z",
     "iopub.status.busy": "2023-09-05T21:25:40.861101Z",
     "iopub.status.idle": "2023-09-05T21:26:09.890697Z",
     "shell.execute_reply": "2023-09-05T21:26:09.890233Z",
     "shell.execute_reply.started": "2023-09-05T21:25:40.861302Z"
    }
   },
   "outputs": [],
   "source": [
    "kd_tree = NearestNeighbors(algorithm=\"kd_tree\", metric=\"minkowski\")\n",
    "kd_tree_nbrs = kd_tree.fit(vectors)"
   ]
  },
  {
   "cell_type": "code",
   "execution_count": 244,
   "id": "dd7e48e6-fdcb-4d2f-bbaf-95041b2d5a89",
   "metadata": {
    "execution": {
     "iopub.execute_input": "2023-09-05T21:26:17.731160Z",
     "iopub.status.busy": "2023-09-05T21:26:17.730975Z",
     "iopub.status.idle": "2023-09-05T21:26:49.704024Z",
     "shell.execute_reply": "2023-09-05T21:26:49.703547Z",
     "shell.execute_reply.started": "2023-09-05T21:26:17.731151Z"
    }
   },
   "outputs": [],
   "source": [
    "ball_tree = NearestNeighbors(algorithm=\"ball_tree\", metric=\"minkowski\")\n",
    "ball_tree_nbrs = ball_tree.fit(vectors)"
   ]
  },
  {
   "cell_type": "code",
   "execution_count": 245,
   "id": "3a2b8d0e-9b42-4e66-b19f-e1270e6f1ff3",
   "metadata": {
    "execution": {
     "iopub.execute_input": "2023-09-05T21:26:56.667250Z",
     "iopub.status.busy": "2023-09-05T21:26:56.667072Z",
     "iopub.status.idle": "2023-09-05T21:26:56.672046Z",
     "shell.execute_reply": "2023-09-05T21:26:56.671480Z",
     "shell.execute_reply.started": "2023-09-05T21:26:56.667239Z"
    }
   },
   "outputs": [
    {
     "data": {
      "text/plain": [
       "array([[65774, 23719, 68122, 10998, 79071, 75469, 13656, 15312, 14018,\n",
       "        66184, 12354, 66707, 99846, 59051, 82681, 59893, 78115,   165,\n",
       "        87223, 50965, 93095, 89420, 16036,  1326, 48602, 51671, 28783,\n",
       "        94460, 96277, 95185, 90372, 57151, 47895, 46204, 22162, 22573,\n",
       "        20396, 67073, 19945, 25104, 24036, 61182, 39333, 46068, 44337,\n",
       "        36640, 22742, 38246, 66721, 92639,  4828, 79387, 61985, 69682,\n",
       "        29707, 51998, 24593, 75937,  1487, 86128, 99027, 65618, 40376,\n",
       "        15094]], dtype=int32)"
      ]
     },
     "execution_count": 245,
     "metadata": {},
     "output_type": "execute_result"
    }
   ],
   "source": [
    "search_vector = np.random.randint(1, 100_000, (1, dimensions), dtype='int32')\n",
    "search_vector"
   ]
  },
  {
   "cell_type": "code",
   "execution_count": 246,
   "id": "42ecbb22-4497-4950-84cb-2c0a579336a3",
   "metadata": {
    "execution": {
     "iopub.execute_input": "2023-09-05T21:27:19.718754Z",
     "iopub.status.busy": "2023-09-05T21:27:19.718491Z",
     "iopub.status.idle": "2023-09-05T21:27:19.723516Z",
     "shell.execute_reply": "2023-09-05T21:27:19.723167Z",
     "shell.execute_reply.started": "2023-09-05T21:27:19.718743Z"
    }
   },
   "outputs": [],
   "source": [
    "import time\n",
    "def nearest_neighbours(algorithm, number_of_neighbours):\n",
    "    start = time.time()\n",
    "    distances, indices = algorithm.kneighbors(search_vector, n_neighbors=number_of_neighbours)\n",
    "    end = time.time()\n",
    "\n",
    "    print(f\"Time: {end - start:.4f} seconds\")\n",
    "\n",
    "    print(\"Results:\")\n",
    "    return pd.DataFrame({\n",
    "        \"id\": indices[0],\n",
    "        \"vector\": [vectors[id] for id in indices[0]],\n",
    "        \"distance\": distances[0]\n",
    "    })"
   ]
  },
  {
   "cell_type": "code",
   "execution_count": 247,
   "id": "67df8e21-7c3a-48d8-9d31-22134e5a8f29",
   "metadata": {
    "execution": {
     "iopub.execute_input": "2023-09-05T21:27:24.184492Z",
     "iopub.status.busy": "2023-09-05T21:27:24.184236Z",
     "iopub.status.idle": "2023-09-05T21:27:25.412342Z",
     "shell.execute_reply": "2023-09-05T21:27:25.411612Z",
     "shell.execute_reply.started": "2023-09-05T21:27:24.184482Z"
    }
   },
   "outputs": [
    {
     "name": "stdout",
     "output_type": "stream",
     "text": [
      "Time: 1.2142 seconds\n",
      "Results:\n"
     ]
    },
    {
     "data": {
      "text/html": [
       "<div>\n",
       "<style scoped>\n",
       "    .dataframe tbody tr th:only-of-type {\n",
       "        vertical-align: middle;\n",
       "    }\n",
       "\n",
       "    .dataframe tbody tr th {\n",
       "        vertical-align: top;\n",
       "    }\n",
       "\n",
       "    .dataframe thead th {\n",
       "        text-align: right;\n",
       "    }\n",
       "</style>\n",
       "<table border=\"1\" class=\"dataframe\">\n",
       "  <thead>\n",
       "    <tr style=\"text-align: right;\">\n",
       "      <th></th>\n",
       "      <th>id</th>\n",
       "      <th>vector</th>\n",
       "      <th>distance</th>\n",
       "    </tr>\n",
       "  </thead>\n",
       "  <tbody>\n",
       "    <tr>\n",
       "      <th>0</th>\n",
       "      <td>7351</td>\n",
       "      <td>[89790, 33042, 86264, 2645, 52425, 62478, 2676...</td>\n",
       "      <td>199643.101777</td>\n",
       "    </tr>\n",
       "    <tr>\n",
       "      <th>1</th>\n",
       "      <td>3115426</td>\n",
       "      <td>[84484, 62107, 6116, 32108, 74041, 79194, 9738...</td>\n",
       "      <td>210536.966317</td>\n",
       "    </tr>\n",
       "    <tr>\n",
       "      <th>2</th>\n",
       "      <td>3288864</td>\n",
       "      <td>[78224, 35131, 49818, 53602, 97015, 71875, 191...</td>\n",
       "      <td>216861.849132</td>\n",
       "    </tr>\n",
       "  </tbody>\n",
       "</table>\n",
       "</div>"
      ],
      "text/plain": [
       "        id                                             vector       distance\n",
       "0     7351  [89790, 33042, 86264, 2645, 52425, 62478, 2676...  199643.101777\n",
       "1  3115426  [84484, 62107, 6116, 32108, 74041, 79194, 9738...  210536.966317\n",
       "2  3288864  [78224, 35131, 49818, 53602, 97015, 71875, 191...  216861.849132"
      ]
     },
     "execution_count": 247,
     "metadata": {},
     "output_type": "execute_result"
    }
   ],
   "source": [
    "nearest_neighbours(brute_nbrs, 3)"
   ]
  },
  {
   "cell_type": "code",
   "execution_count": 248,
   "id": "3d187ba1-27b0-4b8f-b9db-487ad8d9cf53",
   "metadata": {
    "execution": {
     "iopub.execute_input": "2023-09-05T21:27:31.852641Z",
     "iopub.status.busy": "2023-09-05T21:27:31.852424Z",
     "iopub.status.idle": "2023-09-05T21:27:32.800055Z",
     "shell.execute_reply": "2023-09-05T21:27:32.799664Z",
     "shell.execute_reply.started": "2023-09-05T21:27:31.852631Z"
    }
   },
   "outputs": [
    {
     "name": "stdout",
     "output_type": "stream",
     "text": [
      "Time: 0.9414 seconds\n",
      "Results:\n"
     ]
    },
    {
     "data": {
      "text/html": [
       "<div>\n",
       "<style scoped>\n",
       "    .dataframe tbody tr th:only-of-type {\n",
       "        vertical-align: middle;\n",
       "    }\n",
       "\n",
       "    .dataframe tbody tr th {\n",
       "        vertical-align: top;\n",
       "    }\n",
       "\n",
       "    .dataframe thead th {\n",
       "        text-align: right;\n",
       "    }\n",
       "</style>\n",
       "<table border=\"1\" class=\"dataframe\">\n",
       "  <thead>\n",
       "    <tr style=\"text-align: right;\">\n",
       "      <th></th>\n",
       "      <th>id</th>\n",
       "      <th>vector</th>\n",
       "      <th>distance</th>\n",
       "    </tr>\n",
       "  </thead>\n",
       "  <tbody>\n",
       "    <tr>\n",
       "      <th>0</th>\n",
       "      <td>7351</td>\n",
       "      <td>[89790, 33042, 86264, 2645, 52425, 62478, 2676...</td>\n",
       "      <td>199643.101777</td>\n",
       "    </tr>\n",
       "    <tr>\n",
       "      <th>1</th>\n",
       "      <td>3115426</td>\n",
       "      <td>[84484, 62107, 6116, 32108, 74041, 79194, 9738...</td>\n",
       "      <td>210536.966317</td>\n",
       "    </tr>\n",
       "    <tr>\n",
       "      <th>2</th>\n",
       "      <td>3288864</td>\n",
       "      <td>[78224, 35131, 49818, 53602, 97015, 71875, 191...</td>\n",
       "      <td>216861.849132</td>\n",
       "    </tr>\n",
       "  </tbody>\n",
       "</table>\n",
       "</div>"
      ],
      "text/plain": [
       "        id                                             vector       distance\n",
       "0     7351  [89790, 33042, 86264, 2645, 52425, 62478, 2676...  199643.101777\n",
       "1  3115426  [84484, 62107, 6116, 32108, 74041, 79194, 9738...  210536.966317\n",
       "2  3288864  [78224, 35131, 49818, 53602, 97015, 71875, 191...  216861.849132"
      ]
     },
     "execution_count": 248,
     "metadata": {},
     "output_type": "execute_result"
    }
   ],
   "source": [
    "nearest_neighbours(kd_tree_nbrs, 3)"
   ]
  },
  {
   "cell_type": "code",
   "execution_count": 249,
   "id": "c925e814-bb08-4587-9de2-c91c55673a9d",
   "metadata": {
    "execution": {
     "iopub.execute_input": "2023-09-05T21:27:39.337424Z",
     "iopub.status.busy": "2023-09-05T21:27:39.337103Z",
     "iopub.status.idle": "2023-09-05T21:27:40.176778Z",
     "shell.execute_reply": "2023-09-05T21:27:40.176318Z",
     "shell.execute_reply.started": "2023-09-05T21:27:39.337409Z"
    }
   },
   "outputs": [
    {
     "name": "stdout",
     "output_type": "stream",
     "text": [
      "Time: 0.8338 seconds\n",
      "Results:\n"
     ]
    },
    {
     "data": {
      "text/html": [
       "<div>\n",
       "<style scoped>\n",
       "    .dataframe tbody tr th:only-of-type {\n",
       "        vertical-align: middle;\n",
       "    }\n",
       "\n",
       "    .dataframe tbody tr th {\n",
       "        vertical-align: top;\n",
       "    }\n",
       "\n",
       "    .dataframe thead th {\n",
       "        text-align: right;\n",
       "    }\n",
       "</style>\n",
       "<table border=\"1\" class=\"dataframe\">\n",
       "  <thead>\n",
       "    <tr style=\"text-align: right;\">\n",
       "      <th></th>\n",
       "      <th>id</th>\n",
       "      <th>vector</th>\n",
       "      <th>distance</th>\n",
       "    </tr>\n",
       "  </thead>\n",
       "  <tbody>\n",
       "    <tr>\n",
       "      <th>0</th>\n",
       "      <td>7351</td>\n",
       "      <td>[89790, 33042, 86264, 2645, 52425, 62478, 2676...</td>\n",
       "      <td>199643.101777</td>\n",
       "    </tr>\n",
       "    <tr>\n",
       "      <th>1</th>\n",
       "      <td>3115426</td>\n",
       "      <td>[84484, 62107, 6116, 32108, 74041, 79194, 9738...</td>\n",
       "      <td>210536.966317</td>\n",
       "    </tr>\n",
       "    <tr>\n",
       "      <th>2</th>\n",
       "      <td>3288864</td>\n",
       "      <td>[78224, 35131, 49818, 53602, 97015, 71875, 191...</td>\n",
       "      <td>216861.849132</td>\n",
       "    </tr>\n",
       "  </tbody>\n",
       "</table>\n",
       "</div>"
      ],
      "text/plain": [
       "        id                                             vector       distance\n",
       "0     7351  [89790, 33042, 86264, 2645, 52425, 62478, 2676...  199643.101777\n",
       "1  3115426  [84484, 62107, 6116, 32108, 74041, 79194, 9738...  210536.966317\n",
       "2  3288864  [78224, 35131, 49818, 53602, 97015, 71875, 191...  216861.849132"
      ]
     },
     "execution_count": 249,
     "metadata": {},
     "output_type": "execute_result"
    }
   ],
   "source": [
    "nearest_neighbours(ball_tree_nbrs, 3)"
   ]
  }
 ],
 "metadata": {
  "kernelspec": {
   "display_name": "Python 3 (ipykernel)",
   "language": "python",
   "name": "python3"
  },
  "language_info": {
   "codemirror_mode": {
    "name": "ipython",
    "version": 3
   },
   "file_extension": ".py",
   "mimetype": "text/x-python",
   "name": "python",
   "nbconvert_exporter": "python",
   "pygments_lexer": "ipython3",
   "version": "3.11.4"
  },
  "widgets": {
   "application/vnd.jupyter.widget-state+json": {
    "state": {},
    "version_major": 2,
    "version_minor": 0
   }
  }
 },
 "nbformat": 4,
 "nbformat_minor": 5
}
