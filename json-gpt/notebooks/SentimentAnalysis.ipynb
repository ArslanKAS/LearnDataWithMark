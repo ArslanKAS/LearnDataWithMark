{
 "cells": [
  {
   "cell_type": "markdown",
   "id": "14bacab5-c3bf-4d3c-bfbb-27fb7a28545f",
   "metadata": {},
   "source": [
    "# Sentiment Analysis with OpenAI/GPT\n",
    "In this notebook, we're going to learn how to analyse the sentiment of book reviews with OpenAI."
   ]
  },
  {
   "cell_type": "code",
   "execution_count": 109,
   "id": "5d37df50-6293-4d18-993d-0e811d5d45d1",
   "metadata": {},
   "outputs": [],
   "source": [
    "import openai\n",
    "import json\n",
    "import pandas as pd"
   ]
  },
  {
   "cell_type": "code",
   "execution_count": 110,
   "id": "6d499a41-8e1c-4073-b4c9-7caa9e99de73",
   "metadata": {},
   "outputs": [
    {
     "data": {
      "text/plain": [
       "[\"Possibly the worst book I've ever read.It's a huge collection of biases for all the possible countries and cultures. The whole book is structured with examples like: if you are working with Chinese people, you should take this approach, instead if your team is composed by German people you should do this etc....\",\n",
       " 'A book full of oversimplifications, generalisations and self-contradiction. Plus many of the examples felt simply made up. Although it had one or two good ideas thrown in there, I am honestly not sure if this book can hardly help anyone.',\n",
       " 'I had it on my recommendations list for a long time, but my impression was always like: \"damn, I don\\'t need a book on cultural differences; I\\'ve worked in many international enterprises, I have been trained, I have practical experience - it would be just a waste of time\". In the end, it wasn\\'t (a waste of time).',\n",
       " 'Candidate for the best book I have read in 2016 unless another one can beat it. The author made is fun to read with great examples that I could easily relate to.',\n",
       " 'A practical and comprehensive guide to how different cultures should be approached regarding business relations, but it can also be used outside of that.',\n",
       " 'The book was OK. It offers a good overview of differences between cultures. Sometimes we may assume that 2 cultures are similar, but in the end there is a possibility of conflict, because they have different \"mentality\" on a certain point (trust or time perception, for instance). But Erin often limits herself to personal stories and doesn\\'t cite almost any researcher or study.']"
      ]
     },
     "execution_count": 110,
     "metadata": {},
     "output_type": "execute_result"
    }
   ],
   "source": [
    "reviews_df = pd.read_csv(\"reviews.csv\")\n",
    "reviews = reviews_df['review'].tolist()\n",
    "reviews"
   ]
  },
  {
   "cell_type": "code",
   "execution_count": 120,
   "id": "3ec26006-fdb8-4098-93e5-346b6d7f3343",
   "metadata": {},
   "outputs": [],
   "source": [
    "def analyse_reviews(user_input):\n",
    "    prompt = f\"\"\"\n",
    "    {user_input}\n",
    "    Analyse the sentiment of the reviews above and return a JSON array as the result.\n",
    "Provide sentiment on a scale of 1-100?\n",
    "The JSON must have these fields: sentiment, sentiment_score.\n",
    "    \"\"\"\n",
    "    completion = openai.ChatCompletion.create(\n",
    "        model=\"gpt-3.5-turbo\",\n",
    "        messages=[\n",
    "            {\"role\": \"system\", \"content\": \"You are a helpful review analysis tool.\"},\n",
    "            {\"role\": \"user\", \"content\": prompt},\n",
    "        ]\n",
    "    )\n",
    "    try:\n",
    "        generated_text = completion.choices[0].message.content\n",
    "        return json.loads(generated_text)\n",
    "    except Exception as e:\n",
    "        print(f\"An error occurred: {e}\")\n",
    "        return None"
   ]
  },
  {
   "cell_type": "code",
   "execution_count": 112,
   "id": "25b154bc-ff68-4c71-a208-495e69a3174f",
   "metadata": {},
   "outputs": [
    {
     "data": {
      "text/plain": [
       "{'sentiment': 'mixed', 'sentiment_score': 64.2}"
      ]
     },
     "execution_count": 112,
     "metadata": {},
     "output_type": "execute_result"
    }
   ],
   "source": [
    "analyse_reviews(reviews)"
   ]
  },
  {
   "cell_type": "code",
   "execution_count": 113,
   "id": "af75684b-8ab3-463a-9fb4-642b08049f84",
   "metadata": {},
   "outputs": [
    {
     "data": {
      "text/plain": [
       "[{'sentiment': 'negative', 'sentiment_score': 15},\n",
       " {'sentiment': 'negative', 'sentiment_score': 25},\n",
       " {'sentiment': 'positive', 'sentiment_score': 70},\n",
       " {'sentiment': 'positive', 'sentiment_score': 85},\n",
       " {'sentiment': 'positive', 'sentiment_score': 90},\n",
       " {'sentiment': 'neutral', 'sentiment_score': 50}]"
      ]
     },
     "execution_count": 113,
     "metadata": {},
     "output_type": "execute_result"
    }
   ],
   "source": [
    "analyse_reviews(reviews)"
   ]
  },
  {
   "cell_type": "code",
   "execution_count": 125,
   "id": "45e44f7c-ef0c-4844-846a-9d28279904a1",
   "metadata": {},
   "outputs": [
    {
     "data": {
      "text/plain": [
       "{'reviews': [{'sentiment': 'negative', 'sentiment_score': 12},\n",
       "  {'sentiment': 'negative', 'sentiment_score': 22},\n",
       "  {'sentiment': 'neutral', 'sentiment_score': 50},\n",
       "  {'sentiment': 'positive', 'sentiment_score': 85},\n",
       "  {'sentiment': 'positive', 'sentiment_score': 70},\n",
       "  {'sentiment': 'neutral', 'sentiment_score': 65}]}"
      ]
     },
     "execution_count": 125,
     "metadata": {},
     "output_type": "execute_result"
    }
   ],
   "source": [
    "analyse_reviews(reviews)"
   ]
  },
  {
   "cell_type": "code",
   "execution_count": 115,
   "id": "7c90548d-c1c5-4e2b-bb61-cf402c957b93",
   "metadata": {},
   "outputs": [],
   "source": [
    "def analyse_reviews(user_input):\n",
    "    prompt = f\"\"\"\n",
    "    {user_input}\n",
    "    Analyse the sentiment of the reviews above and return a JSON array as the result.\n",
    "Provide sentiment on a scale of 1-100?\n",
    "The JSON must have these fields: sentiment, sentiment_score.\n",
    "    \"\"\"\n",
    "    completion = openai.ChatCompletion.create(\n",
    "        model=\"gpt-3.5-turbo\",\n",
    "        messages=[\n",
    "            {\"role\": \"system\", \"content\": \"You are a helpful review analysis tool.\"},\n",
    "            {\"role\": \"user\", \"content\": prompt},\n",
    "        ],\n",
    "        functions=[{\"name\": \"dummy_fn_set_sentiment\", \"parameters\": {\n",
    "          \"type\": \"object\",\n",
    "          \"properties\": {\n",
    "            \"sentiments\": {\n",
    "              \"type\": \"array\",\n",
    "              \"items\": {\n",
    "                \"type\": \"object\",\n",
    "                \"properties\": {\n",
    "                  \"sentiment\": {\"type\": \"string\", \"description\": \"Sentiment of the review\"},\n",
    "                  \"sentiment_score\": {\"type\": \"integer\",\"description\": \"Score between 1-100 of the sentiment\"}\n",
    "                }\n",
    "              }\n",
    "            }\n",
    "          }\n",
    "        }}],\n",
    "    )\n",
    "    try:\n",
    "        generated_text = completion.choices[0].message.function_call.arguments\n",
    "        return json.loads(generated_text)\n",
    "    except Exception as e:\n",
    "        print(f\"An error occurred: {e}\")\n",
    "        return None"
   ]
  },
  {
   "cell_type": "code",
   "execution_count": 118,
   "id": "e12556f7-a056-4b71-8c61-dc8a6453fb1b",
   "metadata": {},
   "outputs": [
    {
     "data": {
      "text/plain": [
       "{'sentiments': [{'sentiment': 'negative', 'sentiment_score': 30},\n",
       "  {'sentiment': 'negative', 'sentiment_score': 25},\n",
       "  {'sentiment': 'positive', 'sentiment_score': 70},\n",
       "  {'sentiment': 'positive', 'sentiment_score': 90},\n",
       "  {'sentiment': 'positive', 'sentiment_score': 80},\n",
       "  {'sentiment': 'neutral', 'sentiment_score': 50}]}"
      ]
     },
     "execution_count": 118,
     "metadata": {},
     "output_type": "execute_result"
    }
   ],
   "source": [
    "sentiments = analyse_reviews(reviews)\n",
    "sentiments"
   ]
  },
  {
   "cell_type": "code",
   "execution_count": 119,
   "id": "01212d56-a68b-4a02-871a-464e692556e0",
   "metadata": {},
   "outputs": [
    {
     "data": {
      "text/html": [
       "<div>\n",
       "<style scoped>\n",
       "    .dataframe tbody tr th:only-of-type {\n",
       "        vertical-align: middle;\n",
       "    }\n",
       "\n",
       "    .dataframe tbody tr th {\n",
       "        vertical-align: top;\n",
       "    }\n",
       "\n",
       "    .dataframe thead th {\n",
       "        text-align: right;\n",
       "    }\n",
       "</style>\n",
       "<table border=\"1\" class=\"dataframe\">\n",
       "  <thead>\n",
       "    <tr style=\"text-align: right;\">\n",
       "      <th></th>\n",
       "      <th>review</th>\n",
       "      <th>sentiment</th>\n",
       "      <th>sentiment_score</th>\n",
       "    </tr>\n",
       "  </thead>\n",
       "  <tbody>\n",
       "    <tr>\n",
       "      <th>0</th>\n",
       "      <td>Possibly the worst book I've ever read.It's a huge collection of biases for all the possible cou...</td>\n",
       "      <td>negative</td>\n",
       "      <td>30</td>\n",
       "    </tr>\n",
       "    <tr>\n",
       "      <th>1</th>\n",
       "      <td>A book full of oversimplifications, generalisations and self-contradiction. Plus many of the exa...</td>\n",
       "      <td>negative</td>\n",
       "      <td>25</td>\n",
       "    </tr>\n",
       "    <tr>\n",
       "      <th>2</th>\n",
       "      <td>I had it on my recommendations list for a long time, but my impression was always like: \"damn, I...</td>\n",
       "      <td>positive</td>\n",
       "      <td>70</td>\n",
       "    </tr>\n",
       "    <tr>\n",
       "      <th>3</th>\n",
       "      <td>Candidate for the best book I have read in 2016 unless another one can beat it. The author made ...</td>\n",
       "      <td>positive</td>\n",
       "      <td>90</td>\n",
       "    </tr>\n",
       "    <tr>\n",
       "      <th>4</th>\n",
       "      <td>A practical and comprehensive guide to how different cultures should be approached regarding bus...</td>\n",
       "      <td>positive</td>\n",
       "      <td>80</td>\n",
       "    </tr>\n",
       "    <tr>\n",
       "      <th>5</th>\n",
       "      <td>The book was OK. It offers a good overview of differences between cultures. Sometimes we may ass...</td>\n",
       "      <td>neutral</td>\n",
       "      <td>50</td>\n",
       "    </tr>\n",
       "  </tbody>\n",
       "</table>\n",
       "</div>"
      ],
      "text/plain": [
       "                                                                                                review  \\\n",
       "0  Possibly the worst book I've ever read.It's a huge collection of biases for all the possible cou...   \n",
       "1  A book full of oversimplifications, generalisations and self-contradiction. Plus many of the exa...   \n",
       "2  I had it on my recommendations list for a long time, but my impression was always like: \"damn, I...   \n",
       "3  Candidate for the best book I have read in 2016 unless another one can beat it. The author made ...   \n",
       "4  A practical and comprehensive guide to how different cultures should be approached regarding bus...   \n",
       "5  The book was OK. It offers a good overview of differences between cultures. Sometimes we may ass...   \n",
       "\n",
       "  sentiment  sentiment_score  \n",
       "0  negative               30  \n",
       "1  negative               25  \n",
       "2  positive               70  \n",
       "3  positive               90  \n",
       "4  positive               80  \n",
       "5   neutral               50  "
      ]
     },
     "execution_count": 119,
     "metadata": {},
     "output_type": "execute_result"
    }
   ],
   "source": [
    "sentiment_df = pd.DataFrame(sentiments[\"sentiments\"])\n",
    "result = pd.concat([reviews_df, sentiment_df], axis=1)\n",
    "pd.set_option('max_colwidth', 100)\n",
    "result"
   ]
  },
  {
   "cell_type": "code",
   "execution_count": 126,
   "id": "08bbfd71-a357-4540-b1a5-96e6db6d49a3",
   "metadata": {},
   "outputs": [],
   "source": [
    "result.to_csv(\"reviews_sentiment.csv\", index=False)"
   ]
  }
 ],
 "metadata": {
  "kernelspec": {
   "display_name": "Python 3 (ipykernel)",
   "language": "python",
   "name": "python3"
  },
  "language_info": {
   "codemirror_mode": {
    "name": "ipython",
    "version": 3
   },
   "file_extension": ".py",
   "mimetype": "text/x-python",
   "name": "python",
   "nbconvert_exporter": "python",
   "pygments_lexer": "ipython3",
   "version": "3.11.4"
  }
 },
 "nbformat": 4,
 "nbformat_minor": 5
}
