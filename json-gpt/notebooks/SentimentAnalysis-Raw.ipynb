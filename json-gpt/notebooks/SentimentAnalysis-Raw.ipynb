{
 "cells": [
  {
   "cell_type": "markdown",
   "id": "e0b34e44-ee3d-42b4-ab16-4cb7efce4490",
   "metadata": {},
   "source": [
    "# Sentiment Analysis with OpenAI and DuckDb"
   ]
  },
  {
   "cell_type": "code",
   "execution_count": null,
   "id": "4f49a991-13c7-4953-919f-d3a952cd6bc8",
   "metadata": {},
   "outputs": [],
   "source": [
    "import openai\n",
    "import json\n",
    "import pandas as pd"
   ]
  },
  {
   "cell_type": "code",
   "execution_count": null,
   "id": "e966d4bd-f793-4414-9181-3ddbb7a6ece1",
   "metadata": {},
   "outputs": [],
   "source": [
    "# https://www.goodreads.com/book/show/22085568-the-culture-map?from_search=true&from_srp=true&qid=JOGX5h8YsY&rank=1\n",
    "\n",
    "reviews = pd.read_csv(\"reviews.csv\")['review'].tolist()\n",
    "reviews"
   ]
  },
  {
   "cell_type": "code",
   "execution_count": null,
   "id": "f06824fb-fcfe-49e3-9884-108f57f82180",
   "metadata": {},
   "outputs": [],
   "source": [
    "def analyse_reviews(user_input):\n",
    "    prompt = f\"\"\"\n",
    "    {user_input}\n",
    "    Analyse the sentiment of the reviews above and return as JSON array the result.\n",
    "Provide sentiment on a scale of say 0-100?\n",
    "The JSON must have these fields: sentiment, sentiment_score.\n",
    "    \"\"\"\n",
    "\n",
    "    schema = {\n",
    "      \"type\": \"object\",\n",
    "      \"properties\": {\n",
    "        \"sentiments\": {\n",
    "          \"type\": \"array\",\n",
    "          \"items\": {\n",
    "            \"type\": \"object\",\n",
    "            \"properties\": {\n",
    "              \"sentiment\": {\"type\": \"string\", \"description\": \"Sentiment of the review\"},\n",
    "              \"sentiment_score\": {\"type\": \"integer\",\"description\": \"Score between 1-100 of the sentiment\"}\n",
    "            }\n",
    "          }\n",
    "        }\n",
    "      }\n",
    "    }\n",
    "\n",
    "    completion = openai.ChatCompletion.create(\n",
    "        model=\"gpt-3.5-turbo\",\n",
    "        messages=[\n",
    "            {\"role\": \"system\", \"content\": \"You are a helpful review analysis tool.\"},\n",
    "            {\"role\": \"user\", \"content\": prompt},\n",
    "        ],\n",
    "        functions=[{\"name\": \"set_sentiment\", \"parameters\": schema}],\n",
    "        function_call={\"name\": \"set_sentiment\"},\n",
    "    )\n",
    "\n",
    "    try:\n",
    "        generated_text = completion.choices[0].message.function_call.arguments\n",
    "        return json.loads(generated_text)\n",
    "    except Exception as e:\n",
    "        print(f\"An error occurred: {e}\")\n",
    "        return None"
   ]
  },
  {
   "cell_type": "code",
   "execution_count": 66,
   "id": "b5526114-9501-418e-b08e-0a6d1ecd3641",
   "metadata": {},
   "outputs": [],
   "source": [
    "sentiments = analyse_reviews(reviews)"
   ]
  },
  {
   "cell_type": "code",
   "execution_count": 67,
   "id": "76cd2dbd-2534-4613-b549-149cc1b49e8a",
   "metadata": {},
   "outputs": [
    {
     "data": {
      "text/plain": [
       "[{'sentiment': 'negative', 'sentiment_score': 30},\n",
       " {'sentiment': 'negative', 'sentiment_score': 20},\n",
       " {'sentiment': 'positive', 'sentiment_score': 80},\n",
       " {'sentiment': 'positive', 'sentiment_score': 90},\n",
       " {'sentiment': 'positive', 'sentiment_score': 75},\n",
       " {'sentiment': 'neutral', 'sentiment_score': 50}]"
      ]
     },
     "execution_count": 67,
     "metadata": {},
     "output_type": "execute_result"
    }
   ],
   "source": [
    "sentiments[\"sentiments\"]"
   ]
  },
  {
   "cell_type": "code",
   "execution_count": 46,
   "id": "b16ec670-c895-4aff-9046-2a15f9bf91e2",
   "metadata": {},
   "outputs": [
    {
     "data": {
      "text/html": [
       "<div>\n",
       "<style scoped>\n",
       "    .dataframe tbody tr th:only-of-type {\n",
       "        vertical-align: middle;\n",
       "    }\n",
       "\n",
       "    .dataframe tbody tr th {\n",
       "        vertical-align: top;\n",
       "    }\n",
       "\n",
       "    .dataframe thead th {\n",
       "        text-align: right;\n",
       "    }\n",
       "</style>\n",
       "<table border=\"1\" class=\"dataframe\">\n",
       "  <thead>\n",
       "    <tr style=\"text-align: right;\">\n",
       "      <th></th>\n",
       "      <th>review</th>\n",
       "      <th>sentiment</th>\n",
       "      <th>sentiment_score</th>\n",
       "    </tr>\n",
       "  </thead>\n",
       "  <tbody>\n",
       "    <tr>\n",
       "      <th>0</th>\n",
       "      <td>Possibly the worst book I've ever read.It's a huge collection of biases...</td>\n",
       "      <td>negative</td>\n",
       "      <td>10</td>\n",
       "    </tr>\n",
       "    <tr>\n",
       "      <th>1</th>\n",
       "      <td>A book full of oversimplifications, generalisations and self-contradict...</td>\n",
       "      <td>negative</td>\n",
       "      <td>20</td>\n",
       "    </tr>\n",
       "    <tr>\n",
       "      <th>2</th>\n",
       "      <td>I had it on my recommendations list for a long time, but my impression ...</td>\n",
       "      <td>positive</td>\n",
       "      <td>80</td>\n",
       "    </tr>\n",
       "    <tr>\n",
       "      <th>3</th>\n",
       "      <td>Candidate for the best book I have read in 2016 unless another one can ...</td>\n",
       "      <td>positive</td>\n",
       "      <td>90</td>\n",
       "    </tr>\n",
       "    <tr>\n",
       "      <th>4</th>\n",
       "      <td>A practical and comprehensive guide to how different cultures should be...</td>\n",
       "      <td>positive</td>\n",
       "      <td>70</td>\n",
       "    </tr>\n",
       "    <tr>\n",
       "      <th>5</th>\n",
       "      <td>The book was OK. It offers a good overview of differences between cultu...</td>\n",
       "      <td>neutral</td>\n",
       "      <td>50</td>\n",
       "    </tr>\n",
       "  </tbody>\n",
       "</table>\n",
       "</div>"
      ],
      "text/plain": [
       "                                                                       review  \\\n",
       "0  Possibly the worst book I've ever read.It's a huge collection of biases...   \n",
       "1  A book full of oversimplifications, generalisations and self-contradict...   \n",
       "2  I had it on my recommendations list for a long time, but my impression ...   \n",
       "3  Candidate for the best book I have read in 2016 unless another one can ...   \n",
       "4  A practical and comprehensive guide to how different cultures should be...   \n",
       "5  The book was OK. It offers a good overview of differences between cultu...   \n",
       "\n",
       "  sentiment  sentiment_score  \n",
       "0  negative               10  \n",
       "1  negative               20  \n",
       "2  positive               80  \n",
       "3  positive               90  \n",
       "4  positive               70  \n",
       "5   neutral               50  "
      ]
     },
     "execution_count": 46,
     "metadata": {},
     "output_type": "execute_result"
    }
   ],
   "source": [
    "import pandas as pd\n",
    "pd.set_option('display.max_colwidth', 75)\n",
    "pd.DataFrame([\n",
    "    {\"review\": review, **sentiment} \n",
    "    for review, sentiment in zip(reviews, sentiments[\"sentiments\"])\n",
    "])"
   ]
  },
  {
   "cell_type": "code",
   "execution_count": 54,
   "id": "e5958571-c764-4e6a-9158-8f498b6e58f1",
   "metadata": {},
   "outputs": [],
   "source": [
    "def analyse_reviews2(user_input):\n",
    "    prompt = f\"\"\"\n",
    "    {user_input}\n",
    "    Analyse the sentiment of the reviews above and return a JSON array as the result.\n",
    "Provide sentiment on a scale of say 0-100?\n",
    "The JSON must have these fields: sentiment, sentiment_score.\n",
    "    \"\"\"\n",
    "\n",
    "    completion = openai.ChatCompletion.create(\n",
    "        model=\"gpt-3.5-turbo\",\n",
    "        messages=[\n",
    "            {\"role\": \"system\", \"content\": \"You are a helpful review analysis tool.\"},\n",
    "            {\"role\": \"user\", \"content\": prompt},\n",
    "        ]\n",
    "    )\n",
    "\n",
    "    try:\n",
    "        generated_text = completion.choices[0].message.content\n",
    "        return json.loads(generated_text)\n",
    "    except Exception as e:\n",
    "        print(f\"An error occurred: {e}\")\n",
    "        return None"
   ]
  },
  {
   "cell_type": "code",
   "execution_count": 55,
   "id": "3bd88c5f-7729-4b2e-97a2-415fd85c9fa6",
   "metadata": {},
   "outputs": [],
   "source": [
    "result = analyse_reviews2(reviews[:3])"
   ]
  },
  {
   "cell_type": "code",
   "execution_count": 56,
   "id": "83901b1a-7b3c-49a5-a224-1003a36b9ccb",
   "metadata": {},
   "outputs": [
    {
     "data": {
      "text/plain": [
       "{'reviews': [{'review': \"Possibly the worst book I've ever read.It's a huge collection of biases for all the possible countries and cultures. The whole book is structured with examples like: if you are working with Chinese people, you should take this approach, instead if your team is composed by German people you should do this etc....\",\n",
       "   'sentiment': 'negative',\n",
       "   'sentiment_score': 15},\n",
       "  {'review': 'A book full of oversimplifications, generalisations and self-contradiction. Plus many of the examples felt simply made up. Although it had one or two good ideas thrown in there, I am honestly not sure if this book can hardly help anyone.',\n",
       "   'sentiment': 'negative',\n",
       "   'sentiment_score': 20},\n",
       "  {'review': 'I had it on my recommendations list for a long time, but my impression was always like: \"damn, I don\\'t need a book on cultural differences; I\\'ve worked in many international enterprises, I have been trained, I have practical experience - it would be just a waste of time\". In the end, it wasn\\'t (a waste of time).',\n",
       "   'sentiment': 'positive',\n",
       "   'sentiment_score': 80},\n",
       "  {'review': 'Candidate for the best book I have read in 2016 unless another one can beat it. The author made is fun to read with great examples that I could easily relate to.',\n",
       "   'sentiment': 'positive',\n",
       "   'sentiment_score': 90},\n",
       "  {'review': 'A practical and comprehensive guide to how different cultures should be approached regarding business relations, but it can also be used outside of that.',\n",
       "   'sentiment': 'positive',\n",
       "   'sentiment_score': 75},\n",
       "  {'review': 'The book was OK. It offers a good overview of differences between cultures. Sometimes we may assume that 2 cultures are similar, but in the end there is a possibility of conflict, because they have different \"mentality\" on a certain point (trust or time perception, for instance). But Erin often limits herself to personal stories and doesn\\'t cite almost any researcher or study.',\n",
       "   'sentiment': 'neutral',\n",
       "   'sentiment_score': 50}]}"
      ]
     },
     "execution_count": 56,
     "metadata": {},
     "output_type": "execute_result"
    }
   ],
   "source": [
    "result"
   ]
  },
  {
   "cell_type": "code",
   "execution_count": 60,
   "id": "d2ae971c-4b06-4048-986d-2c2742dc418c",
   "metadata": {
    "scrolled": true
   },
   "outputs": [
    {
     "data": {
      "text/plain": [
       "{'reviews': [{'sentiment': 'negative', 'sentiment_score': 20},\n",
       "  {'sentiment': 'negative', 'sentiment_score': 30},\n",
       "  {'sentiment': 'positive', 'sentiment_score': 80}]}"
      ]
     },
     "execution_count": 60,
     "metadata": {},
     "output_type": "execute_result"
    }
   ],
   "source": [
    "analyse_reviews2(reviews[:3])"
   ]
  },
  {
   "cell_type": "code",
   "execution_count": 61,
   "id": "bf664703-5ca8-4353-aaa7-6947c242924c",
   "metadata": {},
   "outputs": [
    {
     "data": {
      "text/plain": [
       "{'sentiment': 'negative', 'sentiment_score': 20}"
      ]
     },
     "execution_count": 61,
     "metadata": {},
     "output_type": "execute_result"
    }
   ],
   "source": [
    "analyse_reviews2(reviews[:3])"
   ]
  },
  {
   "cell_type": "code",
   "execution_count": 57,
   "id": "49dec09c-50f7-4573-92bb-d2a33c1fcf29",
   "metadata": {},
   "outputs": [
    {
     "data": {
      "text/plain": [
       "{'sentiments': [{'sentiment': 'Negative', 'sentiment_score': 0},\n",
       "  {'sentiment': 'Negative', 'sentiment_score': 15},\n",
       "  {'sentiment': 'Positive', 'sentiment_score': 85},\n",
       "  {'sentiment': 'Positive', 'sentiment_score': 90},\n",
       "  {'sentiment': 'Positive', 'sentiment_score': 80},\n",
       "  {'sentiment': 'Neutral', 'sentiment_score': 55}]}"
      ]
     },
     "execution_count": 57,
     "metadata": {},
     "output_type": "execute_result"
    }
   ],
   "source": [
    "analyse_reviews(reviews)"
   ]
  }
 ],
 "metadata": {
  "kernelspec": {
   "display_name": "Python 3 (ipykernel)",
   "language": "python",
   "name": "python3"
  },
  "language_info": {
   "codemirror_mode": {
    "name": "ipython",
    "version": 3
   },
   "file_extension": ".py",
   "mimetype": "text/x-python",
   "name": "python",
   "nbconvert_exporter": "python",
   "pygments_lexer": "ipython3",
   "version": "3.11.4"
  }
 },
 "nbformat": 4,
 "nbformat_minor": 5
}
