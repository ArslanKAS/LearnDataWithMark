{
 "cells": [
  {
   "cell_type": "markdown",
   "id": "a2a782bd-b9ab-472c-bfee-1c4cec891aca",
   "metadata": {},
   "source": [
    "# Constraining Large Language Models with Guidance\n",
    "In this notebook, we're going to learn how to use Guidance, a programming paradigm that offers superior control and efficiency compared to conventional prompting and chaining"
   ]
  },
  {
   "cell_type": "code",
   "execution_count": 2,
   "id": "0e1c4db9-3308-4902-8e97-25eefc6d8dd3",
   "metadata": {
    "collapsed": true,
    "execution": {
     "iopub.execute_input": "2023-12-28T08:14:18.174335Z",
     "iopub.status.busy": "2023-12-28T08:14:18.174012Z",
     "iopub.status.idle": "2023-12-28T08:14:19.166619Z",
     "shell.execute_reply": "2023-12-28T08:14:19.166250Z",
     "shell.execute_reply.started": "2023-12-28T08:14:18.174318Z"
    },
    "jupyter": {
     "outputs_hidden": true
    }
   },
   "outputs": [
    {
     "name": "stdout",
     "output_type": "stream",
     "text": [
      "Requirement already satisfied: guidance in ./.venv/lib/python3.11/site-packages (0.1.10)\n",
      "Requirement already satisfied: diskcache in ./.venv/lib/python3.11/site-packages (from guidance) (5.6.3)\n",
      "Requirement already satisfied: gptcache in ./.venv/lib/python3.11/site-packages (from guidance) (0.1.43)\n",
      "Requirement already satisfied: openai>=1.0 in ./.venv/lib/python3.11/site-packages (from guidance) (1.6.1)\n",
      "Requirement already satisfied: platformdirs in ./.venv/lib/python3.11/site-packages (from guidance) (4.1.0)\n",
      "Requirement already satisfied: tiktoken>=0.3 in ./.venv/lib/python3.11/site-packages (from guidance) (0.5.2)\n",
      "Requirement already satisfied: msal in ./.venv/lib/python3.11/site-packages (from guidance) (1.26.0)\n",
      "Requirement already satisfied: requests in ./.venv/lib/python3.11/site-packages (from guidance) (2.31.0)\n",
      "Requirement already satisfied: numpy in ./.venv/lib/python3.11/site-packages (from guidance) (1.26.2)\n",
      "Requirement already satisfied: aiohttp in ./.venv/lib/python3.11/site-packages (from guidance) (3.9.1)\n",
      "Requirement already satisfied: ordered-set in ./.venv/lib/python3.11/site-packages (from guidance) (4.1.0)\n",
      "Requirement already satisfied: pyformlang in ./.venv/lib/python3.11/site-packages (from guidance) (1.0.4)\n",
      "Requirement already satisfied: anyio<5,>=3.5.0 in ./.venv/lib/python3.11/site-packages (from openai>=1.0->guidance) (4.2.0)\n",
      "Requirement already satisfied: distro<2,>=1.7.0 in ./.venv/lib/python3.11/site-packages (from openai>=1.0->guidance) (1.9.0)\n",
      "Requirement already satisfied: httpx<1,>=0.23.0 in ./.venv/lib/python3.11/site-packages (from openai>=1.0->guidance) (0.26.0)\n",
      "Requirement already satisfied: pydantic<3,>=1.9.0 in ./.venv/lib/python3.11/site-packages (from openai>=1.0->guidance) (2.5.3)\n",
      "Requirement already satisfied: sniffio in ./.venv/lib/python3.11/site-packages (from openai>=1.0->guidance) (1.3.0)\n",
      "Requirement already satisfied: tqdm>4 in ./.venv/lib/python3.11/site-packages (from openai>=1.0->guidance) (4.66.1)\n",
      "Requirement already satisfied: typing-extensions<5,>=4.7 in ./.venv/lib/python3.11/site-packages (from openai>=1.0->guidance) (4.9.0)\n",
      "Requirement already satisfied: regex>=2022.1.18 in ./.venv/lib/python3.11/site-packages (from tiktoken>=0.3->guidance) (2023.12.25)\n",
      "Requirement already satisfied: charset-normalizer<4,>=2 in ./.venv/lib/python3.11/site-packages (from requests->guidance) (3.3.2)\n",
      "Requirement already satisfied: idna<4,>=2.5 in ./.venv/lib/python3.11/site-packages (from requests->guidance) (3.6)\n",
      "Requirement already satisfied: urllib3<3,>=1.21.1 in ./.venv/lib/python3.11/site-packages (from requests->guidance) (2.1.0)\n",
      "Requirement already satisfied: certifi>=2017.4.17 in ./.venv/lib/python3.11/site-packages (from requests->guidance) (2023.11.17)\n",
      "Requirement already satisfied: attrs>=17.3.0 in ./.venv/lib/python3.11/site-packages (from aiohttp->guidance) (23.1.0)\n",
      "Requirement already satisfied: multidict<7.0,>=4.5 in ./.venv/lib/python3.11/site-packages (from aiohttp->guidance) (6.0.4)\n",
      "Requirement already satisfied: yarl<2.0,>=1.0 in ./.venv/lib/python3.11/site-packages (from aiohttp->guidance) (1.9.4)\n",
      "Requirement already satisfied: frozenlist>=1.1.1 in ./.venv/lib/python3.11/site-packages (from aiohttp->guidance) (1.4.1)\n",
      "Requirement already satisfied: aiosignal>=1.1.2 in ./.venv/lib/python3.11/site-packages (from aiohttp->guidance) (1.3.1)\n",
      "Requirement already satisfied: cachetools in ./.venv/lib/python3.11/site-packages (from gptcache->guidance) (5.3.2)\n",
      "Requirement already satisfied: PyJWT<3,>=1.0.0 in ./.venv/lib/python3.11/site-packages (from PyJWT[crypto]<3,>=1.0.0->msal->guidance) (2.8.0)\n",
      "Requirement already satisfied: cryptography<44,>=0.6 in ./.venv/lib/python3.11/site-packages (from msal->guidance) (41.0.7)\n",
      "Requirement already satisfied: networkx in ./.venv/lib/python3.11/site-packages (from pyformlang->guidance) (3.2.1)\n",
      "Requirement already satisfied: pydot in ./.venv/lib/python3.11/site-packages (from pyformlang->guidance) (1.4.2)\n",
      "Requirement already satisfied: cffi>=1.12 in ./.venv/lib/python3.11/site-packages (from cryptography<44,>=0.6->msal->guidance) (1.16.0)\n",
      "Requirement already satisfied: httpcore==1.* in ./.venv/lib/python3.11/site-packages (from httpx<1,>=0.23.0->openai>=1.0->guidance) (1.0.2)\n",
      "Requirement already satisfied: h11<0.15,>=0.13 in ./.venv/lib/python3.11/site-packages (from httpcore==1.*->httpx<1,>=0.23.0->openai>=1.0->guidance) (0.14.0)\n",
      "Requirement already satisfied: annotated-types>=0.4.0 in ./.venv/lib/python3.11/site-packages (from pydantic<3,>=1.9.0->openai>=1.0->guidance) (0.6.0)\n",
      "Requirement already satisfied: pydantic-core==2.14.6 in ./.venv/lib/python3.11/site-packages (from pydantic<3,>=1.9.0->openai>=1.0->guidance) (2.14.6)\n",
      "Requirement already satisfied: pyparsing>=2.1.4 in ./.venv/lib/python3.11/site-packages (from pydot->pyformlang->guidance) (3.1.1)\n",
      "Requirement already satisfied: pycparser in ./.venv/lib/python3.11/site-packages (from cffi>=1.12->cryptography<44,>=0.6->msal->guidance) (2.21)\n",
      "\n",
      "\u001b[1m[\u001b[0m\u001b[34;49mnotice\u001b[0m\u001b[1;39;49m]\u001b[0m\u001b[39;49m A new release of pip is available: \u001b[0m\u001b[31;49m23.3.1\u001b[0m\u001b[39;49m -> \u001b[0m\u001b[32;49m23.3.2\u001b[0m\n",
      "\u001b[1m[\u001b[0m\u001b[34;49mnotice\u001b[0m\u001b[1;39;49m]\u001b[0m\u001b[39;49m To update, run: \u001b[0m\u001b[32;49mpip install --upgrade pip\u001b[0m\n"
     ]
    }
   ],
   "source": [
    "!pip install guidance"
   ]
  },
  {
   "cell_type": "code",
   "execution_count": 203,
   "id": "1c84bfce-9bcd-4190-aef5-11f5501b06cf",
   "metadata": {
    "execution": {
     "iopub.execute_input": "2023-12-28T22:07:40.999995Z",
     "iopub.status.busy": "2023-12-28T22:07:40.999031Z",
     "iopub.status.idle": "2023-12-28T22:07:41.012188Z",
     "shell.execute_reply": "2023-12-28T22:07:41.011171Z",
     "shell.execute_reply.started": "2023-12-28T22:07:40.999969Z"
    }
   },
   "outputs": [],
   "source": [
    "import guidance\n",
    "from guidance import models, gen, select, user, assistant, system, substring"
   ]
  },
  {
   "cell_type": "code",
   "execution_count": 204,
   "id": "5a23aa28-7209-4924-a332-7db6f1df63fa",
   "metadata": {
    "execution": {
     "iopub.execute_input": "2023-12-28T22:07:52.113224Z",
     "iopub.status.busy": "2023-12-28T22:07:52.112916Z",
     "iopub.status.idle": "2023-12-28T22:07:52.214683Z",
     "shell.execute_reply": "2023-12-28T22:07:52.214324Z",
     "shell.execute_reply.started": "2023-12-28T22:07:52.113203Z"
    }
   },
   "outputs": [],
   "source": [
    "model_path = \"models/mistral-7b-instruct-v0.1.Q4_K_M.gguf\"\n",
    "llm = models.LlamaCpp(model_path, n_gpu_layers=1)"
   ]
  },
  {
   "cell_type": "markdown",
   "id": "f8973e41-83dc-432f-8f54-adea84fd37d9",
   "metadata": {},
   "source": [
    "## Detecting emotion 🔍🤔🧐\n",
    "Let's start by writing a prompt to detect the emotion in pieces of text."
   ]
  },
  {
   "cell_type": "code",
   "execution_count": 205,
   "id": "9f76b07b-7d70-4faf-8366-3cffc3bbe7ac",
   "metadata": {
    "execution": {
     "iopub.execute_input": "2023-12-28T22:08:11.148339Z",
     "iopub.status.busy": "2023-12-28T22:08:11.147779Z",
     "iopub.status.idle": "2023-12-28T22:08:11.167668Z",
     "shell.execute_reply": "2023-12-28T22:08:11.165972Z",
     "shell.execute_reply.started": "2023-12-28T22:08:11.148314Z"
    }
   },
   "outputs": [],
   "source": [
    "def read_file(file_path):\n",
    "    with open(file_path, \"r\") as file:\n",
    "        return file.read()      "
   ]
  },
  {
   "cell_type": "code",
   "execution_count": 206,
   "id": "90d917cc-c15d-44e5-a9e9-5b79a80d6b08",
   "metadata": {
    "execution": {
     "iopub.execute_input": "2023-12-28T22:08:19.093994Z",
     "iopub.status.busy": "2023-12-28T22:08:19.093670Z",
     "iopub.status.idle": "2023-12-28T22:08:19.114335Z",
     "shell.execute_reply": "2023-12-28T22:08:19.103180Z",
     "shell.execute_reply.started": "2023-12-28T22:08:19.093972Z"
    }
   },
   "outputs": [
    {
     "name": "stdout",
     "output_type": "stream",
     "text": [
      "Woohoo, 🎁's starting to come in early this year--just got the acceptance note for my session \"Data Contracts In Practice With Debezium and Apache Flink\" for #KafkaSummit London '24 🇬🇧. See you there in March!\n"
     ]
    }
   ],
   "source": [
    "text = read_file(\"data/linkedin.txt\")\n",
    "print(text)"
   ]
  },
  {
   "cell_type": "code",
   "execution_count": 207,
   "id": "9321c32d-1230-45ad-a039-70a4952c0bda",
   "metadata": {
    "execution": {
     "iopub.execute_input": "2023-12-28T22:08:34.667712Z",
     "iopub.status.busy": "2023-12-28T22:08:34.667076Z",
     "iopub.status.idle": "2023-12-28T22:08:35.597966Z",
     "shell.execute_reply": "2023-12-28T22:08:35.597556Z",
     "shell.execute_reply.started": "2023-12-28T22:08:34.667669Z"
    }
   },
   "outputs": [
    {
     "data": {
      "text/html": [
       "<pre style='margin: 0px; padding: 0px; vertical-align: middle; padding-left: 8px; margin-left: -8px; border-radius: 0px; border-left: 1px solid rgba(127, 127, 127, 0.2); white-space: pre-wrap; font-family: ColfaxAI, Arial; font-size: 15px; line-height: 23px;'>What is the emotion of the following text and how strong is the emotion on a scale from 1-100?: Woohoo, 🎁&#x27;s starting to come in early this year--just got the acceptance note for my session &quot;Data Contracts In Practice With Debezium and Apache Flink&quot; for #KafkaSummit London &#x27;24 🇬🇧. See you there in March!\n",
       "Answer:<span style='background-color: rgba(0.0, 165.0, 0, 0.15); border-radius: 3px;' title='1.0'> The</span><span style='background-color: rgba(0.0, 165.0, 0, 0.15); border-radius: 3px;' title='1.0'> emotion</span><span style='background-color: rgba(0.0, 165.0, 0, 0.15); border-radius: 3px;' title='1.0'> of</span><span style='background-color: rgba(0.0, 165.0, 0, 0.15); border-radius: 3px;' title='1.0'> the</span><span style='background-color: rgba(0.0, 165.0, 0, 0.15); border-radius: 3px;' title='1.0'> text</span><span style='background-color: rgba(0.0, 165.0, 0, 0.15); border-radius: 3px;' title='1.0'> is</span><span style='background-color: rgba(0.0, 165.0, 0, 0.15); border-radius: 3px;' title='1.0'> excitement</span><span style='background-color: rgba(0.0, 165.0, 0, 0.15); border-radius: 3px;' title='1.0'> and</span><span style='background-color: rgba(0.0, 165.0, 0, 0.15); border-radius: 3px;' title='1.0'> the</span><span style='background-color: rgba(0.0, 165.0, 0, 0.15); border-radius: 3px;' title='1.0'> strength</span><span style='background-color: rgba(0.0, 165.0, 0, 0.15); border-radius: 3px;' title='1.0'> of</span><span style='background-color: rgba(0.0, 165.0, 0, 0.15); border-radius: 3px;' title='1.0'> the</span><span style='background-color: rgba(0.0, 165.0, 0, 0.15); border-radius: 3px;' title='1.0'> emotion</span><span style='background-color: rgba(0.0, 165.0, 0, 0.15); border-radius: 3px;' title='1.0'> is</span><span style='background-color: rgba(0.0, 165.0, 0, 0.15); border-radius: 3px;' title='1.0'> </span><span style='background-color: rgba(0.0, 165.0, 0, 0.15); border-radius: 3px;' title='1.0'>9</span><span style='background-color: rgba(0.0, 165.0, 0, 0.15); border-radius: 3px;' title='1.0'>0</span><span style='background-color: rgba(0.0, 165.0, 0, 0.15); border-radius: 3px;' title='1.0'>.</span></pre>"
      ],
      "text/plain": [
       "<IPython.core.display.HTML object>"
      ]
     },
     "metadata": {},
     "output_type": "display_data"
    }
   ],
   "source": [
    "question = \"What is the emotion of the following text and how strong is the emotion on a scale from 1-100?\"\n",
    "lm = llm + f\"{question}: {text}\\n\"\n",
    "lm += \"Answer: \" + gen(name='answer')"
   ]
  },
  {
   "cell_type": "markdown",
   "id": "f99ff6d8-732d-44a7-9e65-a9a0fdcbd7bf",
   "metadata": {},
   "source": [
    "## Restrict to set of options 🔒📋✅ \n",
    "We can restrict the text generated using the `select` function "
   ]
  },
  {
   "cell_type": "code",
   "execution_count": 208,
   "id": "080a1467-5ae5-4115-af89-c4b810d87d14",
   "metadata": {
    "execution": {
     "iopub.execute_input": "2023-12-28T22:08:55.751450Z",
     "iopub.status.busy": "2023-12-28T22:08:55.750956Z",
     "iopub.status.idle": "2023-12-28T22:08:55.759596Z",
     "shell.execute_reply": "2023-12-28T22:08:55.756928Z",
     "shell.execute_reply.started": "2023-12-28T22:08:55.751429Z"
    }
   },
   "outputs": [],
   "source": [
    "emotions = [\n",
    "    'happy', 'sad', 'angry', 'surprised', \n",
    "    'disgusted', 'excited', 'fearful', 'neutral'\n",
    "]  "
   ]
  },
  {
   "cell_type": "code",
   "execution_count": 209,
   "id": "61b04010-c97b-4d34-86b3-b97038794d92",
   "metadata": {
    "execution": {
     "iopub.execute_input": "2023-12-28T22:09:05.722752Z",
     "iopub.status.busy": "2023-12-28T22:09:05.722390Z",
     "iopub.status.idle": "2023-12-28T22:09:05.924560Z",
     "shell.execute_reply": "2023-12-28T22:09:05.924306Z",
     "shell.execute_reply.started": "2023-12-28T22:09:05.722730Z"
    }
   },
   "outputs": [
    {
     "data": {
      "text/html": [
       "<pre style='margin: 0px; padding: 0px; vertical-align: middle; padding-left: 8px; margin-left: -8px; border-radius: 0px; border-left: 1px solid rgba(127, 127, 127, 0.2); white-space: pre-wrap; font-family: ColfaxAI, Arial; font-size: 15px; line-height: 23px;'>What is the emotion of the following text and how strong is the emotion on a scale from 1-100?: Woohoo, 🎁&#x27;s starting to come in early this year--just got the acceptance note for my session &quot;Data Contracts In Practice With Debezium and Apache Flink&quot; for #KafkaSummit London &#x27;24 🇬🇧. See you there in March!\n",
       "Answer:<span style='background-color: rgba(0.0, 165.0, 0, 0.15); border-radius: 3px;' title='1.0'> </span><span style='background-color: rgba(0.0, 165.0, 0, 0.15); border-radius: 3px;' title='1.0'>h</span>appy</pre>"
      ],
      "text/plain": [
       "<IPython.core.display.HTML object>"
      ]
     },
     "metadata": {},
     "output_type": "display_data"
    }
   ],
   "source": [
    "lm = llm + f\"{question}: {text}\\n\"\n",
    "lm += \"Answer: \" + select(emotions, name='emotion')"
   ]
  },
  {
   "cell_type": "markdown",
   "id": "d923cf3b-fcf7-49a9-af88-87336eca3726",
   "metadata": {},
   "source": [
    "## Regular expressions 🔍🧩🔤\n",
    "We can pass the argument `regex` to the `gen` function to control what gets generated."
   ]
  },
  {
   "cell_type": "code",
   "execution_count": 210,
   "id": "67fb4faa-dad6-4ab6-9cf0-728dd3156fc3",
   "metadata": {
    "execution": {
     "iopub.execute_input": "2023-12-28T22:09:28.165924Z",
     "iopub.status.busy": "2023-12-28T22:09:28.165616Z",
     "iopub.status.idle": "2023-12-28T22:09:28.559862Z",
     "shell.execute_reply": "2023-12-28T22:09:28.559577Z",
     "shell.execute_reply.started": "2023-12-28T22:09:28.165904Z"
    }
   },
   "outputs": [
    {
     "data": {
      "text/html": [
       "<pre style='margin: 0px; padding: 0px; vertical-align: middle; padding-left: 8px; margin-left: -8px; border-radius: 0px; border-left: 1px solid rgba(127, 127, 127, 0.2); white-space: pre-wrap; font-family: ColfaxAI, Arial; font-size: 15px; line-height: 23px;'>What is the emotion of the following text and how strong is the emotion on a scale from 1-100?: Woohoo, 🎁&#x27;s starting to come in early this year--just got the acceptance note for my session &quot;Data Contracts In Practice With Debezium and Apache Flink&quot; for #KafkaSummit London &#x27;24 🇬🇧. See you there in March!\n",
       "Answer:<span style='background-color: rgba(0.0, 165.0, 0, 0.15); border-radius: 3px;' title='1.0'> </span><span style='background-color: rgba(0.0, 165.0, 0, 0.15); border-radius: 3px;' title='1.0'>h</span>appy, Scale:<span style='background-color: rgba(0.0, 165.0, 0, 0.15); border-radius: 3px;' title='1.0'> </span><span style='background-color: rgba(0.0, 165.0, 0, 0.15); border-radius: 3px;' title='1.0'>9</span><span style='background-color: rgba(0.0, 165.0, 0, 0.15); border-radius: 3px;' title='1.0'>0</span></pre>"
      ],
      "text/plain": [
       "<IPython.core.display.HTML object>"
      ]
     },
     "metadata": {},
     "output_type": "display_data"
    }
   ],
   "source": [
    "lm = llm + f\"{question}: {text}\\n\"\n",
    "lm += \"Answer: \" + select(emotions, name='emotion') \n",
    "lm += \", Scale: \" + gen(regex='\\d+', name='strength')"
   ]
  },
  {
   "cell_type": "code",
   "execution_count": 211,
   "id": "639230c7-9946-4e27-ba15-ffb06bcb676e",
   "metadata": {
    "execution": {
     "iopub.execute_input": "2023-12-28T22:09:35.439918Z",
     "iopub.status.busy": "2023-12-28T22:09:35.439376Z",
     "iopub.status.idle": "2023-12-28T22:09:35.461773Z",
     "shell.execute_reply": "2023-12-28T22:09:35.456079Z",
     "shell.execute_reply.started": "2023-12-28T22:09:35.439893Z"
    }
   },
   "outputs": [
    {
     "data": {
      "text/plain": [
       "('happy', '90')"
      ]
     },
     "execution_count": 211,
     "metadata": {},
     "output_type": "execute_result"
    }
   ],
   "source": [
    "lm['emotion'], lm['strength']"
   ]
  },
  {
   "cell_type": "markdown",
   "id": "5e7495ab-f1b8-486d-aad3-a242491b395a",
   "metadata": {},
   "source": [
    "## Reusable Components ♻️🧩🔁\n",
    "We can put all that code into a function to make it easier to detect the emotion of new pieces of text."
   ]
  },
  {
   "cell_type": "code",
   "execution_count": 212,
   "id": "9aa130dd-a83c-4538-ac25-1ac1468cb552",
   "metadata": {
    "execution": {
     "iopub.execute_input": "2023-12-28T22:10:15.960173Z",
     "iopub.status.busy": "2023-12-28T22:10:15.959739Z",
     "iopub.status.idle": "2023-12-28T22:10:15.976504Z",
     "shell.execute_reply": "2023-12-28T22:10:15.976096Z",
     "shell.execute_reply.started": "2023-12-28T22:10:15.960151Z"
    }
   },
   "outputs": [],
   "source": [
    "@guidance\n",
    "def emotion_detector(lm, text):\n",
    "    question = \"What is the emotion of the following text and how strong is the emotion on a scale from 1-100?\"\n",
    "    emotions = [\n",
    "        'happy', 'sad', 'angry', 'surprised', \n",
    "        'disgusted', 'excited', 'fearful', 'neutral'\n",
    "    ]\n",
    "    lm = llm + f\"{question}: {text}\\n\"\n",
    "    lm += \"Answer: \" + select(emotions, name='emotion') \n",
    "    lm += \", Scale: \" + gen(regex='\\d+', name='strength')\n",
    "    return lm  "
   ]
  },
  {
   "cell_type": "code",
   "execution_count": 213,
   "id": "be7ba07f-4f6e-4943-933d-84aa96adffa1",
   "metadata": {
    "execution": {
     "iopub.execute_input": "2023-12-28T22:10:24.198200Z",
     "iopub.status.busy": "2023-12-28T22:10:24.197609Z",
     "iopub.status.idle": "2023-12-28T22:10:24.210822Z",
     "shell.execute_reply": "2023-12-28T22:10:24.208781Z",
     "shell.execute_reply.started": "2023-12-28T22:10:24.197999Z"
    }
   },
   "outputs": [
    {
     "name": "stdout",
     "output_type": "stream",
     "text": [
      "A last-16 US Open finish and a first ATP Tour final have made 2023 Jack Draper's most successful year of his young career so far. But for the 21-year-old Briton, success has been tinged by sadness with his grandmother Brenda - a former tennis player and coach - unable to recognise his achievements. Draper's grandmother has Alzheimer's disease, a condition that causes dementia and the gradual decline of cognitive functioning in the brain.\n"
     ]
    }
   ],
   "source": [
    "jack_text = read_file(\"data/jack.txt\")\n",
    "print(jack_text)"
   ]
  },
  {
   "cell_type": "code",
   "execution_count": 214,
   "id": "70d42ed4-a49a-4a19-90ed-ee055654453e",
   "metadata": {
    "execution": {
     "iopub.execute_input": "2023-12-28T22:10:31.292118Z",
     "iopub.status.busy": "2023-12-28T22:10:31.291708Z",
     "iopub.status.idle": "2023-12-28T22:10:31.998932Z",
     "shell.execute_reply": "2023-12-28T22:10:31.998301Z",
     "shell.execute_reply.started": "2023-12-28T22:10:31.292094Z"
    }
   },
   "outputs": [
    {
     "data": {
      "text/html": [
       "<pre style='margin: 0px; padding: 0px; vertical-align: middle; padding-left: 8px; margin-left: -8px; border-radius: 0px; border-left: 1px solid rgba(127, 127, 127, 0.2); white-space: pre-wrap; font-family: ColfaxAI, Arial; font-size: 15px; line-height: 23px;'>What is the emotion of the following text and how strong is the emotion on a scale from 1-100?: A last-16 US Open finish and a first ATP Tour final have made 2023 Jack Draper&#x27;s most successful year of his young career so far. But for the 21-year-old Briton, success has been tinged by sadness with his grandmother Brenda - a former tennis player and coach - unable to recognise his achievements. Draper&#x27;s grandmother has Alzheimer&#x27;s disease, a condition that causes dementia and the gradual decline of cognitive functioning in the brain.\n",
       "Answer:<span style='background-color: rgba(0.0, 165.0, 0, 0.15); border-radius: 3px;' title='1.0'> </span><span style='background-color: rgba(0.0, 165.0, 0, 0.15); border-radius: 3px;' title='1.0'>s</span><span style='background-color: rgba(0.0, 165.0, 0, 0.15); border-radius: 3px;' title='1.0'>ad</span>, Scale:<span style='background-color: rgba(0.0, 165.0, 0, 0.15); border-radius: 3px;' title='1.0'> </span><span style='background-color: rgba(0.0, 165.0, 0, 0.15); border-radius: 3px;' title='1.0'>7</span><span style='background-color: rgba(0.0, 165.0, 0, 0.15); border-radius: 3px;' title='1.0'>0</span></pre>"
      ],
      "text/plain": [
       "<guidance.models.llama_cpp._llama_cpp.LlamaCpp at 0x113398390>"
      ]
     },
     "execution_count": 214,
     "metadata": {},
     "output_type": "execute_result"
    }
   ],
   "source": [
    "llm + emotion_detector(jack_text)"
   ]
  },
  {
   "cell_type": "code",
   "execution_count": 215,
   "id": "62757e86-c1a8-4377-97b9-cd666ac46958",
   "metadata": {
    "execution": {
     "iopub.execute_input": "2023-12-28T22:10:46.965186Z",
     "iopub.status.busy": "2023-12-28T22:10:46.964402Z",
     "iopub.status.idle": "2023-12-28T22:10:47.489993Z",
     "shell.execute_reply": "2023-12-28T22:10:47.489302Z",
     "shell.execute_reply.started": "2023-12-28T22:10:46.965158Z"
    }
   },
   "outputs": [
    {
     "data": {
      "text/html": [
       "<pre style='margin: 0px; padding: 0px; vertical-align: middle; padding-left: 8px; margin-left: -8px; border-radius: 0px; border-left: 1px solid rgba(127, 127, 127, 0.2); white-space: pre-wrap; font-family: ColfaxAI, Arial; font-size: 15px; line-height: 23px;'>What is the emotion of the following text and how strong is the emotion on a scale from 1-100?: Novak Djokovic claims British fans were trying to &quot;annoy&quot; him during his Davis Cup match with Cameron Norrie and as he tried to conduct a post-match interview on court.\n",
       "Answer:<span style='background-color: rgba(0.0, 165.0, 0, 0.15); border-radius: 3px;' title='1.0'> </span><span style='background-color: rgba(0.0, 165.0, 0, 0.15); border-radius: 3px;' title='1.0'>ang</span>ry, Scale:<span style='background-color: rgba(0.0, 165.0, 0, 0.15); border-radius: 3px;' title='1.0'> </span><span style='background-color: rgba(0.0, 165.0, 0, 0.15); border-radius: 3px;' title='1.0'>8</span><span style='background-color: rgba(0.0, 165.0, 0, 0.15); border-radius: 3px;' title='1.0'>0</span></pre>"
      ],
      "text/plain": [
       "<guidance.models.llama_cpp._llama_cpp.LlamaCpp at 0x1134c9290>"
      ]
     },
     "execution_count": 215,
     "metadata": {},
     "output_type": "execute_result"
    }
   ],
   "source": [
    "llm + emotion_detector(read_file(\"data/novak.txt\"))"
   ]
  },
  {
   "cell_type": "markdown",
   "id": "d26c730c-cf29-4de9-8b7f-974e63dd9076",
   "metadata": {},
   "source": [
    "## Returning JSON 🔄📄🔡 \n",
    "Guidance can also generate output in a JSON format, which is useful for connecting with other tools."
   ]
  },
  {
   "cell_type": "code",
   "execution_count": 216,
   "id": "89a3f9ee-7004-4581-b976-6ac32b484019",
   "metadata": {
    "execution": {
     "iopub.execute_input": "2023-12-28T22:11:40.981373Z",
     "iopub.status.busy": "2023-12-28T22:11:40.980747Z",
     "iopub.status.idle": "2023-12-28T22:11:41.000627Z",
     "shell.execute_reply": "2023-12-28T22:11:40.995920Z",
     "shell.execute_reply.started": "2023-12-28T22:11:40.981311Z"
    }
   },
   "outputs": [],
   "source": [
    "@guidance\n",
    "def emotion_detector_json(lm, text):\n",
    "    question = \"What is the emotion of the following text and how strong is the emotion on a scale from 1-100?\"\n",
    "    emotions = [\n",
    "        'happy', 'sad', 'angry', 'surprised', \n",
    "        'disgusted', 'excited', 'fearful', 'neutral'\n",
    "    ]\n",
    "    lm = llm + f\"{question}: {text}\\n\"\n",
    "    only_numbers_pattern = r'\\d+'\n",
    "    lm += f\"\"\"{{\n",
    "        \"text\": \"{text}\",\n",
    "        \"emotion\": \"{select(emotions, name='answer')}\",\n",
    "        \"scale\": {gen(regex=only_numbers_pattern, name='strength')}\n",
    "    }}\"\"\"\n",
    "    return lm"
   ]
  },
  {
   "cell_type": "code",
   "execution_count": 217,
   "id": "358c59a5-8fd6-4cf1-b5ef-5f50acc9e379",
   "metadata": {
    "execution": {
     "iopub.execute_input": "2023-12-28T22:11:56.292448Z",
     "iopub.status.busy": "2023-12-28T22:11:56.291905Z",
     "iopub.status.idle": "2023-12-28T22:11:57.004274Z",
     "shell.execute_reply": "2023-12-28T22:11:57.004044Z",
     "shell.execute_reply.started": "2023-12-28T22:11:56.292424Z"
    }
   },
   "outputs": [
    {
     "data": {
      "text/html": [
       "<pre style='margin: 0px; padding: 0px; vertical-align: middle; padding-left: 8px; margin-left: -8px; border-radius: 0px; border-left: 1px solid rgba(127, 127, 127, 0.2); white-space: pre-wrap; font-family: ColfaxAI, Arial; font-size: 15px; line-height: 23px;'>What is the emotion of the following text and how strong is the emotion on a scale from 1-100?: Everton manager Sean Dyche expresses his frustration at a &quot;bizarre&quot; handball decision given against Amadou Onana in his side&#x27;s 3-1 Premier League defeat to champions Manchester City at Goodison Park.\n",
       "{\n",
       "    &quot;text&quot;: &quot;Everton manager Sean Dyche expresses his frustration at a &quot;bizarre&quot; handball decision given against Amadou Onana in his side&#x27;s 3-1 Premier League defeat to champions Manchester City at Goodison Park.&quot;,\n",
       "    &quot;emotion&quot;:<span style='background-color: rgba(0.0, 165.0, 0, 0.15); border-radius: 3px;' title='1.0'> &quot;</span><span style='background-color: rgba(0.0, 165.0, 0, 0.15); border-radius: 3px;' title='1.0'>ang</span>ry&quot;,\n",
       "    &quot;scale&quot;:<span style='background-color: rgba(0.0, 165.0, 0, 0.15); border-radius: 3px;' title='1.0'> </span><span style='background-color: rgba(0.0, 165.0, 0, 0.15); border-radius: 3px;' title='1.0'>8</span><span style='background-color: rgba(0.0, 165.0, 0, 0.15); border-radius: 3px;' title='1.0'>0</span><span style='background-color: rgba(0.0, 165.0, 0, 0.15); border-radius: 3px;' title='1.0'>\n",
       "</span>}</pre>"
      ],
      "text/plain": [
       "<guidance.models.llama_cpp._llama_cpp.LlamaCpp at 0x29560a350>"
      ]
     },
     "execution_count": 217,
     "metadata": {},
     "output_type": "execute_result"
    }
   ],
   "source": [
    "llm + emotion_detector_json(read_file(\"data/dyche.txt\"))"
   ]
  }
 ],
 "metadata": {
  "kernelspec": {
   "display_name": "Python 3 (ipykernel)",
   "language": "python",
   "name": "python3"
  },
  "language_info": {
   "codemirror_mode": {
    "name": "ipython",
    "version": 3
   },
   "file_extension": ".py",
   "mimetype": "text/x-python",
   "name": "python",
   "nbconvert_exporter": "python",
   "pygments_lexer": "ipython3",
   "version": "3.11.6"
  }
 },
 "nbformat": 4,
 "nbformat_minor": 5
}
