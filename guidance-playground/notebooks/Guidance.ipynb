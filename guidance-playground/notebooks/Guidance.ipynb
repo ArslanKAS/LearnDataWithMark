{
 "cells": [
  {
   "cell_type": "markdown",
   "id": "a2a782bd-b9ab-472c-bfee-1c4cec891aca",
   "metadata": {},
   "source": [
    "# Constraining Large Language Models with Guidance\n",
    "In this notebook, we're going to learn how to use Guidance, a programming paradigm that offers superior control and efficiency compared to conventional prompting and chaining"
   ]
  },
  {
   "cell_type": "code",
   "execution_count": 2,
   "id": "0e1c4db9-3308-4902-8e97-25eefc6d8dd3",
   "metadata": {
    "collapsed": true,
    "execution": {
     "iopub.execute_input": "2023-12-28T08:14:18.174335Z",
     "iopub.status.busy": "2023-12-28T08:14:18.174012Z",
     "iopub.status.idle": "2023-12-28T08:14:19.166619Z",
     "shell.execute_reply": "2023-12-28T08:14:19.166250Z",
     "shell.execute_reply.started": "2023-12-28T08:14:18.174318Z"
    },
    "jupyter": {
     "outputs_hidden": true
    }
   },
   "outputs": [
    {
     "name": "stdout",
     "output_type": "stream",
     "text": [
      "Requirement already satisfied: guidance in ./.venv/lib/python3.11/site-packages (0.1.10)\n",
      "Requirement already satisfied: diskcache in ./.venv/lib/python3.11/site-packages (from guidance) (5.6.3)\n",
      "Requirement already satisfied: gptcache in ./.venv/lib/python3.11/site-packages (from guidance) (0.1.43)\n",
      "Requirement already satisfied: openai>=1.0 in ./.venv/lib/python3.11/site-packages (from guidance) (1.6.1)\n",
      "Requirement already satisfied: platformdirs in ./.venv/lib/python3.11/site-packages (from guidance) (4.1.0)\n",
      "Requirement already satisfied: tiktoken>=0.3 in ./.venv/lib/python3.11/site-packages (from guidance) (0.5.2)\n",
      "Requirement already satisfied: msal in ./.venv/lib/python3.11/site-packages (from guidance) (1.26.0)\n",
      "Requirement already satisfied: requests in ./.venv/lib/python3.11/site-packages (from guidance) (2.31.0)\n",
      "Requirement already satisfied: numpy in ./.venv/lib/python3.11/site-packages (from guidance) (1.26.2)\n",
      "Requirement already satisfied: aiohttp in ./.venv/lib/python3.11/site-packages (from guidance) (3.9.1)\n",
      "Requirement already satisfied: ordered-set in ./.venv/lib/python3.11/site-packages (from guidance) (4.1.0)\n",
      "Requirement already satisfied: pyformlang in ./.venv/lib/python3.11/site-packages (from guidance) (1.0.4)\n",
      "Requirement already satisfied: anyio<5,>=3.5.0 in ./.venv/lib/python3.11/site-packages (from openai>=1.0->guidance) (4.2.0)\n",
      "Requirement already satisfied: distro<2,>=1.7.0 in ./.venv/lib/python3.11/site-packages (from openai>=1.0->guidance) (1.9.0)\n",
      "Requirement already satisfied: httpx<1,>=0.23.0 in ./.venv/lib/python3.11/site-packages (from openai>=1.0->guidance) (0.26.0)\n",
      "Requirement already satisfied: pydantic<3,>=1.9.0 in ./.venv/lib/python3.11/site-packages (from openai>=1.0->guidance) (2.5.3)\n",
      "Requirement already satisfied: sniffio in ./.venv/lib/python3.11/site-packages (from openai>=1.0->guidance) (1.3.0)\n",
      "Requirement already satisfied: tqdm>4 in ./.venv/lib/python3.11/site-packages (from openai>=1.0->guidance) (4.66.1)\n",
      "Requirement already satisfied: typing-extensions<5,>=4.7 in ./.venv/lib/python3.11/site-packages (from openai>=1.0->guidance) (4.9.0)\n",
      "Requirement already satisfied: regex>=2022.1.18 in ./.venv/lib/python3.11/site-packages (from tiktoken>=0.3->guidance) (2023.12.25)\n",
      "Requirement already satisfied: charset-normalizer<4,>=2 in ./.venv/lib/python3.11/site-packages (from requests->guidance) (3.3.2)\n",
      "Requirement already satisfied: idna<4,>=2.5 in ./.venv/lib/python3.11/site-packages (from requests->guidance) (3.6)\n",
      "Requirement already satisfied: urllib3<3,>=1.21.1 in ./.venv/lib/python3.11/site-packages (from requests->guidance) (2.1.0)\n",
      "Requirement already satisfied: certifi>=2017.4.17 in ./.venv/lib/python3.11/site-packages (from requests->guidance) (2023.11.17)\n",
      "Requirement already satisfied: attrs>=17.3.0 in ./.venv/lib/python3.11/site-packages (from aiohttp->guidance) (23.1.0)\n",
      "Requirement already satisfied: multidict<7.0,>=4.5 in ./.venv/lib/python3.11/site-packages (from aiohttp->guidance) (6.0.4)\n",
      "Requirement already satisfied: yarl<2.0,>=1.0 in ./.venv/lib/python3.11/site-packages (from aiohttp->guidance) (1.9.4)\n",
      "Requirement already satisfied: frozenlist>=1.1.1 in ./.venv/lib/python3.11/site-packages (from aiohttp->guidance) (1.4.1)\n",
      "Requirement already satisfied: aiosignal>=1.1.2 in ./.venv/lib/python3.11/site-packages (from aiohttp->guidance) (1.3.1)\n",
      "Requirement already satisfied: cachetools in ./.venv/lib/python3.11/site-packages (from gptcache->guidance) (5.3.2)\n",
      "Requirement already satisfied: PyJWT<3,>=1.0.0 in ./.venv/lib/python3.11/site-packages (from PyJWT[crypto]<3,>=1.0.0->msal->guidance) (2.8.0)\n",
      "Requirement already satisfied: cryptography<44,>=0.6 in ./.venv/lib/python3.11/site-packages (from msal->guidance) (41.0.7)\n",
      "Requirement already satisfied: networkx in ./.venv/lib/python3.11/site-packages (from pyformlang->guidance) (3.2.1)\n",
      "Requirement already satisfied: pydot in ./.venv/lib/python3.11/site-packages (from pyformlang->guidance) (1.4.2)\n",
      "Requirement already satisfied: cffi>=1.12 in ./.venv/lib/python3.11/site-packages (from cryptography<44,>=0.6->msal->guidance) (1.16.0)\n",
      "Requirement already satisfied: httpcore==1.* in ./.venv/lib/python3.11/site-packages (from httpx<1,>=0.23.0->openai>=1.0->guidance) (1.0.2)\n",
      "Requirement already satisfied: h11<0.15,>=0.13 in ./.venv/lib/python3.11/site-packages (from httpcore==1.*->httpx<1,>=0.23.0->openai>=1.0->guidance) (0.14.0)\n",
      "Requirement already satisfied: annotated-types>=0.4.0 in ./.venv/lib/python3.11/site-packages (from pydantic<3,>=1.9.0->openai>=1.0->guidance) (0.6.0)\n",
      "Requirement already satisfied: pydantic-core==2.14.6 in ./.venv/lib/python3.11/site-packages (from pydantic<3,>=1.9.0->openai>=1.0->guidance) (2.14.6)\n",
      "Requirement already satisfied: pyparsing>=2.1.4 in ./.venv/lib/python3.11/site-packages (from pydot->pyformlang->guidance) (3.1.1)\n",
      "Requirement already satisfied: pycparser in ./.venv/lib/python3.11/site-packages (from cffi>=1.12->cryptography<44,>=0.6->msal->guidance) (2.21)\n",
      "\n",
      "\u001b[1m[\u001b[0m\u001b[34;49mnotice\u001b[0m\u001b[1;39;49m]\u001b[0m\u001b[39;49m A new release of pip is available: \u001b[0m\u001b[31;49m23.3.1\u001b[0m\u001b[39;49m -> \u001b[0m\u001b[32;49m23.3.2\u001b[0m\n",
      "\u001b[1m[\u001b[0m\u001b[34;49mnotice\u001b[0m\u001b[1;39;49m]\u001b[0m\u001b[39;49m To update, run: \u001b[0m\u001b[32;49mpip install --upgrade pip\u001b[0m\n"
     ]
    }
   ],
   "source": [
    "!pip install guidance"
   ]
  },
  {
   "cell_type": "code",
   "execution_count": 1,
   "id": "aae86421-8de4-4552-b9d5-6eb5a377e7ee",
   "metadata": {
    "execution": {
     "iopub.execute_input": "2023-12-28T17:50:13.661152Z",
     "iopub.status.busy": "2023-12-28T17:50:13.661003Z",
     "iopub.status.idle": "2023-12-28T17:50:14.252299Z",
     "shell.execute_reply": "2023-12-28T17:50:14.251999Z",
     "shell.execute_reply.started": "2023-12-28T17:50:13.661141Z"
    }
   },
   "outputs": [],
   "source": [
    "import guidance\n",
    "from guidance import models, gen, select, user, assistant, system, substring"
   ]
  },
  {
   "cell_type": "code",
   "execution_count": 2,
   "id": "f55ac831-327e-49aa-8be9-399be5e881c7",
   "metadata": {
    "execution": {
     "iopub.execute_input": "2023-12-28T17:50:15.363863Z",
     "iopub.status.busy": "2023-12-28T17:50:15.362572Z",
     "iopub.status.idle": "2023-12-28T17:50:15.503219Z",
     "shell.execute_reply": "2023-12-28T17:50:15.502910Z",
     "shell.execute_reply.started": "2023-12-28T17:50:15.363829Z"
    }
   },
   "outputs": [],
   "source": [
    "model_path = \"models/mistral-7b-instruct-v0.1.Q4_K_M.gguf\"\n",
    "llm = models.LlamaCpp(model_path, n_gpu_layers=1)"
   ]
  },
  {
   "cell_type": "markdown",
   "id": "9e9e9893-4fcb-4047-95fd-cc300d56fa45",
   "metadata": {},
   "source": [
    "## Constrained Generation 🔗📏🚫\n",
    "Let's start by learning how to constrain the output of an emotion detector."
   ]
  },
  {
   "cell_type": "code",
   "execution_count": 3,
   "id": "4ee4e8d7-eca3-41fd-8108-8b8e556d6997",
   "metadata": {
    "execution": {
     "iopub.execute_input": "2023-12-28T17:50:17.179346Z",
     "iopub.status.busy": "2023-12-28T17:50:17.178840Z",
     "iopub.status.idle": "2023-12-28T17:50:17.190792Z",
     "shell.execute_reply": "2023-12-28T17:50:17.190358Z",
     "shell.execute_reply.started": "2023-12-28T17:50:17.179321Z"
    }
   },
   "outputs": [],
   "source": [
    "def read_file(file_path):\n",
    "  with open(file_path, \"r\") as file:\n",
    "    return file.read()"
   ]
  },
  {
   "cell_type": "code",
   "execution_count": 4,
   "id": "ff2a5f45-bfaa-4103-b286-f9d2d0cbad49",
   "metadata": {
    "execution": {
     "iopub.execute_input": "2023-12-28T17:50:19.274357Z",
     "iopub.status.busy": "2023-12-28T17:50:19.273983Z",
     "iopub.status.idle": "2023-12-28T17:50:19.285081Z",
     "shell.execute_reply": "2023-12-28T17:50:19.284201Z",
     "shell.execute_reply.started": "2023-12-28T17:50:19.274333Z"
    }
   },
   "outputs": [
    {
     "name": "stdout",
     "output_type": "stream",
     "text": [
      "Woohoo, 🎁's starting to come in early this year--just got the acceptance note for my session \"Data Contracts In Practice With Debezium and Apache Flink\" for #KafkaSummit London '24 🇬🇧. See you there in March!\n"
     ]
    }
   ],
   "source": [
    "text = read_file(\"data/linkedin.txt\")\n",
    "print(text)"
   ]
  },
  {
   "cell_type": "code",
   "execution_count": 5,
   "id": "49333b88-a9bd-4429-8bc8-f4d3a14344fb",
   "metadata": {
    "execution": {
     "iopub.execute_input": "2023-12-28T17:50:20.805359Z",
     "iopub.status.busy": "2023-12-28T17:50:20.804751Z",
     "iopub.status.idle": "2023-12-28T17:50:21.905408Z",
     "shell.execute_reply": "2023-12-28T17:50:21.905093Z",
     "shell.execute_reply.started": "2023-12-28T17:50:20.805334Z"
    }
   },
   "outputs": [
    {
     "data": {
      "text/html": [
       "<pre style='margin: 0px; padding: 0px; vertical-align: middle; padding-left: 8px; margin-left: -8px; border-radius: 0px; border-left: 1px solid rgba(127, 127, 127, 0.2); white-space: pre-wrap; font-family: ColfaxAI, Arial; font-size: 15px; line-height: 23px;'>What is the emotion of the following text and how strong is the emotion on a scale from 1-100?: Woohoo, 🎁&#x27;s starting to come in early this year--just got the acceptance note for my session &quot;Data Contracts In Practice With Debezium and Apache Flink&quot; for #KafkaSummit London &#x27;24 🇬🇧. See you there in March!<span style='background-color: rgba(0.0, 165.0, 0, 0.15); border-radius: 3px;' title='1.0'> </span><span style='background-color: rgba(0.0, 165.0, 0, 0.15); border-radius: 3px;' title='1.0'>🌟</span><span style='background-color: rgba(0.0, 165.0, 0, 0.15); border-radius: 3px;' title='1.0'>\n",
       "</span><span style='background-color: rgba(0.0, 165.0, 0, 0.15); border-radius: 3px;' title='1.0'>\n",
       "</span><span style='background-color: rgba(0.0, 165.0, 0, 0.15); border-radius: 3px;' title='1.0'>The</span><span style='background-color: rgba(0.0, 165.0, 0, 0.15); border-radius: 3px;' title='1.0'> emotion</span><span style='background-color: rgba(0.0, 165.0, 0, 0.15); border-radius: 3px;' title='1.0'> of</span><span style='background-color: rgba(0.0, 165.0, 0, 0.15); border-radius: 3px;' title='1.0'> the</span><span style='background-color: rgba(0.0, 165.0, 0, 0.15); border-radius: 3px;' title='1.0'> text</span><span style='background-color: rgba(0.0, 165.0, 0, 0.15); border-radius: 3px;' title='1.0'> is</span><span style='background-color: rgba(0.0, 165.0, 0, 0.15); border-radius: 3px;' title='1.0'> excitement</span><span style='background-color: rgba(0.0, 165.0, 0, 0.15); border-radius: 3px;' title='1.0'> and</span><span style='background-color: rgba(0.0, 165.0, 0, 0.15); border-radius: 3px;' title='1.0'> the</span><span style='background-color: rgba(0.0, 165.0, 0, 0.15); border-radius: 3px;' title='1.0'> strength</span><span style='background-color: rgba(0.0, 165.0, 0, 0.15); border-radius: 3px;' title='1.0'> of</span><span style='background-color: rgba(0.0, 165.0, 0, 0.15); border-radius: 3px;' title='1.0'> the</span><span style='background-color: rgba(0.0, 165.0, 0, 0.15); border-radius: 3px;' title='1.0'> emotion</span><span style='background-color: rgba(0.0, 165.0, 0, 0.15); border-radius: 3px;' title='1.0'> is</span><span style='background-color: rgba(0.0, 165.0, 0, 0.15); border-radius: 3px;' title='1.0'> </span><span style='background-color: rgba(0.0, 165.0, 0, 0.15); border-radius: 3px;' title='1.0'>9</span><span style='background-color: rgba(0.0, 165.0, 0, 0.15); border-radius: 3px;' title='1.0'>0</span><span style='background-color: rgba(0.0, 165.0, 0, 0.15); border-radius: 3px;' title='1.0'>.</span></pre>"
      ],
      "text/plain": [
       "<IPython.core.display.HTML object>"
      ]
     },
     "metadata": {},
     "output_type": "display_data"
    }
   ],
   "source": [
    "question = \"What is the emotion of the following text and how strong is the emotion on a scale from 1-100?\"\n",
    "lm = llm + f\"{question}: {text}\"\n",
    "lm += gen(name='answer')"
   ]
  },
  {
   "cell_type": "code",
   "execution_count": 11,
   "id": "36f9c5d2-af99-4dd2-8363-6a018f46f80c",
   "metadata": {
    "execution": {
     "iopub.execute_input": "2023-12-28T21:27:23.339890Z",
     "iopub.status.busy": "2023-12-28T21:27:23.338575Z",
     "iopub.status.idle": "2023-12-28T21:27:23.538666Z",
     "shell.execute_reply": "2023-12-28T21:27:23.538381Z",
     "shell.execute_reply.started": "2023-12-28T21:27:23.339858Z"
    },
    "scrolled": true
   },
   "outputs": [
    {
     "data": {
      "text/html": [
       "<pre style='margin: 0px; padding: 0px; vertical-align: middle; padding-left: 8px; margin-left: -8px; border-radius: 0px; border-left: 1px solid rgba(127, 127, 127, 0.2); white-space: pre-wrap; font-family: ColfaxAI, Arial; font-size: 15px; line-height: 23px;'>What is the emotion of the following text and how strong is the emotion on a scale from 1-100?: Woohoo, 🎁&#x27;s starting to come in early this year--just got the acceptance note for my session &quot;Data Contracts In Practice With Debezium and Apache Flink&quot; for #KafkaSummit London &#x27;24 🇬🇧. See you there in March!\n",
       "Answer:<span style='background-color: rgba(0.0, 165.0, 0, 0.15); border-radius: 3px;' title='1.0'> </span><span style='background-color: rgba(0.0, 165.0, 0, 0.15); border-radius: 3px;' title='1.0'>h</span>appy</pre>"
      ],
      "text/plain": [
       "<IPython.core.display.HTML object>"
      ]
     },
     "metadata": {},
     "output_type": "display_data"
    }
   ],
   "source": [
    "lm = llm + f\"{question}: {text}\\n\"\n",
    "lm += \"Answer: \" + select(['happy', 'sad', 'angry', 'surprised', 'disgusted', 'excited', 'fearful', 'neutral'], name='emotion') "
   ]
  },
  {
   "cell_type": "code",
   "execution_count": 10,
   "id": "7e2d5aa6-a8c7-4d14-8a79-f7ab2c1cff09",
   "metadata": {
    "execution": {
     "iopub.execute_input": "2023-12-28T21:27:19.805094Z",
     "iopub.status.busy": "2023-12-28T21:27:19.804923Z",
     "iopub.status.idle": "2023-12-28T21:27:20.393323Z",
     "shell.execute_reply": "2023-12-28T21:27:20.393041Z",
     "shell.execute_reply.started": "2023-12-28T21:27:19.805079Z"
    }
   },
   "outputs": [
    {
     "data": {
      "text/html": [
       "<pre style='margin: 0px; padding: 0px; vertical-align: middle; padding-left: 8px; margin-left: -8px; border-radius: 0px; border-left: 1px solid rgba(127, 127, 127, 0.2); white-space: pre-wrap; font-family: ColfaxAI, Arial; font-size: 15px; line-height: 23px;'>What is the emotion of the following text and how strong is the emotion on a scale from 1-100?: Woohoo, 🎁&#x27;s starting to come in early this year--just got the acceptance note for my session &quot;Data Contracts In Practice With Debezium and Apache Flink&quot; for #KafkaSummit London &#x27;24 🇬🇧. See you there in March!\n",
       "Answer:<span style='background-color: rgba(0.0, 165.0, 0, 0.15); border-radius: 3px;' title='1.0'> </span><span style='background-color: rgba(0.0, 165.0, 0, 0.15); border-radius: 3px;' title='1.0'>h</span>appy, Scale:<span style='background-color: rgba(0.0, 165.0, 0, 0.15); border-radius: 3px;' title='1.0'> </span><span style='background-color: rgba(0.0, 165.0, 0, 0.15); border-radius: 3px;' title='1.0'>9</span><span style='background-color: rgba(0.0, 165.0, 0, 0.15); border-radius: 3px;' title='1.0'>0</span></pre>"
      ],
      "text/plain": [
       "<IPython.core.display.HTML object>"
      ]
     },
     "metadata": {},
     "output_type": "display_data"
    }
   ],
   "source": [
    "lm = llm + f\"{question}: {text}\\n\"\n",
    "lm += \"Answer: \" + select(['happy', 'sad', 'angry', 'surprised', 'disgusted', 'excited', 'fearful', 'neutral'], name='emotion') \n",
    "lm += \", Scale: \" + gen(regex='\\d+', name='strength')"
   ]
  },
  {
   "cell_type": "code",
   "execution_count": 75,
   "id": "e805fa7c-c269-42f2-bade-0ecb54b7e6b7",
   "metadata": {
    "execution": {
     "iopub.execute_input": "2023-12-28T13:36:46.466723Z",
     "iopub.status.busy": "2023-12-28T13:36:46.466461Z",
     "iopub.status.idle": "2023-12-28T13:36:46.469601Z",
     "shell.execute_reply": "2023-12-28T13:36:46.469196Z",
     "shell.execute_reply.started": "2023-12-28T13:36:46.466706Z"
    }
   },
   "outputs": [
    {
     "data": {
      "text/plain": [
       "('happy', '90')"
      ]
     },
     "execution_count": 75,
     "metadata": {},
     "output_type": "execute_result"
    }
   ],
   "source": [
    "lm['emotion'], lm['strength']"
   ]
  },
  {
   "cell_type": "markdown",
   "id": "27940d3e-f00c-42d4-9bb4-79d036f81e72",
   "metadata": {
    "execution": {
     "iopub.execute_input": "2023-12-28T08:00:14.118978Z",
     "iopub.status.busy": "2023-12-28T08:00:14.118779Z",
     "iopub.status.idle": "2023-12-28T08:00:14.122392Z",
     "shell.execute_reply": "2023-12-28T08:00:14.121643Z",
     "shell.execute_reply.started": "2023-12-28T08:00:14.118964Z"
    }
   },
   "source": [
    "## Reusable Components ♻️🧩🔁\n",
    "We can put all that code into a functioin to make it easier to detect the emotion of new pieces of text."
   ]
  },
  {
   "cell_type": "code",
   "execution_count": 8,
   "id": "776cb251-afd9-405b-bad5-e76dcfcba1c1",
   "metadata": {
    "execution": {
     "iopub.execute_input": "2023-12-28T21:01:10.762511Z",
     "iopub.status.busy": "2023-12-28T21:01:10.758938Z",
     "iopub.status.idle": "2023-12-28T21:01:10.777219Z",
     "shell.execute_reply": "2023-12-28T21:01:10.776682Z",
     "shell.execute_reply.started": "2023-12-28T21:01:10.762470Z"
    }
   },
   "outputs": [],
   "source": [
    "@guidance\n",
    "def emotion_detector(lm, text):  \n",
    "    lm = llm + f\"{question}: {text}\\n\"\n",
    "    lm += \"Answer: \" + select(['happy', 'sad', 'angry', 'surprised', 'disgusted', 'excited', 'fearful', 'neutral'], name='emotion') \n",
    "    lm += \", Scale: \" + gen(regex='\\d+', name='strength')\n",
    "    return lm"
   ]
  },
  {
   "cell_type": "code",
   "execution_count": 80,
   "id": "cb06aa83-83ba-49cc-8b9c-cf315b0addc3",
   "metadata": {
    "execution": {
     "iopub.execute_input": "2023-12-28T13:37:06.468292Z",
     "iopub.status.busy": "2023-12-28T13:37:06.467748Z",
     "iopub.status.idle": "2023-12-28T13:37:06.482856Z",
     "shell.execute_reply": "2023-12-28T13:37:06.482161Z",
     "shell.execute_reply.started": "2023-12-28T13:37:06.468252Z"
    }
   },
   "outputs": [
    {
     "name": "stdout",
     "output_type": "stream",
     "text": [
      "A last-16 US Open finish and a first ATP Tour final have made 2023 Jack Draper's most successful year of his young career so far. But for the 21-year-old Briton, success has been tinged by sadness with his grandmother Brenda - a former tennis player and coach - unable to recognise his achievements. Draper's grandmother has Alzheimer's disease, a condition that causes dementia and the gradual decline of cognitive functioning in the brain.\n"
     ]
    }
   ],
   "source": [
    "jack_text = read_file(\"data/jack.txt\")\n",
    "print(jack_text)"
   ]
  },
  {
   "cell_type": "code",
   "execution_count": 84,
   "id": "11596bc8-73e6-4a0b-bcf3-79ea8716ddd6",
   "metadata": {
    "execution": {
     "iopub.execute_input": "2023-12-28T13:37:31.037737Z",
     "iopub.status.busy": "2023-12-28T13:37:31.037141Z",
     "iopub.status.idle": "2023-12-28T13:37:31.732957Z",
     "shell.execute_reply": "2023-12-28T13:37:31.732700Z",
     "shell.execute_reply.started": "2023-12-28T13:37:31.037710Z"
    }
   },
   "outputs": [
    {
     "data": {
      "text/html": [
       "<pre style='margin: 0px; padding: 0px; vertical-align: middle; padding-left: 8px; margin-left: -8px; border-radius: 0px; border-left: 1px solid rgba(127, 127, 127, 0.2); white-space: pre-wrap; font-family: ColfaxAI, Arial; font-size: 15px; line-height: 23px;'>What is the emotion of the following text and how strong is the emotion on a scale from 1-100?: A last-16 US Open finish and a first ATP Tour final have made 2023 Jack Draper&#x27;s most successful year of his young career so far. But for the 21-year-old Briton, success has been tinged by sadness with his grandmother Brenda - a former tennis player and coach - unable to recognise his achievements. Draper&#x27;s grandmother has Alzheimer&#x27;s disease, a condition that causes dementia and the gradual decline of cognitive functioning in the brain.\n",
       "Answer:<span style='background-color: rgba(0.0, 165.0, 0, 0.15); border-radius: 3px;' title='1.0'> </span><span style='background-color: rgba(0.0, 165.0, 0, 0.15); border-radius: 3px;' title='1.0'>s</span><span style='background-color: rgba(0.0, 165.0, 0, 0.15); border-radius: 3px;' title='1.0'>ad</span>, Scale:<span style='background-color: rgba(0.0, 165.0, 0, 0.15); border-radius: 3px;' title='1.0'> </span><span style='background-color: rgba(0.0, 165.0, 0, 0.15); border-radius: 3px;' title='1.0'>7</span><span style='background-color: rgba(0.0, 165.0, 0, 0.15); border-radius: 3px;' title='1.0'>0</span></pre>"
      ],
      "text/plain": [
       "<guidance.models.llama_cpp._llama_cpp.LlamaCpp at 0x11ff99110>"
      ]
     },
     "execution_count": 84,
     "metadata": {},
     "output_type": "execute_result"
    }
   ],
   "source": [
    "llm + emotion_detector(jack_text)"
   ]
  },
  {
   "cell_type": "code",
   "execution_count": 9,
   "id": "ab1c11f5-d724-49e2-9a05-769e177194cc",
   "metadata": {
    "execution": {
     "iopub.execute_input": "2023-12-28T21:01:12.970133Z",
     "iopub.status.busy": "2023-12-28T21:01:12.969965Z",
     "iopub.status.idle": "2023-12-28T21:01:13.507060Z",
     "shell.execute_reply": "2023-12-28T21:01:13.506784Z",
     "shell.execute_reply.started": "2023-12-28T21:01:12.970122Z"
    }
   },
   "outputs": [
    {
     "data": {
      "text/html": [
       "<pre style='margin: 0px; padding: 0px; vertical-align: middle; padding-left: 8px; margin-left: -8px; border-radius: 0px; border-left: 1px solid rgba(127, 127, 127, 0.2); white-space: pre-wrap; font-family: ColfaxAI, Arial; font-size: 15px; line-height: 23px;'>What is the emotion of the following text and how strong is the emotion on a scale from 1-100?: Novak Djokovic claims British fans were trying to &quot;annoy&quot; him during his Davis Cup match with Cameron Norrie and as he tried to conduct a post-match interview on court.\n",
       "Answer:<span style='background-color: rgba(0.0, 165.0, 0, 0.15); border-radius: 3px;' title='1.0'> </span><span style='background-color: rgba(0.0, 165.0, 0, 0.15); border-radius: 3px;' title='1.0'>ang</span>ry, Scale:<span style='background-color: rgba(0.0, 165.0, 0, 0.15); border-radius: 3px;' title='1.0'> </span><span style='background-color: rgba(0.0, 165.0, 0, 0.15); border-radius: 3px;' title='1.0'>8</span><span style='background-color: rgba(0.0, 165.0, 0, 0.15); border-radius: 3px;' title='1.0'>0</span></pre>"
      ],
      "text/plain": [
       "<guidance.models.llama_cpp._llama_cpp.LlamaCpp at 0x115c4d250>"
      ]
     },
     "execution_count": 9,
     "metadata": {},
     "output_type": "execute_result"
    }
   ],
   "source": [
    "llm + emotion_detector(read_file(\"data/novak.txt\"))"
   ]
  },
  {
   "cell_type": "markdown",
   "id": "11538f8f-6019-410f-a15c-e6de279466bb",
   "metadata": {},
   "source": [
    "## Returning JSON 🔄📄🔡 \n",
    "Guidance can also generate output in a JSON format, which is useful for connecting with other tools."
   ]
  },
  {
   "cell_type": "code",
   "execution_count": 42,
   "id": "0a398f80-a6a9-4eaf-bd73-edba9990ba4c",
   "metadata": {
    "execution": {
     "iopub.execute_input": "2023-12-28T21:52:25.607543Z",
     "iopub.status.busy": "2023-12-28T21:52:25.607335Z",
     "iopub.status.idle": "2023-12-28T21:52:25.615364Z",
     "shell.execute_reply": "2023-12-28T21:52:25.610159Z",
     "shell.execute_reply.started": "2023-12-28T21:52:25.607534Z"
    }
   },
   "outputs": [],
   "source": [
    "@guidance\n",
    "def emotion_detector_json(lm, text):\n",
    "    question = \"What is the emotion of the following text and how strong is the emotion on a scale from 1-100?\"\n",
    "    emotions = [\n",
    "        'happy', 'sad', 'angry', 'surprised', \n",
    "        'disgusted', 'excited', 'fearful', 'neutral'\n",
    "    ]\n",
    "    lm = llm + f\"{question}: {text}\\n\"\n",
    "    only_numbers_pattern = r'\\d+'\n",
    "    lm += f\"\"\"{{\n",
    "      \"text\": \"{text}\",\n",
    "      \"emotion\": \"{select(emotions, name='answer')}\",\n",
    "      \"scale\": {gen(regex=only_numbers_pattern, name='strength')}\n",
    "    }}\"\"\"\n",
    "    return lm"
   ]
  },
  {
   "cell_type": "code",
   "execution_count": 43,
   "id": "b84339ce-859f-4de5-af16-9721dd4f5bf6",
   "metadata": {
    "execution": {
     "iopub.execute_input": "2023-12-28T21:52:30.701694Z",
     "iopub.status.busy": "2023-12-28T21:52:30.701521Z",
     "iopub.status.idle": "2023-12-28T21:52:31.097262Z",
     "shell.execute_reply": "2023-12-28T21:52:31.097011Z",
     "shell.execute_reply.started": "2023-12-28T21:52:30.701682Z"
    }
   },
   "outputs": [
    {
     "data": {
      "text/html": [
       "<pre style='margin: 0px; padding: 0px; vertical-align: middle; padding-left: 8px; margin-left: -8px; border-radius: 0px; border-left: 1px solid rgba(127, 127, 127, 0.2); white-space: pre-wrap; font-family: ColfaxAI, Arial; font-size: 15px; line-height: 23px;'>What is the emotion of the following text and how strong is the emotion on a scale from 1-100?: I&#x27;m so happy to be here\n",
       "{\n",
       "  &quot;text&quot;: &quot;I&#x27;m so happy to be here&quot;,\n",
       "  &quot;emotion&quot;:<span style='background-color: rgba(0.0, 165.0, 0, 0.15); border-radius: 3px;' title='1.0'> &quot;</span><span style='background-color: rgba(0.0, 165.0, 0, 0.15); border-radius: 3px;' title='1.0'>h</span>appy&quot;,\n",
       "  &quot;scale&quot;:<span style='background-color: rgba(0.0, 165.0, 0, 0.15); border-radius: 3px;' title='1.0'> </span><span style='background-color: rgba(0.0, 165.0, 0, 0.15); border-radius: 3px;' title='1.0'>1</span><span style='background-color: rgba(0.0, 165.0, 0, 0.15); border-radius: 3px;' title='1.0'>0</span><span style='background-color: rgba(0.0, 165.0, 0, 0.15); border-radius: 3px;' title='1.0'>0</span><span style='background-color: rgba(0.0, 165.0, 0, 0.15); border-radius: 3px;' title='1.0'>\n",
       "</span>}</pre>"
      ],
      "text/plain": [
       "<guidance.models.llama_cpp._llama_cpp.LlamaCpp at 0x126754250>"
      ]
     },
     "execution_count": 43,
     "metadata": {},
     "output_type": "execute_result"
    }
   ],
   "source": [
    "llm + emotion_detector_json(\"I'm so happy to be here\")"
   ]
  },
  {
   "cell_type": "code",
   "execution_count": 159,
   "id": "167b4e28-f5fa-42c4-93fa-c7453072490f",
   "metadata": {
    "execution": {
     "iopub.execute_input": "2023-12-27T10:55:28.845591Z",
     "iopub.status.busy": "2023-12-27T10:55:28.844820Z",
     "iopub.status.idle": "2023-12-27T10:55:39.793903Z",
     "shell.execute_reply": "2023-12-27T10:55:39.793559Z",
     "shell.execute_reply.started": "2023-12-27T10:55:28.845548Z"
    }
   },
   "outputs": [
    {
     "data": {
      "text/html": [
       "<pre style=\"white-space:pre;overflow-x:auto;line-height:normal;font-family:Menlo,'DejaVu Sans Mono',consolas,'Courier New',monospace\"></pre>\n"
      ],
      "text/plain": []
     },
     "metadata": {},
     "output_type": "display_data"
    },
    {
     "data": {
      "text/html": [
       "<pre style='margin: 0px; padding: 0px; vertical-align: middle; padding-left: 8px; margin-left: -8px; border-radius: 0px; border-left: 1px solid rgba(127, 127, 127, 0.2); white-space: pre-wrap; font-family: ColfaxAI, Arial; font-size: 15px; line-height: 23px;'>What are the most common commands used in the Linux operating system?\n",
       "\n",
       "Here are the 5 most common commands in JSON format:\n",
       "{\n",
       "    &quot;commands&quot;: [<span style='background-color: rgba(0.0, 165.0, 0, 0.15); border-radius: 3px;' title='1.0'>&quot;</span><span style='background-color: rgba(0.0, 165.0, 0, 0.15); border-radius: 3px;' title='1.0'>cd</span>&quot;, <span style='background-color: rgba(0.0, 165.0, 0, 0.15); border-radius: 3px;' title='1.0'>&quot;</span><span style='background-color: rgba(0.0, 165.0, 0, 0.15); border-radius: 3px;' title='1.0'>ls</span>&quot;, <span style='background-color: rgba(0.0, 165.0, 0, 0.15); border-radius: 3px;' title='1.0'>&quot;</span><span style='background-color: rgba(0.0, 165.0, 0, 0.15); border-radius: 3px;' title='1.0'>p</span><span style='background-color: rgba(0.0, 165.0, 0, 0.15); border-radius: 3px;' title='1.0'>wd</span>&quot;, <span style='background-color: rgba(0.0, 165.0, 0, 0.15); border-radius: 3px;' title='1.0'>&quot;</span><span style='background-color: rgba(0.0, 165.0, 0, 0.15); border-radius: 3px;' title='1.0'>mk</span><span style='background-color: rgba(0.0, 165.0, 0, 0.15); border-radius: 3px;' title='1.0'>dir</span>&quot;, <span style='background-color: rgba(0.0, 165.0, 0, 0.15); border-radius: 3px;' title='1.0'>&quot;</span><span style='background-color: rgba(0.0, 165.0, 0, 0.15); border-radius: 3px;' title='1.0'>rm</span>&quot;],\n",
       "    &quot;my_favorite_command&quot;:<span style='background-color: rgba(0.0, 165.0, 0, 0.15); border-radius: 3px;' title='1.0'> &quot;</span><span style='background-color: rgba(0.0, 165.0, 0, 0.15); border-radius: 3px;' title='1.0'>ls</span><span style='background-color: rgba(0.0, 165.0, 0, 0.15); border-radius: 3px;' title='1.0'> -</span><span style='background-color: rgba(0.0, 165.0, 0, 0.15); border-radius: 3px;' title='1.0'>la</span>&quot;\n",
       "}</pre>"
      ],
      "text/plain": [
       "\u001b[1m<\u001b[0m\u001b[1;95mIPython.core.display.HTML\u001b[0m\u001b[39m object\u001b[0m\u001b[1m>\u001b[0m"
      ]
     },
     "metadata": {},
     "output_type": "display_data"
    }
   ],
   "source": [
    "import guidance\n",
    "\n",
    "# define a re-usable \"guidance function\" that we can use below\n",
    "@guidance\n",
    "def quoted_list(lm, name, n):\n",
    "    for i in range(n):\n",
    "        if i > 0:\n",
    "            lm += \", \"\n",
    "        lm += '\"' + gen(name, list_append=True, stop='\"') + '\"'\n",
    "    return lm\n",
    "\n",
    "response = llm + f\"\"\"What are the most common commands used in the Linux operating system?\n",
    "\n",
    "Here are the 5 most common commands in JSON format:\n",
    "{{\n",
    "    \"commands\": [{quoted_list('commands', 5)}],\n",
    "    \"my_favorite_command\": \"{gen('favorite_command', stop='\"')}\"\n",
    "}}\"\"\""
   ]
  },
  {
   "cell_type": "code",
   "execution_count": 174,
   "id": "898e724c-7733-4da8-a874-ba0e84b7c7a7",
   "metadata": {
    "execution": {
     "iopub.execute_input": "2023-12-27T10:58:24.535628Z",
     "iopub.status.busy": "2023-12-27T10:58:24.534607Z",
     "iopub.status.idle": "2023-12-27T10:58:24.551028Z",
     "shell.execute_reply": "2023-12-27T10:58:24.550176Z",
     "shell.execute_reply.started": "2023-12-27T10:58:24.535587Z"
    }
   },
   "outputs": [
    {
     "data": {
      "text/html": [
       "<pre style=\"white-space:pre;overflow-x:auto;line-height:normal;font-family:Menlo,'DejaVu Sans Mono',consolas,'Courier New',monospace\"></pre>\n"
      ],
      "text/plain": []
     },
     "metadata": {},
     "output_type": "display_data"
    },
    {
     "data": {
      "text/plain": [
       "\u001b[1m{\u001b[0m\u001b[32m'commands'\u001b[0m: \u001b[1m[\u001b[0m\u001b[32m'cd'\u001b[0m, \u001b[32m'ls'\u001b[0m, \u001b[32m'pwd'\u001b[0m, \u001b[32m'mkdir'\u001b[0m, \u001b[32m'rm'\u001b[0m\u001b[1m]\u001b[0m, \u001b[32m'my_favorite_command'\u001b[0m: \u001b[32m'ls -la'\u001b[0m\u001b[1m}\u001b[0m"
      ]
     },
     "execution_count": 174,
     "metadata": {},
     "output_type": "execute_result"
    }
   ],
   "source": [
    "import json\n",
    "json.loads(\n",
    "  response.__str__().split(\"Here are the 5 most common commands in JSON format:\")[-1].strip()\n",
    ")"
   ]
  },
  {
   "cell_type": "code",
   "execution_count": 176,
   "id": "b08c76f0-85b0-443e-a3dc-c7acce14cda2",
   "metadata": {
    "execution": {
     "iopub.execute_input": "2023-12-27T11:19:56.656027Z",
     "iopub.status.busy": "2023-12-27T11:19:56.654578Z",
     "iopub.status.idle": "2023-12-27T11:20:00.475205Z",
     "shell.execute_reply": "2023-12-27T11:20:00.474826Z",
     "shell.execute_reply.started": "2023-12-27T11:19:56.655980Z"
    },
    "scrolled": true
   },
   "outputs": [
    {
     "data": {
      "text/html": [
       "<pre style=\"white-space:pre;overflow-x:auto;line-height:normal;font-family:Menlo,'DejaVu Sans Mono',consolas,'Courier New',monospace\"></pre>\n"
      ],
      "text/plain": []
     },
     "metadata": {},
     "output_type": "display_data"
    },
    {
     "data": {
      "text/html": [
       "<pre style='margin: 0px; padding: 0px; vertical-align: middle; padding-left: 8px; margin-left: -8px; border-radius: 0px; border-left: 1px solid rgba(127, 127, 127, 0.2); white-space: pre-wrap; font-family: ColfaxAI, Arial; font-size: 15px; line-height: 23px;'>Question: What is the sentiment of the following text and what is your confidence in that sentiment?\n",
       "To remove advertisements from a transcript with timestamps, you can follow these general steps\n",
       "Answer:<span style='background-color: rgba(0.0, 165.0, 0, 0.15); border-radius: 3px;' title='1.0'> Ne</span><span style='background-color: rgba(0.0, 165.0, 0, 0.15); border-radius: 3px;' title='1.0'>ut</span><span style='background-color: rgba(0.0, 165.0, 0, 0.15); border-radius: 3px;' title='1.0'>ral</span><span style='background-color: rgba(0.0, 165.0, 0, 0.15); border-radius: 3px;' title='1.0'>\n",
       "</span><span style='background-color: rgba(0.0, 165.0, 0, 0.15); border-radius: 3px;' title='1.0'>Conf</span><span style='background-color: rgba(0.0, 165.0, 0, 0.15); border-radius: 3px;' title='1.0'>idence</span><span style='background-color: rgba(0.0, 165.0, 0, 0.15); border-radius: 3px;' title='1.0'>:</span><span style='background-color: rgba(0.0, 165.0, 0, 0.15); border-radius: 3px;' title='1.0'> </span><span style='background-color: rgba(0.0, 165.0, 0, 0.15); border-radius: 3px;' title='1.0'>9</span><span style='background-color: rgba(0.0, 165.0, 0, 0.15); border-radius: 3px;' title='1.0'>5</span><span style='background-color: rgba(0.0, 165.0, 0, 0.15); border-radius: 3px;' title='1.0'>%</span></pre>"
      ],
      "text/plain": [
       "\u001b[1m<\u001b[0m\u001b[1;95mIPython.core.display.HTML\u001b[0m\u001b[39m object\u001b[0m\u001b[1m>\u001b[0m"
      ]
     },
     "metadata": {},
     "output_type": "display_data"
    }
   ],
   "source": [
    "text = \"\"\"\n",
    "To remove advertisements from a transcript with timestamps, you can follow these general steps\n",
    "\"\"\"\n",
    "\n",
    "sentiment = llm + 'Question: What is the sentiment of the following text and what is your confidence in that sentiment?'\n",
    "sentiment += f\"{text}\"\n",
    "sentiment += \"Answer: \" + gen(name=\"answer\")"
   ]
  },
  {
   "cell_type": "code",
   "execution_count": 191,
   "id": "29344e1e-b521-4343-a2f8-68468486dfd1",
   "metadata": {
    "execution": {
     "iopub.execute_input": "2023-12-27T11:29:21.544049Z",
     "iopub.status.busy": "2023-12-27T11:29:21.543162Z",
     "iopub.status.idle": "2023-12-27T11:29:30.635316Z",
     "shell.execute_reply": "2023-12-27T11:29:30.634916Z",
     "shell.execute_reply.started": "2023-12-27T11:29:21.543995Z"
    }
   },
   "outputs": [
    {
     "data": {
      "text/html": [
       "<pre style=\"white-space:pre;overflow-x:auto;line-height:normal;font-family:Menlo,'DejaVu Sans Mono',consolas,'Courier New',monospace\"></pre>\n"
      ],
      "text/plain": []
     },
     "metadata": {},
     "output_type": "display_data"
    },
    {
     "data": {
      "text/html": [
       "<pre style='margin: 0px; padding: 0px; vertical-align: middle; padding-left: 8px; margin-left: -8px; border-radius: 0px; border-left: 1px solid rgba(127, 127, 127, 0.2); white-space: pre-wrap; font-family: ColfaxAI, Arial; font-size: 15px; line-height: 23px;'>Question: What is the sentiment of the following text and what is your confidence in that sentiment?\n",
       "I&#x27;m happy that you got the job, but sad that you&#x27;re leaving.\n",
       "Answer:<span style='background-color: rgba(0.0, 165.0, 0, 0.15); border-radius: 3px;' title='1.0'> </span><span style='background-color: rgba(0.0, 165.0, 0, 0.15); border-radius: 3px;' title='1.0'>pos</span>itive, Confidence<span style='background-color: rgba(0.0, 165.0, 0, 0.15); border-radius: 3px;' title='1.0'>:</span><span style='background-color: rgba(0.0, 165.0, 0, 0.15); border-radius: 3px;' title='1.0'>0</span><span style='background-color: rgba(0.0, 165.0, 0, 0.15); border-radius: 3px;' title='1.0'>.</span><span style='background-color: rgba(0.0, 165.0, 0, 0.15); border-radius: 3px;' title='1.0'>5</span></pre>"
      ],
      "text/plain": [
       "\u001b[1m<\u001b[0m\u001b[1;95mIPython.core.display.HTML\u001b[0m\u001b[39m object\u001b[0m\u001b[1m>\u001b[0m"
      ]
     },
     "metadata": {},
     "output_type": "display_data"
    }
   ],
   "source": [
    "text = \"\"\"\n",
    "I'm happy that you got the job, but sad that you're leaving.\n",
    "\"\"\"\n",
    "\n",
    "sentiment = llm + 'Question: What is the sentiment of the following text and what is your confidence in that sentiment?'\n",
    "sentiment += f\"{text}\"\n",
    "sentiment += \"Answer: \" + select(['positive', 'negative', 'neutral'], name='answer') + \", Confidence:\" + gen('whole', regex=\"(0(\\.\\d+)?|1(\\.0+)?)\")"
   ]
  },
  {
   "cell_type": "code",
   "execution_count": 39,
   "id": "c270d853-bf67-4bf3-8d98-99f34fb1d8e6",
   "metadata": {
    "execution": {
     "iopub.execute_input": "2023-12-23T17:07:31.047268Z",
     "iopub.status.busy": "2023-12-23T17:07:31.043728Z",
     "iopub.status.idle": "2023-12-23T17:07:31.059339Z",
     "shell.execute_reply": "2023-12-23T17:07:31.058360Z",
     "shell.execute_reply.started": "2023-12-23T17:07:31.047215Z"
    }
   },
   "outputs": [
    {
     "data": {
      "text/html": [
       "<pre style=\"white-space:pre;overflow-x:auto;line-height:normal;font-family:Menlo,'DejaVu Sans Mono',consolas,'Courier New',monospace\"></pre>\n"
      ],
      "text/plain": []
     },
     "metadata": {},
     "output_type": "display_data"
    },
    {
     "data": {
      "text/plain": [
       "\u001b[32m'neutral'\u001b[0m"
      ]
     },
     "execution_count": 39,
     "metadata": {},
     "output_type": "execute_result"
    }
   ],
   "source": [
    "sentiment['answer']"
   ]
  },
  {
   "cell_type": "code",
   "execution_count": 77,
   "id": "e8cff961-3f91-44fa-b0fb-187208b70e0e",
   "metadata": {
    "execution": {
     "iopub.execute_input": "2023-12-25T12:00:59.928538Z",
     "iopub.status.busy": "2023-12-25T12:00:59.927137Z",
     "iopub.status.idle": "2023-12-25T12:01:18.218235Z",
     "shell.execute_reply": "2023-12-25T12:01:18.217758Z",
     "shell.execute_reply.started": "2023-12-25T12:00:59.928493Z"
    }
   },
   "outputs": [
    {
     "data": {
      "text/html": [
       "<pre style=\"white-space:pre;overflow-x:auto;line-height:normal;font-family:Menlo,'DejaVu Sans Mono',consolas,'Courier New',monospace\"></pre>\n"
      ],
      "text/plain": []
     },
     "metadata": {},
     "output_type": "display_data"
    },
    {
     "data": {
      "text/html": [
       "<pre style='margin: 0px; padding: 0px; vertical-align: middle; padding-left: 8px; margin-left: -8px; border-radius: 0px; border-left: 1px solid rgba(127, 127, 127, 0.2); white-space: pre-wrap; font-family: ColfaxAI, Arial; font-size: 15px; line-height: 23px;'>Question: What is the sentiment of the following text and why?\n",
       "To remove advertisements from a transcript with timestamps, you can follow these general steps\n",
       "Answer:<span style='background-color: rgba(0.0, 165.0, 0, 0.15); border-radius: 3px;' title='1.0'> neutral</span></pre>"
      ],
      "text/plain": [
       "\u001b[1m<\u001b[0m\u001b[1;95mIPython.core.display.HTML\u001b[0m\u001b[39m object\u001b[0m\u001b[1m>\u001b[0m"
      ]
     },
     "metadata": {},
     "output_type": "display_data"
    }
   ],
   "source": [
    "texts = [\n",
    "  \"\"\"Woohoo, 🎁's starting to come in early this year--just got the acceptance note for my session \"Data Contracts In Practice With Debezium and Apache Flink\" for #KafkaSummit London '24 🇬🇧. See you there in March!\"\"\",\n",
    "  \"To remove advertisements from a transcript with timestamps, you can follow these general steps\"\n",
    "]\n",
    "\n",
    "for text in texts:  \n",
    "  sentiment = llm + 'Question: What is the sentiment of the following text and why?\\n'\n",
    "  sentiment += f\"{text}\\n\"\n",
    "  sentiment += \"Answer: \" + select(['positive', 'negative', 'neutral'], name='answer')\n",
    "  # print(text, lm['answer'])"
   ]
  },
  {
   "cell_type": "code",
   "execution_count": 76,
   "id": "bc59bd86-2d81-4974-a3aa-0d0d28f4fb73",
   "metadata": {
    "execution": {
     "iopub.execute_input": "2023-12-25T12:00:47.917777Z",
     "iopub.status.busy": "2023-12-25T12:00:47.916236Z",
     "iopub.status.idle": "2023-12-25T12:00:47.924445Z",
     "shell.execute_reply": "2023-12-25T12:00:47.923653Z",
     "shell.execute_reply.started": "2023-12-25T12:00:47.917725Z"
    }
   },
   "outputs": [],
   "source": [
    "lm['answer']"
   ]
  },
  {
   "cell_type": "code",
   "execution_count": 72,
   "id": "9fdda01e-9c64-4642-9e7f-e7ff5680f624",
   "metadata": {
    "execution": {
     "iopub.execute_input": "2023-12-25T11:57:53.244126Z",
     "iopub.status.busy": "2023-12-25T11:57:53.243243Z",
     "iopub.status.idle": "2023-12-25T11:58:19.297926Z",
     "shell.execute_reply": "2023-12-25T11:58:19.297521Z",
     "shell.execute_reply.started": "2023-12-25T11:57:53.244056Z"
    }
   },
   "outputs": [
    {
     "data": {
      "text/html": [
       "<pre style='margin: 0px; padding: 0px; vertical-align: middle; padding-left: 8px; margin-left: -8px; border-radius: 0px; border-left: 1px solid rgba(127, 127, 127, 0.2); white-space: pre-wrap; font-family: ColfaxAI, Arial; font-size: 15px; line-height: 23px;'>Question: What is the sentiment of the following text and why?\n",
       "\n",
       "Woohoo, 🎁&#x27;s starting to come in early this year--just got the acceptance note for my session &quot;Data Contracts In Practice With Debezium and Apache Flink&quot; for #KafkaSummit London &#x27;24 🇬🇧. See you there in March!\n",
       "\n",
       "Answer:<span style='background-color: rgba(0.0, 165.0, 0, 0.15); border-radius: 3px;' title='1.0'> The</span><span style='background-color: rgba(0.0, 165.0, 0, 0.15); border-radius: 3px;' title='1.0'> sentiment</span><span style='background-color: rgba(0.0, 165.0, 0, 0.15); border-radius: 3px;' title='1.0'> of</span><span style='background-color: rgba(0.0, 165.0, 0, 0.15); border-radius: 3px;' title='1.0'> the</span><span style='background-color: rgba(0.0, 165.0, 0, 0.15); border-radius: 3px;' title='1.0'> text</span><span style='background-color: rgba(0.0, 165.0, 0, 0.15); border-radius: 3px;' title='1.0'> is</span><span style='background-color: rgba(0.0, 165.0, 0, 0.15); border-radius: 3px;' title='1.0'> positive</span><span style='background-color: rgba(0.0, 165.0, 0, 0.15); border-radius: 3px;' title='1.0'>.</span><span style='background-color: rgba(0.0, 165.0, 0, 0.15); border-radius: 3px;' title='1.0'> The</span><span style='background-color: rgba(0.0, 165.0, 0, 0.15); border-radius: 3px;' title='1.0'> reason</span><span style='background-color: rgba(0.0, 165.0, 0, 0.15); border-radius: 3px;' title='1.0'> for</span><span style='background-color: rgba(0.0, 165.0, 0, 0.15); border-radius: 3px;' title='1.0'> this</span><span style='background-color: rgba(0.0, 165.0, 0, 0.15); border-radius: 3px;' title='1.0'> sentiment</span><span style='background-color: rgba(0.0, 165.0, 0, 0.15); border-radius: 3px;' title='1.0'> is</span><span style='background-color: rgba(0.0, 165.0, 0, 0.15); border-radius: 3px;' title='1.0'> that</span><span style='background-color: rgba(0.0, 165.0, 0, 0.15); border-radius: 3px;' title='1.0'> the</span><span style='background-color: rgba(0.0, 165.0, 0, 0.15); border-radius: 3px;' title='1.0'> person</span><span style='background-color: rgba(0.0, 165.0, 0, 0.15); border-radius: 3px;' title='1.0'> received</span><span style='background-color: rgba(0.0, 165.0, 0, 0.15); border-radius: 3px;' title='1.0'> an</span><span style='background-color: rgba(0.0, 165.0, 0, 0.15); border-radius: 3px;' title='1.0'> acceptance</span><span style='background-color: rgba(0.0, 165.0, 0, 0.15); border-radius: 3px;' title='1.0'> note</span><span style='background-color: rgba(0.0, 165.0, 0, 0.15); border-radius: 3px;' title='1.0'> for</span><span style='background-color: rgba(0.0, 165.0, 0, 0.15); border-radius: 3px;' title='1.0'> their</span><span style='background-color: rgba(0.0, 165.0, 0, 0.15); border-radius: 3px;' title='1.0'> session</span><span style='background-color: rgba(0.0, 165.0, 0, 0.15); border-radius: 3px;' title='1.0'> at</span><span style='background-color: rgba(0.0, 165.0, 0, 0.15); border-radius: 3px;' title='1.0'> K</span><span style='background-color: rgba(0.0, 165.0, 0, 0.15); border-radius: 3px;' title='1.0'>afka</span><span style='background-color: rgba(0.0, 165.0, 0, 0.15); border-radius: 3px;' title='1.0'>Sum</span><span style='background-color: rgba(0.0, 165.0, 0, 0.15); border-radius: 3px;' title='1.0'>mit</span><span style='background-color: rgba(0.0, 165.0, 0, 0.15); border-radius: 3px;' title='1.0'> London</span><span style='background-color: rgba(0.0, 165.0, 0, 0.15); border-radius: 3px;' title='1.0'> &#x27;</span><span style='background-color: rgba(0.0, 165.0, 0, 0.15); border-radius: 3px;' title='1.0'>2</span><span style='background-color: rgba(0.0, 165.0, 0, 0.15); border-radius: 3px;' title='1.0'>4</span><span style='background-color: rgba(0.0, 165.0, 0, 0.15); border-radius: 3px;' title='1.0'> and</span><span style='background-color: rgba(0.0, 165.0, 0, 0.15); border-radius: 3px;' title='1.0'> is</span><span style='background-color: rgba(0.0, 165.0, 0, 0.15); border-radius: 3px;' title='1.0'> excited</span><span style='background-color: rgba(0.0, 165.0, 0, 0.15); border-radius: 3px;' title='1.0'> to</span><span style='background-color: rgba(0.0, 165.0, 0, 0.15); border-radius: 3px;' title='1.0'> see</span><span style='background-color: rgba(0.0, 165.0, 0, 0.15); border-radius: 3px;' title='1.0'> it</span><span style='background-color: rgba(0.0, 165.0, 0, 0.15); border-radius: 3px;' title='1.0'> starting</span><span style='background-color: rgba(0.0, 165.0, 0, 0.15); border-radius: 3px;' title='1.0'> early</span><span style='background-color: rgba(0.0, 165.0, 0, 0.15); border-radius: 3px;' title='1.0'> this</span><span style='background-color: rgba(0.0, 165.0, 0, 0.15); border-radius: 3px;' title='1.0'> year</span><span style='background-color: rgba(0.0, 165.0, 0, 0.15); border-radius: 3px;' title='1.0'>.</span></pre>"
      ],
      "text/plain": [
       "\u001b[1m<\u001b[0m\u001b[1;95mguidance.models.llama_cpp._llama_cpp.LlamaCppChat\u001b[0m\u001b[39m object at \u001b[0m\u001b[1;36m0x130270310\u001b[0m\u001b[1m>\u001b[0m"
      ]
     },
     "execution_count": 72,
     "metadata": {},
     "output_type": "execute_result"
    }
   ],
   "source": [
    "llm + 'Question: What is the sentiment of the following text and why?\\n' + f\"{text}\\nAnswer:\" + gen()"
   ]
  },
  {
   "cell_type": "code",
   "execution_count": 79,
   "id": "709ed100-db80-4a33-a3b1-9e2c0527f586",
   "metadata": {
    "execution": {
     "iopub.execute_input": "2023-12-26T19:30:36.501262Z",
     "iopub.status.busy": "2023-12-26T19:30:36.500133Z",
     "iopub.status.idle": "2023-12-26T19:31:53.354705Z",
     "shell.execute_reply": "2023-12-26T19:31:53.354286Z",
     "shell.execute_reply.started": "2023-12-26T19:30:36.501215Z"
    }
   },
   "outputs": [
    {
     "data": {
      "text/html": [
       "<pre style=\"white-space:pre;overflow-x:auto;line-height:normal;font-family:Menlo,'DejaVu Sans Mono',consolas,'Courier New',monospace\"></pre>\n"
      ],
      "text/plain": []
     },
     "metadata": {},
     "output_type": "display_data"
    },
    {
     "data": {
      "text/html": [
       "<pre style='margin: 0px; padding: 0px; vertical-align: middle; padding-left: 8px; margin-left: -8px; border-radius: 0px; border-left: 1px solid rgba(127, 127, 127, 0.2); white-space: pre-wrap; font-family: ColfaxAI, Arial; font-size: 15px; line-height: 23px;'><div style='display: flex; border-bottom: 1px solid rgba(127, 127, 127, 0.2); align-items: center;'><div style='flex: 0 0 80px; opacity: 0.5;'>user</div><div style='flex-grow: 1; padding: 5px; padding-top: 10px; padding-bottom: 10px; margin-top: 0px; white-space: pre-wrap; margin-bottom: 0px;'>What is the capital of England?</div></div><div style='display: flex; border-bottom: 1px solid rgba(127, 127, 127, 0.2); align-items: center;'><div style='flex: 0 0 80px; opacity: 0.5;'>assistant</div><div style='flex-grow: 1; padding: 5px; padding-top: 10px; padding-bottom: 10px; margin-top: 0px; white-space: pre-wrap; margin-bottom: 0px;'><span style='background-color: rgba(0.0, 165.0, 0, 0.15); border-radius: 3px;' title='1.0'>The</span><span style='background-color: rgba(0.0, 165.0, 0, 0.15); border-radius: 3px;' title='1.0'> capital</span><span style='background-color: rgba(0.0, 165.0, 0, 0.15); border-radius: 3px;' title='1.0'> of</span><span style='background-color: rgba(0.0, 165.0, 0, 0.15); border-radius: 3px;' title='1.0'> England</span><span style='background-color: rgba(0.0, 165.0, 0, 0.15); border-radius: 3px;' title='1.0'> is</span><span style='background-color: rgba(0.0, 165.0, 0, 0.15); border-radius: 3px;' title='1.0'> London</span><span style='background-color: rgba(0.0, 165.0, 0, 0.15); border-radius: 3px;' title='1.0'>.</span></div></div><div style='display: flex; border-bottom: 1px solid rgba(127, 127, 127, 0.2); align-items: center;'><div style='flex: 0 0 80px; opacity: 0.5;'>user</div><div style='flex-grow: 1; padding: 5px; padding-top: 10px; padding-bottom: 10px; margin-top: 0px; white-space: pre-wrap; margin-bottom: 0px;'>What is the most well known landmark?</div></div><div style='display: flex; border-bottom: 1px solid rgba(127, 127, 127, 0.2); align-items: center;'><div style='flex: 0 0 80px; opacity: 0.5;'>assistant</div><div style='flex-grow: 1; padding: 5px; padding-top: 10px; padding-bottom: 10px; margin-top: 0px; white-space: pre-wrap; margin-bottom: 0px;'><span style='background-color: rgba(0.0, 165.0, 0, 0.15); border-radius: 3px;' title='1.0'>One</span><span style='background-color: rgba(0.0, 165.0, 0, 0.15); border-radius: 3px;' title='1.0'> of</span><span style='background-color: rgba(0.0, 165.0, 0, 0.15); border-radius: 3px;' title='1.0'> the</span><span style='background-color: rgba(0.0, 165.0, 0, 0.15); border-radius: 3px;' title='1.0'> most</span><span style='background-color: rgba(0.0, 165.0, 0, 0.15); border-radius: 3px;' title='1.0'> well</span><span style='background-color: rgba(0.0, 165.0, 0, 0.15); border-radius: 3px;' title='1.0'>-</span><span style='background-color: rgba(0.0, 165.0, 0, 0.15); border-radius: 3px;' title='1.0'>known</span><span style='background-color: rgba(0.0, 165.0, 0, 0.15); border-radius: 3px;' title='1.0'> land</span><span style='background-color: rgba(0.0, 165.0, 0, 0.15); border-radius: 3px;' title='1.0'>marks</span><span style='background-color: rgba(0.0, 165.0, 0, 0.15); border-radius: 3px;' title='1.0'> in</span><span style='background-color: rgba(0.0, 165.0, 0, 0.15); border-radius: 3px;' title='1.0'> London</span><span style='background-color: rgba(0.0, 165.0, 0, 0.15); border-radius: 3px;' title='1.0'>,</span><span style='background-color: rgba(0.0, 165.0, 0, 0.15); border-radius: 3px;' title='1.0'> England</span><span style='background-color: rgba(0.0, 165.0, 0, 0.15); border-radius: 3px;' title='1.0'> is</span><span style='background-color: rgba(0.0, 165.0, 0, 0.15); border-radius: 3px;' title='1.0'> the</span><span style='background-color: rgba(0.0, 165.0, 0, 0.15); border-radius: 3px;' title='1.0'> Buck</span><span style='background-color: rgba(0.0, 165.0, 0, 0.15); border-radius: 3px;' title='1.0'>ingham</span><span style='background-color: rgba(0.0, 165.0, 0, 0.15); border-radius: 3px;' title='1.0'> Palace</span><span style='background-color: rgba(0.0, 165.0, 0, 0.15); border-radius: 3px;' title='1.0'>.</span><span style='background-color: rgba(0.0, 165.0, 0, 0.15); border-radius: 3px;' title='1.0'> It</span><span style='background-color: rgba(0.0, 165.0, 0, 0.15); border-radius: 3px;' title='1.0'> is</span><span style='background-color: rgba(0.0, 165.0, 0, 0.15); border-radius: 3px;' title='1.0'> the</span><span style='background-color: rgba(0.0, 165.0, 0, 0.15); border-radius: 3px;' title='1.0'> official</span><span style='background-color: rgba(0.0, 165.0, 0, 0.15); border-radius: 3px;' title='1.0'> residence</span><span style='background-color: rgba(0.0, 165.0, 0, 0.15); border-radius: 3px;' title='1.0'> and</span><span style='background-color: rgba(0.0, 165.0, 0, 0.15); border-radius: 3px;' title='1.0'> administrative</span><span style='background-color: rgba(0.0, 165.0, 0, 0.15); border-radius: 3px;' title='1.0'> headquarters</span><span style='background-color: rgba(0.0, 165.0, 0, 0.15); border-radius: 3px;' title='1.0'> of</span><span style='background-color: rgba(0.0, 165.0, 0, 0.15); border-radius: 3px;' title='1.0'> the</span><span style='background-color: rgba(0.0, 165.0, 0, 0.15); border-radius: 3px;' title='1.0'> mon</span><span style='background-color: rgba(0.0, 165.0, 0, 0.15); border-radius: 3px;' title='1.0'>arch</span><span style='background-color: rgba(0.0, 165.0, 0, 0.15); border-radius: 3px;' title='1.0'> of</span><span style='background-color: rgba(0.0, 165.0, 0, 0.15); border-radius: 3px;' title='1.0'> the</span><span style='background-color: rgba(0.0, 165.0, 0, 0.15); border-radius: 3px;' title='1.0'> United</span><span style='background-color: rgba(0.0, 165.0, 0, 0.15); border-radius: 3px;' title='1.0'> Kingdom</span><span style='background-color: rgba(0.0, 165.0, 0, 0.15); border-radius: 3px;' title='1.0'>.</span></div></div><div style='display: flex; border-bottom: 1px solid rgba(127, 127, 127, 0.2); align-items: center;'><div style='flex: 0 0 80px; opacity: 0.5;'>user</div><div style='flex-grow: 1; padding: 5px; padding-top: 10px; padding-bottom: 10px; margin-top: 0px; white-space: pre-wrap; margin-bottom: 0px;'>What is a sporting event held there?</div></div><div style='display: flex; border-bottom: 1px solid rgba(127, 127, 127, 0.2); align-items: center;'><div style='flex: 0 0 80px; opacity: 0.5;'>assistant</div><div style='flex-grow: 1; padding: 5px; padding-top: 10px; padding-bottom: 10px; margin-top: 0px; white-space: pre-wrap; margin-bottom: 0px;'><span style='background-color: rgba(0.0, 165.0, 0, 0.15); border-radius: 3px;' title='1.0'>The</span><span style='background-color: rgba(0.0, 165.0, 0, 0.15); border-radius: 3px;' title='1.0'> London</span><span style='background-color: rgba(0.0, 165.0, 0, 0.15); border-radius: 3px;' title='1.0'> Mar</span><span style='background-color: rgba(0.0, 165.0, 0, 0.15); border-radius: 3px;' title='1.0'>athon</span><span style='background-color: rgba(0.0, 165.0, 0, 0.15); border-radius: 3px;' title='1.0'> is</span><span style='background-color: rgba(0.0, 165.0, 0, 0.15); border-radius: 3px;' title='1.0'> an</span><span style='background-color: rgba(0.0, 165.0, 0, 0.15); border-radius: 3px;' title='1.0'> annual</span><span style='background-color: rgba(0.0, 165.0, 0, 0.15); border-radius: 3px;' title='1.0'> sport</span><span style='background-color: rgba(0.0, 165.0, 0, 0.15); border-radius: 3px;' title='1.0'>ing</span><span style='background-color: rgba(0.0, 165.0, 0, 0.15); border-radius: 3px;' title='1.0'> event</span><span style='background-color: rgba(0.0, 165.0, 0, 0.15); border-radius: 3px;' title='1.0'> held</span><span style='background-color: rgba(0.0, 165.0, 0, 0.15); border-radius: 3px;' title='1.0'> in</span><span style='background-color: rgba(0.0, 165.0, 0, 0.15); border-radius: 3px;' title='1.0'> London</span><span style='background-color: rgba(0.0, 165.0, 0, 0.15); border-radius: 3px;' title='1.0'>,</span><span style='background-color: rgba(0.0, 165.0, 0, 0.15); border-radius: 3px;' title='1.0'> England</span><span style='background-color: rgba(0.0, 165.0, 0, 0.15); border-radius: 3px;' title='1.0'>.</span><span style='background-color: rgba(0.0, 165.0, 0, 0.15); border-radius: 3px;' title='1.0'> It</span><span style='background-color: rgba(0.0, 165.0, 0, 0.15); border-radius: 3px;' title='1.0'> is</span><span style='background-color: rgba(0.0, 165.0, 0, 0.15); border-radius: 3px;' title='1.0'> one</span><span style='background-color: rgba(0.0, 165.0, 0, 0.15); border-radius: 3px;' title='1.0'> of</span><span style='background-color: rgba(0.0, 165.0, 0, 0.15); border-radius: 3px;' title='1.0'> the</span><span style='background-color: rgba(0.0, 165.0, 0, 0.15); border-radius: 3px;' title='1.0'> world</span><span style='background-color: rgba(0.0, 165.0, 0, 0.15); border-radius: 3px;' title='1.0'>&#x27;</span><span style='background-color: rgba(0.0, 165.0, 0, 0.15); border-radius: 3px;' title='1.0'>s</span><span style='background-color: rgba(0.0, 165.0, 0, 0.15); border-radius: 3px;' title='1.0'> most</span><span style='background-color: rgba(0.0, 165.0, 0, 0.15); border-radius: 3px;' title='1.0'> famous</span><span style='background-color: rgba(0.0, 165.0, 0, 0.15); border-radius: 3px;' title='1.0'> mar</span><span style='background-color: rgba(0.0, 165.0, 0, 0.15); border-radius: 3px;' title='1.0'>ath</span><span style='background-color: rgba(0.0, 165.0, 0, 0.15); border-radius: 3px;' title='1.0'>ons</span><span style='background-color: rgba(0.0, 165.0, 0, 0.15); border-radius: 3px;' title='1.0'> and</span><span style='background-color: rgba(0.0, 165.0, 0, 0.15); border-radius: 3px;' title='1.0'> attract</span><span style='background-color: rgba(0.0, 165.0, 0, 0.15); border-radius: 3px;' title='1.0'>s</span><span style='background-color: rgba(0.0, 165.0, 0, 0.15); border-radius: 3px;' title='1.0'> thousands</span><span style='background-color: rgba(0.0, 165.0, 0, 0.15); border-radius: 3px;' title='1.0'> of</span><span style='background-color: rgba(0.0, 165.0, 0, 0.15); border-radius: 3px;' title='1.0'> run</span><span style='background-color: rgba(0.0, 165.0, 0, 0.15); border-radius: 3px;' title='1.0'>ners</span><span style='background-color: rgba(0.0, 165.0, 0, 0.15); border-radius: 3px;' title='1.0'> from</span><span style='background-color: rgba(0.0, 165.0, 0, 0.15); border-radius: 3px;' title='1.0'> around</span><span style='background-color: rgba(0.0, 165.0, 0, 0.15); border-radius: 3px;' title='1.0'> the</span><span style='background-color: rgba(0.0, 165.0, 0, 0.15); border-radius: 3px;' title='1.0'> world</span><span style='background-color: rgba(0.0, 165.0, 0, 0.15); border-radius: 3px;' title='1.0'>.</span><span style='background-color: rgba(0.0, 165.0, 0, 0.15); border-radius: 3px;' title='1.0'> The</span><span style='background-color: rgba(0.0, 165.0, 0, 0.15); border-radius: 3px;' title='1.0'> mar</span><span style='background-color: rgba(0.0, 165.0, 0, 0.15); border-radius: 3px;' title='1.0'>athon</span><span style='background-color: rgba(0.0, 165.0, 0, 0.15); border-radius: 3px;' title='1.0'> starts</span><span style='background-color: rgba(0.0, 165.0, 0, 0.15); border-radius: 3px;' title='1.0'> and</span><span style='background-color: rgba(0.0, 165.0, 0, 0.15); border-radius: 3px;' title='1.0'> fin</span><span style='background-color: rgba(0.0, 165.0, 0, 0.15); border-radius: 3px;' title='1.0'>ishes</span><span style='background-color: rgba(0.0, 165.0, 0, 0.15); border-radius: 3px;' title='1.0'> in</span><span style='background-color: rgba(0.0, 165.0, 0, 0.15); border-radius: 3px;' title='1.0'> Green</span><span style='background-color: rgba(0.0, 165.0, 0, 0.15); border-radius: 3px;' title='1.0'> Park</span><span style='background-color: rgba(0.0, 165.0, 0, 0.15); border-radius: 3px;' title='1.0'>,</span><span style='background-color: rgba(0.0, 165.0, 0, 0.15); border-radius: 3px;' title='1.0'> near</span><span style='background-color: rgba(0.0, 165.0, 0, 0.15); border-radius: 3px;' title='1.0'> Buck</span><span style='background-color: rgba(0.0, 165.0, 0, 0.15); border-radius: 3px;' title='1.0'>ingham</span><span style='background-color: rgba(0.0, 165.0, 0, 0.15); border-radius: 3px;' title='1.0'> Palace</span><span style='background-color: rgba(0.0, 165.0, 0, 0.15); border-radius: 3px;' title='1.0'>,</span><span style='background-color: rgba(0.0, 165.0, 0, 0.15); border-radius: 3px;' title='1.0'> and</span><span style='background-color: rgba(0.0, 165.0, 0, 0.15); border-radius: 3px;' title='1.0'> takes</span><span style='background-color: rgba(0.0, 165.0, 0, 0.15); border-radius: 3px;' title='1.0'> run</span><span style='background-color: rgba(0.0, 165.0, 0, 0.15); border-radius: 3px;' title='1.0'>ners</span><span style='background-color: rgba(0.0, 165.0, 0, 0.15); border-radius: 3px;' title='1.0'> through</span><span style='background-color: rgba(0.0, 165.0, 0, 0.15); border-radius: 3px;' title='1.0'> the</span><span style='background-color: rgba(0.0, 165.0, 0, 0.15); border-radius: 3px;' title='1.0'> city</span><span style='background-color: rgba(0.0, 165.0, 0, 0.15); border-radius: 3px;' title='1.0'>&#x27;</span><span style='background-color: rgba(0.0, 165.0, 0, 0.15); border-radius: 3px;' title='1.0'>s</span><span style='background-color: rgba(0.0, 165.0, 0, 0.15); border-radius: 3px;' title='1.0'> icon</span><span style='background-color: rgba(0.0, 165.0, 0, 0.15); border-radius: 3px;' title='1.0'>ic</span><span style='background-color: rgba(0.0, 165.0, 0, 0.15); border-radius: 3px;' title='1.0'> land</span><span style='background-color: rgba(0.0, 165.0, 0, 0.15); border-radius: 3px;' title='1.0'>marks</span><span style='background-color: rgba(0.0, 165.0, 0, 0.15); border-radius: 3px;' title='1.0'>,</span><span style='background-color: rgba(0.0, 165.0, 0, 0.15); border-radius: 3px;' title='1.0'> including</span><span style='background-color: rgba(0.0, 165.0, 0, 0.15); border-radius: 3px;' title='1.0'> the</span><span style='background-color: rgba(0.0, 165.0, 0, 0.15); border-radius: 3px;' title='1.0'> Tower</span><span style='background-color: rgba(0.0, 165.0, 0, 0.15); border-radius: 3px;' title='1.0'> of</span><span style='background-color: rgba(0.0, 165.0, 0, 0.15); border-radius: 3px;' title='1.0'> London</span><span style='background-color: rgba(0.0, 165.0, 0, 0.15); border-radius: 3px;' title='1.0'> and</span><span style='background-color: rgba(0.0, 165.0, 0, 0.15); border-radius: 3px;' title='1.0'> Big</span><span style='background-color: rgba(0.0, 165.0, 0, 0.15); border-radius: 3px;' title='1.0'> Ben</span><span style='background-color: rgba(0.0, 165.0, 0, 0.15); border-radius: 3px;' title='1.0'>.</span></div></div></pre>"
      ],
      "text/plain": [
       "\u001b[1m<\u001b[0m\u001b[1;95mIPython.core.display.HTML\u001b[0m\u001b[39m object\u001b[0m\u001b[1m>\u001b[0m"
      ]
     },
     "metadata": {},
     "output_type": "display_data"
    }
   ],
   "source": [
    "with user():\n",
    "    lm = llm + \"What is the capital of England?\"\n",
    "\n",
    "with assistant():\n",
    "    lm += gen(\"capital\")\n",
    "\n",
    "with user():\n",
    "    lm += \"What is the most well known landmark?\"\n",
    "\n",
    "with assistant():\n",
    "    lm += gen(\"fact\")\n",
    "\n",
    "with user():\n",
    "    lm += \"What is a sporting event held there?\"\n",
    "\n",
    "with assistant():\n",
    "    lm += gen(\"event\")"
   ]
  },
  {
   "cell_type": "code",
   "execution_count": 65,
   "id": "f4933395-7633-41a6-b8de-98d3d139d0b4",
   "metadata": {
    "execution": {
     "iopub.execute_input": "2023-12-25T11:55:35.180988Z",
     "iopub.status.busy": "2023-12-25T11:55:35.179928Z",
     "iopub.status.idle": "2023-12-25T11:55:35.194505Z",
     "shell.execute_reply": "2023-12-25T11:55:35.193652Z",
     "shell.execute_reply.started": "2023-12-25T11:55:35.180946Z"
    }
   },
   "outputs": [
    {
     "data": {
      "text/html": [
       "<pre style=\"white-space:pre;overflow-x:auto;line-height:normal;font-family:Menlo,'DejaVu Sans Mono',consolas,'Courier New',monospace\"></pre>\n"
      ],
      "text/plain": []
     },
     "metadata": {},
     "output_type": "display_data"
    },
    {
     "data": {
      "text/plain": [
       "\n",
       "\u001b[1m(\u001b[0m\n",
       "    \u001b[32m'The capital of England is London.'\u001b[0m,\n",
       "    \u001b[32m'One of the most well-known landmarks in London, England is the Buckingham Palace. It is the official residence and administrative headquarters of the monarch of the United Kingdom.'\u001b[0m,\n",
       "    \u001b[32m\"The London Marathon is an annual sporting event held in London, England. It is one of the world's most famous marathons and attracts thousands of runners from around the world. The marathon starts and finishes in Green Park, near Buckingham Palace, and takes runners through the city's iconic landmarks, including the Tower of London and Big Ben.\"\u001b[0m\n",
       "\u001b[1m)\u001b[0m"
      ]
     },
     "execution_count": 65,
     "metadata": {},
     "output_type": "execute_result"
    }
   ],
   "source": [
    "lm['capital'], lm['fact'], lm['event']"
   ]
  }
 ],
 "metadata": {
  "kernelspec": {
   "display_name": "Python 3 (ipykernel)",
   "language": "python",
   "name": "python3"
  },
  "language_info": {
   "codemirror_mode": {
    "name": "ipython",
    "version": 3
   },
   "file_extension": ".py",
   "mimetype": "text/x-python",
   "name": "python",
   "nbconvert_exporter": "python",
   "pygments_lexer": "ipython3",
   "version": "3.11.6"
  }
 },
 "nbformat": 4,
 "nbformat_minor": 5
}
