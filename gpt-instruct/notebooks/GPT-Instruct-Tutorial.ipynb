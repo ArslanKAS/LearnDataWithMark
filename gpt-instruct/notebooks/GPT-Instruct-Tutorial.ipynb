{
 "cells": [
  {
   "cell_type": "markdown",
   "id": "9c3ab863-e2db-4956-9714-1ff9b8eb9b1c",
   "metadata": {},
   "source": [
    "# GPT 3.5 Turbo vs GPT 3.5 Turbo Instruct\n",
    "In this notebook, we're going to compare the GPT 3.5 Turbo and GPT 3.5 Turbo Instruct models."
   ]
  },
  {
   "cell_type": "markdown",
   "id": "c5a60951-992a-4187-8000-447cfd9d55c7",
   "metadata": {
    "execution": {
     "iopub.execute_input": "2023-09-26T13:05:06.426979Z",
     "iopub.status.busy": "2023-09-26T13:05:06.426765Z",
     "iopub.status.idle": "2023-09-26T13:05:06.430435Z",
     "shell.execute_reply": "2023-09-26T13:05:06.429390Z",
     "shell.execute_reply.started": "2023-09-26T13:05:06.426970Z"
    }
   },
   "source": [
    "## What's the difference between the models? ↔️\n",
    "The table below describes the differences between the models.\n",
    "\n",
    "\n",
    "|                           | Instruction Following Model                      | Chat Completion Model                      |\n",
    "|---------------------------|-------------------------------------------------|--------------------------------------------|\n",
    "| **Use Cases**             | Task-oriented, Specific commands                | Open-ended conversations, Content generation |\n",
    "| **Advantages**              | \"Summarize this text\", \"Translate this sentence to French\" | \"Tell me a story\", \"What are your thoughts on XYZ?\" |\n",
    "| **Examples**               | Precise output, Easy automation                 | More flexible, Handles ambiguity          |\n",
    "| **Best For**     | Well-defined tasks, Automations                 | Creative or exploratory interactions      |\n",
    "| **API Configuration**                          | Often lower “temperature” setting               | Often higher “temperature setting         |"
   ]
  },
  {
   "cell_type": "markdown",
   "id": "5e86f637-b2c3-4e59-a18a-d99f7dff22b7",
   "metadata": {},
   "source": [
    "## Install required libraries 📦"
   ]
  },
  {
   "cell_type": "code",
   "execution_count": 2,
   "id": "b69ace28-5c09-4c46-9576-11596bf0e0ee",
   "metadata": {
    "collapsed": true,
    "execution": {
     "iopub.execute_input": "2023-09-26T13:07:13.828063Z",
     "iopub.status.busy": "2023-09-26T13:07:13.827547Z",
     "iopub.status.idle": "2023-09-26T13:07:15.228967Z",
     "shell.execute_reply": "2023-09-26T13:07:15.228600Z",
     "shell.execute_reply.started": "2023-09-26T13:07:13.828037Z"
    },
    "jupyter": {
     "outputs_hidden": true
    }
   },
   "outputs": [
    {
     "name": "stdout",
     "output_type": "stream",
     "text": [
      "Requirement already satisfied: langchain in /Users/markhneedham/Library/Caches/pypoetry/virtualenvs/gpt-instruct-8aiJzCnW-py3.11/lib/python3.11/site-packages (0.0.297)\n",
      "Requirement already satisfied: openai in /Users/markhneedham/Library/Caches/pypoetry/virtualenvs/gpt-instruct-8aiJzCnW-py3.11/lib/python3.11/site-packages (0.28.0)\n",
      "Requirement already satisfied: python-dotenv in /Users/markhneedham/Library/Caches/pypoetry/virtualenvs/gpt-instruct-8aiJzCnW-py3.11/lib/python3.11/site-packages (1.0.0)\n",
      "Requirement already satisfied: wikipedia in /Users/markhneedham/Library/Caches/pypoetry/virtualenvs/gpt-instruct-8aiJzCnW-py3.11/lib/python3.11/site-packages (1.4.0)\n",
      "Requirement already satisfied: PyYAML>=5.3 in /Users/markhneedham/Library/Caches/pypoetry/virtualenvs/gpt-instruct-8aiJzCnW-py3.11/lib/python3.11/site-packages (from langchain) (6.0.1)\n",
      "Requirement already satisfied: SQLAlchemy<3,>=1.4 in /Users/markhneedham/Library/Caches/pypoetry/virtualenvs/gpt-instruct-8aiJzCnW-py3.11/lib/python3.11/site-packages (from langchain) (2.0.21)\n",
      "Requirement already satisfied: aiohttp<4.0.0,>=3.8.3 in /Users/markhneedham/Library/Caches/pypoetry/virtualenvs/gpt-instruct-8aiJzCnW-py3.11/lib/python3.11/site-packages (from langchain) (3.8.5)\n",
      "Requirement already satisfied: dataclasses-json<0.7,>=0.5.7 in /Users/markhneedham/Library/Caches/pypoetry/virtualenvs/gpt-instruct-8aiJzCnW-py3.11/lib/python3.11/site-packages (from langchain) (0.6.0)\n",
      "Requirement already satisfied: langsmith<0.1.0,>=0.0.38 in /Users/markhneedham/Library/Caches/pypoetry/virtualenvs/gpt-instruct-8aiJzCnW-py3.11/lib/python3.11/site-packages (from langchain) (0.0.39)\n",
      "Requirement already satisfied: numexpr<3.0.0,>=2.8.4 in /Users/markhneedham/Library/Caches/pypoetry/virtualenvs/gpt-instruct-8aiJzCnW-py3.11/lib/python3.11/site-packages (from langchain) (2.8.6)\n",
      "Requirement already satisfied: numpy<2,>=1 in /Users/markhneedham/Library/Caches/pypoetry/virtualenvs/gpt-instruct-8aiJzCnW-py3.11/lib/python3.11/site-packages (from langchain) (1.26.0)\n",
      "Requirement already satisfied: pydantic<3,>=1 in /Users/markhneedham/Library/Caches/pypoetry/virtualenvs/gpt-instruct-8aiJzCnW-py3.11/lib/python3.11/site-packages (from langchain) (2.3.0)\n",
      "Requirement already satisfied: requests<3,>=2 in /Users/markhneedham/Library/Caches/pypoetry/virtualenvs/gpt-instruct-8aiJzCnW-py3.11/lib/python3.11/site-packages (from langchain) (2.31.0)\n",
      "Requirement already satisfied: tenacity<9.0.0,>=8.1.0 in /Users/markhneedham/Library/Caches/pypoetry/virtualenvs/gpt-instruct-8aiJzCnW-py3.11/lib/python3.11/site-packages (from langchain) (8.2.3)\n",
      "Requirement already satisfied: tqdm in /Users/markhneedham/Library/Caches/pypoetry/virtualenvs/gpt-instruct-8aiJzCnW-py3.11/lib/python3.11/site-packages (from openai) (4.66.1)\n",
      "Requirement already satisfied: beautifulsoup4 in /Users/markhneedham/Library/Caches/pypoetry/virtualenvs/gpt-instruct-8aiJzCnW-py3.11/lib/python3.11/site-packages (from wikipedia) (4.12.2)\n",
      "Requirement already satisfied: attrs>=17.3.0 in /Users/markhneedham/Library/Caches/pypoetry/virtualenvs/gpt-instruct-8aiJzCnW-py3.11/lib/python3.11/site-packages (from aiohttp<4.0.0,>=3.8.3->langchain) (23.1.0)\n",
      "Requirement already satisfied: charset-normalizer<4.0,>=2.0 in /Users/markhneedham/Library/Caches/pypoetry/virtualenvs/gpt-instruct-8aiJzCnW-py3.11/lib/python3.11/site-packages (from aiohttp<4.0.0,>=3.8.3->langchain) (3.2.0)\n",
      "Requirement already satisfied: multidict<7.0,>=4.5 in /Users/markhneedham/Library/Caches/pypoetry/virtualenvs/gpt-instruct-8aiJzCnW-py3.11/lib/python3.11/site-packages (from aiohttp<4.0.0,>=3.8.3->langchain) (6.0.4)\n",
      "Requirement already satisfied: async-timeout<5.0,>=4.0.0a3 in /Users/markhneedham/Library/Caches/pypoetry/virtualenvs/gpt-instruct-8aiJzCnW-py3.11/lib/python3.11/site-packages (from aiohttp<4.0.0,>=3.8.3->langchain) (4.0.3)\n",
      "Requirement already satisfied: yarl<2.0,>=1.0 in /Users/markhneedham/Library/Caches/pypoetry/virtualenvs/gpt-instruct-8aiJzCnW-py3.11/lib/python3.11/site-packages (from aiohttp<4.0.0,>=3.8.3->langchain) (1.9.2)\n",
      "Requirement already satisfied: frozenlist>=1.1.1 in /Users/markhneedham/Library/Caches/pypoetry/virtualenvs/gpt-instruct-8aiJzCnW-py3.11/lib/python3.11/site-packages (from aiohttp<4.0.0,>=3.8.3->langchain) (1.4.0)\n",
      "Requirement already satisfied: aiosignal>=1.1.2 in /Users/markhneedham/Library/Caches/pypoetry/virtualenvs/gpt-instruct-8aiJzCnW-py3.11/lib/python3.11/site-packages (from aiohttp<4.0.0,>=3.8.3->langchain) (1.3.1)\n",
      "Requirement already satisfied: marshmallow<4.0.0,>=3.18.0 in /Users/markhneedham/Library/Caches/pypoetry/virtualenvs/gpt-instruct-8aiJzCnW-py3.11/lib/python3.11/site-packages (from dataclasses-json<0.7,>=0.5.7->langchain) (3.20.1)\n",
      "Requirement already satisfied: typing-inspect<1,>=0.4.0 in /Users/markhneedham/Library/Caches/pypoetry/virtualenvs/gpt-instruct-8aiJzCnW-py3.11/lib/python3.11/site-packages (from dataclasses-json<0.7,>=0.5.7->langchain) (0.9.0)\n",
      "Requirement already satisfied: annotated-types>=0.4.0 in /Users/markhneedham/Library/Caches/pypoetry/virtualenvs/gpt-instruct-8aiJzCnW-py3.11/lib/python3.11/site-packages (from pydantic<3,>=1->langchain) (0.5.0)\n",
      "Requirement already satisfied: pydantic-core==2.6.3 in /Users/markhneedham/Library/Caches/pypoetry/virtualenvs/gpt-instruct-8aiJzCnW-py3.11/lib/python3.11/site-packages (from pydantic<3,>=1->langchain) (2.6.3)\n",
      "Requirement already satisfied: typing-extensions>=4.6.1 in /Users/markhneedham/Library/Caches/pypoetry/virtualenvs/gpt-instruct-8aiJzCnW-py3.11/lib/python3.11/site-packages (from pydantic<3,>=1->langchain) (4.8.0)\n",
      "Requirement already satisfied: idna<4,>=2.5 in /Users/markhneedham/Library/Caches/pypoetry/virtualenvs/gpt-instruct-8aiJzCnW-py3.11/lib/python3.11/site-packages (from requests<3,>=2->langchain) (3.4)\n",
      "Requirement already satisfied: urllib3<3,>=1.21.1 in /Users/markhneedham/Library/Caches/pypoetry/virtualenvs/gpt-instruct-8aiJzCnW-py3.11/lib/python3.11/site-packages (from requests<3,>=2->langchain) (2.0.5)\n",
      "Requirement already satisfied: certifi>=2017.4.17 in /Users/markhneedham/Library/Caches/pypoetry/virtualenvs/gpt-instruct-8aiJzCnW-py3.11/lib/python3.11/site-packages (from requests<3,>=2->langchain) (2023.7.22)\n",
      "Requirement already satisfied: soupsieve>1.2 in /Users/markhneedham/Library/Caches/pypoetry/virtualenvs/gpt-instruct-8aiJzCnW-py3.11/lib/python3.11/site-packages (from beautifulsoup4->wikipedia) (2.5)\n",
      "Requirement already satisfied: packaging>=17.0 in /Users/markhneedham/Library/Caches/pypoetry/virtualenvs/gpt-instruct-8aiJzCnW-py3.11/lib/python3.11/site-packages (from marshmallow<4.0.0,>=3.18.0->dataclasses-json<0.7,>=0.5.7->langchain) (23.1)\n",
      "Requirement already satisfied: mypy-extensions>=0.3.0 in /Users/markhneedham/Library/Caches/pypoetry/virtualenvs/gpt-instruct-8aiJzCnW-py3.11/lib/python3.11/site-packages (from typing-inspect<1,>=0.4.0->dataclasses-json<0.7,>=0.5.7->langchain) (1.0.0)\n"
     ]
    }
   ],
   "source": [
    "!pip install langchain openai python-dotenv wikipedia"
   ]
  },
  {
   "cell_type": "markdown",
   "id": "9eb85d38-37d8-459e-8e4a-681a2836e7ed",
   "metadata": {},
   "source": [
    "## Configuring the LLMs ⚙️\n",
    "First, let's setup our models"
   ]
  },
  {
   "cell_type": "code",
   "execution_count": 62,
   "id": "02522fb2-6020-487d-b5cc-ecba6bf3d0c7",
   "metadata": {
    "execution": {
     "iopub.execute_input": "2023-09-26T14:31:45.183801Z",
     "iopub.status.busy": "2023-09-26T14:31:45.183381Z",
     "iopub.status.idle": "2023-09-26T14:31:45.201700Z",
     "shell.execute_reply": "2023-09-26T14:31:45.200083Z",
     "shell.execute_reply.started": "2023-09-26T14:31:45.183777Z"
    }
   },
   "outputs": [
    {
     "data": {
      "text/plain": [
       "True"
      ]
     },
     "execution_count": 62,
     "metadata": {},
     "output_type": "execute_result"
    }
   ],
   "source": [
    "import dotenv\n",
    "dotenv.load_dotenv()"
   ]
  },
  {
   "cell_type": "code",
   "execution_count": 63,
   "id": "834097fd-c2c3-4fed-be91-df3b6d92925b",
   "metadata": {
    "execution": {
     "iopub.execute_input": "2023-09-26T14:31:53.000048Z",
     "iopub.status.busy": "2023-09-26T14:31:52.999709Z",
     "iopub.status.idle": "2023-09-26T14:31:53.010209Z",
     "shell.execute_reply": "2023-09-26T14:31:53.008757Z",
     "shell.execute_reply.started": "2023-09-26T14:31:53.000026Z"
    }
   },
   "outputs": [],
   "source": [
    "from langchain.chat_models import ChatOpenAI\n",
    "turbo = ChatOpenAI(model_name=\"gpt-3.5-turbo\")"
   ]
  },
  {
   "cell_type": "code",
   "execution_count": 64,
   "id": "598abff8-099c-44e2-8812-2caec00f3aaa",
   "metadata": {
    "execution": {
     "iopub.execute_input": "2023-09-26T14:32:00.898107Z",
     "iopub.status.busy": "2023-09-26T14:32:00.897789Z",
     "iopub.status.idle": "2023-09-26T14:32:00.902917Z",
     "shell.execute_reply": "2023-09-26T14:32:00.901677Z",
     "shell.execute_reply.started": "2023-09-26T14:32:00.898087Z"
    }
   },
   "outputs": [],
   "source": [
    "from langchain.llms import OpenAI\n",
    "turbo_instruct = OpenAI(model_name=\"gpt-3.5-turbo-instruct\")"
   ]
  },
  {
   "cell_type": "markdown",
   "id": "5353c4fa-19a2-4e3a-a801-d9d78528ac57",
   "metadata": {},
   "source": [
    "## Answering factual questions 🤓\n",
    "First up, how do they answer a factual question?"
   ]
  },
  {
   "cell_type": "code",
   "execution_count": 65,
   "id": "2c04faa5-01fa-48ec-8abc-8ade6099b7a8",
   "metadata": {
    "execution": {
     "iopub.execute_input": "2023-09-26T14:32:11.534803Z",
     "iopub.status.busy": "2023-09-26T14:32:11.534401Z",
     "iopub.status.idle": "2023-09-26T14:32:11.560321Z",
     "shell.execute_reply": "2023-09-26T14:32:11.555187Z",
     "shell.execute_reply.started": "2023-09-26T14:32:11.534778Z"
    }
   },
   "outputs": [],
   "source": [
    "question = \"Did Microsoft acquire OpenAI?\""
   ]
  },
  {
   "cell_type": "code",
   "execution_count": 66,
   "id": "1682c641-cfc0-4c87-9670-92b224bef32e",
   "metadata": {
    "execution": {
     "iopub.execute_input": "2023-09-26T14:32:16.294129Z",
     "iopub.status.busy": "2023-09-26T14:32:16.293411Z",
     "iopub.status.idle": "2023-09-26T14:32:19.583781Z",
     "shell.execute_reply": "2023-09-26T14:32:19.580222Z",
     "shell.execute_reply.started": "2023-09-26T14:32:16.294086Z"
    }
   },
   "outputs": [
    {
     "name": "stdout",
     "output_type": "stream",
     "text": [
      "No, Microsoft has not acquired OpenAI. However, Microsoft has provided financial support to OpenAI and the two companies have formed a partnership to work together on AI research and development.\n",
      "CPU times: user 32.8 ms, sys: 4.46 ms, total: 37.3 ms\n",
      "Wall time: 3.28 s\n"
     ]
    }
   ],
   "source": [
    "%%time\n",
    "print(turbo.predict(question))"
   ]
  },
  {
   "cell_type": "code",
   "execution_count": 67,
   "id": "e73045db-c6ad-493a-8ce5-3f8dcd77cbc9",
   "metadata": {
    "execution": {
     "iopub.execute_input": "2023-09-26T14:32:24.946295Z",
     "iopub.status.busy": "2023-09-26T14:32:24.945829Z",
     "iopub.status.idle": "2023-09-26T14:32:25.822930Z",
     "shell.execute_reply": "2023-09-26T14:32:25.816839Z",
     "shell.execute_reply.started": "2023-09-26T14:32:24.946259Z"
    }
   },
   "outputs": [
    {
     "name": "stdout",
     "output_type": "stream",
     "text": [
      "\n",
      "\n",
      "No, Microsoft did not acquire OpenAI. Microsoft and OpenAI have a partnership where Microsoft invests $1 billion in OpenAI's research and development efforts.\n",
      "CPU times: user 5.79 ms, sys: 3.06 ms, total: 8.85 ms\n",
      "Wall time: 866 ms\n"
     ]
    }
   ],
   "source": [
    "%%time\n",
    "print(turbo_instruct.predict(question))"
   ]
  },
  {
   "cell_type": "markdown",
   "id": "0eba8b94-2ea4-46ad-a779-d0f70fa92eff",
   "metadata": {},
   "source": [
    "## Replying with empathy 💕\n",
    "How well will they do cheering me up?"
   ]
  },
  {
   "cell_type": "code",
   "execution_count": 68,
   "id": "064fa55f-950c-4db2-a529-577a58a21535",
   "metadata": {
    "execution": {
     "iopub.execute_input": "2023-09-26T14:32:37.068661Z",
     "iopub.status.busy": "2023-09-26T14:32:37.068238Z",
     "iopub.status.idle": "2023-09-26T14:32:37.086664Z",
     "shell.execute_reply": "2023-09-26T14:32:37.085688Z",
     "shell.execute_reply.started": "2023-09-26T14:32:37.068640Z"
    }
   },
   "outputs": [],
   "source": [
    "question = \"I'm feeling sad today. Can you cheer me up?\""
   ]
  },
  {
   "cell_type": "code",
   "execution_count": 69,
   "id": "cc3c6965-203e-4838-b59d-970827c56ecb",
   "metadata": {
    "execution": {
     "iopub.execute_input": "2023-09-26T14:32:41.804725Z",
     "iopub.status.busy": "2023-09-26T14:32:41.804309Z",
     "iopub.status.idle": "2023-09-26T14:32:55.642159Z",
     "shell.execute_reply": "2023-09-26T14:32:55.633826Z",
     "shell.execute_reply.started": "2023-09-26T14:32:41.804701Z"
    }
   },
   "outputs": [
    {
     "name": "stdout",
     "output_type": "stream",
     "text": [
      "I'm sorry to hear that you're feeling sad today, but I'll do my best to cheer you up! Remember that it's normal to have ups and downs, and this feeling won't last forever. Here are a few things that might brighten your day:\n",
      "\n",
      "1. Reach out to a loved one: Talking to someone you trust about how you're feeling can provide support and comfort.\n",
      "\n",
      "2. Do something you enjoy: Engaging in activities you love, such as listening to music, reading a book, or watching a funny movie, can help lift your spirits.\n",
      "\n",
      "3. Practice self-care: Take some time to focus on yourself. Whether it's taking a relaxing bath, going for a walk in nature, or treating yourself to your favorite snack, prioritize your well-being.\n",
      "\n",
      "4. Surround yourself with positivity: Surround yourself with things that make you happy. This could be listening to uplifting music, reading inspirational quotes, or looking at photos that bring back good memories.\n",
      "\n",
      "5. Help others: Sometimes, doing something kind for someone else can give you a sense of fulfillment and joy. Consider volunteering, helping a friend, or even offering a kind word or gesture to brighten someone else's day.\n",
      "\n",
      "Remember, it's okay to feel sad, but always know that brighter days are ahead. Take care of yourself and seek support when you need it.\n",
      "CPU times: user 6.18 ms, sys: 3.23 ms, total: 9.41 ms\n",
      "Wall time: 13.8 s\n"
     ]
    }
   ],
   "source": [
    "%%time\n",
    "print(turbo.predict(question))"
   ]
  },
  {
   "cell_type": "code",
   "execution_count": 70,
   "id": "55fd303f-cb31-43a5-8d4c-13b32a306438",
   "metadata": {
    "execution": {
     "iopub.execute_input": "2023-09-26T14:33:03.904807Z",
     "iopub.status.busy": "2023-09-26T14:33:03.902492Z",
     "iopub.status.idle": "2023-09-26T14:33:06.346640Z",
     "shell.execute_reply": "2023-09-26T14:33:06.344370Z",
     "shell.execute_reply.started": "2023-09-26T14:33:03.904771Z"
    }
   },
   "outputs": [
    {
     "name": "stdout",
     "output_type": "stream",
     "text": [
      "\n",
      "\n",
      "Of course! Here are a few things that might make you smile:\n",
      "\n",
      "1. Look at some funny memes or watch a funny video. Laughter is the best medicine!\n",
      "\n",
      "2. Call or text a friend or family member and have a chat. Sometimes just talking to someone can help lift our spirits.\n",
      "\n",
      "3. Take a walk outside and enjoy some fresh air and sunshine. Nature has a way of making us feel better.\n",
      "\n",
      "4. Treat yourself to something nice, like your favorite snack or a warm cup of tea.\n",
      "\n",
      "5. Put on some upbeat music and dance around your room. It's hard to be sad when you're dancing!\n",
      "\n",
      "Remember, it's okay to feel sad sometimes. But know that it won't last forever and there are always things we can do to make ourselves feel better. Sending you virtual hugs and positive vibes!\n",
      "CPU times: user 5.34 ms, sys: 2.37 ms, total: 7.71 ms\n",
      "Wall time: 2.43 s\n"
     ]
    }
   ],
   "source": [
    "%%time\n",
    "print(turbo_instruct.predict(question))"
   ]
  },
  {
   "cell_type": "markdown",
   "id": "aa442880-3ff1-44b4-ae12-20a67a783610",
   "metadata": {},
   "source": [
    "## Code generation 💻 \n",
    "A simple coding task is next."
   ]
  },
  {
   "cell_type": "code",
   "execution_count": 71,
   "id": "db4eb49b-a7c7-4ba6-a650-d153a370231c",
   "metadata": {
    "execution": {
     "iopub.execute_input": "2023-09-26T14:33:22.303637Z",
     "iopub.status.busy": "2023-09-26T14:33:22.303269Z",
     "iopub.status.idle": "2023-09-26T14:33:22.314343Z",
     "shell.execute_reply": "2023-09-26T14:33:22.308118Z",
     "shell.execute_reply.started": "2023-09-26T14:33:22.303613Z"
    }
   },
   "outputs": [],
   "source": [
    "question = \"Can you write a Python function that reads a CSV file and prints out every other row?\""
   ]
  },
  {
   "cell_type": "code",
   "execution_count": 72,
   "id": "84e67735-ec85-466d-8796-b4b30be4c2a8",
   "metadata": {
    "execution": {
     "iopub.execute_input": "2023-09-26T14:33:27.035576Z",
     "iopub.status.busy": "2023-09-26T14:33:27.035090Z",
     "iopub.status.idle": "2023-09-26T14:33:36.267161Z",
     "shell.execute_reply": "2023-09-26T14:33:36.265293Z",
     "shell.execute_reply.started": "2023-09-26T14:33:27.035553Z"
    }
   },
   "outputs": [
    {
     "name": "stdout",
     "output_type": "stream",
     "text": [
      "Yes, here's an example of a Python function that reads a CSV file and prints out every other row:\n",
      "\n",
      "```python\n",
      "import csv\n",
      "\n",
      "def print_every_other_row(csv_file):\n",
      "    with open(csv_file, 'r') as file:\n",
      "        reader = csv.reader(file)\n",
      "        row_num = 0\n",
      "        for row in reader:\n",
      "            if row_num % 2 == 0:\n",
      "                print(row)\n",
      "            row_num += 1\n",
      "\n",
      "# Example usage\n",
      "print_every_other_row('example.csv')\n",
      "```\n",
      "\n",
      "In this function, we use the `csv` module to read the CSV file. The `csv.reader` object allows us to iterate over the rows of the file. We keep a counter `row_num` to keep track of the row number, and if `row_num` is even (i.e., every other row), we print the row.\n",
      "CPU times: user 5.41 ms, sys: 3.07 ms, total: 8.48 ms\n",
      "Wall time: 9.23 s\n"
     ]
    }
   ],
   "source": [
    "%%time\n",
    "print(turbo.predict(question))"
   ]
  },
  {
   "cell_type": "code",
   "execution_count": 73,
   "id": "266071c5-7d6f-4a7d-aec1-630927956e26",
   "metadata": {
    "execution": {
     "iopub.execute_input": "2023-09-26T14:33:44.448590Z",
     "iopub.status.busy": "2023-09-26T14:33:44.448190Z",
     "iopub.status.idle": "2023-09-26T14:33:47.859006Z",
     "shell.execute_reply": "2023-09-26T14:33:47.857016Z",
     "shell.execute_reply.started": "2023-09-26T14:33:44.448566Z"
    }
   },
   "outputs": [
    {
     "name": "stdout",
     "output_type": "stream",
     "text": [
      "\n",
      "\n",
      "def print_every_other_row(file_name):\n",
      "    # open the CSV file\n",
      "    with open(file_name, 'r') as csv_file:\n",
      "        # use the csv module to read the file\n",
      "        reader = csv.reader(csv_file)\n",
      "        # loop through each row in the file\n",
      "        for i, row in enumerate(reader):\n",
      "            # check if the row is odd\n",
      "            if i % 2 == 1:\n",
      "                # print the row\n",
      "                print(row)\n",
      "CPU times: user 7.04 ms, sys: 3.57 ms, total: 10.6 ms\n",
      "Wall time: 3.4 s\n"
     ]
    }
   ],
   "source": [
    "%%time\n",
    "print(turbo_instruct.predict(question))"
   ]
  },
  {
   "cell_type": "markdown",
   "id": "7a62933e-6a6b-4880-9674-9664e104ce18",
   "metadata": {},
   "source": [
    "## Analysing sentiment 😊 \n",
    "Let's see how the models analyse the sentiment of a sentence."
   ]
  },
  {
   "cell_type": "code",
   "execution_count": 74,
   "id": "42906ea4-727a-4c07-948a-4737a8cad388",
   "metadata": {
    "execution": {
     "iopub.execute_input": "2023-09-26T14:34:12.593232Z",
     "iopub.status.busy": "2023-09-26T14:34:12.592404Z",
     "iopub.status.idle": "2023-09-26T14:34:12.601224Z",
     "shell.execute_reply": "2023-09-26T14:34:12.600535Z",
     "shell.execute_reply.started": "2023-09-26T14:34:12.593208Z"
    }
   },
   "outputs": [],
   "source": [
    "from langchain.prompts import PromptTemplate\n",
    "\n",
    "prompt = PromptTemplate.from_template(\"Analyse the sentiment of the following text: {text}\")\n",
    "question = prompt.format(text=\"The DuckDB team is happy to announce the latest DuckDB release (0.9.0).\")"
   ]
  },
  {
   "cell_type": "code",
   "execution_count": 75,
   "id": "10fc6f14-3ab0-4da0-80b1-b9d493e29a78",
   "metadata": {
    "execution": {
     "iopub.execute_input": "2023-09-26T14:34:18.529256Z",
     "iopub.status.busy": "2023-09-26T14:34:18.528958Z",
     "iopub.status.idle": "2023-09-26T14:34:24.416674Z",
     "shell.execute_reply": "2023-09-26T14:34:24.415484Z",
     "shell.execute_reply.started": "2023-09-26T14:34:18.529236Z"
    }
   },
   "outputs": [
    {
     "name": "stdout",
     "output_type": "stream",
     "text": [
      "The sentiment of the given text is positive.\n",
      "The sentiment of the given text is positive.\n",
      "The sentiment of the following text is positive. The use of words like \"happy\" and \"announce\" indicates a positive sentiment. Additionally, the mention of the latest release suggests excitement and satisfaction.\n",
      "CPU times: user 16.7 ms, sys: 5.17 ms, total: 21.8 ms\n",
      "Wall time: 5.88 s\n"
     ]
    }
   ],
   "source": [
    "%%time\n",
    "for _ in range(0,3):\n",
    "  print(turbo.predict(question))"
   ]
  },
  {
   "cell_type": "code",
   "execution_count": 76,
   "id": "5ea06f2e-c76b-4b32-9857-17a59d6028ce",
   "metadata": {
    "execution": {
     "iopub.execute_input": "2023-09-26T14:34:33.697468Z",
     "iopub.status.busy": "2023-09-26T14:34:33.697154Z",
     "iopub.status.idle": "2023-09-26T14:34:34.911316Z",
     "shell.execute_reply": "2023-09-26T14:34:34.909408Z",
     "shell.execute_reply.started": "2023-09-26T14:34:33.697448Z"
    }
   },
   "outputs": [
    {
     "name": "stdout",
     "output_type": "stream",
     "text": [
      "\n",
      "\n",
      "Positive\n",
      "\n",
      "\n",
      "Positive\n",
      "\n",
      "\n",
      "Positive\n",
      "CPU times: user 15.9 ms, sys: 4.64 ms, total: 20.6 ms\n",
      "Wall time: 1.21 s\n"
     ]
    }
   ],
   "source": [
    "%%time\n",
    "for _ in range(0,3):\n",
    "  print(turbo_instruct.predict(question))"
   ]
  },
  {
   "cell_type": "markdown",
   "id": "16a618df-acb2-4714-8656-b600c843b492",
   "metadata": {},
   "source": [
    "## Summarising a Wikipedia page 📄 \n",
    "How well can the models summarise a Wiki page?"
   ]
  },
  {
   "cell_type": "code",
   "execution_count": 77,
   "id": "442c5b96-3809-4ec5-a7f8-3b2351321071",
   "metadata": {
    "execution": {
     "iopub.execute_input": "2023-09-26T14:34:49.063112Z",
     "iopub.status.busy": "2023-09-26T14:34:49.062705Z",
     "iopub.status.idle": "2023-09-26T14:34:49.086551Z",
     "shell.execute_reply": "2023-09-26T14:34:49.075359Z",
     "shell.execute_reply.started": "2023-09-26T14:34:49.063088Z"
    }
   },
   "outputs": [],
   "source": [
    "from langchain.document_loaders import WikipediaLoader"
   ]
  },
  {
   "cell_type": "code",
   "execution_count": 78,
   "id": "c454d85c-5823-439d-808c-94af71bf9aa3",
   "metadata": {
    "execution": {
     "iopub.execute_input": "2023-09-26T14:34:56.512567Z",
     "iopub.status.busy": "2023-09-26T14:34:56.511997Z",
     "iopub.status.idle": "2023-09-26T14:34:58.352398Z",
     "shell.execute_reply": "2023-09-26T14:34:58.349691Z",
     "shell.execute_reply.started": "2023-09-26T14:34:56.512541Z"
    },
    "scrolled": true
   },
   "outputs": [
    {
     "data": {
      "text/plain": [
       "'The Laver Cup is an international indoor hard court men\\'s team tennis tournament between Team Europe and Team World, the latter of which is composed of players from all other continents except Europe. Usually held annually since 2017, the tournament is intended to be the Ryder Cup of the tennis world. It normally takes place two weeks after the US Open, with the location rotating between various host cities (that usually do not have an ATP Tour event); alternating yearly between European cities and cities in the rest of the world. In addition to the guaranteed participation fees which are based upon the players\\' ATP rankings, each member of the winning team gets $250,000 in prize money, but the tournament itself does not count towards the players\\' point totals in the ATP Tour for that year.In May 2019, the Laver Cup became an officially sanctioned ATP Tour event. Matches during the Laver Cup tournament differ from conventional 3-set matches played on the ATP Tour; in the event when the match is tied at one set all, a 10-point “match tiebreak” is played instead of a deciding final set (this is to ensure that all matches conclude within a reasonable timeframe of approximately two hours, whilst enabling four matches to be completed within a match day – that begins either at 1 pm local time for Days 1 and 2, or at 12 noon local time for the final Day 3 of the tournament). In addition, unlike conventional ATP tour matches, coaching of match participants is commonly applied courtside by teammates and team captains.\\n\\n\\n== Format ==\\nThe competition pits six top European players against six of their counterparts from the rest of the world. Each team is led by a team captain, who is a tennis legend.  Three of the six players qualify based on their ATP singles ranking as of the Monday following the French Open in June. Three are \"captain\\'s picks\", announced by the start of the US Open, in August.\\nThere are 12 matches played over three days (nine singles and three doubles). Each match victory on day 1 is worth one point, on day 2 two points, and on day 3 three points. The first team to claim 13 points wins the tournament. Therefore, the winning team can only be decided on day 3.\\nThere are six singles matches on the first two days (3 each day) and all six team players plays one of those matches.  No player plays singles more than twice. At least four of the six team members take part in doubles.  So, one team player (doubles specialist) could play all three doubles matches with three other team players. All matches start as two sets, a 10-point “match tiebreak” is played if the match is level at one set all.\\nIn the event both teams are tied at 12 points each, a fifth match known as “The Decider” is played on day 3, whereby one set is played as a regular set with ad scoring and a tiebreak.\\nIn the event that only one match is required on Sunday (last previous occurrence was at the 2023 Laver Cup), an exhibition match is played following the trophy ceremony.\\n\\n\\n== Tournament schedule ==\\n\\n\\n== History ==\\nThe tournament is named after Australian Rod Laver, a tennis player widely regarded as one of the greatest in the history of the sport (He won all four major titles in the same calendar year, winning the Grand Slam twice in singles, in 1962 and 1969; the latter remains the only time a man has done so in the Open Era.) Roger Federer\\'s management company, TEAM8, Brazilian businessman and former Davis Cup player Jorge Paulo Lemann, and Tennis Australia partnered to create the Laver Cup. Roger Federer was inspired to create a tennis team tournament based on the biennial Ryder Cup golf tournament, which features the best golfers from the United States playing against the best golfers from Europe. However, Laver Cup differs as it is purely an invitational event based on past historical performances; selection of (and the playing agreement with) the tournament participants are not automatically based from the highest ranked players of the recent ATP Tou'"
      ]
     },
     "execution_count": 78,
     "metadata": {},
     "output_type": "execute_result"
    }
   ],
   "source": [
    "docs = WikipediaLoader(query=\"Laver Cup\", load_max_docs=1).load()\n",
    "docs[0].page_content"
   ]
  },
  {
   "cell_type": "code",
   "execution_count": 79,
   "id": "312f443c-c6db-476b-b0d5-5146940d8b77",
   "metadata": {
    "execution": {
     "iopub.execute_input": "2023-09-26T14:35:11.934459Z",
     "iopub.status.busy": "2023-09-26T14:35:11.933697Z",
     "iopub.status.idle": "2023-09-26T14:35:11.950661Z",
     "shell.execute_reply": "2023-09-26T14:35:11.946829Z",
     "shell.execute_reply.started": "2023-09-26T14:35:11.934408Z"
    }
   },
   "outputs": [],
   "source": [
    "prompt = PromptTemplate.from_template(\"Give me 5 interesting things from this text: {text}\")\n",
    "question = prompt.format(text=docs[0].page_content)"
   ]
  },
  {
   "cell_type": "code",
   "execution_count": 80,
   "id": "7c02e6d0-2461-4930-95e9-743e90a59793",
   "metadata": {
    "execution": {
     "iopub.execute_input": "2023-09-26T14:35:16.673284Z",
     "iopub.status.busy": "2023-09-26T14:35:16.672928Z",
     "iopub.status.idle": "2023-09-26T14:35:25.558910Z",
     "shell.execute_reply": "2023-09-26T14:35:25.553033Z",
     "shell.execute_reply.started": "2023-09-26T14:35:16.673262Z"
    }
   },
   "outputs": [
    {
     "name": "stdout",
     "output_type": "stream",
     "text": [
      "1. The Laver Cup is an international indoor hard court men's team tennis tournament that takes place annually since 2017.\n",
      "2. The tournament is intended to be the Ryder Cup of the tennis world, modeled after the biennial golf tournament between the United States and Europe.\n",
      "3. The location of the tournament rotates between various host cities, alternating yearly between European cities and cities in the rest of the world.\n",
      "4. Matches during the Laver Cup tournament differ from conventional 3-set matches played on the ATP Tour, with a 10-point \"match tiebreak\" being played instead of a deciding final set.\n",
      "5. The tournament is named after Australian tennis player Rod Laver, who is considered one of the greatest players in the sport's history and has achieved the Grand Slam twice.\n",
      "CPU times: user 32.7 ms, sys: 4.44 ms, total: 37.2 ms\n",
      "Wall time: 8.87 s\n"
     ]
    }
   ],
   "source": [
    "%%time\n",
    "print(turbo.predict(question))"
   ]
  },
  {
   "cell_type": "code",
   "execution_count": 82,
   "id": "49dfbfeb-a78b-4d13-9228-067e6a9d237a",
   "metadata": {
    "execution": {
     "iopub.execute_input": "2023-09-29T16:41:38.035062Z",
     "iopub.status.busy": "2023-09-29T16:41:38.033696Z",
     "iopub.status.idle": "2023-09-29T16:41:40.169956Z",
     "shell.execute_reply": "2023-09-29T16:41:40.169295Z",
     "shell.execute_reply.started": "2023-09-29T16:41:38.034995Z"
    }
   },
   "outputs": [
    {
     "name": "stdout",
     "output_type": "stream",
     "text": [
      "1. The Laver Cup is named after Australian tennis legend Rod Laver, who is widely regarded as one of the greatest players in the sport's history. \n",
      "2. The tournament is intended to be the equivalent of the Ryder Cup in golf, with the best players from Europe competing against the best players from the rest of the world. \n",
      "3. Matches during the Laver Cup follow a unique format, with a \"match tiebreak\" being played if the match is tied at one set all. \n",
      "4. The winning team receives a prize of $250,000, in addition to guaranteed participation fees based on players' ATP rankings. \n",
      "5. The idea for the Laver Cup was inspired by Roger Federer, and was created in partnership with his management company, a Brazilian businessman, and Tennis Australia.\n",
      "CPU times: user 17.3 ms, sys: 17.7 ms, total: 35 ms\n",
      "Wall time: 2.11 s\n"
     ]
    }
   ],
   "source": [
    "%%time\n",
    "print(turbo_instruct.predict(question))"
   ]
  }
 ],
 "metadata": {
  "kernelspec": {
   "display_name": "Python 3 (ipykernel)",
   "language": "python",
   "name": "python3"
  },
  "language_info": {
   "codemirror_mode": {
    "name": "ipython",
    "version": 3
   },
   "file_extension": ".py",
   "mimetype": "text/x-python",
   "name": "python",
   "nbconvert_exporter": "python",
   "pygments_lexer": "ipython3",
   "version": "3.11.4"
  },
  "widgets": {
   "application/vnd.jupyter.widget-state+json": {
    "state": {},
    "version_major": 2,
    "version_minor": 0
   }
  }
 },
 "nbformat": 4,
 "nbformat_minor": 5
}
