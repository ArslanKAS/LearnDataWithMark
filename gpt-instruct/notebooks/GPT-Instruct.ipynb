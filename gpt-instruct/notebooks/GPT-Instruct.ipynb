{
 "cells": [
  {
   "cell_type": "markdown",
   "id": "9c3ab863-e2db-4956-9714-1ff9b8eb9b1c",
   "metadata": {},
   "source": [
    "# GPT 3.5 Turbo vs GPT 3.5 Turbo Instruct\n",
    "In this notebook, we're going to compare the GPT 3.5 Turbo and GPT 3.5 Turbo Instruct models. The table below describes the differences between the models.\n",
    "\n",
    "|                           | Instruction Following Model                      | Chat Completion Model                      |\n",
    "|---------------------------|-------------------------------------------------|--------------------------------------------|\n",
    "| **Use Cases**             | Task-oriented, Specific commands                | Open-ended conversations, Content generation |\n",
    "| **Advantages**              | \"Summarize this text\", \"Translate this sentence to French\" | \"Tell me a story\", \"What are your thoughts on XYZ?\" |\n",
    "| **Examples**               | Precise output, Easy automation                 | More flexible, Handles ambiguity          |\n",
    "| **Best For**     | Well-defined tasks, Automations                 | Creative or exploratory interactions      |\n",
    "| **API Configuration**                          | Often lower “temperature” setting               | Often higher “temperature setting         |\n"
   ]
  },
  {
   "cell_type": "code",
   "execution_count": 140,
   "id": "80f4757d-d1c4-4ec9-a1eb-b3435a307774",
   "metadata": {
    "collapsed": true,
    "execution": {
     "iopub.execute_input": "2023-09-26T11:26:05.764886Z",
     "iopub.status.busy": "2023-09-26T11:26:05.764572Z",
     "iopub.status.idle": "2023-09-26T11:26:08.284635Z",
     "shell.execute_reply": "2023-09-26T11:26:08.284194Z",
     "shell.execute_reply.started": "2023-09-26T11:26:05.764863Z"
    },
    "jupyter": {
     "outputs_hidden": true
    },
    "scrolled": true
   },
   "outputs": [
    {
     "name": "stdout",
     "output_type": "stream",
     "text": [
      "Requirement already satisfied: unstructured in /Users/markhneedham/Library/Caches/pypoetry/virtualenvs/gpt-instruct-8aiJzCnW-py3.11/lib/python3.11/site-packages (0.10.16)\n",
      "Requirement already satisfied: langchain in /Users/markhneedham/Library/Caches/pypoetry/virtualenvs/gpt-instruct-8aiJzCnW-py3.11/lib/python3.11/site-packages (0.0.297)\n",
      "Requirement already satisfied: openai in /Users/markhneedham/Library/Caches/pypoetry/virtualenvs/gpt-instruct-8aiJzCnW-py3.11/lib/python3.11/site-packages (0.28.0)\n",
      "Requirement already satisfied: python-dotenv in /Users/markhneedham/Library/Caches/pypoetry/virtualenvs/gpt-instruct-8aiJzCnW-py3.11/lib/python3.11/site-packages (1.0.0)\n",
      "Collecting wikipedia\n",
      "  Downloading wikipedia-1.4.0.tar.gz (27 kB)\n",
      "  Preparing metadata (setup.py) ... \u001b[?25ldone\n",
      "\u001b[?25hRequirement already satisfied: chardet in /Users/markhneedham/Library/Caches/pypoetry/virtualenvs/gpt-instruct-8aiJzCnW-py3.11/lib/python3.11/site-packages (from unstructured) (5.2.0)\n",
      "Requirement already satisfied: filetype in /Users/markhneedham/Library/Caches/pypoetry/virtualenvs/gpt-instruct-8aiJzCnW-py3.11/lib/python3.11/site-packages (from unstructured) (1.2.0)\n",
      "Requirement already satisfied: python-magic in /Users/markhneedham/Library/Caches/pypoetry/virtualenvs/gpt-instruct-8aiJzCnW-py3.11/lib/python3.11/site-packages (from unstructured) (0.4.27)\n",
      "Requirement already satisfied: lxml in /Users/markhneedham/Library/Caches/pypoetry/virtualenvs/gpt-instruct-8aiJzCnW-py3.11/lib/python3.11/site-packages (from unstructured) (4.9.3)\n",
      "Requirement already satisfied: nltk in /Users/markhneedham/Library/Caches/pypoetry/virtualenvs/gpt-instruct-8aiJzCnW-py3.11/lib/python3.11/site-packages (from unstructured) (3.8.1)\n",
      "Requirement already satisfied: tabulate in /Users/markhneedham/Library/Caches/pypoetry/virtualenvs/gpt-instruct-8aiJzCnW-py3.11/lib/python3.11/site-packages (from unstructured) (0.9.0)\n",
      "Requirement already satisfied: requests in /Users/markhneedham/Library/Caches/pypoetry/virtualenvs/gpt-instruct-8aiJzCnW-py3.11/lib/python3.11/site-packages (from unstructured) (2.31.0)\n",
      "Requirement already satisfied: beautifulsoup4 in /Users/markhneedham/Library/Caches/pypoetry/virtualenvs/gpt-instruct-8aiJzCnW-py3.11/lib/python3.11/site-packages (from unstructured) (4.12.2)\n",
      "Requirement already satisfied: emoji in /Users/markhneedham/Library/Caches/pypoetry/virtualenvs/gpt-instruct-8aiJzCnW-py3.11/lib/python3.11/site-packages (from unstructured) (2.8.0)\n",
      "Requirement already satisfied: dataclasses-json in /Users/markhneedham/Library/Caches/pypoetry/virtualenvs/gpt-instruct-8aiJzCnW-py3.11/lib/python3.11/site-packages (from unstructured) (0.6.0)\n",
      "Requirement already satisfied: python-iso639 in /Users/markhneedham/Library/Caches/pypoetry/virtualenvs/gpt-instruct-8aiJzCnW-py3.11/lib/python3.11/site-packages (from unstructured) (2023.6.15)\n",
      "Requirement already satisfied: PyYAML>=5.3 in /Users/markhneedham/Library/Caches/pypoetry/virtualenvs/gpt-instruct-8aiJzCnW-py3.11/lib/python3.11/site-packages (from langchain) (6.0.1)\n",
      "Requirement already satisfied: SQLAlchemy<3,>=1.4 in /Users/markhneedham/Library/Caches/pypoetry/virtualenvs/gpt-instruct-8aiJzCnW-py3.11/lib/python3.11/site-packages (from langchain) (2.0.21)\n",
      "Requirement already satisfied: aiohttp<4.0.0,>=3.8.3 in /Users/markhneedham/Library/Caches/pypoetry/virtualenvs/gpt-instruct-8aiJzCnW-py3.11/lib/python3.11/site-packages (from langchain) (3.8.5)\n",
      "Requirement already satisfied: langsmith<0.1.0,>=0.0.38 in /Users/markhneedham/Library/Caches/pypoetry/virtualenvs/gpt-instruct-8aiJzCnW-py3.11/lib/python3.11/site-packages (from langchain) (0.0.39)\n",
      "Requirement already satisfied: numexpr<3.0.0,>=2.8.4 in /Users/markhneedham/Library/Caches/pypoetry/virtualenvs/gpt-instruct-8aiJzCnW-py3.11/lib/python3.11/site-packages (from langchain) (2.8.6)\n",
      "Requirement already satisfied: numpy<2,>=1 in /Users/markhneedham/Library/Caches/pypoetry/virtualenvs/gpt-instruct-8aiJzCnW-py3.11/lib/python3.11/site-packages (from langchain) (1.26.0)\n",
      "Requirement already satisfied: pydantic<3,>=1 in /Users/markhneedham/Library/Caches/pypoetry/virtualenvs/gpt-instruct-8aiJzCnW-py3.11/lib/python3.11/site-packages (from langchain) (2.3.0)\n",
      "Requirement already satisfied: tenacity<9.0.0,>=8.1.0 in /Users/markhneedham/Library/Caches/pypoetry/virtualenvs/gpt-instruct-8aiJzCnW-py3.11/lib/python3.11/site-packages (from langchain) (8.2.3)\n",
      "Requirement already satisfied: tqdm in /Users/markhneedham/Library/Caches/pypoetry/virtualenvs/gpt-instruct-8aiJzCnW-py3.11/lib/python3.11/site-packages (from openai) (4.66.1)\n",
      "Requirement already satisfied: attrs>=17.3.0 in /Users/markhneedham/Library/Caches/pypoetry/virtualenvs/gpt-instruct-8aiJzCnW-py3.11/lib/python3.11/site-packages (from aiohttp<4.0.0,>=3.8.3->langchain) (23.1.0)\n",
      "Requirement already satisfied: charset-normalizer<4.0,>=2.0 in /Users/markhneedham/Library/Caches/pypoetry/virtualenvs/gpt-instruct-8aiJzCnW-py3.11/lib/python3.11/site-packages (from aiohttp<4.0.0,>=3.8.3->langchain) (3.2.0)\n",
      "Requirement already satisfied: multidict<7.0,>=4.5 in /Users/markhneedham/Library/Caches/pypoetry/virtualenvs/gpt-instruct-8aiJzCnW-py3.11/lib/python3.11/site-packages (from aiohttp<4.0.0,>=3.8.3->langchain) (6.0.4)\n",
      "Requirement already satisfied: async-timeout<5.0,>=4.0.0a3 in /Users/markhneedham/Library/Caches/pypoetry/virtualenvs/gpt-instruct-8aiJzCnW-py3.11/lib/python3.11/site-packages (from aiohttp<4.0.0,>=3.8.3->langchain) (4.0.3)\n",
      "Requirement already satisfied: yarl<2.0,>=1.0 in /Users/markhneedham/Library/Caches/pypoetry/virtualenvs/gpt-instruct-8aiJzCnW-py3.11/lib/python3.11/site-packages (from aiohttp<4.0.0,>=3.8.3->langchain) (1.9.2)\n",
      "Requirement already satisfied: frozenlist>=1.1.1 in /Users/markhneedham/Library/Caches/pypoetry/virtualenvs/gpt-instruct-8aiJzCnW-py3.11/lib/python3.11/site-packages (from aiohttp<4.0.0,>=3.8.3->langchain) (1.4.0)\n",
      "Requirement already satisfied: aiosignal>=1.1.2 in /Users/markhneedham/Library/Caches/pypoetry/virtualenvs/gpt-instruct-8aiJzCnW-py3.11/lib/python3.11/site-packages (from aiohttp<4.0.0,>=3.8.3->langchain) (1.3.1)\n",
      "Requirement already satisfied: marshmallow<4.0.0,>=3.18.0 in /Users/markhneedham/Library/Caches/pypoetry/virtualenvs/gpt-instruct-8aiJzCnW-py3.11/lib/python3.11/site-packages (from dataclasses-json->unstructured) (3.20.1)\n",
      "Requirement already satisfied: typing-inspect<1,>=0.4.0 in /Users/markhneedham/Library/Caches/pypoetry/virtualenvs/gpt-instruct-8aiJzCnW-py3.11/lib/python3.11/site-packages (from dataclasses-json->unstructured) (0.9.0)\n",
      "Requirement already satisfied: annotated-types>=0.4.0 in /Users/markhneedham/Library/Caches/pypoetry/virtualenvs/gpt-instruct-8aiJzCnW-py3.11/lib/python3.11/site-packages (from pydantic<3,>=1->langchain) (0.5.0)\n",
      "Requirement already satisfied: pydantic-core==2.6.3 in /Users/markhneedham/Library/Caches/pypoetry/virtualenvs/gpt-instruct-8aiJzCnW-py3.11/lib/python3.11/site-packages (from pydantic<3,>=1->langchain) (2.6.3)\n",
      "Requirement already satisfied: typing-extensions>=4.6.1 in /Users/markhneedham/Library/Caches/pypoetry/virtualenvs/gpt-instruct-8aiJzCnW-py3.11/lib/python3.11/site-packages (from pydantic<3,>=1->langchain) (4.8.0)\n",
      "Requirement already satisfied: idna<4,>=2.5 in /Users/markhneedham/Library/Caches/pypoetry/virtualenvs/gpt-instruct-8aiJzCnW-py3.11/lib/python3.11/site-packages (from requests->unstructured) (3.4)\n",
      "Requirement already satisfied: urllib3<3,>=1.21.1 in /Users/markhneedham/Library/Caches/pypoetry/virtualenvs/gpt-instruct-8aiJzCnW-py3.11/lib/python3.11/site-packages (from requests->unstructured) (2.0.5)\n",
      "Requirement already satisfied: certifi>=2017.4.17 in /Users/markhneedham/Library/Caches/pypoetry/virtualenvs/gpt-instruct-8aiJzCnW-py3.11/lib/python3.11/site-packages (from requests->unstructured) (2023.7.22)\n",
      "Requirement already satisfied: soupsieve>1.2 in /Users/markhneedham/Library/Caches/pypoetry/virtualenvs/gpt-instruct-8aiJzCnW-py3.11/lib/python3.11/site-packages (from beautifulsoup4->unstructured) (2.5)\n",
      "Requirement already satisfied: click in /Users/markhneedham/Library/Caches/pypoetry/virtualenvs/gpt-instruct-8aiJzCnW-py3.11/lib/python3.11/site-packages (from nltk->unstructured) (8.1.7)\n",
      "Requirement already satisfied: joblib in /Users/markhneedham/Library/Caches/pypoetry/virtualenvs/gpt-instruct-8aiJzCnW-py3.11/lib/python3.11/site-packages (from nltk->unstructured) (1.3.2)\n",
      "Requirement already satisfied: regex>=2021.8.3 in /Users/markhneedham/Library/Caches/pypoetry/virtualenvs/gpt-instruct-8aiJzCnW-py3.11/lib/python3.11/site-packages (from nltk->unstructured) (2023.8.8)\n",
      "Requirement already satisfied: packaging>=17.0 in /Users/markhneedham/Library/Caches/pypoetry/virtualenvs/gpt-instruct-8aiJzCnW-py3.11/lib/python3.11/site-packages (from marshmallow<4.0.0,>=3.18.0->dataclasses-json->unstructured) (23.1)\n",
      "Requirement already satisfied: mypy-extensions>=0.3.0 in /Users/markhneedham/Library/Caches/pypoetry/virtualenvs/gpt-instruct-8aiJzCnW-py3.11/lib/python3.11/site-packages (from typing-inspect<1,>=0.4.0->dataclasses-json->unstructured) (1.0.0)\n",
      "Building wheels for collected packages: wikipedia\n",
      "  Building wheel for wikipedia (setup.py) ... \u001b[?25ldone\n",
      "\u001b[?25h  Created wheel for wikipedia: filename=wikipedia-1.4.0-py3-none-any.whl size=11680 sha256=c52f982a7a7536ef82e43600f775e78b69a6c6308799aa0e0b2806ba3a746d88\n",
      "  Stored in directory: /Users/markhneedham/Library/Caches/pip/wheels/8f/ab/cb/45ccc40522d3a1c41e1d2ad53b8f33a62f394011ec38cd71c6\n",
      "Successfully built wikipedia\n",
      "Installing collected packages: wikipedia\n",
      "Successfully installed wikipedia-1.4.0\n"
     ]
    }
   ],
   "source": [
    "!pip install unstructured langchain openai python-dotenv wikipedia"
   ]
  },
  {
   "cell_type": "markdown",
   "id": "4ca74b76-2f55-45cc-a435-9a2a03dc3542",
   "metadata": {},
   "source": [
    "## Configuring the LLMs ⚙️\n",
    "First, let's setup our models"
   ]
  },
  {
   "cell_type": "code",
   "execution_count": 11,
   "id": "05039562-2818-4670-a0f5-86f515cdf213",
   "metadata": {
    "execution": {
     "iopub.execute_input": "2023-09-26T13:19:32.906866Z",
     "iopub.status.busy": "2023-09-26T13:19:32.906117Z",
     "iopub.status.idle": "2023-09-26T13:19:32.920025Z",
     "shell.execute_reply": "2023-09-26T13:19:32.917594Z",
     "shell.execute_reply.started": "2023-09-26T13:19:32.906829Z"
    }
   },
   "outputs": [
    {
     "data": {
      "text/plain": [
       "True"
      ]
     },
     "execution_count": 11,
     "metadata": {},
     "output_type": "execute_result"
    }
   ],
   "source": [
    "import dotenv\n",
    "dotenv.load_dotenv()"
   ]
  },
  {
   "cell_type": "code",
   "execution_count": 12,
   "id": "1278b0c7-1e38-41a2-81d6-2438bc95c5ca",
   "metadata": {
    "execution": {
     "iopub.execute_input": "2023-09-26T13:19:34.860482Z",
     "iopub.status.busy": "2023-09-26T13:19:34.859337Z",
     "iopub.status.idle": "2023-09-26T13:19:34.867745Z",
     "shell.execute_reply": "2023-09-26T13:19:34.867089Z",
     "shell.execute_reply.started": "2023-09-26T13:19:34.860325Z"
    }
   },
   "outputs": [],
   "source": [
    "from langchain.chat_models import ChatOpenAI\n",
    "turbo = ChatOpenAI(model_name=\"gpt-3.5-turbo\")"
   ]
  },
  {
   "cell_type": "code",
   "execution_count": 13,
   "id": "51ea351b-8a28-49fa-a445-8e19d66e7f8f",
   "metadata": {
    "execution": {
     "iopub.execute_input": "2023-09-26T13:19:36.152873Z",
     "iopub.status.busy": "2023-09-26T13:19:36.152393Z",
     "iopub.status.idle": "2023-09-26T13:19:36.158091Z",
     "shell.execute_reply": "2023-09-26T13:19:36.157292Z",
     "shell.execute_reply.started": "2023-09-26T13:19:36.152846Z"
    }
   },
   "outputs": [],
   "source": [
    "from langchain.llms import OpenAI\n",
    "turbo_instruct = OpenAI(model_name=\"gpt-3.5-turbo-instruct\")"
   ]
  },
  {
   "cell_type": "markdown",
   "id": "43cd7264-7658-45b2-b555-051a466bfa0c",
   "metadata": {
    "execution": {
     "iopub.execute_input": "2023-09-26T05:57:51.533466Z",
     "iopub.status.busy": "2023-09-26T05:57:51.532527Z",
     "iopub.status.idle": "2023-09-26T05:57:51.538511Z",
     "shell.execute_reply": "2023-09-26T05:57:51.536695Z",
     "shell.execute_reply.started": "2023-09-26T05:57:51.533436Z"
    }
   },
   "source": [
    "## Answering factual questions 🤓\n",
    "First up, how do they answer a factual question?"
   ]
  },
  {
   "cell_type": "code",
   "execution_count": 4,
   "id": "f2ef68e8-9ce3-46ff-bf4d-841a236ff0d3",
   "metadata": {
    "execution": {
     "iopub.execute_input": "2023-09-26T13:18:08.852966Z",
     "iopub.status.busy": "2023-09-26T13:18:08.852240Z",
     "iopub.status.idle": "2023-09-26T13:18:08.863499Z",
     "shell.execute_reply": "2023-09-26T13:18:08.861248Z",
     "shell.execute_reply.started": "2023-09-26T13:18:08.852933Z"
    }
   },
   "outputs": [],
   "source": [
    "question = \"Did Microsoft acquire OpenAI?\""
   ]
  },
  {
   "cell_type": "code",
   "execution_count": 14,
   "id": "ebdcda6f-149f-4839-b991-f26596fb1623",
   "metadata": {
    "execution": {
     "iopub.execute_input": "2023-09-26T13:19:37.724269Z",
     "iopub.status.busy": "2023-09-26T13:19:37.723882Z",
     "iopub.status.idle": "2023-09-26T13:19:37.976508Z",
     "shell.execute_reply": "2023-09-26T13:19:37.975970Z",
     "shell.execute_reply.started": "2023-09-26T13:19:37.724247Z"
    }
   },
   "outputs": [
    {
     "ename": "AuthenticationError",
     "evalue": "Incorrect API key provided: sk-kYWxL****************************************kX8i. You can find your API key at https://platform.openai.com/account/api-keys.",
     "output_type": "error",
     "traceback": [
      "\u001b[0;31m---------------------------------------------------------------------------\u001b[0m",
      "\u001b[0;31mAuthenticationError\u001b[0m                       Traceback (most recent call last)",
      "Cell \u001b[0;32mIn[14], line 1\u001b[0m\n\u001b[0;32m----> 1\u001b[0m \u001b[38;5;28mprint\u001b[39m(\u001b[43mturbo\u001b[49m\u001b[38;5;241;43m.\u001b[39;49m\u001b[43mpredict\u001b[49m\u001b[43m(\u001b[49m\u001b[43mquestion\u001b[49m\u001b[43m)\u001b[49m)\n",
      "File \u001b[0;32m~/Library/Caches/pypoetry/virtualenvs/gpt-instruct-8aiJzCnW-py3.11/lib/python3.11/site-packages/langchain/chat_models/base.py:611\u001b[0m, in \u001b[0;36mBaseChatModel.predict\u001b[0;34m(self, text, stop, **kwargs)\u001b[0m\n\u001b[1;32m    609\u001b[0m \u001b[38;5;28;01melse\u001b[39;00m:\n\u001b[1;32m    610\u001b[0m     _stop \u001b[38;5;241m=\u001b[39m \u001b[38;5;28mlist\u001b[39m(stop)\n\u001b[0;32m--> 611\u001b[0m result \u001b[38;5;241m=\u001b[39m \u001b[38;5;28;43mself\u001b[39;49m\u001b[43m(\u001b[49m\u001b[43m[\u001b[49m\u001b[43mHumanMessage\u001b[49m\u001b[43m(\u001b[49m\u001b[43mcontent\u001b[49m\u001b[38;5;241;43m=\u001b[39;49m\u001b[43mtext\u001b[49m\u001b[43m)\u001b[49m\u001b[43m]\u001b[49m\u001b[43m,\u001b[49m\u001b[43m \u001b[49m\u001b[43mstop\u001b[49m\u001b[38;5;241;43m=\u001b[39;49m\u001b[43m_stop\u001b[49m\u001b[43m,\u001b[49m\u001b[43m \u001b[49m\u001b[38;5;241;43m*\u001b[39;49m\u001b[38;5;241;43m*\u001b[39;49m\u001b[43mkwargs\u001b[49m\u001b[43m)\u001b[49m\n\u001b[1;32m    612\u001b[0m \u001b[38;5;28;01mreturn\u001b[39;00m result\u001b[38;5;241m.\u001b[39mcontent\n",
      "File \u001b[0;32m~/Library/Caches/pypoetry/virtualenvs/gpt-instruct-8aiJzCnW-py3.11/lib/python3.11/site-packages/langchain/chat_models/base.py:575\u001b[0m, in \u001b[0;36mBaseChatModel.__call__\u001b[0;34m(self, messages, stop, callbacks, **kwargs)\u001b[0m\n\u001b[1;32m    568\u001b[0m \u001b[38;5;28;01mdef\u001b[39;00m \u001b[38;5;21m__call__\u001b[39m(\n\u001b[1;32m    569\u001b[0m     \u001b[38;5;28mself\u001b[39m,\n\u001b[1;32m    570\u001b[0m     messages: List[BaseMessage],\n\u001b[0;32m   (...)\u001b[0m\n\u001b[1;32m    573\u001b[0m     \u001b[38;5;241m*\u001b[39m\u001b[38;5;241m*\u001b[39mkwargs: Any,\n\u001b[1;32m    574\u001b[0m ) \u001b[38;5;241m-\u001b[39m\u001b[38;5;241m>\u001b[39m BaseMessage:\n\u001b[0;32m--> 575\u001b[0m     generation \u001b[38;5;241m=\u001b[39m \u001b[38;5;28;43mself\u001b[39;49m\u001b[38;5;241;43m.\u001b[39;49m\u001b[43mgenerate\u001b[49m\u001b[43m(\u001b[49m\n\u001b[1;32m    576\u001b[0m \u001b[43m        \u001b[49m\u001b[43m[\u001b[49m\u001b[43mmessages\u001b[49m\u001b[43m]\u001b[49m\u001b[43m,\u001b[49m\u001b[43m \u001b[49m\u001b[43mstop\u001b[49m\u001b[38;5;241;43m=\u001b[39;49m\u001b[43mstop\u001b[49m\u001b[43m,\u001b[49m\u001b[43m \u001b[49m\u001b[43mcallbacks\u001b[49m\u001b[38;5;241;43m=\u001b[39;49m\u001b[43mcallbacks\u001b[49m\u001b[43m,\u001b[49m\u001b[43m \u001b[49m\u001b[38;5;241;43m*\u001b[39;49m\u001b[38;5;241;43m*\u001b[39;49m\u001b[43mkwargs\u001b[49m\n\u001b[1;32m    577\u001b[0m \u001b[43m    \u001b[49m\u001b[43m)\u001b[49m\u001b[38;5;241m.\u001b[39mgenerations[\u001b[38;5;241m0\u001b[39m][\u001b[38;5;241m0\u001b[39m]\n\u001b[1;32m    578\u001b[0m     \u001b[38;5;28;01mif\u001b[39;00m \u001b[38;5;28misinstance\u001b[39m(generation, ChatGeneration):\n\u001b[1;32m    579\u001b[0m         \u001b[38;5;28;01mreturn\u001b[39;00m generation\u001b[38;5;241m.\u001b[39mmessage\n",
      "File \u001b[0;32m~/Library/Caches/pypoetry/virtualenvs/gpt-instruct-8aiJzCnW-py3.11/lib/python3.11/site-packages/langchain/chat_models/base.py:333\u001b[0m, in \u001b[0;36mBaseChatModel.generate\u001b[0;34m(self, messages, stop, callbacks, tags, metadata, **kwargs)\u001b[0m\n\u001b[1;32m    331\u001b[0m         \u001b[38;5;28;01mif\u001b[39;00m run_managers:\n\u001b[1;32m    332\u001b[0m             run_managers[i]\u001b[38;5;241m.\u001b[39mon_llm_error(e)\n\u001b[0;32m--> 333\u001b[0m         \u001b[38;5;28;01mraise\u001b[39;00m e\n\u001b[1;32m    334\u001b[0m flattened_outputs \u001b[38;5;241m=\u001b[39m [\n\u001b[1;32m    335\u001b[0m     LLMResult(generations\u001b[38;5;241m=\u001b[39m[res\u001b[38;5;241m.\u001b[39mgenerations], llm_output\u001b[38;5;241m=\u001b[39mres\u001b[38;5;241m.\u001b[39mllm_output)\n\u001b[1;32m    336\u001b[0m     \u001b[38;5;28;01mfor\u001b[39;00m res \u001b[38;5;129;01min\u001b[39;00m results\n\u001b[1;32m    337\u001b[0m ]\n\u001b[1;32m    338\u001b[0m llm_output \u001b[38;5;241m=\u001b[39m \u001b[38;5;28mself\u001b[39m\u001b[38;5;241m.\u001b[39m_combine_llm_outputs([res\u001b[38;5;241m.\u001b[39mllm_output \u001b[38;5;28;01mfor\u001b[39;00m res \u001b[38;5;129;01min\u001b[39;00m results])\n",
      "File \u001b[0;32m~/Library/Caches/pypoetry/virtualenvs/gpt-instruct-8aiJzCnW-py3.11/lib/python3.11/site-packages/langchain/chat_models/base.py:323\u001b[0m, in \u001b[0;36mBaseChatModel.generate\u001b[0;34m(self, messages, stop, callbacks, tags, metadata, **kwargs)\u001b[0m\n\u001b[1;32m    320\u001b[0m \u001b[38;5;28;01mfor\u001b[39;00m i, m \u001b[38;5;129;01min\u001b[39;00m \u001b[38;5;28menumerate\u001b[39m(messages):\n\u001b[1;32m    321\u001b[0m     \u001b[38;5;28;01mtry\u001b[39;00m:\n\u001b[1;32m    322\u001b[0m         results\u001b[38;5;241m.\u001b[39mappend(\n\u001b[0;32m--> 323\u001b[0m             \u001b[38;5;28;43mself\u001b[39;49m\u001b[38;5;241;43m.\u001b[39;49m\u001b[43m_generate_with_cache\u001b[49m\u001b[43m(\u001b[49m\n\u001b[1;32m    324\u001b[0m \u001b[43m                \u001b[49m\u001b[43mm\u001b[49m\u001b[43m,\u001b[49m\n\u001b[1;32m    325\u001b[0m \u001b[43m                \u001b[49m\u001b[43mstop\u001b[49m\u001b[38;5;241;43m=\u001b[39;49m\u001b[43mstop\u001b[49m\u001b[43m,\u001b[49m\n\u001b[1;32m    326\u001b[0m \u001b[43m                \u001b[49m\u001b[43mrun_manager\u001b[49m\u001b[38;5;241;43m=\u001b[39;49m\u001b[43mrun_managers\u001b[49m\u001b[43m[\u001b[49m\u001b[43mi\u001b[49m\u001b[43m]\u001b[49m\u001b[43m \u001b[49m\u001b[38;5;28;43;01mif\u001b[39;49;00m\u001b[43m \u001b[49m\u001b[43mrun_managers\u001b[49m\u001b[43m \u001b[49m\u001b[38;5;28;43;01melse\u001b[39;49;00m\u001b[43m \u001b[49m\u001b[38;5;28;43;01mNone\u001b[39;49;00m\u001b[43m,\u001b[49m\n\u001b[1;32m    327\u001b[0m \u001b[43m                \u001b[49m\u001b[38;5;241;43m*\u001b[39;49m\u001b[38;5;241;43m*\u001b[39;49m\u001b[43mkwargs\u001b[49m\u001b[43m,\u001b[49m\n\u001b[1;32m    328\u001b[0m \u001b[43m            \u001b[49m\u001b[43m)\u001b[49m\n\u001b[1;32m    329\u001b[0m         )\n\u001b[1;32m    330\u001b[0m     \u001b[38;5;28;01mexcept\u001b[39;00m \u001b[38;5;167;01mBaseException\u001b[39;00m \u001b[38;5;28;01mas\u001b[39;00m e:\n\u001b[1;32m    331\u001b[0m         \u001b[38;5;28;01mif\u001b[39;00m run_managers:\n",
      "File \u001b[0;32m~/Library/Caches/pypoetry/virtualenvs/gpt-instruct-8aiJzCnW-py3.11/lib/python3.11/site-packages/langchain/chat_models/base.py:470\u001b[0m, in \u001b[0;36mBaseChatModel._generate_with_cache\u001b[0;34m(self, messages, stop, run_manager, **kwargs)\u001b[0m\n\u001b[1;32m    466\u001b[0m     \u001b[38;5;28;01mraise\u001b[39;00m \u001b[38;5;167;01mValueError\u001b[39;00m(\n\u001b[1;32m    467\u001b[0m         \u001b[38;5;124m\"\u001b[39m\u001b[38;5;124mAsked to cache, but no cache found at `langchain.cache`.\u001b[39m\u001b[38;5;124m\"\u001b[39m\n\u001b[1;32m    468\u001b[0m     )\n\u001b[1;32m    469\u001b[0m \u001b[38;5;28;01mif\u001b[39;00m new_arg_supported:\n\u001b[0;32m--> 470\u001b[0m     \u001b[38;5;28;01mreturn\u001b[39;00m \u001b[38;5;28;43mself\u001b[39;49m\u001b[38;5;241;43m.\u001b[39;49m\u001b[43m_generate\u001b[49m\u001b[43m(\u001b[49m\n\u001b[1;32m    471\u001b[0m \u001b[43m        \u001b[49m\u001b[43mmessages\u001b[49m\u001b[43m,\u001b[49m\u001b[43m \u001b[49m\u001b[43mstop\u001b[49m\u001b[38;5;241;43m=\u001b[39;49m\u001b[43mstop\u001b[49m\u001b[43m,\u001b[49m\u001b[43m \u001b[49m\u001b[43mrun_manager\u001b[49m\u001b[38;5;241;43m=\u001b[39;49m\u001b[43mrun_manager\u001b[49m\u001b[43m,\u001b[49m\u001b[43m \u001b[49m\u001b[38;5;241;43m*\u001b[39;49m\u001b[38;5;241;43m*\u001b[39;49m\u001b[43mkwargs\u001b[49m\n\u001b[1;32m    472\u001b[0m \u001b[43m    \u001b[49m\u001b[43m)\u001b[49m\n\u001b[1;32m    473\u001b[0m \u001b[38;5;28;01melse\u001b[39;00m:\n\u001b[1;32m    474\u001b[0m     \u001b[38;5;28;01mreturn\u001b[39;00m \u001b[38;5;28mself\u001b[39m\u001b[38;5;241m.\u001b[39m_generate(messages, stop\u001b[38;5;241m=\u001b[39mstop, \u001b[38;5;241m*\u001b[39m\u001b[38;5;241m*\u001b[39mkwargs)\n",
      "File \u001b[0;32m~/Library/Caches/pypoetry/virtualenvs/gpt-instruct-8aiJzCnW-py3.11/lib/python3.11/site-packages/langchain/chat_models/openai.py:343\u001b[0m, in \u001b[0;36mChatOpenAI._generate\u001b[0;34m(self, messages, stop, run_manager, stream, **kwargs)\u001b[0m\n\u001b[1;32m    341\u001b[0m message_dicts, params \u001b[38;5;241m=\u001b[39m \u001b[38;5;28mself\u001b[39m\u001b[38;5;241m.\u001b[39m_create_message_dicts(messages, stop)\n\u001b[1;32m    342\u001b[0m params \u001b[38;5;241m=\u001b[39m {\u001b[38;5;241m*\u001b[39m\u001b[38;5;241m*\u001b[39mparams, \u001b[38;5;241m*\u001b[39m\u001b[38;5;241m*\u001b[39mkwargs}\n\u001b[0;32m--> 343\u001b[0m response \u001b[38;5;241m=\u001b[39m \u001b[38;5;28;43mself\u001b[39;49m\u001b[38;5;241;43m.\u001b[39;49m\u001b[43mcompletion_with_retry\u001b[49m\u001b[43m(\u001b[49m\n\u001b[1;32m    344\u001b[0m \u001b[43m    \u001b[49m\u001b[43mmessages\u001b[49m\u001b[38;5;241;43m=\u001b[39;49m\u001b[43mmessage_dicts\u001b[49m\u001b[43m,\u001b[49m\u001b[43m \u001b[49m\u001b[43mrun_manager\u001b[49m\u001b[38;5;241;43m=\u001b[39;49m\u001b[43mrun_manager\u001b[49m\u001b[43m,\u001b[49m\u001b[43m \u001b[49m\u001b[38;5;241;43m*\u001b[39;49m\u001b[38;5;241;43m*\u001b[39;49m\u001b[43mparams\u001b[49m\n\u001b[1;32m    345\u001b[0m \u001b[43m\u001b[49m\u001b[43m)\u001b[49m\n\u001b[1;32m    346\u001b[0m \u001b[38;5;28;01mreturn\u001b[39;00m \u001b[38;5;28mself\u001b[39m\u001b[38;5;241m.\u001b[39m_create_chat_result(response)\n",
      "File \u001b[0;32m~/Library/Caches/pypoetry/virtualenvs/gpt-instruct-8aiJzCnW-py3.11/lib/python3.11/site-packages/langchain/chat_models/openai.py:282\u001b[0m, in \u001b[0;36mChatOpenAI.completion_with_retry\u001b[0;34m(self, run_manager, **kwargs)\u001b[0m\n\u001b[1;32m    278\u001b[0m \u001b[38;5;129m@retry_decorator\u001b[39m\n\u001b[1;32m    279\u001b[0m \u001b[38;5;28;01mdef\u001b[39;00m \u001b[38;5;21m_completion_with_retry\u001b[39m(\u001b[38;5;241m*\u001b[39m\u001b[38;5;241m*\u001b[39mkwargs: Any) \u001b[38;5;241m-\u001b[39m\u001b[38;5;241m>\u001b[39m Any:\n\u001b[1;32m    280\u001b[0m     \u001b[38;5;28;01mreturn\u001b[39;00m \u001b[38;5;28mself\u001b[39m\u001b[38;5;241m.\u001b[39mclient\u001b[38;5;241m.\u001b[39mcreate(\u001b[38;5;241m*\u001b[39m\u001b[38;5;241m*\u001b[39mkwargs)\n\u001b[0;32m--> 282\u001b[0m \u001b[38;5;28;01mreturn\u001b[39;00m \u001b[43m_completion_with_retry\u001b[49m\u001b[43m(\u001b[49m\u001b[38;5;241;43m*\u001b[39;49m\u001b[38;5;241;43m*\u001b[39;49m\u001b[43mkwargs\u001b[49m\u001b[43m)\u001b[49m\n",
      "File \u001b[0;32m~/Library/Caches/pypoetry/virtualenvs/gpt-instruct-8aiJzCnW-py3.11/lib/python3.11/site-packages/tenacity/__init__.py:289\u001b[0m, in \u001b[0;36mBaseRetrying.wraps.<locals>.wrapped_f\u001b[0;34m(*args, **kw)\u001b[0m\n\u001b[1;32m    287\u001b[0m \u001b[38;5;129m@functools\u001b[39m\u001b[38;5;241m.\u001b[39mwraps(f)\n\u001b[1;32m    288\u001b[0m \u001b[38;5;28;01mdef\u001b[39;00m \u001b[38;5;21mwrapped_f\u001b[39m(\u001b[38;5;241m*\u001b[39margs: t\u001b[38;5;241m.\u001b[39mAny, \u001b[38;5;241m*\u001b[39m\u001b[38;5;241m*\u001b[39mkw: t\u001b[38;5;241m.\u001b[39mAny) \u001b[38;5;241m-\u001b[39m\u001b[38;5;241m>\u001b[39m t\u001b[38;5;241m.\u001b[39mAny:\n\u001b[0;32m--> 289\u001b[0m     \u001b[38;5;28;01mreturn\u001b[39;00m \u001b[38;5;28;43mself\u001b[39;49m\u001b[43m(\u001b[49m\u001b[43mf\u001b[49m\u001b[43m,\u001b[49m\u001b[43m \u001b[49m\u001b[38;5;241;43m*\u001b[39;49m\u001b[43margs\u001b[49m\u001b[43m,\u001b[49m\u001b[43m \u001b[49m\u001b[38;5;241;43m*\u001b[39;49m\u001b[38;5;241;43m*\u001b[39;49m\u001b[43mkw\u001b[49m\u001b[43m)\u001b[49m\n",
      "File \u001b[0;32m~/Library/Caches/pypoetry/virtualenvs/gpt-instruct-8aiJzCnW-py3.11/lib/python3.11/site-packages/tenacity/__init__.py:379\u001b[0m, in \u001b[0;36mRetrying.__call__\u001b[0;34m(self, fn, *args, **kwargs)\u001b[0m\n\u001b[1;32m    377\u001b[0m retry_state \u001b[38;5;241m=\u001b[39m RetryCallState(retry_object\u001b[38;5;241m=\u001b[39m\u001b[38;5;28mself\u001b[39m, fn\u001b[38;5;241m=\u001b[39mfn, args\u001b[38;5;241m=\u001b[39margs, kwargs\u001b[38;5;241m=\u001b[39mkwargs)\n\u001b[1;32m    378\u001b[0m \u001b[38;5;28;01mwhile\u001b[39;00m \u001b[38;5;28;01mTrue\u001b[39;00m:\n\u001b[0;32m--> 379\u001b[0m     do \u001b[38;5;241m=\u001b[39m \u001b[38;5;28;43mself\u001b[39;49m\u001b[38;5;241;43m.\u001b[39;49m\u001b[43miter\u001b[49m\u001b[43m(\u001b[49m\u001b[43mretry_state\u001b[49m\u001b[38;5;241;43m=\u001b[39;49m\u001b[43mretry_state\u001b[49m\u001b[43m)\u001b[49m\n\u001b[1;32m    380\u001b[0m     \u001b[38;5;28;01mif\u001b[39;00m \u001b[38;5;28misinstance\u001b[39m(do, DoAttempt):\n\u001b[1;32m    381\u001b[0m         \u001b[38;5;28;01mtry\u001b[39;00m:\n",
      "File \u001b[0;32m~/Library/Caches/pypoetry/virtualenvs/gpt-instruct-8aiJzCnW-py3.11/lib/python3.11/site-packages/tenacity/__init__.py:314\u001b[0m, in \u001b[0;36mBaseRetrying.iter\u001b[0;34m(self, retry_state)\u001b[0m\n\u001b[1;32m    312\u001b[0m is_explicit_retry \u001b[38;5;241m=\u001b[39m fut\u001b[38;5;241m.\u001b[39mfailed \u001b[38;5;129;01mand\u001b[39;00m \u001b[38;5;28misinstance\u001b[39m(fut\u001b[38;5;241m.\u001b[39mexception(), TryAgain)\n\u001b[1;32m    313\u001b[0m \u001b[38;5;28;01mif\u001b[39;00m \u001b[38;5;129;01mnot\u001b[39;00m (is_explicit_retry \u001b[38;5;129;01mor\u001b[39;00m \u001b[38;5;28mself\u001b[39m\u001b[38;5;241m.\u001b[39mretry(retry_state)):\n\u001b[0;32m--> 314\u001b[0m     \u001b[38;5;28;01mreturn\u001b[39;00m \u001b[43mfut\u001b[49m\u001b[38;5;241;43m.\u001b[39;49m\u001b[43mresult\u001b[49m\u001b[43m(\u001b[49m\u001b[43m)\u001b[49m\n\u001b[1;32m    316\u001b[0m \u001b[38;5;28;01mif\u001b[39;00m \u001b[38;5;28mself\u001b[39m\u001b[38;5;241m.\u001b[39mafter \u001b[38;5;129;01mis\u001b[39;00m \u001b[38;5;129;01mnot\u001b[39;00m \u001b[38;5;28;01mNone\u001b[39;00m:\n\u001b[1;32m    317\u001b[0m     \u001b[38;5;28mself\u001b[39m\u001b[38;5;241m.\u001b[39mafter(retry_state)\n",
      "File \u001b[0;32m/opt/homebrew/Cellar/python@3.11/3.11.4_1/Frameworks/Python.framework/Versions/3.11/lib/python3.11/concurrent/futures/_base.py:449\u001b[0m, in \u001b[0;36mFuture.result\u001b[0;34m(self, timeout)\u001b[0m\n\u001b[1;32m    447\u001b[0m     \u001b[38;5;28;01mraise\u001b[39;00m CancelledError()\n\u001b[1;32m    448\u001b[0m \u001b[38;5;28;01melif\u001b[39;00m \u001b[38;5;28mself\u001b[39m\u001b[38;5;241m.\u001b[39m_state \u001b[38;5;241m==\u001b[39m FINISHED:\n\u001b[0;32m--> 449\u001b[0m     \u001b[38;5;28;01mreturn\u001b[39;00m \u001b[38;5;28;43mself\u001b[39;49m\u001b[38;5;241;43m.\u001b[39;49m\u001b[43m__get_result\u001b[49m\u001b[43m(\u001b[49m\u001b[43m)\u001b[49m\n\u001b[1;32m    451\u001b[0m \u001b[38;5;28mself\u001b[39m\u001b[38;5;241m.\u001b[39m_condition\u001b[38;5;241m.\u001b[39mwait(timeout)\n\u001b[1;32m    453\u001b[0m \u001b[38;5;28;01mif\u001b[39;00m \u001b[38;5;28mself\u001b[39m\u001b[38;5;241m.\u001b[39m_state \u001b[38;5;129;01min\u001b[39;00m [CANCELLED, CANCELLED_AND_NOTIFIED]:\n",
      "File \u001b[0;32m/opt/homebrew/Cellar/python@3.11/3.11.4_1/Frameworks/Python.framework/Versions/3.11/lib/python3.11/concurrent/futures/_base.py:401\u001b[0m, in \u001b[0;36mFuture.__get_result\u001b[0;34m(self)\u001b[0m\n\u001b[1;32m    399\u001b[0m \u001b[38;5;28;01mif\u001b[39;00m \u001b[38;5;28mself\u001b[39m\u001b[38;5;241m.\u001b[39m_exception:\n\u001b[1;32m    400\u001b[0m     \u001b[38;5;28;01mtry\u001b[39;00m:\n\u001b[0;32m--> 401\u001b[0m         \u001b[38;5;28;01mraise\u001b[39;00m \u001b[38;5;28mself\u001b[39m\u001b[38;5;241m.\u001b[39m_exception\n\u001b[1;32m    402\u001b[0m     \u001b[38;5;28;01mfinally\u001b[39;00m:\n\u001b[1;32m    403\u001b[0m         \u001b[38;5;66;03m# Break a reference cycle with the exception in self._exception\u001b[39;00m\n\u001b[1;32m    404\u001b[0m         \u001b[38;5;28mself\u001b[39m \u001b[38;5;241m=\u001b[39m \u001b[38;5;28;01mNone\u001b[39;00m\n",
      "File \u001b[0;32m~/Library/Caches/pypoetry/virtualenvs/gpt-instruct-8aiJzCnW-py3.11/lib/python3.11/site-packages/tenacity/__init__.py:382\u001b[0m, in \u001b[0;36mRetrying.__call__\u001b[0;34m(self, fn, *args, **kwargs)\u001b[0m\n\u001b[1;32m    380\u001b[0m \u001b[38;5;28;01mif\u001b[39;00m \u001b[38;5;28misinstance\u001b[39m(do, DoAttempt):\n\u001b[1;32m    381\u001b[0m     \u001b[38;5;28;01mtry\u001b[39;00m:\n\u001b[0;32m--> 382\u001b[0m         result \u001b[38;5;241m=\u001b[39m \u001b[43mfn\u001b[49m\u001b[43m(\u001b[49m\u001b[38;5;241;43m*\u001b[39;49m\u001b[43margs\u001b[49m\u001b[43m,\u001b[49m\u001b[43m \u001b[49m\u001b[38;5;241;43m*\u001b[39;49m\u001b[38;5;241;43m*\u001b[39;49m\u001b[43mkwargs\u001b[49m\u001b[43m)\u001b[49m\n\u001b[1;32m    383\u001b[0m     \u001b[38;5;28;01mexcept\u001b[39;00m \u001b[38;5;167;01mBaseException\u001b[39;00m:  \u001b[38;5;66;03m# noqa: B902\u001b[39;00m\n\u001b[1;32m    384\u001b[0m         retry_state\u001b[38;5;241m.\u001b[39mset_exception(sys\u001b[38;5;241m.\u001b[39mexc_info())  \u001b[38;5;66;03m# type: ignore[arg-type]\u001b[39;00m\n",
      "File \u001b[0;32m~/Library/Caches/pypoetry/virtualenvs/gpt-instruct-8aiJzCnW-py3.11/lib/python3.11/site-packages/langchain/chat_models/openai.py:280\u001b[0m, in \u001b[0;36mChatOpenAI.completion_with_retry.<locals>._completion_with_retry\u001b[0;34m(**kwargs)\u001b[0m\n\u001b[1;32m    278\u001b[0m \u001b[38;5;129m@retry_decorator\u001b[39m\n\u001b[1;32m    279\u001b[0m \u001b[38;5;28;01mdef\u001b[39;00m \u001b[38;5;21m_completion_with_retry\u001b[39m(\u001b[38;5;241m*\u001b[39m\u001b[38;5;241m*\u001b[39mkwargs: Any) \u001b[38;5;241m-\u001b[39m\u001b[38;5;241m>\u001b[39m Any:\n\u001b[0;32m--> 280\u001b[0m     \u001b[38;5;28;01mreturn\u001b[39;00m \u001b[38;5;28;43mself\u001b[39;49m\u001b[38;5;241;43m.\u001b[39;49m\u001b[43mclient\u001b[49m\u001b[38;5;241;43m.\u001b[39;49m\u001b[43mcreate\u001b[49m\u001b[43m(\u001b[49m\u001b[38;5;241;43m*\u001b[39;49m\u001b[38;5;241;43m*\u001b[39;49m\u001b[43mkwargs\u001b[49m\u001b[43m)\u001b[49m\n",
      "File \u001b[0;32m~/Library/Caches/pypoetry/virtualenvs/gpt-instruct-8aiJzCnW-py3.11/lib/python3.11/site-packages/openai/api_resources/chat_completion.py:25\u001b[0m, in \u001b[0;36mChatCompletion.create\u001b[0;34m(cls, *args, **kwargs)\u001b[0m\n\u001b[1;32m     23\u001b[0m \u001b[38;5;28;01mwhile\u001b[39;00m \u001b[38;5;28;01mTrue\u001b[39;00m:\n\u001b[1;32m     24\u001b[0m     \u001b[38;5;28;01mtry\u001b[39;00m:\n\u001b[0;32m---> 25\u001b[0m         \u001b[38;5;28;01mreturn\u001b[39;00m \u001b[38;5;28;43msuper\u001b[39;49m\u001b[43m(\u001b[49m\u001b[43m)\u001b[49m\u001b[38;5;241;43m.\u001b[39;49m\u001b[43mcreate\u001b[49m\u001b[43m(\u001b[49m\u001b[38;5;241;43m*\u001b[39;49m\u001b[43margs\u001b[49m\u001b[43m,\u001b[49m\u001b[43m \u001b[49m\u001b[38;5;241;43m*\u001b[39;49m\u001b[38;5;241;43m*\u001b[39;49m\u001b[43mkwargs\u001b[49m\u001b[43m)\u001b[49m\n\u001b[1;32m     26\u001b[0m     \u001b[38;5;28;01mexcept\u001b[39;00m TryAgain \u001b[38;5;28;01mas\u001b[39;00m e:\n\u001b[1;32m     27\u001b[0m         \u001b[38;5;28;01mif\u001b[39;00m timeout \u001b[38;5;129;01mis\u001b[39;00m \u001b[38;5;129;01mnot\u001b[39;00m \u001b[38;5;28;01mNone\u001b[39;00m \u001b[38;5;129;01mand\u001b[39;00m time\u001b[38;5;241m.\u001b[39mtime() \u001b[38;5;241m>\u001b[39m start \u001b[38;5;241m+\u001b[39m timeout:\n",
      "File \u001b[0;32m~/Library/Caches/pypoetry/virtualenvs/gpt-instruct-8aiJzCnW-py3.11/lib/python3.11/site-packages/openai/api_resources/abstract/engine_api_resource.py:153\u001b[0m, in \u001b[0;36mEngineAPIResource.create\u001b[0;34m(cls, api_key, api_base, api_type, request_id, api_version, organization, **params)\u001b[0m\n\u001b[1;32m    127\u001b[0m \u001b[38;5;129m@classmethod\u001b[39m\n\u001b[1;32m    128\u001b[0m \u001b[38;5;28;01mdef\u001b[39;00m \u001b[38;5;21mcreate\u001b[39m(\n\u001b[1;32m    129\u001b[0m     \u001b[38;5;28mcls\u001b[39m,\n\u001b[0;32m   (...)\u001b[0m\n\u001b[1;32m    136\u001b[0m     \u001b[38;5;241m*\u001b[39m\u001b[38;5;241m*\u001b[39mparams,\n\u001b[1;32m    137\u001b[0m ):\n\u001b[1;32m    138\u001b[0m     (\n\u001b[1;32m    139\u001b[0m         deployment_id,\n\u001b[1;32m    140\u001b[0m         engine,\n\u001b[0;32m   (...)\u001b[0m\n\u001b[1;32m    150\u001b[0m         api_key, api_base, api_type, api_version, organization, \u001b[38;5;241m*\u001b[39m\u001b[38;5;241m*\u001b[39mparams\n\u001b[1;32m    151\u001b[0m     )\n\u001b[0;32m--> 153\u001b[0m     response, _, api_key \u001b[38;5;241m=\u001b[39m \u001b[43mrequestor\u001b[49m\u001b[38;5;241;43m.\u001b[39;49m\u001b[43mrequest\u001b[49m\u001b[43m(\u001b[49m\n\u001b[1;32m    154\u001b[0m \u001b[43m        \u001b[49m\u001b[38;5;124;43m\"\u001b[39;49m\u001b[38;5;124;43mpost\u001b[39;49m\u001b[38;5;124;43m\"\u001b[39;49m\u001b[43m,\u001b[49m\n\u001b[1;32m    155\u001b[0m \u001b[43m        \u001b[49m\u001b[43murl\u001b[49m\u001b[43m,\u001b[49m\n\u001b[1;32m    156\u001b[0m \u001b[43m        \u001b[49m\u001b[43mparams\u001b[49m\u001b[38;5;241;43m=\u001b[39;49m\u001b[43mparams\u001b[49m\u001b[43m,\u001b[49m\n\u001b[1;32m    157\u001b[0m \u001b[43m        \u001b[49m\u001b[43mheaders\u001b[49m\u001b[38;5;241;43m=\u001b[39;49m\u001b[43mheaders\u001b[49m\u001b[43m,\u001b[49m\n\u001b[1;32m    158\u001b[0m \u001b[43m        \u001b[49m\u001b[43mstream\u001b[49m\u001b[38;5;241;43m=\u001b[39;49m\u001b[43mstream\u001b[49m\u001b[43m,\u001b[49m\n\u001b[1;32m    159\u001b[0m \u001b[43m        \u001b[49m\u001b[43mrequest_id\u001b[49m\u001b[38;5;241;43m=\u001b[39;49m\u001b[43mrequest_id\u001b[49m\u001b[43m,\u001b[49m\n\u001b[1;32m    160\u001b[0m \u001b[43m        \u001b[49m\u001b[43mrequest_timeout\u001b[49m\u001b[38;5;241;43m=\u001b[39;49m\u001b[43mrequest_timeout\u001b[49m\u001b[43m,\u001b[49m\n\u001b[1;32m    161\u001b[0m \u001b[43m    \u001b[49m\u001b[43m)\u001b[49m\n\u001b[1;32m    163\u001b[0m     \u001b[38;5;28;01mif\u001b[39;00m stream:\n\u001b[1;32m    164\u001b[0m         \u001b[38;5;66;03m# must be an iterator\u001b[39;00m\n\u001b[1;32m    165\u001b[0m         \u001b[38;5;28;01massert\u001b[39;00m \u001b[38;5;129;01mnot\u001b[39;00m \u001b[38;5;28misinstance\u001b[39m(response, OpenAIResponse)\n",
      "File \u001b[0;32m~/Library/Caches/pypoetry/virtualenvs/gpt-instruct-8aiJzCnW-py3.11/lib/python3.11/site-packages/openai/api_requestor.py:298\u001b[0m, in \u001b[0;36mAPIRequestor.request\u001b[0;34m(self, method, url, params, headers, files, stream, request_id, request_timeout)\u001b[0m\n\u001b[1;32m    277\u001b[0m \u001b[38;5;28;01mdef\u001b[39;00m \u001b[38;5;21mrequest\u001b[39m(\n\u001b[1;32m    278\u001b[0m     \u001b[38;5;28mself\u001b[39m,\n\u001b[1;32m    279\u001b[0m     method,\n\u001b[0;32m   (...)\u001b[0m\n\u001b[1;32m    286\u001b[0m     request_timeout: Optional[Union[\u001b[38;5;28mfloat\u001b[39m, Tuple[\u001b[38;5;28mfloat\u001b[39m, \u001b[38;5;28mfloat\u001b[39m]]] \u001b[38;5;241m=\u001b[39m \u001b[38;5;28;01mNone\u001b[39;00m,\n\u001b[1;32m    287\u001b[0m ) \u001b[38;5;241m-\u001b[39m\u001b[38;5;241m>\u001b[39m Tuple[Union[OpenAIResponse, Iterator[OpenAIResponse]], \u001b[38;5;28mbool\u001b[39m, \u001b[38;5;28mstr\u001b[39m]:\n\u001b[1;32m    288\u001b[0m     result \u001b[38;5;241m=\u001b[39m \u001b[38;5;28mself\u001b[39m\u001b[38;5;241m.\u001b[39mrequest_raw(\n\u001b[1;32m    289\u001b[0m         method\u001b[38;5;241m.\u001b[39mlower(),\n\u001b[1;32m    290\u001b[0m         url,\n\u001b[0;32m   (...)\u001b[0m\n\u001b[1;32m    296\u001b[0m         request_timeout\u001b[38;5;241m=\u001b[39mrequest_timeout,\n\u001b[1;32m    297\u001b[0m     )\n\u001b[0;32m--> 298\u001b[0m     resp, got_stream \u001b[38;5;241m=\u001b[39m \u001b[38;5;28;43mself\u001b[39;49m\u001b[38;5;241;43m.\u001b[39;49m\u001b[43m_interpret_response\u001b[49m\u001b[43m(\u001b[49m\u001b[43mresult\u001b[49m\u001b[43m,\u001b[49m\u001b[43m \u001b[49m\u001b[43mstream\u001b[49m\u001b[43m)\u001b[49m\n\u001b[1;32m    299\u001b[0m     \u001b[38;5;28;01mreturn\u001b[39;00m resp, got_stream, \u001b[38;5;28mself\u001b[39m\u001b[38;5;241m.\u001b[39mapi_key\n",
      "File \u001b[0;32m~/Library/Caches/pypoetry/virtualenvs/gpt-instruct-8aiJzCnW-py3.11/lib/python3.11/site-packages/openai/api_requestor.py:700\u001b[0m, in \u001b[0;36mAPIRequestor._interpret_response\u001b[0;34m(self, result, stream)\u001b[0m\n\u001b[1;32m    692\u001b[0m     \u001b[38;5;28;01mreturn\u001b[39;00m (\n\u001b[1;32m    693\u001b[0m         \u001b[38;5;28mself\u001b[39m\u001b[38;5;241m.\u001b[39m_interpret_response_line(\n\u001b[1;32m    694\u001b[0m             line, result\u001b[38;5;241m.\u001b[39mstatus_code, result\u001b[38;5;241m.\u001b[39mheaders, stream\u001b[38;5;241m=\u001b[39m\u001b[38;5;28;01mTrue\u001b[39;00m\n\u001b[1;32m    695\u001b[0m         )\n\u001b[1;32m    696\u001b[0m         \u001b[38;5;28;01mfor\u001b[39;00m line \u001b[38;5;129;01min\u001b[39;00m parse_stream(result\u001b[38;5;241m.\u001b[39miter_lines())\n\u001b[1;32m    697\u001b[0m     ), \u001b[38;5;28;01mTrue\u001b[39;00m\n\u001b[1;32m    698\u001b[0m \u001b[38;5;28;01melse\u001b[39;00m:\n\u001b[1;32m    699\u001b[0m     \u001b[38;5;28;01mreturn\u001b[39;00m (\n\u001b[0;32m--> 700\u001b[0m         \u001b[38;5;28;43mself\u001b[39;49m\u001b[38;5;241;43m.\u001b[39;49m\u001b[43m_interpret_response_line\u001b[49m\u001b[43m(\u001b[49m\n\u001b[1;32m    701\u001b[0m \u001b[43m            \u001b[49m\u001b[43mresult\u001b[49m\u001b[38;5;241;43m.\u001b[39;49m\u001b[43mcontent\u001b[49m\u001b[38;5;241;43m.\u001b[39;49m\u001b[43mdecode\u001b[49m\u001b[43m(\u001b[49m\u001b[38;5;124;43m\"\u001b[39;49m\u001b[38;5;124;43mutf-8\u001b[39;49m\u001b[38;5;124;43m\"\u001b[39;49m\u001b[43m)\u001b[49m\u001b[43m,\u001b[49m\n\u001b[1;32m    702\u001b[0m \u001b[43m            \u001b[49m\u001b[43mresult\u001b[49m\u001b[38;5;241;43m.\u001b[39;49m\u001b[43mstatus_code\u001b[49m\u001b[43m,\u001b[49m\n\u001b[1;32m    703\u001b[0m \u001b[43m            \u001b[49m\u001b[43mresult\u001b[49m\u001b[38;5;241;43m.\u001b[39;49m\u001b[43mheaders\u001b[49m\u001b[43m,\u001b[49m\n\u001b[1;32m    704\u001b[0m \u001b[43m            \u001b[49m\u001b[43mstream\u001b[49m\u001b[38;5;241;43m=\u001b[39;49m\u001b[38;5;28;43;01mFalse\u001b[39;49;00m\u001b[43m,\u001b[49m\n\u001b[1;32m    705\u001b[0m \u001b[43m        \u001b[49m\u001b[43m)\u001b[49m,\n\u001b[1;32m    706\u001b[0m         \u001b[38;5;28;01mFalse\u001b[39;00m,\n\u001b[1;32m    707\u001b[0m     )\n",
      "File \u001b[0;32m~/Library/Caches/pypoetry/virtualenvs/gpt-instruct-8aiJzCnW-py3.11/lib/python3.11/site-packages/openai/api_requestor.py:765\u001b[0m, in \u001b[0;36mAPIRequestor._interpret_response_line\u001b[0;34m(self, rbody, rcode, rheaders, stream)\u001b[0m\n\u001b[1;32m    763\u001b[0m stream_error \u001b[38;5;241m=\u001b[39m stream \u001b[38;5;129;01mand\u001b[39;00m \u001b[38;5;124m\"\u001b[39m\u001b[38;5;124merror\u001b[39m\u001b[38;5;124m\"\u001b[39m \u001b[38;5;129;01min\u001b[39;00m resp\u001b[38;5;241m.\u001b[39mdata\n\u001b[1;32m    764\u001b[0m \u001b[38;5;28;01mif\u001b[39;00m stream_error \u001b[38;5;129;01mor\u001b[39;00m \u001b[38;5;129;01mnot\u001b[39;00m \u001b[38;5;241m200\u001b[39m \u001b[38;5;241m<\u001b[39m\u001b[38;5;241m=\u001b[39m rcode \u001b[38;5;241m<\u001b[39m \u001b[38;5;241m300\u001b[39m:\n\u001b[0;32m--> 765\u001b[0m     \u001b[38;5;28;01mraise\u001b[39;00m \u001b[38;5;28mself\u001b[39m\u001b[38;5;241m.\u001b[39mhandle_error_response(\n\u001b[1;32m    766\u001b[0m         rbody, rcode, resp\u001b[38;5;241m.\u001b[39mdata, rheaders, stream_error\u001b[38;5;241m=\u001b[39mstream_error\n\u001b[1;32m    767\u001b[0m     )\n\u001b[1;32m    768\u001b[0m \u001b[38;5;28;01mreturn\u001b[39;00m resp\n",
      "\u001b[0;31mAuthenticationError\u001b[0m: Incorrect API key provided: sk-kYWxL****************************************kX8i. You can find your API key at https://platform.openai.com/account/api-keys."
     ]
    }
   ],
   "source": [
    "print(turbo.predict(question))"
   ]
  },
  {
   "cell_type": "code",
   "execution_count": 85,
   "id": "34bcdf15-4175-4b39-a869-25bff2a68b29",
   "metadata": {
    "execution": {
     "iopub.execute_input": "2023-09-26T10:40:49.385802Z",
     "iopub.status.busy": "2023-09-26T10:40:49.385375Z",
     "iopub.status.idle": "2023-09-26T10:40:50.387524Z",
     "shell.execute_reply": "2023-09-26T10:40:50.377192Z",
     "shell.execute_reply.started": "2023-09-26T10:40:49.385777Z"
    }
   },
   "outputs": [
    {
     "name": "stdout",
     "output_type": "stream",
     "text": [
      "\n",
      "\n",
      "Yes, Microsoft acquired a $1 billion stake in OpenAI in 2019. This partnership allows Microsoft to use OpenAI's artificial intelligence technologies in its products and services, while also working closely with the company on further advancements in AI research. However, OpenAI remains an independent company.\n"
     ]
    }
   ],
   "source": [
    "print(turbo_instruct.predict(question))"
   ]
  },
  {
   "cell_type": "markdown",
   "id": "71af8774-dc2a-490d-8330-73fba51c9dee",
   "metadata": {},
   "source": [
    "## Replying with empathy 💕\n",
    "How well will they do cheering me up?"
   ]
  },
  {
   "cell_type": "code",
   "execution_count": 127,
   "id": "6f788f4d-fbff-42a2-af6e-9882da66f6d3",
   "metadata": {
    "execution": {
     "iopub.execute_input": "2023-09-26T11:12:37.572438Z",
     "iopub.status.busy": "2023-09-26T11:12:37.572080Z",
     "iopub.status.idle": "2023-09-26T11:12:37.580826Z",
     "shell.execute_reply": "2023-09-26T11:12:37.577883Z",
     "shell.execute_reply.started": "2023-09-26T11:12:37.572415Z"
    }
   },
   "outputs": [],
   "source": [
    "question = \"I'm feeling sad today. Can you cheer me up?\""
   ]
  },
  {
   "cell_type": "code",
   "execution_count": 128,
   "id": "98aef3d0-937b-4884-ae32-6f09a678fd06",
   "metadata": {
    "execution": {
     "iopub.execute_input": "2023-09-26T11:12:39.001224Z",
     "iopub.status.busy": "2023-09-26T11:12:39.000220Z",
     "iopub.status.idle": "2023-09-26T11:12:53.604981Z",
     "shell.execute_reply": "2023-09-26T11:12:53.603419Z",
     "shell.execute_reply.started": "2023-09-26T11:12:39.001181Z"
    }
   },
   "outputs": [
    {
     "name": "stdout",
     "output_type": "stream",
     "text": [
      "Of course! I'm sorry to hear that you're feeling sad today, but I'll do my best to cheer you up. Remember that it's normal to have ups and downs in life, and it's okay to feel sad sometimes. Here are a few things that might help brighten your day:\n",
      "\n",
      "1. Take a break and do something you enjoy: Engage in activities that make you happy, whether it's listening to your favorite music, reading a book, or watching a funny video online.\n",
      "\n",
      "2. Connect with loved ones: Reach out to a friend or family member who brings positivity into your life. Talking to someone supportive can help lift your spirits.\n",
      "\n",
      "3. Practice self-care: Take care of yourself by engaging in activities that promote relaxation and self-care. This could involve taking a long bath, going for a walk in nature, or indulging in your favorite treat.\n",
      "\n",
      "4. Find reasons to be grateful: Reflect on the things you're grateful for in life. It can be helpful to write them down or share them with someone. Focusing on the positive aspects can help shift your perspective.\n",
      "\n",
      "5. Help someone else: Sometimes, doing something kind for others can bring us joy. Consider reaching out to someone who might need support or engage in a random act of kindness.\n",
      "\n",
      "Remember, it's okay to feel sad, but it's important to seek support and take steps towards feeling better. Take care!\n",
      "CPU times: user 25.1 ms, sys: 4.56 ms, total: 29.7 ms\n",
      "Wall time: 14.6 s\n"
     ]
    }
   ],
   "source": [
    "%%time\n",
    "print(turbo.predict(question))"
   ]
  },
  {
   "cell_type": "code",
   "execution_count": 129,
   "id": "0c7d644e-63fb-4066-95c8-f1901acd9031",
   "metadata": {
    "execution": {
     "iopub.execute_input": "2023-09-26T11:12:58.963156Z",
     "iopub.status.busy": "2023-09-26T11:12:58.961926Z",
     "iopub.status.idle": "2023-09-26T11:13:02.720914Z",
     "shell.execute_reply": "2023-09-26T11:13:02.718358Z",
     "shell.execute_reply.started": "2023-09-26T11:12:58.963114Z"
    }
   },
   "outputs": [
    {
     "name": "stdout",
     "output_type": "stream",
     "text": [
      "\n",
      "\n",
      "Of course, I'm here to make you smile! Here are a few things that might cheer you up:\n",
      "\n",
      "1. Think about all the things you're grateful for. Sometimes, when we're feeling sad, we focus on the negative things in our lives. Take a moment to think about all the things that bring you joy and happiness.\n",
      "\n",
      "2. Watch a funny movie or TV show. Laughter is the best medicine, and a good comedy can instantly lift your spirits.\n",
      "\n",
      "3. Do something kind for someone else. Helping others can bring a sense of fulfillment and happiness. It could be something as simple as writing a thank-you note or complimenting a stranger.\n",
      "\n",
      "4. Go for a walk or do some exercise. Physical activity releases endorphins, which can improve your mood and make you feel more energized.\n",
      "\n",
      "5. Listen to your favorite music. Music has the power to uplift our spirits and bring back happy memories. Put on your favorite playlist and dance or sing along.\n",
      "\n",
      "Remember, it's okay to feel sad sometimes. But know that this feeling will pass, and there are always things you can do to make yourself feel better. Take care of yourself and know that brighter days are ahead.\n",
      "CPU times: user 5.2 ms, sys: 2.52 ms, total: 7.71 ms\n",
      "Wall time: 3.74 s\n"
     ]
    }
   ],
   "source": [
    "%%time\n",
    "print(turbo_instruct.predict(question))"
   ]
  },
  {
   "cell_type": "markdown",
   "id": "dfc72778-845b-4984-9f25-ef7c990802c1",
   "metadata": {
    "execution": {
     "iopub.execute_input": "2023-09-26T11:19:52.772134Z",
     "iopub.status.busy": "2023-09-26T11:19:52.770299Z",
     "iopub.status.idle": "2023-09-26T11:19:52.779729Z",
     "shell.execute_reply": "2023-09-26T11:19:52.778517Z",
     "shell.execute_reply.started": "2023-09-26T11:19:52.772097Z"
    }
   },
   "source": [
    "## Code generation 💻 \n",
    "A simple coding task is next."
   ]
  },
  {
   "cell_type": "code",
   "execution_count": 134,
   "id": "de9b2a6f-ac67-410f-b15a-60b808060071",
   "metadata": {
    "execution": {
     "iopub.execute_input": "2023-09-26T11:21:36.186999Z",
     "iopub.status.busy": "2023-09-26T11:21:36.184525Z",
     "iopub.status.idle": "2023-09-26T11:21:36.205465Z",
     "shell.execute_reply": "2023-09-26T11:21:36.204988Z",
     "shell.execute_reply.started": "2023-09-26T11:21:36.186968Z"
    }
   },
   "outputs": [],
   "source": [
    "question = \"Can you write a Python function that reads a CSV file and prints out every other row?\""
   ]
  },
  {
   "cell_type": "code",
   "execution_count": 135,
   "id": "955ebf7c-e336-4364-a1cc-da47d77ebb21",
   "metadata": {
    "execution": {
     "iopub.execute_input": "2023-09-26T11:21:37.554695Z",
     "iopub.status.busy": "2023-09-26T11:21:37.554379Z",
     "iopub.status.idle": "2023-09-26T11:21:38.735347Z",
     "shell.execute_reply": "2023-09-26T11:21:38.731901Z",
     "shell.execute_reply.started": "2023-09-26T11:21:37.554674Z"
    }
   },
   "outputs": [
    {
     "name": "stdout",
     "output_type": "stream",
     "text": [
      "\n",
      "\n",
      "def read_csv(filename):\n",
      "    with open(filename, 'r') as file:\n",
      "        lines = file.readlines()\n",
      "        for i in range(0, len(lines), 2):\n",
      "            print(lines[i].strip())\n",
      "            \n",
      "# Example usage:\n",
      "# read_csv('data.csv')\n",
      "CPU times: user 29.7 ms, sys: 4.68 ms, total: 34.4 ms\n",
      "Wall time: 1.17 s\n"
     ]
    }
   ],
   "source": [
    "%%time\n",
    "print(turbo.predict(question))"
   ]
  },
  {
   "cell_type": "code",
   "execution_count": 136,
   "id": "06cefdeb-3510-4a75-9265-f5c818030582",
   "metadata": {
    "execution": {
     "iopub.execute_input": "2023-09-26T11:21:42.054214Z",
     "iopub.status.busy": "2023-09-26T11:21:42.053193Z",
     "iopub.status.idle": "2023-09-26T11:21:51.298937Z",
     "shell.execute_reply": "2023-09-26T11:21:51.297213Z",
     "shell.execute_reply.started": "2023-09-26T11:21:42.054180Z"
    }
   },
   "outputs": [
    {
     "name": "stdout",
     "output_type": "stream",
     "text": [
      "Certainly! Here's a Python function that reads a CSV file and prints out every other row:\n",
      "\n",
      "```python\n",
      "import csv\n",
      "\n",
      "def print_alternate_rows(file_path):\n",
      "    with open(file_path, 'r') as file:\n",
      "        reader = csv.reader(file)\n",
      "        rows = list(reader)\n",
      "        for i in range(1, len(rows), 2):\n",
      "            print(rows[i])\n",
      "```\n",
      "\n",
      "To use this function, you need to provide the file path as an argument when calling the function. For example, if your CSV file is located in the same directory as your Python script and named \"data.csv\", you can use the function like this:\n",
      "\n",
      "```python\n",
      "print_alternate_rows(\"data.csv\")\n",
      "```\n",
      "\n",
      "Make sure to replace \"data.csv\" with the actual file name and path if it's located in a different directory.\n",
      "CPU times: user 5.44 ms, sys: 2.38 ms, total: 7.82 ms\n",
      "Wall time: 9.24 s\n"
     ]
    }
   ],
   "source": [
    "%%time\n",
    "print(turbo_instruct.predict(question))"
   ]
  },
  {
   "cell_type": "markdown",
   "id": "5878872b-92a2-4f99-9140-23e52a6708c1",
   "metadata": {},
   "source": [
    "## Analysing sentiment 😊 \n",
    "Let's see how the models analyse the sentiment of a sentence."
   ]
  },
  {
   "cell_type": "code",
   "execution_count": 137,
   "id": "9cbb37b3-74c0-4575-bfa2-774f8f8730e0",
   "metadata": {
    "execution": {
     "iopub.execute_input": "2023-09-26T11:24:39.195688Z",
     "iopub.status.busy": "2023-09-26T11:24:39.195089Z",
     "iopub.status.idle": "2023-09-26T11:24:39.214744Z",
     "shell.execute_reply": "2023-09-26T11:24:39.204229Z",
     "shell.execute_reply.started": "2023-09-26T11:24:39.195659Z"
    }
   },
   "outputs": [],
   "source": [
    "from langchain.prompts import PromptTemplate\n",
    "\n",
    "prompt = PromptTemplate.from_template(\"Analyse the sentiment of the following text: {text}\")\n",
    "question = prompt.format(text=\"The DuckDB team is happy to announce the latest DuckDB release (0.9.0).\")"
   ]
  },
  {
   "cell_type": "code",
   "execution_count": 151,
   "id": "e5c5be17-f0fb-4064-84fb-aa8c98ce8e91",
   "metadata": {
    "execution": {
     "iopub.execute_input": "2023-09-26T11:31:05.036695Z",
     "iopub.status.busy": "2023-09-26T11:31:05.036121Z",
     "iopub.status.idle": "2023-09-26T11:31:34.059828Z",
     "shell.execute_reply": "2023-09-26T11:31:34.058066Z",
     "shell.execute_reply.started": "2023-09-26T11:31:05.036671Z"
    }
   },
   "outputs": [
    {
     "name": "stdout",
     "output_type": "stream",
     "text": [
      "1. The Laver Cup is an international indoor hard court men's team tennis tournament that is held annually since 2017. \n",
      "2. The tournament is intended to be the Ryder Cup of the tennis world, inspired by the biennial Ryder Cup golf tournament.\n",
      "3. It features a competition between Team Europe and Team World, with Team World consisting of players from all other continents except Europe.\n",
      "4. The location of the tournament rotates between various host cities, alternating yearly between European cities and cities in the rest of the world.\n",
      "5. Matches during the Laver Cup tournament differ from conventional 3-set matches played on the ATP Tour, with a 10-point \"match tiebreak\" being played instead of a deciding final set when the match is tied at one set all.\n",
      "1. The Laver Cup is an international indoor hard court men's team tennis tournament that pits Team Europe against Team World, with Team World consisting of players from all continents except Europe.\n",
      "2. The tournament is often referred to as the Ryder Cup of the tennis world, drawing inspiration from the biennial Ryder Cup golf tournament.\n",
      "3. The location of the Laver Cup rotates between various host cities, alternating yearly between European cities and cities in the rest of the world. These host cities usually do not have an ATP Tour event.\n",
      "4. Matches during the Laver Cup tournament have a different format than conventional ATP Tour matches. If a match is tied at one set all, a 10-point \"match tiebreak\" is played instead of a deciding final set.\n",
      "5. In addition to the guaranteed participation fees and prize money, the winning team also receives $250,000 in prize money, but the tournament does not count towards the players' point totals in the ATP Tour for that year.\n",
      "1. The Laver Cup is an international indoor hard court men's team tennis tournament that takes place annually since 2017.\n",
      "2. It is intended to be the Ryder Cup of the tennis world, with Team Europe competing against Team World.\n",
      "3. The tournament takes place two weeks after the US Open and rotates between various host cities, alternating between European cities and cities in the rest of the world.\n",
      "4. Each member of the winning team receives $250,000 in prize money, in addition to guaranteed participation fees based on their ATP rankings.\n",
      "5. The matches during the Laver Cup tournament have a different format from conventional ATP Tour matches, with a 10-point \"match tiebreak\" played instead of a deciding final set when the match is tied at one set all. Coaching is also allowed courtside.\n",
      "CPU times: user 19.3 ms, sys: 6.07 ms, total: 25.4 ms\n",
      "Wall time: 29 s\n"
     ]
    }
   ],
   "source": [
    "%%time\n",
    "for _ in range(0,3):\n",
    "  print(turbo.predict(question))"
   ]
  },
  {
   "cell_type": "code",
   "execution_count": 150,
   "id": "4ab3a768-9db3-4578-ae31-5383e717759f",
   "metadata": {
    "execution": {
     "iopub.execute_input": "2023-09-26T11:30:58.175758Z",
     "iopub.status.busy": "2023-09-26T11:30:58.175340Z",
     "iopub.status.idle": "2023-09-26T11:31:05.030726Z",
     "shell.execute_reply": "2023-09-26T11:31:05.029597Z",
     "shell.execute_reply.started": "2023-09-26T11:30:58.175733Z"
    }
   },
   "outputs": [
    {
     "name": "stdout",
     "output_type": "stream",
     "text": [
      "\n",
      "\n",
      "1. The Laver Cup is an international indoor hard court men's team tennis tournament, where players from Europe compete against players from the rest of the world.\n",
      "2. The tournament is often referred to as the \"Ryder Cup of the tennis world\" and is inspired by the biennial golf tournament between the United States and Europe.\n",
      "3. The location of the tournament rotates between different host cities, with a preference for cities that do not already have an ATP Tour event.\n",
      "4. Matches in the Laver Cup are played using a unique format, with a 10-point \"match tiebreak\" being played in the event of a tied score.\n",
      "5. The tournament is named after Australian tennis legend Rod Laver, and was created by Roger Federer's management company, TEAM8, among others. \n",
      "\n",
      "\n",
      "1. The Laver Cup is an international indoor hard court men's team tennis tournament.\n",
      "2. It is played between Team Europe and Team World, with players from all continents except Europe making up Team World.\n",
      "3. The tournament is intended to be the Ryder Cup of the tennis world.\n",
      "4. The location of the Laver Cup rotates between various host cities, with alternating years between European cities and cities in the rest of the world.\n",
      "5. The tournament became an officially sanctioned ATP Tour event in May 2019 and matches are played differently than conventional ATP tour matches, with coaching allowed and a 10-point “match tiebreak” used as a deciding set.\n",
      "\n",
      "\n",
      "1. The Laver Cup is an international indoor hard court men's team tennis tournament, different from other individual tennis tournaments.\n",
      "2. The tournament is intended to be the Ryder Cup of the tennis world, inspired by the biennial golf tournament between the United States and Europe.\n",
      "3. Matches during the Laver Cup are played in a unique format, with a 10-point \"match tiebreak\" being played if the match is tied at one set all.\n",
      "4. The tournament is named after Australian tennis legend Rod Laver, who is widely regarded as one of the greatest players in the history of the sport.\n",
      "5. The Laver Cup is an invitation-only event, with players being selected based on past historical performances rather than current rankings.\n",
      "CPU times: user 16 ms, sys: 5.68 ms, total: 21.7 ms\n",
      "Wall time: 6.84 s\n"
     ]
    }
   ],
   "source": [
    "%%time\n",
    "for _ in range(0,3):\n",
    "  print(turbo_instruct.predict(question))"
   ]
  },
  {
   "cell_type": "markdown",
   "id": "ae00b256-fe2a-4f02-a853-d514010e6713",
   "metadata": {},
   "source": [
    "## Summarising a Wikipedia page 📄 \n",
    "How well can the models summarise a Wiki page?"
   ]
  },
  {
   "cell_type": "code",
   "execution_count": 141,
   "id": "fb587764-61c1-4333-9fba-f150d992ca36",
   "metadata": {
    "execution": {
     "iopub.execute_input": "2023-09-26T11:27:22.421857Z",
     "iopub.status.busy": "2023-09-26T11:27:22.421246Z",
     "iopub.status.idle": "2023-09-26T11:27:22.431384Z",
     "shell.execute_reply": "2023-09-26T11:27:22.429832Z",
     "shell.execute_reply.started": "2023-09-26T11:27:22.421804Z"
    }
   },
   "outputs": [],
   "source": [
    "from langchain.document_loaders import WikipediaLoader"
   ]
  },
  {
   "cell_type": "code",
   "execution_count": 149,
   "id": "093d6c55-ce6b-4ebe-9484-058cfbfb7c85",
   "metadata": {
    "execution": {
     "iopub.execute_input": "2023-09-26T11:30:21.074572Z",
     "iopub.status.busy": "2023-09-26T11:30:21.074017Z",
     "iopub.status.idle": "2023-09-26T11:30:22.749941Z",
     "shell.execute_reply": "2023-09-26T11:30:22.748241Z",
     "shell.execute_reply.started": "2023-09-26T11:30:21.074545Z"
    },
    "scrolled": true
   },
   "outputs": [
    {
     "data": {
      "text/plain": [
       "'The Laver Cup is an international indoor hard court men\\'s team tennis tournament between Team Europe and Team World, the latter of which is composed of players from all other continents except Europe. Usually held annually since 2017, the tournament is intended to be the Ryder Cup of the tennis world. It normally takes place two weeks after the US Open, with the location rotating between various host cities (that usually do not have an ATP Tour event); alternating yearly between European cities and cities in the rest of the world. In addition to the guaranteed participation fees which are based upon the players\\' ATP rankings, each member of the winning team gets $250,000 in prize money, but the tournament itself does not count towards the players\\' point totals in the ATP Tour for that year.In May 2019, the Laver Cup became an officially sanctioned ATP Tour event. Matches during the Laver Cup tournament differ from conventional 3-set matches played on the ATP Tour; in the event when the match is tied at one set all, a 10-point “match tiebreak” is played instead of a deciding final set (this is to ensure that all matches conclude within a reasonable timeframe of approximately two hours, whilst enabling four matches to be completed within a match day – that begins either at 1 pm local time for Days 1 and 2, or at 12 noon local time for the final Day 3 of the tournament). In addition, unlike conventional ATP tour matches, coaching of match participants is commonly applied courtside by teammates and team captains.\\n\\n\\n== Format ==\\nThe competition pits six top European players against six of their counterparts from the rest of the world. Each team is led by a team captain, who is a tennis legend.  Three of the six players qualify based on their ATP singles ranking as of the Monday following the French Open in June. Three are \"captain\\'s picks\", announced by the start of the US Open, in August.\\nThere are 12 matches played over three days (nine singles and three doubles). Each match victory on day 1 is worth one point, on day 2 two points, and on day 3 three points. The first team to claim 13 points wins the tournament. Therefore, the winning team can only be decided on day 3.\\nThere are six singles matches on the first two days (3 each day) and all six team players plays one of those matches.  No player plays singles more than twice. At least four of the six team members take part in doubles.  So, one team player (doubles specialist) could play all three doubles matches with three other team players. All matches start as two sets, a 10-point “match tiebreak” is played if the match is level at one set all.\\nIn the event both teams are tied at 12 points each, a fifth match known as “The Decider” is played on day 3, whereby one set is played as a regular set with ad scoring and a tiebreak.\\nIn the event that only one match is required on Sunday (last previous occurrence was at the 2023 Laver Cup), an exhibition match is played following the trophy ceremony.\\n\\n\\n== Tournament schedule ==\\n\\n\\n== History ==\\nThe tournament is named after Australian Rod Laver, a tennis player widely regarded as one of the greatest in the history of the sport (He won all four major titles in the same calendar year, winning the Grand Slam twice in singles, in 1962 and 1969; the latter remains the only time a man has done so in the Open Era.) Roger Federer\\'s management company, TEAM8, Brazilian businessman and former Davis Cup player Jorge Paulo Lemann, and Tennis Australia partnered to create the Laver Cup. Roger Federer was inspired to create a tennis team tournament based on the biennial Ryder Cup golf tournament, which features the best golfers from the United States playing against the best golfers from Europe. However, Laver Cup differs as it is purely an invitational event based on past historical performances; selection of (and the playing agreement with) the tournament participants are not automatically based from the highest ranked players of the recent ATP Tou'"
      ]
     },
     "execution_count": 149,
     "metadata": {},
     "output_type": "execute_result"
    }
   ],
   "source": [
    "docs = WikipediaLoader(query=\"Laver Cup\", load_max_docs=1).load()\n",
    "docs[0].page_content"
   ]
  },
  {
   "cell_type": "code",
   "execution_count": 145,
   "id": "06ab2adc-f831-4e76-95f5-6259fd4ea11a",
   "metadata": {
    "execution": {
     "iopub.execute_input": "2023-09-26T11:29:14.114248Z",
     "iopub.status.busy": "2023-09-26T11:29:14.113904Z",
     "iopub.status.idle": "2023-09-26T11:29:14.119958Z",
     "shell.execute_reply": "2023-09-26T11:29:14.119243Z",
     "shell.execute_reply.started": "2023-09-26T11:29:14.114227Z"
    }
   },
   "outputs": [],
   "source": [
    "prompt = PromptTemplate.from_template(\"Give me 5 interesting things from this text: {text}\")\n",
    "question = prompt.format(text=docs[0].page_content)"
   ]
  },
  {
   "cell_type": "code",
   "execution_count": 148,
   "id": "3e75cb07-c91a-466e-bfd1-2a462d810593",
   "metadata": {
    "execution": {
     "iopub.execute_input": "2023-09-26T11:29:47.922215Z",
     "iopub.status.busy": "2023-09-26T11:29:47.921579Z",
     "iopub.status.idle": "2023-09-26T11:29:56.585175Z",
     "shell.execute_reply": "2023-09-26T11:29:56.581930Z",
     "shell.execute_reply.started": "2023-09-26T11:29:47.922193Z"
    }
   },
   "outputs": [
    {
     "name": "stdout",
     "output_type": "stream",
     "text": [
      "1. The Laver Cup is an international indoor hard court men's team tennis tournament that is intended to be the Ryder Cup of the tennis world. \n",
      "2. It takes place annually, two weeks after the US Open, and rotates between various host cities that usually do not have an ATP Tour event. \n",
      "3. In addition to guaranteed participation fees, the winning team members receive $250,000 in prize money. \n",
      "4. The Laver Cup matches have a unique format, with a 10-point \"match tiebreak\" played instead of a final set if the match is tied at one set all. \n",
      "5. The tournament was named after Australian tennis player Rod Laver, who is considered one of the greatest players in the history of the sport.\n",
      "CPU times: user 6.63 ms, sys: 3.06 ms, total: 9.69 ms\n",
      "Wall time: 8.65 s\n"
     ]
    }
   ],
   "source": [
    "%%time\n",
    "print(turbo.predict(question))"
   ]
  },
  {
   "cell_type": "code",
   "execution_count": 147,
   "id": "9572a9b1-1e26-49f8-aae2-6c33e0be06ad",
   "metadata": {
    "execution": {
     "iopub.execute_input": "2023-09-26T11:29:36.964833Z",
     "iopub.status.busy": "2023-09-26T11:29:36.964288Z",
     "iopub.status.idle": "2023-09-26T11:29:39.102955Z",
     "shell.execute_reply": "2023-09-26T11:29:39.101283Z",
     "shell.execute_reply.started": "2023-09-26T11:29:36.964811Z"
    }
   },
   "outputs": [
    {
     "name": "stdout",
     "output_type": "stream",
     "text": [
      "\n",
      "\n",
      "1. The Laver Cup is an international tennis tournament that is held annually since 2017.\n",
      "2. It is named after Australian tennis legend Rod Laver, who is considered one of the greatest players in the sport's history.\n",
      "3. The tournament pits Team Europe against Team World, with players from all other continents except Europe making up Team World.\n",
      "4. Unlike traditional ATP Tour matches, coaching is allowed during matches by teammates and team captains.\n",
      "5. The format of the tournament is inspired by the biennial Ryder Cup golf tournament and includes 12 matches played over three days, with a \"Decider\" match played if the two teams are tied at 12 points each.\n",
      "CPU times: user 5.17 ms, sys: 2.91 ms, total: 8.08 ms\n",
      "Wall time: 2.13 s\n"
     ]
    }
   ],
   "source": [
    "%%time\n",
    "print(turbo_instruct.predict(question))"
   ]
  }
 ],
 "metadata": {
  "kernelspec": {
   "display_name": "Python 3 (ipykernel)",
   "language": "python",
   "name": "python3"
  },
  "language_info": {
   "codemirror_mode": {
    "name": "ipython",
    "version": 3
   },
   "file_extension": ".py",
   "mimetype": "text/x-python",
   "name": "python",
   "nbconvert_exporter": "python",
   "pygments_lexer": "ipython3",
   "version": "3.11.4"
  },
  "widgets": {
   "application/vnd.jupyter.widget-state+json": {
    "state": {},
    "version_major": 2,
    "version_minor": 0
   }
  }
 },
 "nbformat": 4,
 "nbformat_minor": 5
}
